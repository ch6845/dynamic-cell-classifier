{
 "cells": [
  {
   "cell_type": "markdown",
   "metadata": {},
   "source": [
    "## Download cell-type markers from panglaoDB"
   ]
  },
  {
   "cell_type": "code",
   "execution_count": 1,
   "metadata": {},
   "outputs": [
    {
     "name": "stdout",
     "output_type": "stream",
     "text": [
      "--2020-04-10 22:06:19--  https://panglaodb.se/markers/PanglaoDB_markers_27_Mar_2020.tsv.gz\n",
      "Resolving panglaodb.se (panglaodb.se)... 185.133.205.226\n",
      "Connecting to panglaodb.se (panglaodb.se)|185.133.205.226|:443... connected.\n",
      "HTTP request sent, awaiting response... 405 Not Allowed\n",
      "2020-04-10 22:06:22 ERROR 405: Not Allowed.\n",
      "\n"
     ]
    }
   ],
   "source": [
    "!wget https://panglaodb.se/markers/PanglaoDB_markers_27_Mar_2020.tsv.gz --directory-prefix data\n",
    "#https://panglaodb.se/markers.html?cell_type"
   ]
  }
 ],
 "metadata": {
  "kernelspec": {
   "display_name": "Python 3",
   "language": "python",
   "name": "python3"
  },
  "language_info": {
   "codemirror_mode": {
    "name": "ipython",
    "version": 3
   },
   "file_extension": ".py",
   "mimetype": "text/x-python",
   "name": "python",
   "nbconvert_exporter": "python",
   "pygments_lexer": "ipython3",
   "version": "3.6.9"
  }
 },
 "nbformat": 4,
 "nbformat_minor": 4
}
