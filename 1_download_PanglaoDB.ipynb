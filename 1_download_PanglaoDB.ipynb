{
 "cells": [
  {
   "cell_type": "markdown",
   "metadata": {},
   "source": [
    "## Download cell-type markers from panglaoDB"
   ]
  },
  {
   "cell_type": "code",
   "execution_count": 20,
   "metadata": {},
   "outputs": [],
   "source": [
    "import urllib\n",
    "#!wget https://panglaodb.se/markers/PanglaoDB_markers_27_Mar_2020.tsv.gz --directory-prefix data\n",
    "#https://panglaodb.se/markers.html?cell_type\n",
    "\n",
    "url = \"https://panglaodb.se/markers/PanglaoDB_markers_27_Mar_2020.tsv.gz\"\n",
    "\n",
    "req = urllib.request.Request(url,data=None,headers={'User-Agent': 'Mozilla/5.0 (Macintosh; Intel Mac OS X 10_9_3) AppleWebKit/537.36 (KHTML, like Gecko) Chrome/35.0.1916.47 Safari/537.36'})\n",
    "req_receive = urllib.request.urlopen(req)\n",
    "\n",
    "with open('data/'+url.split('/')[-1],'wb') as f:\n",
    "    f.write(req_receive.read())"
   ]
  },
  {
   "cell_type": "code",
   "execution_count": 25,
   "metadata": {},
   "outputs": [],
   "source": [
    "#!gunzip -d data/{url.split('/')[-1]}"
   ]
  }
 ],
 "metadata": {
  "kernelspec": {
   "display_name": "Python 3",
   "language": "python",
   "name": "python3"
  },
  "language_info": {
   "codemirror_mode": {
    "name": "ipython",
    "version": 3
   },
   "file_extension": ".py",
   "mimetype": "text/x-python",
   "name": "python",
   "nbconvert_exporter": "python",
   "pygments_lexer": "ipython3",
   "version": "3.6.9"
  }
 },
 "nbformat": 4,
 "nbformat_minor": 4
}
