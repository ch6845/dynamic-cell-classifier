{
 "cells": [
  {
   "cell_type": "code",
   "execution_count": 1,
   "metadata": {},
   "outputs": [],
   "source": [
    "import pandas as pd\n",
    "import numpy as np\n",
    "import matplotlib.pyplot as plt"
   ]
  },
  {
   "cell_type": "code",
   "execution_count": 4,
   "metadata": {},
   "outputs": [],
   "source": [
    "deg=pd.read_csv('data/HumanLiver_extract/HumanLiver.deg.tsv',sep='\\t').iloc[:-1]\n",
    "deg_cluster=sorted(np.unique(deg['cluster1'].tolist()+deg['cluster2'].tolist()))\n",
    "deg_gene=deg['gene'].unique()"
   ]
  },
  {
   "cell_type": "code",
   "execution_count": 83,
   "metadata": {},
   "outputs": [
    {
     "data": {
      "text/html": [
       "<div>\n",
       "<style scoped>\n",
       "    .dataframe tbody tr th:only-of-type {\n",
       "        vertical-align: middle;\n",
       "    }\n",
       "\n",
       "    .dataframe tbody tr th {\n",
       "        vertical-align: top;\n",
       "    }\n",
       "\n",
       "    .dataframe thead th {\n",
       "        text-align: right;\n",
       "    }\n",
       "</style>\n",
       "<table border=\"1\" class=\"dataframe\">\n",
       "  <thead>\n",
       "    <tr style=\"text-align: right;\">\n",
       "      <th></th>\n",
       "      <th>p_val</th>\n",
       "      <th>avg_logFC</th>\n",
       "      <th>pct.1</th>\n",
       "      <th>pct.2</th>\n",
       "      <th>p_val_adj</th>\n",
       "      <th>cluster1</th>\n",
       "      <th>cluster2</th>\n",
       "      <th>gene</th>\n",
       "    </tr>\n",
       "  </thead>\n",
       "  <tbody>\n",
       "    <tr>\n",
       "      <th>1</th>\n",
       "      <td>2.826654e-269</td>\n",
       "      <td>1.579167</td>\n",
       "      <td>1.000</td>\n",
       "      <td>0.984</td>\n",
       "      <td>5.655287e-265</td>\n",
       "      <td>0</td>\n",
       "      <td>1</td>\n",
       "      <td>ORM2</td>\n",
       "    </tr>\n",
       "    <tr>\n",
       "      <th>2</th>\n",
       "      <td>2.411603e-266</td>\n",
       "      <td>1.372776</td>\n",
       "      <td>1.000</td>\n",
       "      <td>0.999</td>\n",
       "      <td>4.824894e-262</td>\n",
       "      <td>0</td>\n",
       "      <td>1</td>\n",
       "      <td>ORM1</td>\n",
       "    </tr>\n",
       "    <tr>\n",
       "      <th>3</th>\n",
       "      <td>3.008057e-258</td>\n",
       "      <td>0.987790</td>\n",
       "      <td>1.000</td>\n",
       "      <td>0.990</td>\n",
       "      <td>6.018220e-254</td>\n",
       "      <td>0</td>\n",
       "      <td>1</td>\n",
       "      <td>APOE</td>\n",
       "    </tr>\n",
       "    <tr>\n",
       "      <th>4</th>\n",
       "      <td>4.798088e-258</td>\n",
       "      <td>1.437446</td>\n",
       "      <td>1.000</td>\n",
       "      <td>0.996</td>\n",
       "      <td>9.599535e-254</td>\n",
       "      <td>0</td>\n",
       "      <td>1</td>\n",
       "      <td>AMBP</td>\n",
       "    </tr>\n",
       "    <tr>\n",
       "      <th>5</th>\n",
       "      <td>6.835049e-248</td>\n",
       "      <td>0.710402</td>\n",
       "      <td>1.000</td>\n",
       "      <td>1.000</td>\n",
       "      <td>1.367488e-243</td>\n",
       "      <td>0</td>\n",
       "      <td>1</td>\n",
       "      <td>APOA1</td>\n",
       "    </tr>\n",
       "    <tr>\n",
       "      <th>...</th>\n",
       "      <td>...</td>\n",
       "      <td>...</td>\n",
       "      <td>...</td>\n",
       "      <td>...</td>\n",
       "      <td>...</td>\n",
       "      <td>...</td>\n",
       "      <td>...</td>\n",
       "      <td>...</td>\n",
       "    </tr>\n",
       "    <tr>\n",
       "      <th>1391531</th>\n",
       "      <td>9.969259e-01</td>\n",
       "      <td>-2.779211</td>\n",
       "      <td>0.222</td>\n",
       "      <td>0.187</td>\n",
       "      <td>1.000000e+00</td>\n",
       "      <td>21</td>\n",
       "      <td>20</td>\n",
       "      <td>CFDP1</td>\n",
       "    </tr>\n",
       "    <tr>\n",
       "      <th>1391532</th>\n",
       "      <td>9.971339e-01</td>\n",
       "      <td>-2.705208</td>\n",
       "      <td>0.278</td>\n",
       "      <td>0.220</td>\n",
       "      <td>1.000000e+00</td>\n",
       "      <td>21</td>\n",
       "      <td>20</td>\n",
       "      <td>DUT</td>\n",
       "    </tr>\n",
       "    <tr>\n",
       "      <th>1391533</th>\n",
       "      <td>1.000000e+00</td>\n",
       "      <td>-6.321056</td>\n",
       "      <td>0.389</td>\n",
       "      <td>0.286</td>\n",
       "      <td>1.000000e+00</td>\n",
       "      <td>21</td>\n",
       "      <td>20</td>\n",
       "      <td>ZFAND5</td>\n",
       "    </tr>\n",
       "    <tr>\n",
       "      <th>1391534</th>\n",
       "      <td>1.000000e+00</td>\n",
       "      <td>-4.153220</td>\n",
       "      <td>0.917</td>\n",
       "      <td>0.538</td>\n",
       "      <td>1.000000e+00</td>\n",
       "      <td>21</td>\n",
       "      <td>20</td>\n",
       "      <td>RPL14</td>\n",
       "    </tr>\n",
       "    <tr>\n",
       "      <th>1391535</th>\n",
       "      <td>1.000000e+00</td>\n",
       "      <td>-2.666915</td>\n",
       "      <td>0.167</td>\n",
       "      <td>0.143</td>\n",
       "      <td>1.000000e+00</td>\n",
       "      <td>21</td>\n",
       "      <td>20</td>\n",
       "      <td>DAP3</td>\n",
       "    </tr>\n",
       "  </tbody>\n",
       "</table>\n",
       "<p>1391535 rows × 8 columns</p>\n",
       "</div>"
      ],
      "text/plain": [
       "                 p_val  avg_logFC  pct.1  pct.2      p_val_adj  cluster1  \\\n",
       "1        2.826654e-269   1.579167  1.000  0.984  5.655287e-265         0   \n",
       "2        2.411603e-266   1.372776  1.000  0.999  4.824894e-262         0   \n",
       "3        3.008057e-258   0.987790  1.000  0.990  6.018220e-254         0   \n",
       "4        4.798088e-258   1.437446  1.000  0.996  9.599535e-254         0   \n",
       "5        6.835049e-248   0.710402  1.000  1.000  1.367488e-243         0   \n",
       "...                ...        ...    ...    ...            ...       ...   \n",
       "1391531   9.969259e-01  -2.779211  0.222  0.187   1.000000e+00        21   \n",
       "1391532   9.971339e-01  -2.705208  0.278  0.220   1.000000e+00        21   \n",
       "1391533   1.000000e+00  -6.321056  0.389  0.286   1.000000e+00        21   \n",
       "1391534   1.000000e+00  -4.153220  0.917  0.538   1.000000e+00        21   \n",
       "1391535   1.000000e+00  -2.666915  0.167  0.143   1.000000e+00        21   \n",
       "\n",
       "         cluster2    gene  \n",
       "1               1    ORM2  \n",
       "2               1    ORM1  \n",
       "3               1    APOE  \n",
       "4               1    AMBP  \n",
       "5               1   APOA1  \n",
       "...           ...     ...  \n",
       "1391531        20   CFDP1  \n",
       "1391532        20     DUT  \n",
       "1391533        20  ZFAND5  \n",
       "1391534        20   RPL14  \n",
       "1391535        20    DAP3  \n",
       "\n",
       "[1391535 rows x 8 columns]"
      ]
     },
     "execution_count": 83,
     "metadata": {},
     "output_type": "execute_result"
    }
   ],
   "source": [
    "deg"
   ]
  },
  {
   "cell_type": "code",
   "execution_count": 51,
   "metadata": {},
   "outputs": [
    {
     "data": {
      "text/plain": [
       "array([False, False, False, False, False, False, False, False, False,\n",
       "       False, False, False, False, False, False, False, False, False,\n",
       "       False, False, False, False])"
      ]
     },
     "execution_count": 51,
     "metadata": {},
     "output_type": "execute_result"
    }
   ],
   "source": [
    "np.all(np.sum(~np.isnan(result),axis=0)>1)"
   ]
  },
  {
   "cell_type": "code",
   "execution_count": null,
   "metadata": {},
   "outputs": [],
   "source": [
    "def get_fold(gene):\n",
    "    deg_select=deg[deg['gene']==gene]\n",
    "    \n",
    "    result=np.zeros((len(deg_cluster),len(deg_cluster)))\n",
    "    result.fill(np.nan)\n",
    "    result\n",
    "    \n",
    "    for cluster in deg_cluster:\n",
    "        \n",
    "        "
   ]
  },
  {
   "cell_type": "code",
   "execution_count": 30,
   "metadata": {},
   "outputs": [],
   "source": [
    "def get_fold(gene):\n",
    "    deg_select=deg[deg['gene']==gene]\n",
    "    \n",
    "    result=np.array([np.nan]*len(deg_cluster))\n",
    "    for cluster in deg_cluster:\n",
    "        if np.all(~np.isnan(result)):\n",
    "            break\n",
    "        if cluster==deg_cluster[-1]:\n",
    "            pass\n",
    "            #print(gene)        \n",
    "        \n",
    "        temp=np.array([np.nan]*len(deg_cluster));temp[cluster]=0\n",
    "        deg_select_cluster=deg_select[deg_select['cluster1']==cluster]\n",
    "        temp[deg_select_cluster['cluster2'].values]=deg_select_cluster['avg_logFC']\n",
    "        diff=(result-temp)\n",
    "        print(result,temp,diff)\n",
    "        if np.all(np.isnan(result)) and not np.all(np.isnan(temp)):\n",
    "            result=temp\n",
    "        elif np.any(~np.isnan(diff)):\n",
    "            diff=diff[~np.isnan(diff)][0]\n",
    "            temp=temp+diff\n",
    "            result[np.isnan(result) & (~np.isnan(temp))]=temp[np.isnan(result) & (~np.isnan(temp))]\n",
    "    return result"
   ]
  },
  {
   "cell_type": "code",
   "execution_count": 52,
   "metadata": {},
   "outputs": [],
   "source": [
    "#get_fold('RGS16')"
   ]
  },
  {
   "cell_type": "code",
   "execution_count": 15,
   "metadata": {},
   "outputs": [],
   "source": [
    "from multiprocessing import Pool\n",
    "pool = Pool(40)\n",
    "\n",
    "deg_rel=np.array(pool.map(get_fold,deg_gene))"
   ]
  },
  {
   "cell_type": "code",
   "execution_count": 82,
   "metadata": {},
   "outputs": [
    {
     "name": "stdout",
     "output_type": "stream",
     "text": [
      "[-4.37639178709663, -1.08623647553906, -0.8170780813769629, -0.545345094738841, -0.257437035467721, 0.0, 1.4374464832318703, 1.9535351739183602, 2.6509678880174703, 3.34527299290734, 3.81243851817319, 4.520196597349099, 4.58033816138494, 4.59485873771737, 4.83328401134557, 4.8423142455510995, 4.9966160162225, 5.04673848365172, 5.24826193458174, 5.41112556786973, 5.43697068438343, 5.925089859340679]\n",
      "[3.29015531 0.26915839 0.27173299 0.28790806 0.25743704 1.43744648\n",
      " 0.51608869 0.69743271 0.6943051  0.46716553 0.70775808 0.06014156\n",
      " 0.01452058 0.23842527 0.00903023 0.15430177 0.05012247 0.20152345\n",
      " 0.16286363 0.02584512 0.48811917]\n"
     ]
    }
   ],
   "source": [
    "def make_binary(x):\n",
    "    \n",
    "    print(sorted(x))\n",
    "    print(np.diff(sorted(x)))\n",
    "make_binary(deg_rel[3])"
   ]
  },
  {
   "cell_type": "code",
   "execution_count": null,
   "metadata": {},
   "outputs": [],
   "source": [
    "map(lambda x: x , deg_rel"
   ]
  },
  {
   "cell_type": "code",
   "execution_count": 66,
   "metadata": {},
   "outputs": [
    {
     "name": "stderr",
     "output_type": "stream",
     "text": [
      "/home/ch6845/tools/miniconda3/envs/pytorch/lib/python3.6/site-packages/numpy/lib/histograms.py:839: RuntimeWarning: invalid value encountered in greater_equal\n",
      "  keep = (tmp_a >= first_edge)\n",
      "/home/ch6845/tools/miniconda3/envs/pytorch/lib/python3.6/site-packages/numpy/lib/histograms.py:840: RuntimeWarning: invalid value encountered in less_equal\n",
      "  keep &= (tmp_a <= last_edge)\n"
     ]
    },
    {
     "data": {
      "text/plain": [
       "(array([5.011e+03, 1.156e+03, 2.700e+02, 1.050e+02, 3.400e+01, 2.500e+01,\n",
       "        1.600e+01, 6.000e+00, 4.000e+00, 2.000e+00]),\n",
       " array([0.        , 0.81449155, 1.62898311, 2.44347466, 3.25796622,\n",
       "        4.07245777, 4.88694932, 5.70144088, 6.51593243, 7.33042398,\n",
       "        8.14491554]),\n",
       " <a list of 10 Patch objects>)"
      ]
     },
     "execution_count": 66,
     "metadata": {},
     "output_type": "execute_result"
    },
    {
     "data": {
      "image/png": "[encoded data removed]",
      "text/plain": [
       "<Figure size 432x288 with 1 Axes>"
      ]
     },
     "metadata": {
      "needs_background": "light"
     },
     "output_type": "display_data"
    }
   ],
   "source": [
    "plt.hist(np.max(deg_rel,axis=1))"
   ]
  },
  {
   "cell_type": "code",
   "execution_count": 22,
   "metadata": {},
   "outputs": [
    {
     "data": {
      "text/html": [
       "<div>\n",
       "<style scoped>\n",
       "    .dataframe tbody tr th:only-of-type {\n",
       "        vertical-align: middle;\n",
       "    }\n",
       "\n",
       "    .dataframe tbody tr th {\n",
       "        vertical-align: top;\n",
       "    }\n",
       "\n",
       "    .dataframe thead th {\n",
       "        text-align: right;\n",
       "    }\n",
       "</style>\n",
       "<table border=\"1\" class=\"dataframe\">\n",
       "  <thead>\n",
       "    <tr style=\"text-align: right;\">\n",
       "      <th></th>\n",
       "      <th>p_val</th>\n",
       "      <th>avg_logFC</th>\n",
       "      <th>pct.1</th>\n",
       "      <th>pct.2</th>\n",
       "      <th>p_val_adj</th>\n",
       "      <th>cluster1</th>\n",
       "      <th>cluster2</th>\n",
       "      <th>gene</th>\n",
       "    </tr>\n",
       "  </thead>\n",
       "  <tbody>\n",
       "    <tr>\n",
       "      <th>695024</th>\n",
       "      <td>0.37875</td>\n",
       "      <td>2.981852</td>\n",
       "      <td>0.077</td>\n",
       "      <td>0.139</td>\n",
       "      <td>1.0</td>\n",
       "      <td>20</td>\n",
       "      <td>21</td>\n",
       "      <td>RGS16</td>\n",
       "    </tr>\n",
       "    <tr>\n",
       "      <th>1390792</th>\n",
       "      <td>0.37875</td>\n",
       "      <td>-2.981852</td>\n",
       "      <td>0.139</td>\n",
       "      <td>0.077</td>\n",
       "      <td>1.0</td>\n",
       "      <td>21</td>\n",
       "      <td>20</td>\n",
       "      <td>RGS16</td>\n",
       "    </tr>\n",
       "  </tbody>\n",
       "</table>\n",
       "</div>"
      ],
      "text/plain": [
       "           p_val  avg_logFC  pct.1  pct.2  p_val_adj  cluster1  cluster2  \\\n",
       "695024   0.37875   2.981852  0.077  0.139        1.0        20        21   \n",
       "1390792  0.37875  -2.981852  0.139  0.077        1.0        21        20   \n",
       "\n",
       "          gene  \n",
       "695024   RGS16  \n",
       "1390792  RGS16  "
      ]
     },
     "execution_count": 22,
     "metadata": {},
     "output_type": "execute_result"
    }
   ],
   "source": [
    "deg[deg['gene']=='RGS16']"
   ]
  },
  {
   "cell_type": "code",
   "execution_count": null,
   "metadata": {},
   "outputs": [],
   "source": []
  },
  {
   "cell_type": "code",
   "execution_count": 36,
   "metadata": {},
   "outputs": [
    {
     "data": {
      "text/plain": [
       "46159"
      ]
     },
     "execution_count": 36,
     "metadata": {},
     "output_type": "execute_result"
    }
   ],
   "source": [
    "np.sum(np.isnan(deg_rel))"
   ]
  },
  {
   "cell_type": "code",
   "execution_count": null,
   "metadata": {},
   "outputs": [],
   "source": [
    "for gene in deg_gene:\n",
    "    deg_select=deg[deg['gene']==gene]\n",
    "    print(deg_select[deg_select['cluster1']==1].shape)\n",
    "    #for cluster in deg_cluster:    \n",
    "    #    deg_select_cluster=deg_select[deg_select['cluster1']==cluster]\n",
    "    \n",
    "    #    if deg_select_cluster.shape[0]==len(deg_cluster)-1:\n",
    "    #        break\n",
    "    #temp=np.array([np.nan]*len(deg_cluster));temp[cluster]=0\n",
    "    #temp[deg_select_cluster['cluster2']]=deg_select_cluster['avg_logFC']"
   ]
  },
  {
   "cell_type": "code",
   "execution_count": 247,
   "metadata": {},
   "outputs": [
    {
     "data": {
      "text/plain": [
       "array([0.])"
      ]
     },
     "execution_count": 247,
     "metadata": {},
     "output_type": "execute_result"
    }
   ],
   "source": [
    "np.unique(deg_rel[:,1])"
   ]
  },
  {
   "cell_type": "code",
   "execution_count": 241,
   "metadata": {},
   "outputs": [
    {
     "data": {
      "text/plain": [
       "array(['ORM2', 'ORM1', 'APOE', ..., 'ADCY3', 'SPATC1L', 'RGS16'],\n",
       "      dtype=object)"
      ]
     },
     "execution_count": 241,
     "metadata": {},
     "output_type": "execute_result"
    }
   ],
   "source": [
    "\n",
    "#out1, out2, out3 = zip(*pool.map(calc_stuff, range(0, 10 * offset, offset)))\n"
   ]
  },
  {
   "cell_type": "code",
   "execution_count": 212,
   "metadata": {},
   "outputs": [
    {
     "data": {
      "text/plain": [
       "False"
      ]
     },
     "execution_count": 212,
     "metadata": {},
     "output_type": "execute_result"
    }
   ],
   "source": [
    "temp=pd.Series(np.nan,index=deg_cluster)"
   ]
  },
  {
   "cell_type": "code",
   "execution_count": 84,
   "metadata": {},
   "outputs": [],
   "source": [
    "deg_poisson=pd.read_csv('data/HumanLiver_extract/HumanLiver.deg_poisson.tsv',sep='\\t').iloc[:-1]\n",
    "#deg_cluster=sorted(np.unique(deg['cluster1'].tolist()+deg['cluster2'].tolist()))\n",
    "#deg_gene=deg['gene'].unique()"
   ]
  },
  {
   "cell_type": "code",
   "execution_count": 104,
   "metadata": {},
   "outputs": [],
   "source": []
  },
  {
   "cell_type": "code",
   "execution_count": 105,
   "metadata": {},
   "outputs": [
    {
     "data": {
      "text/plain": [
       "{0: ['TTR',\n",
       "  'APOA1',\n",
       "  'ORM1',\n",
       "  'RBP4',\n",
       "  'APOH',\n",
       "  'ORM2',\n",
       "  'ANG',\n",
       "  'APCS',\n",
       "  'HP',\n",
       "  'APOC3'],\n",
       " 1: ['MAT1A',\n",
       "  'TAT',\n",
       "  'MT1X',\n",
       "  'TAT-AS1',\n",
       "  'MT1G',\n",
       "  'APOC1',\n",
       "  'ADH1B',\n",
       "  'MT2A',\n",
       "  'APOC3',\n",
       "  'LINC00844'],\n",
       " 2: ['SAA2',\n",
       "  'CRP',\n",
       "  'SPINK1',\n",
       "  'SCD',\n",
       "  'SAA1',\n",
       "  'CP',\n",
       "  'HMGCS1',\n",
       "  'FABP1',\n",
       "  'SERPINA1',\n",
       "  'IDI1'],\n",
       " 3: ['CCL5',\n",
       "  'CD3D',\n",
       "  'IL32',\n",
       "  'GZMA',\n",
       "  'NKG7',\n",
       "  'TRAC',\n",
       "  'GZMH',\n",
       "  'CCL4',\n",
       "  'TRBC2',\n",
       "  'HCST'],\n",
       " 4: ['CES1',\n",
       "  'TF',\n",
       "  'ITIH1',\n",
       "  'C3',\n",
       "  'A1BG',\n",
       "  'ALDH1L1',\n",
       "  'ALB',\n",
       "  'F12',\n",
       "  'APOB',\n",
       "  'AMBP'],\n",
       " 5: ['KLRB1',\n",
       "  'IL7R',\n",
       "  'LTB',\n",
       "  'CD52',\n",
       "  'IL32',\n",
       "  'S100A4',\n",
       "  'TRAC',\n",
       "  'JUNB',\n",
       "  'CD3D',\n",
       "  'CD69'],\n",
       " 6: ['HLA-DRA',\n",
       "  'HLA-DPB1',\n",
       "  'CD74',\n",
       "  'C1QA',\n",
       "  'HLA-DPA1',\n",
       "  'C1QB',\n",
       "  'HLA-DRB1',\n",
       "  'C1QC',\n",
       "  'TYROBP',\n",
       "  'AIF1'],\n",
       " 7: ['IGKC',\n",
       "  'IGLC3',\n",
       "  'IGLC2',\n",
       "  'IGHG1',\n",
       "  'IGHA1',\n",
       "  'IGHM',\n",
       "  'IGHG3',\n",
       "  'IGHG2',\n",
       "  'JCHAIN',\n",
       "  'IGHG4'],\n",
       " 8: ['CMC1',\n",
       "  'KLRB1',\n",
       "  'NKG7',\n",
       "  'CD7',\n",
       "  'CCL3',\n",
       "  'CCL4',\n",
       "  'KLRD1',\n",
       "  'XCL2',\n",
       "  'KLRF1',\n",
       "  'CCL5'],\n",
       " 9: ['GNLY',\n",
       "  'NKG7',\n",
       "  'GZMB',\n",
       "  'FGFBP2',\n",
       "  'PRF1',\n",
       "  'CCL4',\n",
       "  'KLRD1',\n",
       "  'CCL5',\n",
       "  'PTGDS',\n",
       "  'HOPX'],\n",
       " 10: ['C1QA',\n",
       "  'C1QB',\n",
       "  'MARCO',\n",
       "  'CD163',\n",
       "  'FTL',\n",
       "  'SLC40A1',\n",
       "  'C1QC',\n",
       "  'HMOX1',\n",
       "  'MS4A7',\n",
       "  'CTSB'],\n",
       " 11: ['S100A8',\n",
       "  'S100A9',\n",
       "  'LYZ',\n",
       "  'S100A6',\n",
       "  'S100A12',\n",
       "  'S100A4',\n",
       "  'RP11-1143G9.4',\n",
       "  'VCAN',\n",
       "  'FCN1',\n",
       "  'LGALS1'],\n",
       " 12: ['MGP',\n",
       "  'IGFBP7',\n",
       "  'ADIRF',\n",
       "  'ID1',\n",
       "  'SPARCL1',\n",
       "  'TM4SF1',\n",
       "  'ID3',\n",
       "  'VIM',\n",
       "  'CLEC14A',\n",
       "  'TIMP1'],\n",
       " 13: ['FCN3',\n",
       "  'CRHBP',\n",
       "  'FCN2',\n",
       "  'DNASE1L3',\n",
       "  'CLEC4G',\n",
       "  'CCL14',\n",
       "  'STAB1',\n",
       "  'CLEC1B',\n",
       "  'TIMP1',\n",
       "  'GNG11'],\n",
       " 14: ['PRSS23',\n",
       "  'TAGLN',\n",
       "  'DNASE1L3',\n",
       "  'RAMP3',\n",
       "  'INMT',\n",
       "  'TIMP3',\n",
       "  'LIFR',\n",
       "  'ID3',\n",
       "  'C7',\n",
       "  'CTGF'],\n",
       " 15: ['SAA1',\n",
       "  'SAA2',\n",
       "  'CYP2A7',\n",
       "  'CFHR1',\n",
       "  'CFHR3',\n",
       "  'CRP',\n",
       "  'FGL1',\n",
       "  'C3',\n",
       "  'A2M',\n",
       "  'SERPINA1'],\n",
       " 16: ['GSTA1',\n",
       "  'HULC',\n",
       "  'HPD',\n",
       "  'GNMT',\n",
       "  'FABP1',\n",
       "  'ANGPTL3',\n",
       "  'MT1M',\n",
       "  'AKR1C1',\n",
       "  'TTR',\n",
       "  'SOD1'],\n",
       " 17: ['CD52',\n",
       "  'LTB',\n",
       "  'CD37',\n",
       "  'CD74',\n",
       "  'HLA-DRA',\n",
       "  'CD79A',\n",
       "  'MS4A1',\n",
       "  'HLA-DQB1',\n",
       "  'CD79B',\n",
       "  'CXCR4'],\n",
       " 18: ['TFF2',\n",
       "  'ANXA4',\n",
       "  'FXYD2',\n",
       "  'SPP1',\n",
       "  'SCGB3A1',\n",
       "  'DEFB1',\n",
       "  'LCN2',\n",
       "  'TM4SF4',\n",
       "  'CD24',\n",
       "  'SLPI'],\n",
       " 19: ['HMGB2',\n",
       "  'STMN1',\n",
       "  'TUBA1B',\n",
       "  'TUBB',\n",
       "  'GNLY',\n",
       "  'HMGN2',\n",
       "  'H2AFZ',\n",
       "  'NKG7',\n",
       "  'ACTG1',\n",
       "  'HIST1H4C'],\n",
       " 20: ['HBB',\n",
       "  'HBA1',\n",
       "  'HBA2',\n",
       "  'HBD',\n",
       "  'CA1',\n",
       "  'HBM',\n",
       "  'AHSP',\n",
       "  'SLC25A37',\n",
       "  'ALAS2',\n",
       "  'CA2'],\n",
       " 21: ['ACTA2',\n",
       "  'TAGLN',\n",
       "  'COL1A1',\n",
       "  'COL1A2',\n",
       "  'COL3A1',\n",
       "  'IGFBP7',\n",
       "  'DCN',\n",
       "  'SPARC',\n",
       "  'TPM2',\n",
       "  'LGALS1']}"
      ]
     },
     "execution_count": 105,
     "metadata": {},
     "output_type": "execute_result"
    }
   ],
   "source": [
    "clustername_to_markers"
   ]
  },
  {
   "cell_type": "code",
   "execution_count": null,
   "metadata": {},
   "outputs": [],
   "source": []
  }
 ],
 "metadata": {
  "kernelspec": {
   "display_name": "Python 3",
   "language": "python",
   "name": "python3"
  },
  "language_info": {
   "codemirror_mode": {
    "name": "ipython",
    "version": 3
   },
   "file_extension": ".py",
   "mimetype": "text/x-python",
   "name": "python",
   "nbconvert_exporter": "python",
   "pygments_lexer": "ipython3",
   "version": "3.6.9"
  }
 },
 "nbformat": 4,
 "nbformat_minor": 4
}
