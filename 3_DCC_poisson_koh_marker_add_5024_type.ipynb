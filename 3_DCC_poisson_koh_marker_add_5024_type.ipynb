{
 "cells": [
  {
   "cell_type": "code",
   "execution_count": 1,
   "metadata": {},
   "outputs": [],
   "source": [
    "import datetime\n",
    "\n",
    "import numpy as np\n",
    "import pandas as pd\n",
    "\n",
    "from scipy.io import mmread\n",
    "\n",
    "import matplotlib.pyplot as plt"
   ]
  },
  {
   "cell_type": "code",
   "execution_count": 2,
   "metadata": {},
   "outputs": [
    {
     "data": {
      "text/plain": [
       "'/home/ch6845/tools/miniconda3/envs/pytorch/lib/python3.6/os.py'"
      ]
     },
     "execution_count": 2,
     "metadata": {},
     "output_type": "execute_result"
    }
   ],
   "source": [
    "import os\n",
    "os.__file__"
   ]
  },
  {
   "cell_type": "markdown",
   "metadata": {},
   "source": [
    "# load data"
   ]
  },
  {
   "cell_type": "markdown",
   "metadata": {},
   "source": [
    "## expression data"
   ]
  },
  {
   "cell_type": "code",
   "execution_count": 3,
   "metadata": {},
   "outputs": [],
   "source": [
    "exp_data=mmread('data/koh_extract/koh.data.counts.mm').toarray().astype(float)\n",
    "with open('data/koh_extract/koh.data.col','r') as f: exp_data_col=[i.strip().strip('\"') for i in f.read().split()]\n",
    "with open('data/koh_extract/koh.data.row','r') as f: exp_data_row=[i.strip().strip('\"') for i in f.read().split()]\n",
    "assert exp_data.shape==(len(exp_data_row),len(exp_data_col))"
   ]
  },
  {
   "cell_type": "code",
   "execution_count": 4,
   "metadata": {},
   "outputs": [],
   "source": [
    "assert len(set(exp_data_row))==len(exp_data_row)\n",
    "assert len(set(exp_data_col))==len(exp_data_col)"
   ]
  },
  {
   "cell_type": "code",
   "execution_count": 5,
   "metadata": {},
   "outputs": [
    {
     "data": {
      "text/plain": [
       "(array([[1.93134327e+04, 5.81785206e+04, 9.08678570e+03, ...,\n",
       "         7.58501657e+04, 8.94289538e+04, 1.01937411e+05],\n",
       "        [2.48547207e+04, 4.67361235e+04, 1.09620933e+04, ...,\n",
       "         1.85699498e+04, 1.85806217e+04, 2.49668288e+04],\n",
       "        [1.18570138e+04, 2.80836990e+04, 6.80287185e+03, ...,\n",
       "         3.53701816e+04, 5.75775170e+04, 5.59807979e+04],\n",
       "        ...,\n",
       "        [4.83851544e+01, 1.19916350e+01, 6.96361343e+00, ...,\n",
       "         4.88990717e+00, 8.49751588e+00, 7.80405857e+01],\n",
       "        [2.35818377e+01, 4.26839000e+01, 1.80639917e+01, ...,\n",
       "         7.54470439e+00, 2.84437127e+00, 8.88332407e+00],\n",
       "        [6.10992450e+01, 2.59814157e+01, 2.45930809e+01, ...,\n",
       "         4.85579286e-01, 0.00000000e+00, 0.00000000e+00]]), (4898, 446))"
      ]
     },
     "execution_count": 5,
     "metadata": {},
     "output_type": "execute_result"
    }
   ],
   "source": [
    "exp_data,exp_data.shape"
   ]
  },
  {
   "cell_type": "code",
   "execution_count": 6,
   "metadata": {},
   "outputs": [
    {
     "data": {
      "text/plain": [
       "(['ENSG00000198804',\n",
       "  'ENSG00000210082',\n",
       "  'ENSG00000198712',\n",
       "  'ENSG00000198938',\n",
       "  'ENSG00000198727'],\n",
       " ['SRR3952323', 'SRR3952325', 'SRR3952326', 'SRR3952327', 'SRR3952328'])"
      ]
     },
     "execution_count": 6,
     "metadata": {},
     "output_type": "execute_result"
    }
   ],
   "source": [
    "exp_data_row[:5],exp_data_col[:5]"
   ]
  },
  {
   "cell_type": "markdown",
   "metadata": {},
   "source": [
    "## cluster info "
   ]
  },
  {
   "cell_type": "code",
   "execution_count": 7,
   "metadata": {},
   "outputs": [
    {
     "data": {
      "text/html": [
       "<div>\n",
       "<style scoped>\n",
       "    .dataframe tbody tr th:only-of-type {\n",
       "        vertical-align: middle;\n",
       "    }\n",
       "\n",
       "    .dataframe tbody tr th {\n",
       "        vertical-align: top;\n",
       "    }\n",
       "\n",
       "    .dataframe thead th {\n",
       "        text-align: right;\n",
       "    }\n",
       "</style>\n",
       "<table border=\"1\" class=\"dataframe\">\n",
       "  <thead>\n",
       "    <tr style=\"text-align: right;\">\n",
       "      <th></th>\n",
       "      <th>Run</th>\n",
       "      <th>LibraryName</th>\n",
       "      <th>phenoid</th>\n",
       "      <th>libsize.drop</th>\n",
       "      <th>feature.drop</th>\n",
       "      <th>total_features</th>\n",
       "      <th>log10_total_features</th>\n",
       "      <th>total_counts</th>\n",
       "      <th>log10_total_counts</th>\n",
       "      <th>pct_counts_top_50_features</th>\n",
       "      <th>pct_counts_top_100_features</th>\n",
       "      <th>pct_counts_top_200_features</th>\n",
       "      <th>pct_counts_top_500_features</th>\n",
       "      <th>is_cell_control</th>\n",
       "      <th>celltype</th>\n",
       "      <th>tSNE_1</th>\n",
       "      <th>tSNE_2</th>\n",
       "    </tr>\n",
       "  </thead>\n",
       "  <tbody>\n",
       "    <tr>\n",
       "      <th>SRR3952323</th>\n",
       "      <td>SRR3952323</td>\n",
       "      <td>H7hESC</td>\n",
       "      <td>H7hESC</td>\n",
       "      <td>False</td>\n",
       "      <td>False</td>\n",
       "      <td>4895</td>\n",
       "      <td>3.689841</td>\n",
       "      <td>2.248411e+06</td>\n",
       "      <td>6.351876</td>\n",
       "      <td>18.278965</td>\n",
       "      <td>25.975390</td>\n",
       "      <td>35.537616</td>\n",
       "      <td>52.410941</td>\n",
       "      <td>False</td>\n",
       "      <td>hESC</td>\n",
       "      <td>9.973465</td>\n",
       "      <td>19.045918</td>\n",
       "    </tr>\n",
       "    <tr>\n",
       "      <th>SRR3952325</th>\n",
       "      <td>SRR3952325</td>\n",
       "      <td>H7hESC</td>\n",
       "      <td>H7hESC</td>\n",
       "      <td>False</td>\n",
       "      <td>False</td>\n",
       "      <td>4887</td>\n",
       "      <td>3.689131</td>\n",
       "      <td>2.271617e+06</td>\n",
       "      <td>6.356335</td>\n",
       "      <td>24.672529</td>\n",
       "      <td>32.222803</td>\n",
       "      <td>41.547358</td>\n",
       "      <td>57.969233</td>\n",
       "      <td>False</td>\n",
       "      <td>hESC</td>\n",
       "      <td>10.366232</td>\n",
       "      <td>21.511833</td>\n",
       "    </tr>\n",
       "    <tr>\n",
       "      <th>SRR3952326</th>\n",
       "      <td>SRR3952326</td>\n",
       "      <td>H7hESC</td>\n",
       "      <td>H7hESC</td>\n",
       "      <td>False</td>\n",
       "      <td>False</td>\n",
       "      <td>4888</td>\n",
       "      <td>3.689220</td>\n",
       "      <td>5.846824e+05</td>\n",
       "      <td>5.766921</td>\n",
       "      <td>22.732839</td>\n",
       "      <td>30.205988</td>\n",
       "      <td>39.431308</td>\n",
       "      <td>55.285817</td>\n",
       "      <td>False</td>\n",
       "      <td>hESC</td>\n",
       "      <td>9.881356</td>\n",
       "      <td>19.317197</td>\n",
       "    </tr>\n",
       "    <tr>\n",
       "      <th>SRR3952327</th>\n",
       "      <td>SRR3952327</td>\n",
       "      <td>H7hESC</td>\n",
       "      <td>H7hESC</td>\n",
       "      <td>False</td>\n",
       "      <td>False</td>\n",
       "      <td>4879</td>\n",
       "      <td>3.688420</td>\n",
       "      <td>3.191810e+06</td>\n",
       "      <td>6.504037</td>\n",
       "      <td>20.867378</td>\n",
       "      <td>29.003904</td>\n",
       "      <td>38.785558</td>\n",
       "      <td>56.020859</td>\n",
       "      <td>False</td>\n",
       "      <td>hESC</td>\n",
       "      <td>8.483966</td>\n",
       "      <td>21.289459</td>\n",
       "    </tr>\n",
       "    <tr>\n",
       "      <th>SRR3952328</th>\n",
       "      <td>SRR3952328</td>\n",
       "      <td>H7hESC</td>\n",
       "      <td>H7hESC</td>\n",
       "      <td>False</td>\n",
       "      <td>False</td>\n",
       "      <td>4873</td>\n",
       "      <td>3.687886</td>\n",
       "      <td>2.190385e+06</td>\n",
       "      <td>6.340521</td>\n",
       "      <td>21.287923</td>\n",
       "      <td>29.423689</td>\n",
       "      <td>39.307683</td>\n",
       "      <td>56.640975</td>\n",
       "      <td>False</td>\n",
       "      <td>hESC</td>\n",
       "      <td>9.017168</td>\n",
       "      <td>20.637262</td>\n",
       "    </tr>\n",
       "  </tbody>\n",
       "</table>\n",
       "</div>"
      ],
      "text/plain": [
       "                   Run LibraryName phenoid  libsize.drop  feature.drop  \\\n",
       "SRR3952323  SRR3952323      H7hESC  H7hESC         False         False   \n",
       "SRR3952325  SRR3952325      H7hESC  H7hESC         False         False   \n",
       "SRR3952326  SRR3952326      H7hESC  H7hESC         False         False   \n",
       "SRR3952327  SRR3952327      H7hESC  H7hESC         False         False   \n",
       "SRR3952328  SRR3952328      H7hESC  H7hESC         False         False   \n",
       "\n",
       "            total_features  log10_total_features  total_counts  \\\n",
       "SRR3952323            4895              3.689841  2.248411e+06   \n",
       "SRR3952325            4887              3.689131  2.271617e+06   \n",
       "SRR3952326            4888              3.689220  5.846824e+05   \n",
       "SRR3952327            4879              3.688420  3.191810e+06   \n",
       "SRR3952328            4873              3.687886  2.190385e+06   \n",
       "\n",
       "            log10_total_counts  pct_counts_top_50_features  \\\n",
       "SRR3952323            6.351876                   18.278965   \n",
       "SRR3952325            6.356335                   24.672529   \n",
       "SRR3952326            5.766921                   22.732839   \n",
       "SRR3952327            6.504037                   20.867378   \n",
       "SRR3952328            6.340521                   21.287923   \n",
       "\n",
       "            pct_counts_top_100_features  pct_counts_top_200_features  \\\n",
       "SRR3952323                    25.975390                    35.537616   \n",
       "SRR3952325                    32.222803                    41.547358   \n",
       "SRR3952326                    30.205988                    39.431308   \n",
       "SRR3952327                    29.003904                    38.785558   \n",
       "SRR3952328                    29.423689                    39.307683   \n",
       "\n",
       "            pct_counts_top_500_features  is_cell_control celltype     tSNE_1  \\\n",
       "SRR3952323                    52.410941            False     hESC   9.973465   \n",
       "SRR3952325                    57.969233            False     hESC  10.366232   \n",
       "SRR3952326                    55.285817            False     hESC   9.881356   \n",
       "SRR3952327                    56.020859            False     hESC   8.483966   \n",
       "SRR3952328                    56.640975            False     hESC   9.017168   \n",
       "\n",
       "               tSNE_2  \n",
       "SRR3952323  19.045918  \n",
       "SRR3952325  21.511833  \n",
       "SRR3952326  19.317197  \n",
       "SRR3952327  21.289459  \n",
       "SRR3952328  20.637262  "
      ]
     },
     "execution_count": 7,
     "metadata": {},
     "output_type": "execute_result"
    }
   ],
   "source": [
    "exp_data_meta=pd.read_csv('data/koh_extract/koh.metadata.tsv',sep='\\t')\n",
    "exp_data_meta.head()"
   ]
  },
  {
   "cell_type": "markdown",
   "metadata": {},
   "source": [
    "`clusterid_to_clustername` is used to convert integers in `res.0.8` to cell-type name"
   ]
  },
  {
   "cell_type": "markdown",
   "metadata": {},
   "source": [
    "# Panglao"
   ]
  },
  {
   "cell_type": "code",
   "execution_count": 8,
   "metadata": {},
   "outputs": [
    {
     "data": {
      "text/html": [
       "<div>\n",
       "<style scoped>\n",
       "    .dataframe tbody tr th:only-of-type {\n",
       "        vertical-align: middle;\n",
       "    }\n",
       "\n",
       "    .dataframe tbody tr th {\n",
       "        vertical-align: top;\n",
       "    }\n",
       "\n",
       "    .dataframe thead th {\n",
       "        text-align: right;\n",
       "    }\n",
       "</style>\n",
       "<table border=\"1\" class=\"dataframe\">\n",
       "  <thead>\n",
       "    <tr style=\"text-align: right;\">\n",
       "      <th></th>\n",
       "      <th>official gene symbol</th>\n",
       "      <th>cell type</th>\n",
       "      <th>nicknames</th>\n",
       "      <th>ubiquitousness index</th>\n",
       "      <th>product description</th>\n",
       "      <th>gene type</th>\n",
       "      <th>canonical marker</th>\n",
       "      <th>germ layer</th>\n",
       "      <th>organ</th>\n",
       "      <th>sensitivity_human</th>\n",
       "      <th>sensitivity_mouse</th>\n",
       "      <th>specificity_human</th>\n",
       "      <th>specificity_mouse</th>\n",
       "    </tr>\n",
       "  </thead>\n",
       "  <tbody>\n",
       "    <tr>\n",
       "      <th>0</th>\n",
       "      <td>CTRB1</td>\n",
       "      <td>Acinar cells</td>\n",
       "      <td>CTRB</td>\n",
       "      <td>0.017</td>\n",
       "      <td>chymotrypsinogen B1</td>\n",
       "      <td>protein-coding gene</td>\n",
       "      <td>1.0</td>\n",
       "      <td>Endoderm</td>\n",
       "      <td>Pancreas</td>\n",
       "      <td>1.000000</td>\n",
       "      <td>0.957143</td>\n",
       "      <td>0.000629</td>\n",
       "      <td>0.015920</td>\n",
       "    </tr>\n",
       "    <tr>\n",
       "      <th>1</th>\n",
       "      <td>KLK1</td>\n",
       "      <td>Acinar cells</td>\n",
       "      <td>Klk6</td>\n",
       "      <td>0.013</td>\n",
       "      <td>kallikrein 1</td>\n",
       "      <td>protein-coding gene</td>\n",
       "      <td>1.0</td>\n",
       "      <td>Endoderm</td>\n",
       "      <td>Pancreas</td>\n",
       "      <td>0.833333</td>\n",
       "      <td>0.314286</td>\n",
       "      <td>0.005031</td>\n",
       "      <td>0.012826</td>\n",
       "    </tr>\n",
       "    <tr>\n",
       "      <th>2</th>\n",
       "      <td>RBPJL</td>\n",
       "      <td>Acinar cells</td>\n",
       "      <td>RBP-L|SUHL|RBPSUHL</td>\n",
       "      <td>0.001</td>\n",
       "      <td>recombination signal binding protein for immun...</td>\n",
       "      <td>protein-coding gene</td>\n",
       "      <td>1.0</td>\n",
       "      <td>Endoderm</td>\n",
       "      <td>Pancreas</td>\n",
       "      <td>0.000000</td>\n",
       "      <td>0.000000</td>\n",
       "      <td>0.000000</td>\n",
       "      <td>0.000000</td>\n",
       "    </tr>\n",
       "    <tr>\n",
       "      <th>3</th>\n",
       "      <td>PTF1A</td>\n",
       "      <td>Acinar cells</td>\n",
       "      <td>PTF1-p48|bHLHa29</td>\n",
       "      <td>0.001</td>\n",
       "      <td>pancreas associated transcription factor 1a</td>\n",
       "      <td>protein-coding gene</td>\n",
       "      <td>1.0</td>\n",
       "      <td>Endoderm</td>\n",
       "      <td>Pancreas</td>\n",
       "      <td>0.000000</td>\n",
       "      <td>0.157143</td>\n",
       "      <td>0.000629</td>\n",
       "      <td>0.000773</td>\n",
       "    </tr>\n",
       "    <tr>\n",
       "      <th>5</th>\n",
       "      <td>CELA3A</td>\n",
       "      <td>Acinar cells</td>\n",
       "      <td>ELA3|ELA3A</td>\n",
       "      <td>0.001</td>\n",
       "      <td>chymotrypsin like elastase family member 3A</td>\n",
       "      <td>protein-coding gene</td>\n",
       "      <td>1.0</td>\n",
       "      <td>Endoderm</td>\n",
       "      <td>Pancreas</td>\n",
       "      <td>0.833333</td>\n",
       "      <td>0.128571</td>\n",
       "      <td>0.000000</td>\n",
       "      <td>0.000000</td>\n",
       "    </tr>\n",
       "  </tbody>\n",
       "</table>\n",
       "</div>"
      ],
      "text/plain": [
       "  official gene symbol     cell type           nicknames  \\\n",
       "0                CTRB1  Acinar cells                CTRB   \n",
       "1                 KLK1  Acinar cells                Klk6   \n",
       "2                RBPJL  Acinar cells  RBP-L|SUHL|RBPSUHL   \n",
       "3                PTF1A  Acinar cells    PTF1-p48|bHLHa29   \n",
       "5               CELA3A  Acinar cells          ELA3|ELA3A   \n",
       "\n",
       "   ubiquitousness index                                product description  \\\n",
       "0                 0.017                                chymotrypsinogen B1   \n",
       "1                 0.013                                       kallikrein 1   \n",
       "2                 0.001  recombination signal binding protein for immun...   \n",
       "3                 0.001        pancreas associated transcription factor 1a   \n",
       "5                 0.001        chymotrypsin like elastase family member 3A   \n",
       "\n",
       "             gene type  canonical marker germ layer     organ  \\\n",
       "0  protein-coding gene               1.0   Endoderm  Pancreas   \n",
       "1  protein-coding gene               1.0   Endoderm  Pancreas   \n",
       "2  protein-coding gene               1.0   Endoderm  Pancreas   \n",
       "3  protein-coding gene               1.0   Endoderm  Pancreas   \n",
       "5  protein-coding gene               1.0   Endoderm  Pancreas   \n",
       "\n",
       "   sensitivity_human  sensitivity_mouse  specificity_human  specificity_mouse  \n",
       "0           1.000000           0.957143           0.000629           0.015920  \n",
       "1           0.833333           0.314286           0.005031           0.012826  \n",
       "2           0.000000           0.000000           0.000000           0.000000  \n",
       "3           0.000000           0.157143           0.000629           0.000773  \n",
       "5           0.833333           0.128571           0.000000           0.000000  "
      ]
     },
     "execution_count": 8,
     "metadata": {},
     "output_type": "execute_result"
    }
   ],
   "source": [
    "markers_db=pd.read_csv(\"data/PanglaoDB_markers_27_Mar_2020.tsv.gz\",sep='\\t')\n",
    "markers_db=markers_db[markers_db['species'].str.contains('Hs')].drop(columns='species')\n",
    "markers_db.head()"
   ]
  },
  {
   "cell_type": "code",
   "execution_count": 9,
   "metadata": {},
   "outputs": [],
   "source": [
    "#markers_db[(markers_db['official gene symbol']=='FXDY2') |(markers_db['nicknames'].str.contains('FXDY2'))],'FXDY2' in exp_data_row"
   ]
  },
  {
   "cell_type": "markdown",
   "metadata": {},
   "source": [
    "## Marker info"
   ]
  },
  {
   "cell_type": "code",
   "execution_count": 10,
   "metadata": {},
   "outputs": [],
   "source": [
    "clustername_to_markers=pd.read_csv('data/koh_extract/koh.rho.tsv',sep='\\t').T"
   ]
  },
  {
   "cell_type": "code",
   "execution_count": 11,
   "metadata": {},
   "outputs": [
    {
     "data": {
      "text/html": [
       "<div>\n",
       "<style scoped>\n",
       "    .dataframe tbody tr th:only-of-type {\n",
       "        vertical-align: middle;\n",
       "    }\n",
       "\n",
       "    .dataframe tbody tr th {\n",
       "        vertical-align: top;\n",
       "    }\n",
       "\n",
       "    .dataframe thead th {\n",
       "        text-align: right;\n",
       "    }\n",
       "</style>\n",
       "<table border=\"1\" class=\"dataframe\">\n",
       "  <thead>\n",
       "    <tr style=\"text-align: right;\">\n",
       "      <th></th>\n",
       "      <th>ENSG00000008311</th>\n",
       "      <th>ENSG00000018625</th>\n",
       "      <th>ENSG00000019549</th>\n",
       "      <th>ENSG00000026025</th>\n",
       "      <th>ENSG00000039068</th>\n",
       "      <th>ENSG00000042493</th>\n",
       "      <th>ENSG00000053438</th>\n",
       "      <th>ENSG00000075340</th>\n",
       "      <th>ENSG00000079102</th>\n",
       "      <th>ENSG00000092068</th>\n",
       "      <th>...</th>\n",
       "      <th>ENSG00000240563</th>\n",
       "      <th>ENSG00000241186</th>\n",
       "      <th>ENSG00000243004</th>\n",
       "      <th>ENSG00000249532</th>\n",
       "      <th>ENSG00000250305</th>\n",
       "      <th>ENSG00000254277</th>\n",
       "      <th>ENSG00000254339</th>\n",
       "      <th>ENSG00000260342</th>\n",
       "      <th>ENSG00000260834</th>\n",
       "      <th>ENSG00000280623</th>\n",
       "    </tr>\n",
       "  </thead>\n",
       "  <tbody>\n",
       "    <tr>\n",
       "      <th>hESC</th>\n",
       "      <td>1</td>\n",
       "      <td>1</td>\n",
       "      <td>0</td>\n",
       "      <td>0</td>\n",
       "      <td>1</td>\n",
       "      <td>1</td>\n",
       "      <td>0</td>\n",
       "      <td>1</td>\n",
       "      <td>1</td>\n",
       "      <td>1</td>\n",
       "      <td>...</td>\n",
       "      <td>1</td>\n",
       "      <td>1</td>\n",
       "      <td>1</td>\n",
       "      <td>1</td>\n",
       "      <td>0</td>\n",
       "      <td>1</td>\n",
       "      <td>1</td>\n",
       "      <td>1</td>\n",
       "      <td>1</td>\n",
       "      <td>0</td>\n",
       "    </tr>\n",
       "    <tr>\n",
       "      <th>APS</th>\n",
       "      <td>0</td>\n",
       "      <td>0</td>\n",
       "      <td>1</td>\n",
       "      <td>0</td>\n",
       "      <td>1</td>\n",
       "      <td>1</td>\n",
       "      <td>0</td>\n",
       "      <td>1</td>\n",
       "      <td>1</td>\n",
       "      <td>1</td>\n",
       "      <td>...</td>\n",
       "      <td>1</td>\n",
       "      <td>1</td>\n",
       "      <td>1</td>\n",
       "      <td>1</td>\n",
       "      <td>1</td>\n",
       "      <td>1</td>\n",
       "      <td>1</td>\n",
       "      <td>1</td>\n",
       "      <td>1</td>\n",
       "      <td>0</td>\n",
       "    </tr>\n",
       "    <tr>\n",
       "      <th>MPS</th>\n",
       "      <td>0</td>\n",
       "      <td>0</td>\n",
       "      <td>1</td>\n",
       "      <td>0</td>\n",
       "      <td>1</td>\n",
       "      <td>1</td>\n",
       "      <td>0</td>\n",
       "      <td>1</td>\n",
       "      <td>1</td>\n",
       "      <td>1</td>\n",
       "      <td>...</td>\n",
       "      <td>1</td>\n",
       "      <td>1</td>\n",
       "      <td>1</td>\n",
       "      <td>1</td>\n",
       "      <td>1</td>\n",
       "      <td>1</td>\n",
       "      <td>1</td>\n",
       "      <td>1</td>\n",
       "      <td>1</td>\n",
       "      <td>1</td>\n",
       "    </tr>\n",
       "    <tr>\n",
       "      <th>DLL1pPXM</th>\n",
       "      <td>0</td>\n",
       "      <td>1</td>\n",
       "      <td>1</td>\n",
       "      <td>1</td>\n",
       "      <td>1</td>\n",
       "      <td>1</td>\n",
       "      <td>0</td>\n",
       "      <td>1</td>\n",
       "      <td>0</td>\n",
       "      <td>1</td>\n",
       "      <td>...</td>\n",
       "      <td>0</td>\n",
       "      <td>0</td>\n",
       "      <td>1</td>\n",
       "      <td>0</td>\n",
       "      <td>1</td>\n",
       "      <td>0</td>\n",
       "      <td>0</td>\n",
       "      <td>1</td>\n",
       "      <td>1</td>\n",
       "      <td>0</td>\n",
       "    </tr>\n",
       "    <tr>\n",
       "      <th>ESMT</th>\n",
       "      <td>0</td>\n",
       "      <td>1</td>\n",
       "      <td>1</td>\n",
       "      <td>1</td>\n",
       "      <td>1</td>\n",
       "      <td>1</td>\n",
       "      <td>1</td>\n",
       "      <td>1</td>\n",
       "      <td>1</td>\n",
       "      <td>1</td>\n",
       "      <td>...</td>\n",
       "      <td>0</td>\n",
       "      <td>0</td>\n",
       "      <td>1</td>\n",
       "      <td>0</td>\n",
       "      <td>1</td>\n",
       "      <td>0</td>\n",
       "      <td>0</td>\n",
       "      <td>1</td>\n",
       "      <td>1</td>\n",
       "      <td>0</td>\n",
       "    </tr>\n",
       "    <tr>\n",
       "      <th>Sclrtm</th>\n",
       "      <td>0</td>\n",
       "      <td>1</td>\n",
       "      <td>1</td>\n",
       "      <td>1</td>\n",
       "      <td>0</td>\n",
       "      <td>0</td>\n",
       "      <td>0</td>\n",
       "      <td>0</td>\n",
       "      <td>1</td>\n",
       "      <td>0</td>\n",
       "      <td>...</td>\n",
       "      <td>0</td>\n",
       "      <td>0</td>\n",
       "      <td>0</td>\n",
       "      <td>0</td>\n",
       "      <td>1</td>\n",
       "      <td>0</td>\n",
       "      <td>0</td>\n",
       "      <td>0</td>\n",
       "      <td>0</td>\n",
       "      <td>0</td>\n",
       "    </tr>\n",
       "    <tr>\n",
       "      <th>D5CntrlDrmmtm</th>\n",
       "      <td>0</td>\n",
       "      <td>1</td>\n",
       "      <td>1</td>\n",
       "      <td>1</td>\n",
       "      <td>0</td>\n",
       "      <td>1</td>\n",
       "      <td>0</td>\n",
       "      <td>1</td>\n",
       "      <td>1</td>\n",
       "      <td>1</td>\n",
       "      <td>...</td>\n",
       "      <td>0</td>\n",
       "      <td>0</td>\n",
       "      <td>0</td>\n",
       "      <td>0</td>\n",
       "      <td>1</td>\n",
       "      <td>0</td>\n",
       "      <td>0</td>\n",
       "      <td>1</td>\n",
       "      <td>1</td>\n",
       "      <td>0</td>\n",
       "    </tr>\n",
       "    <tr>\n",
       "      <th>D2LtM</th>\n",
       "      <td>0</td>\n",
       "      <td>1</td>\n",
       "      <td>1</td>\n",
       "      <td>1</td>\n",
       "      <td>1</td>\n",
       "      <td>1</td>\n",
       "      <td>0</td>\n",
       "      <td>1</td>\n",
       "      <td>1</td>\n",
       "      <td>1</td>\n",
       "      <td>...</td>\n",
       "      <td>0</td>\n",
       "      <td>0</td>\n",
       "      <td>1</td>\n",
       "      <td>0</td>\n",
       "      <td>1</td>\n",
       "      <td>0</td>\n",
       "      <td>0</td>\n",
       "      <td>1</td>\n",
       "      <td>1</td>\n",
       "      <td>0</td>\n",
       "    </tr>\n",
       "  </tbody>\n",
       "</table>\n",
       "<p>8 rows × 84 columns</p>\n",
       "</div>"
      ],
      "text/plain": [
       "               ENSG00000008311  ENSG00000018625  ENSG00000019549  \\\n",
       "hESC                         1                1                0   \n",
       "APS                          0                0                1   \n",
       "MPS                          0                0                1   \n",
       "DLL1pPXM                     0                1                1   \n",
       "ESMT                         0                1                1   \n",
       "Sclrtm                       0                1                1   \n",
       "D5CntrlDrmmtm                0                1                1   \n",
       "D2LtM                        0                1                1   \n",
       "\n",
       "               ENSG00000026025  ENSG00000039068  ENSG00000042493  \\\n",
       "hESC                         0                1                1   \n",
       "APS                          0                1                1   \n",
       "MPS                          0                1                1   \n",
       "DLL1pPXM                     1                1                1   \n",
       "ESMT                         1                1                1   \n",
       "Sclrtm                       1                0                0   \n",
       "D5CntrlDrmmtm                1                0                1   \n",
       "D2LtM                        1                1                1   \n",
       "\n",
       "               ENSG00000053438  ENSG00000075340  ENSG00000079102  \\\n",
       "hESC                         0                1                1   \n",
       "APS                          0                1                1   \n",
       "MPS                          0                1                1   \n",
       "DLL1pPXM                     0                1                0   \n",
       "ESMT                         1                1                1   \n",
       "Sclrtm                       0                0                1   \n",
       "D5CntrlDrmmtm                0                1                1   \n",
       "D2LtM                        0                1                1   \n",
       "\n",
       "               ENSG00000092068  ...  ENSG00000240563  ENSG00000241186  \\\n",
       "hESC                         1  ...                1                1   \n",
       "APS                          1  ...                1                1   \n",
       "MPS                          1  ...                1                1   \n",
       "DLL1pPXM                     1  ...                0                0   \n",
       "ESMT                         1  ...                0                0   \n",
       "Sclrtm                       0  ...                0                0   \n",
       "D5CntrlDrmmtm                1  ...                0                0   \n",
       "D2LtM                        1  ...                0                0   \n",
       "\n",
       "               ENSG00000243004  ENSG00000249532  ENSG00000250305  \\\n",
       "hESC                         1                1                0   \n",
       "APS                          1                1                1   \n",
       "MPS                          1                1                1   \n",
       "DLL1pPXM                     1                0                1   \n",
       "ESMT                         1                0                1   \n",
       "Sclrtm                       0                0                1   \n",
       "D5CntrlDrmmtm                0                0                1   \n",
       "D2LtM                        1                0                1   \n",
       "\n",
       "               ENSG00000254277  ENSG00000254339  ENSG00000260342  \\\n",
       "hESC                         1                1                1   \n",
       "APS                          1                1                1   \n",
       "MPS                          1                1                1   \n",
       "DLL1pPXM                     0                0                1   \n",
       "ESMT                         0                0                1   \n",
       "Sclrtm                       0                0                0   \n",
       "D5CntrlDrmmtm                0                0                1   \n",
       "D2LtM                        0                0                1   \n",
       "\n",
       "               ENSG00000260834  ENSG00000280623  \n",
       "hESC                         1                0  \n",
       "APS                          1                0  \n",
       "MPS                          1                1  \n",
       "DLL1pPXM                     1                0  \n",
       "ESMT                         1                0  \n",
       "Sclrtm                       0                0  \n",
       "D5CntrlDrmmtm                1                0  \n",
       "D2LtM                        1                0  \n",
       "\n",
       "[8 rows x 84 columns]"
      ]
     },
     "execution_count": 11,
     "metadata": {},
     "output_type": "execute_result"
    }
   ],
   "source": [
    "clustername_to_markers"
   ]
  },
  {
   "cell_type": "code",
   "execution_count": 12,
   "metadata": {},
   "outputs": [
    {
     "data": {
      "text/plain": [
       "(27, 50)"
      ]
     },
     "execution_count": 12,
     "metadata": {},
     "output_type": "execute_result"
    }
   ],
   "source": [
    "len(clustername_to_markers.loc[['Sclrtm','D5CntrlDrmmtm']].T.iloc[:,1][clustername_to_markers.loc[['Sclrtm','D5CntrlDrmmtm']].T.iloc[:,1]==1].index.intersection(\n",
    "    clustername_to_markers.loc[['Sclrtm','D5CntrlDrmmtm']].T.iloc[:,0][clustername_to_markers.loc[['Sclrtm','D5CntrlDrmmtm']].T.iloc[:,0]==1].index\n",
    ")),len(clustername_to_markers.loc[['Sclrtm','D5CntrlDrmmtm']].T.iloc[:,1][clustername_to_markers.loc[['Sclrtm','D5CntrlDrmmtm']].T.iloc[:,1]==1].index)"
   ]
  },
  {
   "cell_type": "code",
   "execution_count": 13,
   "metadata": {},
   "outputs": [],
   "source": [
    "clustername_unique=list(clustername_to_markers.index)\n",
    "exp_data_meta_clusterid_clusteridunique=exp_data_meta['celltype'].apply(lambda x: clustername_unique.index(x))"
   ]
  },
  {
   "cell_type": "code",
   "execution_count": 14,
   "metadata": {},
   "outputs": [],
   "source": [
    "marker_unique=list(clustername_to_markers.columns)\n",
    "marker_unique_exp_data_idx=[exp_data_row.index(marker) for marker in marker_unique]"
   ]
  },
  {
   "cell_type": "code",
   "execution_count": 15,
   "metadata": {},
   "outputs": [],
   "source": [
    "pi_true=np.array([np.sum(exp_data_meta_clusterid_clusteridunique==i) for i in sorted(np.unique(exp_data_meta_clusterid_clusteridunique))])/exp_data_meta_clusterid_clusteridunique.shape[0]\n",
    "M_true=np.array([np.mean(exp_data[marker_unique_exp_data_idx,:][:,exp_data_meta_clusterid_clusteridunique==i],axis=1) for i in sorted(np.unique(exp_data_meta_clusterid_clusteridunique))])"
   ]
  },
  {
   "cell_type": "code",
   "execution_count": 16,
   "metadata": {},
   "outputs": [
    {
     "data": {
      "text/plain": [
       "(446,)"
      ]
     },
     "execution_count": 16,
     "metadata": {},
     "output_type": "execute_result"
    }
   ],
   "source": [
    "cell_size_factor=pd.read_csv('data/analysis/koh.size_factor_cluster.tsv',sep='\\t',header=None)[0].values.astype(float)#.reshape(-1,1)\n",
    "#cell_size_factor=np.ones_like(cell_size_factor)\n",
    "cell_size_factor.shape"
   ]
  },
  {
   "cell_type": "code",
   "execution_count": 17,
   "metadata": {},
   "outputs": [
    {
     "data": {
      "text/plain": [
       "(446, 84)"
      ]
     },
     "execution_count": 17,
     "metadata": {},
     "output_type": "execute_result"
    }
   ],
   "source": [
    "Y=exp_data[marker_unique_exp_data_idx].transpose().astype(float)\n",
    "Y.shape"
   ]
  },
  {
   "cell_type": "code",
   "execution_count": 18,
   "metadata": {},
   "outputs": [],
   "source": [
    "#marker_onehot=np.array([np.sum(np.eye(len(marker_unique))[[marker_unique.tolist().index(marker) for marker in value]],axis=0) for key,value in clustername_to_markers.items()])\n",
    "#marker_onehot.shape\n",
    "#marker_onehot.T\n",
    "marker_onehot=clustername_to_markers"
   ]
  },
  {
   "cell_type": "code",
   "execution_count": 19,
   "metadata": {},
   "outputs": [
    {
     "data": {
      "text/plain": [
       "(446, 1)"
      ]
     },
     "execution_count": 19,
     "metadata": {},
     "output_type": "execute_result"
    }
   ],
   "source": [
    "#exp_data_col_patient=pd.Series(exp_data_col).str.slice(start=1,stop=2).astype(int).values\n",
    "#x_data_covariate=np.eye(len(np.unique(exp_data_col_patient)))[exp_data_col_patient-1]\n",
    "x_data_intercept=np.array([np.ones(Y.shape[0])]).transpose()\n",
    "x_data_null=np.concatenate([x_data_intercept],axis=1)\n",
    "x_data_null.shape"
   ]
  },
  {
   "cell_type": "code",
   "execution_count": 20,
   "metadata": {},
   "outputs": [
    {
     "data": {
      "text/plain": [
       "(446, 1)"
      ]
     },
     "execution_count": 20,
     "metadata": {},
     "output_type": "execute_result"
    }
   ],
   "source": [
    "# Asuume that the following variables are initialized\n",
    "\n",
    "# Input\n",
    "Y\n",
    "s=cell_size_factor\n",
    "#X=x_data_null.copy()[:,[0, 1,2,3,4]]\n",
    "#X=x_data_null.copy()[:,[0, 1,2]]\n",
    "#X=x_data_null.copy()[:,[0,1,2,3]]\n",
    "X=x_data_null.copy()#[:,[0,1,2]]\n",
    "# 234 x\n",
    "# 34 x\n",
    "# 123 x\n",
    "rho=marker_onehot\n",
    "\n",
    "delta_min=2\n",
    "B=10\n",
    "LR=1e-1\n",
    "\n",
    "# Optional\n",
    "EM_ITER_MAX=20\n",
    "M_ITER_MAX=10000\n",
    "\n",
    "BATCH_SIZE=Y.shape[0]\n",
    "NUM_WORKERS=0\n",
    "\n",
    "LOWER_BOUND=1e-10\n",
    "THETA_LOWER_BOUND=1e-20\n",
    "\n",
    "\n",
    "Q_diff_tolerance=1e-4\n",
    "LL_diff_tolerance=1e-4\n",
    "X.shape"
   ]
  },
  {
   "cell_type": "code",
   "execution_count": 21,
   "metadata": {},
   "outputs": [],
   "source": [
    "import math\n",
    "import numpy as np\n",
    "\n",
    "import torch\n",
    "import torch.nn.functional as F\n",
    "import torch.nn as nn\n",
    "import torch.optim as optim\n",
    "import torch.nn.init as init\n",
    "from torch.nn.parameter import Parameter\n",
    "\n",
    "from torch.utils.data import Dataset\n",
    "from torch.utils.data import DataLoader"
   ]
  },
  {
   "cell_type": "code",
   "execution_count": 22,
   "metadata": {},
   "outputs": [],
   "source": [
    "torch.set_default_dtype(torch.float64) "
   ]
  },
  {
   "cell_type": "code",
   "execution_count": 23,
   "metadata": {},
   "outputs": [],
   "source": [
    "device_cpu=torch.device(\"cpu\")\n",
    "device_cuda_list=[torch.device(\"cuda:{}\".format(i)) for i in range(6)][::-1]"
   ]
  },
  {
   "cell_type": "code",
   "execution_count": 24,
   "metadata": {},
   "outputs": [],
   "source": [
    "#from basic_tools import Cell_Dataset,Masked\n",
    "class Masked_Function(torch.autograd.Function):\n",
    "    @staticmethod\n",
    "    def forward(ctx, input, mask):\n",
    "        #print('aaaa')\n",
    "        output=input\n",
    "        ctx.save_for_backward(input, mask)\n",
    "        return output\n",
    "\n",
    "    @staticmethod\n",
    "    def backward(ctx, grad_output):\n",
    "        input, mask = ctx.saved_tensors\n",
    "        grad_input = grad_mask = None\n",
    "        if ctx.needs_input_grad[0]:\n",
    "            grad_input = grad_output.mul(mask)\n",
    "\n",
    "        return grad_input, grad_mask\n",
    "    \n",
    "class Masked(nn.Module):    \n",
    "    def __init__(self, mask):    \n",
    "        super(Masked, self).__init__()\n",
    "        \n",
    "        self.mask = nn.Parameter(torch.Tensor(mask)==1, requires_grad=False)    \n",
    "        \n",
    "        \n",
    "    def forward(self, input):\n",
    "        return Masked_Function.apply(input, self.mask)\n",
    "\n",
    "    def extra_repr(self):\n",
    "        return 'mask={}'.format(self.mask.shape)  "
   ]
  },
  {
   "cell_type": "code",
   "execution_count": 25,
   "metadata": {},
   "outputs": [],
   "source": [
    "import math\n",
    "class NB_logprob(nn.Module):\n",
    "    def __init__(self):\n",
    "        super(NB_logprob,self).__init__()\n",
    "        \n",
    "    def forward(self,total_count,probs,value):\n",
    "        \n",
    "        #eps = torch.finfo(probs.dtype).eps\n",
    "        #probs_clamped=probs.clamp(min=eps, max=1 - eps)        \n",
    "        probs_clamped=probs\n",
    "        logits=torch.log(probs_clamped) - torch.log1p(-probs_clamped)\n",
    "        #logits=torch.log(probs_clamped)\n",
    "        \n",
    "        log_unnormalized_prob = (total_count * F.logsigmoid(-logits) +\n",
    "                                 value * F.logsigmoid(logits))\n",
    "        log_normalization = (-torch.lgamma(total_count + value) + torch.lgamma(1. + value) +\n",
    "                             torch.lgamma(total_count))\n",
    "\n",
    "        return log_unnormalized_prob - log_normalization\n",
    "    \n",
    "class Normal_logprob(nn.Module):\n",
    "    def __init__(self):\n",
    "        super(Normal_logprob,self).__init__()\n",
    "        \n",
    "    def forward(self,loc,scale,value):\n",
    "    \n",
    "        var = (scale ** 2)\n",
    "        log_scale = torch.log(scale)\n",
    "        \n",
    "        \n",
    "        #print(loc.shape,scale.shape,value.shape)\n",
    "        return -((value - loc) ** 2) / (2 * var) - log_scale - math.log(math.sqrt(2 * math.pi))    \n",
    "        #return log_scale\n",
    "        \n",
    "class Poisson_logprob(nn.Module):\n",
    "    def __init__(self):\n",
    "        super(Poisson_logprob,self).__init__()\n",
    "        \n",
    "    def forward(self,rate,value):\n",
    "        #rate=rate.clamp(min=1e-3)+(-1)/rate.clamp(max=-1e-5)\n",
    "        \n",
    "        return (rate.log() * value) - rate - (value + 1).lgamma()\n",
    "    \n",
    "class Dirichlet_logprob(nn.Module):\n",
    "    def __init__(self):\n",
    "        super(Dirichlet_logprob,self).__init__()\n",
    "        \n",
    "    def forward(self,concentration,value):\n",
    "        \n",
    "        return ((torch.log(value) * (concentration - 1.0)).sum(-1) +\n",
    "                torch.lgamma(concentration.sum(-1)) -\n",
    "                torch.lgamma(concentration).sum(-1))\n",
    "    \n",
    "        \n",
    "NB_logprob=NB_logprob()        \n",
    "normal_logprob=Normal_logprob()\n",
    "poisson_logprob=Poisson_logprob()\n",
    "dirichlet_logprob=Dirichlet_logprob()"
   ]
  },
  {
   "cell_type": "code",
   "execution_count": 26,
   "metadata": {},
   "outputs": [],
   "source": [
    "class Cell_Dataset(Dataset):\n",
    "    def __init__(self,Y,X,s):\n",
    "        self.Y=Y\n",
    "        self.X=X\n",
    "        self.s=s\n",
    "        \n",
    "    def __len__(self):\n",
    "        return self.Y.shape[0]\n",
    "    \n",
    "    def __getitem__(self,idx):\n",
    "        item= {\"Y\":self.Y[idx,:],\"X\":self.X[idx,:],\"s\":self.s[idx]}\n",
    "        return item  "
   ]
  },
  {
   "cell_type": "code",
   "execution_count": 27,
   "metadata": {},
   "outputs": [],
   "source": [
    "def run_EM(model,optimizer,LL_diff_tolerance,Q_diff_tolerance):\n",
    "    global gamma_new,Q_new,LL_new\n",
    "    \n",
    "    print('Start time:',datetime.datetime.now().strftime('%Y-%m-%d %H:%M:%S'))\n",
    "    \n",
    "    with torch.no_grad():\n",
    "        for batch_idx,batch in enumerate(cell_dataloader):\n",
    "            batch_Y=batch['Y'].to(device)\n",
    "            batch_X=batch['X'].to(device)\n",
    "            batch_s=batch['s'].to(device)\n",
    "        gamma_fixed,_,LL_old=model(batch_Y,batch_X,batch_s,gamma_fixed=None,mode='LL')\n",
    "        _,Q_old,_=model(batch_Y,batch_X,batch_s,gamma_fixed=gamma_fixed,mode='M')\n",
    "\n",
    "    print(LL_old)\n",
    "    print(Q_old)\n",
    "\n",
    "    for em_idx in range(EM_ITER_MAX):#\n",
    "        #optimizer = optim.Adam(model.parameters(),lr=0.1,eps=1e-3,betas=(0.9,0.999))\n",
    "        LL_new=torch.zeros_like(LL_old)\n",
    "        #optimizer = optim.Adam(model.parameters(),lr=LR)\n",
    "        for batch_idx,batch in enumerate(cell_dataloader):\n",
    "            # It is usually just one iteration(batch).\n",
    "            # However, developer of cellAssign may have done this for extreme situation of larse sample size\n",
    "            batch_Y=batch['Y'].to(device)\n",
    "            batch_X=batch['X'].to(device)\n",
    "            batch_s=batch['s'].to(device)\n",
    "\n",
    "            #############\n",
    "            #E-step\n",
    "            ######### ####\n",
    "            with torch.no_grad():\n",
    "                gamma_new,_,_=model(batch_Y,batch_X,batch_s,gamma_fixed=None,mode='E')\n",
    "\n",
    "            #############\n",
    "            #M-step\n",
    "            #############\n",
    "            for m_idx in range(M_ITER_MAX):#\n",
    "            #for m_idx in range(20):#    \n",
    "                optimizer.zero_grad()\n",
    "                _,Q_new,_=model(batch_Y,batch_X,batch_s,gamma_fixed=gamma_new,mode='M')\n",
    "                Q_new.backward()\n",
    "                optimizer.step()\n",
    "                \n",
    "                #Constraint\n",
    "                model.delta_log.data=model.delta_log.data.clamp(min=model.delta_log_min)\n",
    "                #model.NB_basis_a.data=model.NB_basis_a.data.clamp(min=0)\n",
    "\n",
    "                if m_idx%20==0:\n",
    "                    #print(sorted(model.delta_log.cpu().detach().numpy().flatten())[-10:])\n",
    "                    Q_diff=(Q_old-Q_new)/torch.abs(Q_old)\n",
    "                    Q_old=Q_new\n",
    "                    print('M: {}, Q: {} Q_diff: {}'.format(m_idx,Q_new,Q_diff))    \n",
    "                    if m_idx>0 and torch.abs(Q_diff)<Q_diff_tolerance:\n",
    "                        print('M break')\n",
    "                        break                \n",
    "            #############\n",
    "            #Look at LL\n",
    "            #############\n",
    "            with torch.no_grad():\n",
    "                _,_,LL_temp=model(batch_Y,batch_X,batch_s,gamma_fixed=None,mode='LL')\n",
    "                LL_new+=LL_temp\n",
    "\n",
    "        LL_diff=(LL_new-LL_old)/torch.abs(LL_old)\n",
    "        LL_old=LL_new\n",
    "        print('EM: {}, LL: {} LL_diff: {}'.format(em_idx,LL_new,LL_diff))\n",
    "        if LL_diff<LL_diff_tolerance:\n",
    "            print('EM break')\n",
    "            break\n",
    "    print('End time:',datetime.datetime.now().strftime('%Y-%m-%d %H:%M:%S'))    \n",
    "    return gamma_new,Q_new,LL_new"
   ]
  },
  {
   "cell_type": "code",
   "execution_count": null,
   "metadata": {},
   "outputs": [],
   "source": []
  },
  {
   "cell_type": "code",
   "execution_count": 28,
   "metadata": {},
   "outputs": [],
   "source": [
    "import torch\n",
    "import torch.nn as nn\n",
    "import torch.nn.functional as F\n",
    "\n",
    "from torch.distributions.negative_binomial import NegativeBinomial\n",
    "from torch.distributions.normal import Normal\n",
    "from torch.distributions.dirichlet import Dirichlet\n",
    "\n",
    "class Custom_Model(nn.Module):\n",
    "    def __init__(self,Y,rho,X_col=5,delta_min=2,LOWER_BOUND=1e-10,THETA_LOWER_BOUND=1e-20):\n",
    "        # Y,rho are needed for model parameter initialization\n",
    "        super(Custom_Model, self).__init__()\n",
    "        \n",
    "        #rho\n",
    "        self.masked=Masked(rho)\n",
    "         \n",
    "        #delta\n",
    "        self.delta_log_min=np.log(delta_min) #\n",
    "        self.delta_log=nn.Parameter(torch.Tensor(np.random.uniform(-2,2,size=rho.shape)),requires_grad=True) # (C,G)\n",
    "        self.delta_log.data=self.delta_log.data.clamp(min=self.delta_log_min)\n",
    "          \n",
    "        \n",
    "        #beta\n",
    "        Y_colmean=np.mean(Y,axis=0)\n",
    "        beta_init=np.hstack([((Y_colmean-Y_colmean.mean())/np.std(Y_colmean)).reshape(-1,1),\\\n",
    "                     np.zeros((Y.shape[1],X_col-1))]).T\n",
    "        self.beta=nn.Parameter(torch.Tensor(beta_init),requires_grad=True) # (P,G)\n",
    "        \n",
    "        \n",
    "    def forward(self,Y,X,s,gamma_fixed=None,mode='E'):\n",
    "        delta_log_masked=self.masked(self.delta_log) #(C,G)\n",
    "        delta=torch.exp(delta_log_masked)*self.masked.mask\n",
    "        \n",
    "        X_beta_s=X.matmul(self.beta)+torch.log(s.view(-1, 1)) #(N,P)*(P,G) + (N,1) = (N,G)\n",
    "        \n",
    "        mu_log=X_beta_s.unsqueeze(dim=1).repeat(1,delta.shape[0],1)+delta #(N,1,G)+(C,G) = (N,C,G)\n",
    "        \n",
    "        mu=torch.exp(mu_log) # (N,C,G)\n",
    "        \n",
    "        #Y_extend=Y.view(Y.shape[0],1,Y.shape[1]).repeat(1,mu_log.shape[1],1) # (N,C,G)\n",
    "        Y_extend=Y.unsqueeze(dim=1).repeat(1,mu_log.shape[1],1)\n",
    "        \n",
    "        # Poisson\n",
    "        Y_logprob=poisson_logprob(rate=mu,value=Y_extend) # (N,C,G)\n",
    "\n",
    "        Y_logprob_reduce=torch.sum(Y_logprob,axis=2)\n",
    "        \n",
    "        Y_logprob_reduce_reduce=torch.logsumexp(Y_logprob_reduce,dim=1).view(-1,1) # (N,1)\n",
    "        \n",
    "        gamma=torch.exp(Y_logprob_reduce-Y_logprob_reduce_reduce) # (N,C)\n",
    "\n",
    "        if mode=='E':\n",
    "            return gamma,None,None\n",
    "        elif mode=='M' or mode=='LL':\n",
    "            if mode=='M':\n",
    "                Q=-torch.sum(gamma_fixed*Y_logprob_reduce) # (N,C) (N,C)\n",
    "                return gamma,Q,None\n",
    "            elif mode=='LL':      \n",
    "                LL=torch.sum(Y_logprob_reduce_reduce) # product of likelihood(y_i)-> (1) \n",
    "                return gamma,None,LL\n",
    "        else:\n",
    "            raise          "
   ]
  },
  {
   "cell_type": "markdown",
   "metadata": {},
   "source": [
    "# 0. Answer"
   ]
  },
  {
   "cell_type": "markdown",
   "metadata": {},
   "source": [
    " ![Alt text](data/koh_extract/koh.png \"Optional title\")."
   ]
  },
  {
   "cell_type": "markdown",
   "metadata": {},
   "source": [
    "# 1. Normal case"
   ]
  },
  {
   "cell_type": "code",
   "execution_count": 29,
   "metadata": {},
   "outputs": [
    {
     "data": {
      "text/plain": [
       "(446, 84)"
      ]
     },
     "execution_count": 29,
     "metadata": {},
     "output_type": "execute_result"
    }
   ],
   "source": [
    "Y=exp_data[marker_unique_exp_data_idx].transpose().astype(float)\n",
    "Y.shape"
   ]
  },
  {
   "cell_type": "code",
   "execution_count": 30,
   "metadata": {},
   "outputs": [],
   "source": [
    "device=device_cuda_list[3]#\n",
    "\n",
    "model=Custom_Model(Y,rho.values,X_col=X.shape[1],delta_min=2,LOWER_BOUND=LOWER_BOUND,THETA_LOWER_BOUND=THETA_LOWER_BOUND).to(device)\n",
    "optimizer = optim.Adamax(model.parameters(),lr=LR)#,betas=(0.92, 0.999))\n",
    "\n",
    "\n",
    "cell_dataset=Cell_Dataset(Y,X,s)\n",
    "cell_dataloader=DataLoader(dataset=cell_dataset,shuffle=False,batch_size=BATCH_SIZE,num_workers=NUM_WORKERS)"
   ]
  },
  {
   "cell_type": "code",
   "execution_count": 31,
   "metadata": {},
   "outputs": [
    {
     "data": {
      "text/plain": [
       "(8, 84)"
      ]
     },
     "execution_count": 31,
     "metadata": {},
     "output_type": "execute_result"
    }
   ],
   "source": [
    "rho.shape"
   ]
  },
  {
   "cell_type": "code",
   "execution_count": 32,
   "metadata": {},
   "outputs": [
    {
     "name": "stdout",
     "output_type": "stream",
     "text": [
      "Start time: 2020-05-26 13:49:27\n",
      "tensor(-23352509.3002, device='cuda:2')\n",
      "tensor(23352509.3078, device='cuda:2')\n",
      "M: 0, Q: 23352509.307789583 Q_diff: 0.0\n",
      "M: 20, Q: 7248415.7521271575 Q_diff: 0.6896086987230388\n",
      "M: 40, Q: 6444583.627195826 Q_diff: 0.11089762955380077\n",
      "M: 60, Q: 5936534.011335768 Q_diff: 0.07883358262527831\n",
      "M: 80, Q: 5631972.794541442 Q_diff: 0.05130286733180819\n",
      "M: 100, Q: 5462436.825798051 Q_diff: 0.030102412587593847\n",
      "M: 120, Q: 5358002.190423019 Q_diff: 0.019118689827552285\n",
      "M: 140, Q: 5286416.619765199 Q_diff: 0.01336049671382622\n",
      "M: 160, Q: 5233933.435289662 Q_diff: 0.00992793195286745\n",
      "M: 180, Q: 5194028.747750644 Q_diff: 0.007624225266214193\n",
      "M: 200, Q: 5163874.933808841 Q_diff: 0.005805476905544933\n",
      "M: 220, Q: 5141047.635352608 Q_diff: 0.004420575391316793\n",
      "M: 240, Q: 5122125.47792004 Q_diff: 0.0036806034051210363\n",
      "M: 260, Q: 5105970.8151155785 Q_diff: 0.0031538982936085876\n",
      "M: 280, Q: 5092464.043496344 Q_diff: 0.00264528962430595\n",
      "M: 300, Q: 5081067.094287967 Q_diff: 0.0022380028825008847\n",
      "M: 320, Q: 5071389.604349138 Q_diff: 0.0019046176244569438\n",
      "M: 340, Q: 5063289.501085354 Q_diff: 0.001597215732910303\n",
      "M: 360, Q: 5056678.199890615 Q_diff: 0.0013057324084118466\n",
      "M: 380, Q: 5051426.509514963 Q_diff: 0.0010385652731007813\n",
      "M: 400, Q: 5047350.535623437 Q_diff: 0.0008068956133181149\n",
      "M: 420, Q: 5044188.6987414425 Q_diff: 0.0006264349701251187\n",
      "M: 440, Q: 5041765.386971905 Q_diff: 0.0004804165574024341\n",
      "M: 460, Q: 5039849.131765588 Q_diff: 0.0003800762350561529\n",
      "M: 480, Q: 5038253.252542242 Q_diff: 0.00031665218176614375\n",
      "M: 500, Q: 5036886.695567563 Q_diff: 0.0002712362610969751\n",
      "M: 520, Q: 5035696.530899434 Q_diff: 0.00023628974405482758\n",
      "M: 540, Q: 5034653.8278995585 Q_diff: 0.00020706231868377538\n",
      "M: 560, Q: 5033773.103636259 Q_diff: 0.00017493243694704862\n",
      "M: 580, Q: 5033014.593758826 Q_diff: 0.0001506841611285861\n",
      "M: 600, Q: 5032329.7592917755 Q_diff: 0.00013606844452623807\n",
      "M: 620, Q: 5031711.899407603 Q_diff: 0.00012277809955356194\n",
      "M: 640, Q: 5031150.518430989 Q_diff: 0.00011156858497397354\n",
      "M: 660, Q: 5030639.007372128 Q_diff: 0.00010166880457810457\n",
      "M: 680, Q: 5030166.5901107285 Q_diff: 9.390800268256715e-05\n",
      "M: 700, Q: 5029720.318588073 Q_diff: 8.871903438198615e-05\n",
      "M: 720, Q: 5029299.620660795 Q_diff: 8.364240964327882e-05\n",
      "M: 740, Q: 5028897.359861104 Q_diff: 7.998346291371449e-05\n",
      "M: 760, Q: 5028514.476820995 Q_diff: 7.61365787985168e-05\n",
      "M: 780, Q: 5028149.0741318725 Q_diff: 7.266613048583702e-05\n",
      "M: 800, Q: 5027798.1902174745 Q_diff: 6.978391237507427e-05\n",
      "M: 820, Q: 5027459.441131251 Q_diff: 6.737523532321617e-05\n",
      "M: 840, Q: 5027131.169886431 Q_diff: 6.529565253863919e-05\n",
      "M: 860, Q: 5026812.258819217 Q_diff: 6.343798409800947e-05\n",
      "M: 880, Q: 5026502.154198844 Q_diff: 6.16901138149367e-05\n",
      "M: 900, Q: 5026200.972540446 Q_diff: 5.9918736560526605e-05\n",
      "M: 920, Q: 5025908.913883513 Q_diff: 5.81072381562904e-05\n",
      "M: 940, Q: 5025625.950420115 Q_diff: 5.6300953369059594e-05\n",
      "M: 960, Q: 5025351.610198465 Q_diff: 5.458826907462816e-05\n",
      "M: 980, Q: 5025085.466512632 Q_diff: 5.2960211837404193e-05\n",
      "M: 1000, Q: 5024827.192463898 Q_diff: 5.139694647079606e-05\n",
      "M: 1020, Q: 5024576.731151308 Q_diff: 4.9844761421010084e-05\n",
      "M: 1040, Q: 5024333.931962093 Q_diff: 4.832231692458616e-05\n",
      "M: 1060, Q: 5024099.044265925 Q_diff: 4.675001688764297e-05\n",
      "M: 1080, Q: 5023875.158539207 Q_diff: 4.456236327063575e-05\n",
      "M: 1100, Q: 5023662.643830705 Q_diff: 4.230095330694478e-05\n",
      "M: 1120, Q: 5023465.025842596 Q_diff: 3.933743209295171e-05\n",
      "M: 1140, Q: 5023288.63194381 Q_diff: 3.5113989622423756e-05\n",
      "M: 1160, Q: 5023129.167178445 Q_diff: 3.174509311513105e-05\n",
      "M: 1180, Q: 5022982.104792114 Q_diff: 2.927704652532834e-05\n",
      "M: 1200, Q: 5022844.421180889 Q_diff: 2.7410730986674515e-05\n",
      "M: 1220, Q: 5022714.230341833 Q_diff: 2.591974350368536e-05\n",
      "M: 1240, Q: 5022590.35024953 Q_diff: 2.4663973824136446e-05\n",
      "M: 1260, Q: 5022472.013986688 Q_diff: 2.356080320901143e-05\n",
      "M: 1280, Q: 5022358.696986994 Q_diff: 2.256199723537829e-05\n",
      "M: 1300, Q: 5022250.01782551 Q_diff: 2.1639068023679904e-05\n",
      "M: 1320, Q: 5022146.921656013 Q_diff: 2.0527884739289706e-05\n",
      "M: 1340, Q: 5022048.8746157065 Q_diff: 1.952293348552644e-05\n",
      "M: 1360, Q: 5021954.296962341 Q_diff: 1.883248365886262e-05\n",
      "M: 1380, Q: 5021864.164813332 Q_diff: 1.7947624307045723e-05\n",
      "M: 1400, Q: 5021780.497650484 Q_diff: 1.6660578642263316e-05\n",
      "M: 1420, Q: 5021703.408640046 Q_diff: 1.5350931900352425e-05\n",
      "M: 1440, Q: 5021632.106723661 Q_diff: 1.4198751017909905e-05\n",
      "M: 1460, Q: 5021564.840390632 Q_diff: 1.3395312838351617e-05\n",
      "M: 1480, Q: 5021500.897843976 Q_diff: 1.2733589765094244e-05\n",
      "M: 1500, Q: 5021440.134475463 Q_diff: 1.2100638782837433e-05\n",
      "M: 1520, Q: 5021382.51993385 Q_diff: 1.147370875098867e-05\n",
      "M: 1540, Q: 5021327.848680377 Q_diff: 1.0887689447185719e-05\n",
      "M: 1560, Q: 5021275.927365716 Q_diff: 1.0340156274606963e-05\n",
      "M: 1580, Q: 5021226.591897337 Q_diff: 9.825285264642273e-06\n",
      "M break\n",
      "EM: 0, LL: -4233156.078024138 LL_diff: 0.8187279994795527\n",
      "M: 0, Q: 4233156.473513089 Q_diff: 0.1569477305915535\n",
      "M: 20, Q: 3701311.7648365116 Q_diff: 0.12563785723592696\n",
      "M: 40, Q: 3653358.933130429 Q_diff: 0.012955631611918685\n",
      "M: 60, Q: 3644022.457578644 Q_diff: 0.0025555867142199704\n",
      "M: 80, Q: 3641626.486890286 Q_diff: 0.0006575071137047843\n",
      "M: 100, Q: 3640572.7021334134 Q_diff: 0.0002893720046980071\n",
      "M: 120, Q: 3639895.4378188537 Q_diff: 0.00018603235533872737\n",
      "M: 140, Q: 3639405.497386472 Q_diff: 0.00013460288647066323\n",
      "M: 160, Q: 3639032.371561991 Q_diff: 0.0001025238393327515\n",
      "M: 180, Q: 3638739.0734653184 Q_diff: 8.059782566505137e-05\n",
      "M: 200, Q: 3638498.898435517 Q_diff: 6.600501573543067e-05\n",
      "M: 220, Q: 3638294.375392708 Q_diff: 5.6210829937906274e-05\n",
      "M: 240, Q: 3638113.936917929 Q_diff: 4.959424833773688e-05\n",
      "M: 260, Q: 3637951.717531517 Q_diff: 4.4588869184579976e-05\n",
      "M: 280, Q: 3637804.012748765 Q_diff: 4.060108385730398e-05\n",
      "M: 300, Q: 3637668.3641011296 Q_diff: 3.728860795135201e-05\n",
      "M: 320, Q: 3637543.037397007 Q_diff: 3.445248207873949e-05\n",
      "M: 340, Q: 3637426.7592971246 Q_diff: 3.1966109730381084e-05\n",
      "M: 360, Q: 3637325.091227578 Q_diff: 2.7950547536583894e-05\n",
      "M: 380, Q: 3637243.284695399 Q_diff: 2.2490849766578375e-05\n",
      "M: 400, Q: 3637174.8915731506 Q_diff: 1.880355997525174e-05\n",
      "M: 420, Q: 3637114.758850266 Q_diff: 1.6532810402858573e-05\n",
      "M: 440, Q: 3637059.9071141924 Q_diff: 1.5081112285603856e-05\n",
      "M: 460, Q: 3637008.7269916525 Q_diff: 1.4071839300682659e-05\n",
      "M: 480, Q: 3636960.3521756968 Q_diff: 1.3300714842048583e-05\n",
      "M: 500, Q: 3636914.304978139 Q_diff: 1.2660901714377915e-05\n",
      "M: 520, Q: 3636870.3076359117 Q_diff: 1.20974371507198e-05\n",
      "M: 540, Q: 3636828.426308413 Q_diff: 1.1515760518259577e-05\n",
      "M: 560, Q: 3636789.322861717 Q_diff: 1.0752073541078708e-05\n",
      "M: 580, Q: 3636752.4539423296 Q_diff: 1.0137766066264277e-05\n",
      "M: 600, Q: 3636717.316095136 Q_diff: 9.661874883847674e-06\n",
      "M break\n",
      "EM: 1, LL: -3501637.778002103 LL_diff: 0.17280683408287592\n",
      "M: 0, Q: 3501637.778002103 Q_diff: 0.0371432603505385\n",
      "M: 20, Q: 3439324.2676864835 Q_diff: 0.017795532909509863\n",
      "M: 40, Q: 3435721.2263264526 Q_diff: 0.0010476015285568073\n",
      "M: 60, Q: 3435126.3945773183 Q_diff: 0.00017313155228552648\n",
      "M: 80, Q: 3434897.046406738 Q_diff: 6.676556965775432e-05\n",
      "M: 100, Q: 3434775.5279792724 Q_diff: 3.53776039933126e-05\n",
      "M: 120, Q: 3434680.0537971985 Q_diff: 2.77963381584144e-05\n",
      "M: 140, Q: 3434599.7660729773 Q_diff: 2.337560499481267e-05\n",
      "M: 160, Q: 3434529.709894137 Q_diff: 2.0397188497000084e-05\n",
      "M: 180, Q: 3434468.3701816346 Q_diff: 1.785971229939529e-05\n",
      "M: 200, Q: 3434423.481690356 Q_diff: 1.3069996995238103e-05\n",
      "M: 220, Q: 3434390.981719955 Q_diff: 9.46300611279764e-06\n",
      "M break\n",
      "EM: 2, LL: -3432268.436768821 LL_diff: 0.019810541703962684\n",
      "M: 0, Q: 3432268.436768821 Q_diff: 0.0006180265911573405\n",
      "M: 20, Q: 3431323.9689560933 Q_diff: 0.0002751730612355031\n",
      "M: 40, Q: 3431167.0681436686 Q_diff: 4.572602699256434e-05\n",
      "M: 60, Q: 3431126.5612936364 Q_diff: 1.1805560390287517e-05\n",
      "M: 80, Q: 3431101.825010445 Q_diff: 7.209376497657793e-06\n",
      "M break\n",
      "EM: 3, LL: -3430861.860870678 LL_diff: 0.00040980940857503694\n",
      "M: 0, Q: 3430861.860870678 Q_diff: 6.993792431860009e-05\n",
      "M: 20, Q: 3429646.637695278 Q_diff: 0.00035420346976358283\n",
      "M: 40, Q: 3429488.496524745 Q_diff: 4.611004783839163e-05\n",
      "M: 60, Q: 3429428.959263913 Q_diff: 1.736039088412071e-05\n",
      "M: 80, Q: 3429387.5989347394 Q_diff: 1.2060412874796165e-05\n",
      "M: 100, Q: 3429353.1996510094 Q_diff: 1.0030736607505266e-05\n",
      "M: 120, Q: 3429323.8334413934 Q_diff: 8.563191921713325e-06\n",
      "M break\n",
      "EM: 4, LL: -3429322.4831610126 LL_diff: 0.000448685424272569\n",
      "M: 0, Q: 3429322.4831610126 Q_diff: 3.937453697549421e-07\n",
      "M: 20, Q: 3429297.6282954067 Q_diff: 7.247748127505548e-06\n",
      "M break\n",
      "EM: 5, LL: -3429296.4887123075 LL_diff: 7.580053737363905e-06\n",
      "EM break\n",
      "End time: 2020-05-26 13:49:36\n"
     ]
    },
    {
     "data": {
      "text/plain": [
       "(tensor([[1., 0., 0.,  ..., 0., 0., 0.],\n",
       "         [1., 0., 0.,  ..., 0., 0., 0.],\n",
       "         [1., 0., 0.,  ..., 0., 0., 0.],\n",
       "         ...,\n",
       "         [0., 0., 0.,  ..., 0., 0., 1.],\n",
       "         [0., 0., 0.,  ..., 0., 0., 1.],\n",
       "         [0., 0., 0.,  ..., 0., 0., 1.]], device='cuda:2'),\n",
       " tensor(3429297.6283, device='cuda:2', grad_fn=<NegBackward>),\n",
       " tensor(-3429296.4887, device='cuda:2'))"
      ]
     },
     "execution_count": 32,
     "metadata": {},
     "output_type": "execute_result"
    }
   ],
   "source": [
    "run_EM(model,optimizer,LL_diff_tolerance=1e-1*LL_diff_tolerance,Q_diff_tolerance=1e-1*Q_diff_tolerance)"
   ]
  },
  {
   "cell_type": "code",
   "execution_count": 33,
   "metadata": {},
   "outputs": [
    {
     "data": {
      "text/plain": [
       "<matplotlib.axes._subplots.AxesSubplot at 0x7fa8ec0f8320>"
      ]
     },
     "execution_count": 33,
     "metadata": {},
     "output_type": "execute_result"
    },
    {
     "name": "stderr",
     "output_type": "stream",
     "text": [
      "findfont: Font family ['Arial'] not found. Falling back to DejaVu Sans.\n"
     ]
    },
    {
     "data": {
      "image/png": "[encoded data removed]",
      "text/plain": [
       "<Figure size 1080x1080 with 1 Axes>"
      ]
     },
     "metadata": {
      "needs_background": "light"
     },
     "output_type": "display_data"
    }
   ],
   "source": [
    "import seaborn as sns\n",
    "\n",
    "plt.rcParams[\"figure.figsize\"] = (15,15)\n",
    "plt.rcParams[\"font.size\"] = 15\n",
    "plt.rcParams['font.family']='Arial'\n",
    "\n",
    "\n",
    "plot_value=np.argmax(gamma_new.cpu().numpy(),axis=1)\n",
    "\n",
    "sns.scatterplot(x=\"tSNE_1\", y=\"tSNE_2\",hue=plot_value,style=np.array((list(range(0,2))*30))[plot_value],\n",
    "                data=exp_data_meta,s=40,palette=plt.cm.rainbow)#,linewidth=0.3)"
   ]
  },
  {
   "cell_type": "code",
   "execution_count": 34,
   "metadata": {},
   "outputs": [
    {
     "data": {
      "text/plain": [
       "437"
      ]
     },
     "execution_count": 34,
     "metadata": {},
     "output_type": "execute_result"
    }
   ],
   "source": [
    "np.sum(np.argmax(gamma_new.cpu().numpy(),axis=1)==exp_data_meta_clusterid_clusteridunique)"
   ]
  },
  {
   "cell_type": "code",
   "execution_count": 35,
   "metadata": {},
   "outputs": [
    {
     "data": {
      "text/plain": [
       "(array([0, 1, 2, 3, 4, 5, 6, 7]), array([55, 65, 21, 76, 43, 61, 70, 55]))"
      ]
     },
     "execution_count": 35,
     "metadata": {},
     "output_type": "execute_result"
    }
   ],
   "source": [
    "np.unique(np.argmax(gamma_new.cpu().numpy(),axis=1),return_counts=True)"
   ]
  },
  {
   "cell_type": "code",
   "execution_count": 36,
   "metadata": {},
   "outputs": [
    {
     "name": "stdout",
     "output_type": "stream",
     "text": [
      "4800"
     ]
    }
   ],
   "source": [
    "import statsmodels.api as sm\n",
    "import sys\n",
    "\n",
    "label=np.argmax(gamma_new.cpu().numpy(),axis=1)\n",
    "label=list(map(lambda x: np.unique(label,return_counts=True)[0].tolist().index(x),label))\n",
    "\n",
    "#exp_data_col_patient=pd.Series(exp_data_col).str.slice(start=1,stop=2).astype(int).values\n",
    "#x_data_covariate=np.eye(len(np.unique(exp_data_col_patient)))[exp_data_col_patient-1]\n",
    "x_data_intercept=np.array([np.ones(Y.shape[0])]).transpose()\n",
    "x_data_null=np.concatenate([x_data_intercept],axis=1)\n",
    "x_data_null_test=np.concatenate([x_data_intercept,np.eye(max(label)+1)[label]],axis=1)\n",
    "x_data_null_test=x_data_null_test[:,:-1]\n",
    "\n",
    "family=sm.families.Poisson(link=sm.families.links.log())\n",
    "\n",
    "data_list=[]\n",
    "data_list_=[]\n",
    "for exp_data_row_idx in range(exp_data.shape[0]):\n",
    "    if exp_data_row_idx%100==0:\n",
    "        sys.stdout.write('\\r{}'.format(exp_data_row_idx))\n",
    "    y_data=exp_data[exp_data_row_idx,:]\n",
    "    \n",
    "    model=sm.GLM(y_data,x_data_null_test,family=family)\n",
    "    model_result=model.fit()\n",
    "    \n",
    "    model_=sm.GLM(y_data,x_data_null,family=family)\n",
    "    model_result_=model_.fit()\n",
    "    \n",
    "    data_list.append({\n",
    "        'llf':model_result.llf,\n",
    "        'deviance':model_result.deviance,\n",
    "        'pearson_chi2':model_result.pearson_chi2,\n",
    "        'llnull':model_result.llnull,\n",
    "        'null_deviance':model_result.null_deviance\n",
    "    })\n",
    "    \n",
    "    data_list_.append({\n",
    "        'llf':model_result_.llf,\n",
    "        'deviance':model_result_.deviance,\n",
    "        'pearson_chi2':model_result_.pearson_chi2,\n",
    "        'llnull':model_result_.llnull,\n",
    "        'null_deviance':model_result_.null_deviance\n",
    "    })    \n",
    "    \n",
    "    #ll_list.append([model_result.llf,model_result.deviance,model_result.pearson_chi2])\n",
    "#model_result.llf,model_result.llnull,model_result.null_deviance,model_result.null"
   ]
  },
  {
   "cell_type": "code",
   "execution_count": 37,
   "metadata": {},
   "outputs": [],
   "source": [
    "data_full=pd.DataFrame(data_list)\n",
    "data_null=pd.DataFrame(data_list_)"
   ]
  },
  {
   "cell_type": "code",
   "execution_count": 38,
   "metadata": {},
   "outputs": [
    {
     "data": {
      "text/plain": [
       "437"
      ]
     },
     "execution_count": 38,
     "metadata": {},
     "output_type": "execute_result"
    }
   ],
   "source": [
    "np.sum(np.argmax(gamma_new.cpu().numpy(),axis=1)==exp_data_meta_clusterid_clusteridunique)"
   ]
  },
  {
   "cell_type": "code",
   "execution_count": 39,
   "metadata": {},
   "outputs": [],
   "source": [
    "marker_unique_exp_data_idx=list(map(lambda x: exp_data_row.index(x), rho.columns))\n",
    "marker_unique_exp_data_idx_bool=np.array(list(map(lambda x: x in marker_unique_exp_data_idx, np.arange(exp_data.shape[0]))))"
   ]
  },
  {
   "cell_type": "markdown",
   "metadata": {},
   "source": [
    "## deviance of null model"
   ]
  },
  {
   "cell_type": "code",
   "execution_count": 40,
   "metadata": {},
   "outputs": [
    {
     "data": {
      "image/png": "[encoded data removed]",
      "text/plain": [
       "<Figure size 1080x1080 with 1 Axes>"
      ]
     },
     "metadata": {
      "needs_background": "light"
     },
     "output_type": "display_data"
    },
    {
     "data": {
      "text/plain": [
       "\"\\ndata_full['null_deviance'][marker_unique_exp_data_idx_bool].hist(alpha=0.5,density=True)\\ndata_full['null_deviance'][~marker_unique_exp_data_idx_bool].hist(bins=50,alpha=0.5,density=True)\\n\\ndata_full['deviance'][marker_unique_exp_data_idx_bool].hist(alpha=0.5,density=True)\\ndata_full['deviance'][~marker_unique_exp_data_idx_bool].hist(bins=50,alpha=0.5,density=True)\\n\""
      ]
     },
     "execution_count": 40,
     "metadata": {},
     "output_type": "execute_result"
    }
   ],
   "source": [
    "plt.hist(\n",
    "    x=[\n",
    "        np.log10(data_full['null_deviance'])[marker_unique_exp_data_idx_bool].repeat(10),# np.sum(~marker_unique_exp_data_idx_bool)/np.sum(marker_unique_exp_data_idx_bool) ),\n",
    "        np.log10(data_full['null_deviance'])[~marker_unique_exp_data_idx_bool],\n",
    "    ],\n",
    "    bins=30,\n",
    "    histtype='barstacked',\n",
    "    color=['blue','grey'],\n",
    "    alpha=0.7\n",
    ")\n",
    "plt.show()\n",
    "\n",
    "\"\"\"\n",
    "data_full['null_deviance'][marker_unique_exp_data_idx_bool].hist(alpha=0.5,density=True)\n",
    "data_full['null_deviance'][~marker_unique_exp_data_idx_bool].hist(bins=50,alpha=0.5,density=True)\n",
    "\n",
    "data_full['deviance'][marker_unique_exp_data_idx_bool].hist(alpha=0.5,density=True)\n",
    "data_full['deviance'][~marker_unique_exp_data_idx_bool].hist(bins=50,alpha=0.5,density=True)\n",
    "\"\"\""
   ]
  },
  {
   "cell_type": "markdown",
   "metadata": {},
   "source": [
    "## deviance of full model"
   ]
  },
  {
   "cell_type": "code",
   "execution_count": 41,
   "metadata": {},
   "outputs": [
    {
     "data": {
      "image/png": "[encoded data removed]",
      "text/plain": [
       "<Figure size 1080x1080 with 1 Axes>"
      ]
     },
     "metadata": {
      "needs_background": "light"
     },
     "output_type": "display_data"
    }
   ],
   "source": [
    "plt.hist(\n",
    "    x=[\n",
    "        np.log10(data_full['deviance'])[marker_unique_exp_data_idx_bool].repeat(10),# np.sum(~marker_unique_exp_data_idx_bool)/np.sum(marker_unique_exp_data_idx_bool) ),\n",
    "        np.log10(data_full['deviance'])[~marker_unique_exp_data_idx_bool],\n",
    "    ],\n",
    "    bins=30, \n",
    "    histtype='barstacked',\n",
    "    color=['blue','grey'],\n",
    "    alpha=0.7    \n",
    "    \n",
    ")\n",
    "\n",
    "plt.show()"
   ]
  },
  {
   "cell_type": "markdown",
   "metadata": {},
   "source": [
    "# 2. Case of lost types and markers"
   ]
  },
  {
   "cell_type": "code",
   "execution_count": 42,
   "metadata": {},
   "outputs": [
    {
     "data": {
      "text/plain": [
       "<seaborn.matrix.ClusterGrid at 0x7fa8c9389a90>"
      ]
     },
     "execution_count": 42,
     "metadata": {},
     "output_type": "execute_result"
    },
    {
     "data": {
      "image/png": "[encoded data removed]",
      "text/plain": [
       "<Figure size 2160x2160 with 4 Axes>"
      ]
     },
     "metadata": {
      "needs_background": "light"
     },
     "output_type": "display_data"
    }
   ],
   "source": [
    "plt.rcParams[\"figure.figsize\"] = (30,30)\n",
    "plt.rcParams[\"font.size\"] = 15\n",
    "plt.rcParams['font.family']='Arial'\n",
    "\n",
    "sns.clustermap(pd.DataFrame(exp_data[marker_unique_exp_data_idx].transpose().astype(float)).corr(),figsize=(30, 30))"
   ]
  },
  {
   "cell_type": "code",
   "execution_count": 43,
   "metadata": {},
   "outputs": [
    {
     "data": {
      "text/html": [
       "<div>\n",
       "<style scoped>\n",
       "    .dataframe tbody tr th:only-of-type {\n",
       "        vertical-align: middle;\n",
       "    }\n",
       "\n",
       "    .dataframe tbody tr th {\n",
       "        vertical-align: top;\n",
       "    }\n",
       "\n",
       "    .dataframe thead th {\n",
       "        text-align: right;\n",
       "    }\n",
       "</style>\n",
       "<table border=\"1\" class=\"dataframe\">\n",
       "  <thead>\n",
       "    <tr style=\"text-align: right;\">\n",
       "      <th></th>\n",
       "      <th>hESC</th>\n",
       "      <th>APS</th>\n",
       "      <th>MPS</th>\n",
       "      <th>DLL1pPXM</th>\n",
       "      <th>ESMT</th>\n",
       "      <th>Sclrtm</th>\n",
       "      <th>D5CntrlDrmmtm</th>\n",
       "      <th>D2LtM</th>\n",
       "    </tr>\n",
       "  </thead>\n",
       "  <tbody>\n",
       "    <tr>\n",
       "      <th>hESC</th>\n",
       "      <td>1.000000</td>\n",
       "      <td>0.376325</td>\n",
       "      <td>0.315063</td>\n",
       "      <td>-0.078163</td>\n",
       "      <td>0.028913</td>\n",
       "      <td>-0.559431</td>\n",
       "      <td>-0.126025</td>\n",
       "      <td>0.197789</td>\n",
       "    </tr>\n",
       "    <tr>\n",
       "      <th>APS</th>\n",
       "      <td>0.376325</td>\n",
       "      <td>1.000000</td>\n",
       "      <td>0.922794</td>\n",
       "      <td>0.331635</td>\n",
       "      <td>0.157895</td>\n",
       "      <td>-0.144620</td>\n",
       "      <td>0.217647</td>\n",
       "      <td>0.364308</td>\n",
       "    </tr>\n",
       "    <tr>\n",
       "      <th>MPS</th>\n",
       "      <td>0.315063</td>\n",
       "      <td>0.922794</td>\n",
       "      <td>1.000000</td>\n",
       "      <td>0.331635</td>\n",
       "      <td>0.157895</td>\n",
       "      <td>-0.144620</td>\n",
       "      <td>0.217647</td>\n",
       "      <td>0.364308</td>\n",
       "    </tr>\n",
       "    <tr>\n",
       "      <th>DLL1pPXM</th>\n",
       "      <td>-0.078163</td>\n",
       "      <td>0.331635</td>\n",
       "      <td>0.331635</td>\n",
       "      <td>1.000000</td>\n",
       "      <td>0.478649</td>\n",
       "      <td>0.104945</td>\n",
       "      <td>0.501720</td>\n",
       "      <td>0.582240</td>\n",
       "    </tr>\n",
       "    <tr>\n",
       "      <th>ESMT</th>\n",
       "      <td>0.028913</td>\n",
       "      <td>0.157895</td>\n",
       "      <td>0.157895</td>\n",
       "      <td>0.478649</td>\n",
       "      <td>1.000000</td>\n",
       "      <td>0.279946</td>\n",
       "      <td>0.676520</td>\n",
       "      <td>0.593856</td>\n",
       "    </tr>\n",
       "    <tr>\n",
       "      <th>Sclrtm</th>\n",
       "      <td>-0.559431</td>\n",
       "      <td>-0.144620</td>\n",
       "      <td>-0.144620</td>\n",
       "      <td>0.104945</td>\n",
       "      <td>0.279946</td>\n",
       "      <td>1.000000</td>\n",
       "      <td>0.462785</td>\n",
       "      <td>0.196419</td>\n",
       "    </tr>\n",
       "    <tr>\n",
       "      <th>D5CntrlDrmmtm</th>\n",
       "      <td>-0.126025</td>\n",
       "      <td>0.217647</td>\n",
       "      <td>0.217647</td>\n",
       "      <td>0.501720</td>\n",
       "      <td>0.676520</td>\n",
       "      <td>0.462785</td>\n",
       "      <td>1.000000</td>\n",
       "      <td>0.552215</td>\n",
       "    </tr>\n",
       "    <tr>\n",
       "      <th>D2LtM</th>\n",
       "      <td>0.197789</td>\n",
       "      <td>0.364308</td>\n",
       "      <td>0.364308</td>\n",
       "      <td>0.582240</td>\n",
       "      <td>0.593856</td>\n",
       "      <td>0.196419</td>\n",
       "      <td>0.552215</td>\n",
       "      <td>1.000000</td>\n",
       "    </tr>\n",
       "  </tbody>\n",
       "</table>\n",
       "</div>"
      ],
      "text/plain": [
       "                   hESC       APS       MPS  DLL1pPXM      ESMT    Sclrtm  \\\n",
       "hESC           1.000000  0.376325  0.315063 -0.078163  0.028913 -0.559431   \n",
       "APS            0.376325  1.000000  0.922794  0.331635  0.157895 -0.144620   \n",
       "MPS            0.315063  0.922794  1.000000  0.331635  0.157895 -0.144620   \n",
       "DLL1pPXM      -0.078163  0.331635  0.331635  1.000000  0.478649  0.104945   \n",
       "ESMT           0.028913  0.157895  0.157895  0.478649  1.000000  0.279946   \n",
       "Sclrtm        -0.559431 -0.144620 -0.144620  0.104945  0.279946  1.000000   \n",
       "D5CntrlDrmmtm -0.126025  0.217647  0.217647  0.501720  0.676520  0.462785   \n",
       "D2LtM          0.197789  0.364308  0.364308  0.582240  0.593856  0.196419   \n",
       "\n",
       "               D5CntrlDrmmtm     D2LtM  \n",
       "hESC               -0.126025  0.197789  \n",
       "APS                 0.217647  0.364308  \n",
       "MPS                 0.217647  0.364308  \n",
       "DLL1pPXM            0.501720  0.582240  \n",
       "ESMT                0.676520  0.593856  \n",
       "Sclrtm              0.462785  0.196419  \n",
       "D5CntrlDrmmtm       1.000000  0.552215  \n",
       "D2LtM               0.552215  1.000000  "
      ]
     },
     "execution_count": 43,
     "metadata": {},
     "output_type": "execute_result"
    }
   ],
   "source": [
    "rho.T.corr()"
   ]
  },
  {
   "cell_type": "code",
   "execution_count": 44,
   "metadata": {},
   "outputs": [],
   "source": [
    "#rho.columns[(rho.loc[['hESC','APS','MPS','D2LtM']].sum(axis=0)>0)]"
   ]
  },
  {
   "cell_type": "code",
   "execution_count": null,
   "metadata": {},
   "outputs": [],
   "source": []
  },
  {
   "cell_type": "code",
   "execution_count": 45,
   "metadata": {},
   "outputs": [],
   "source": [
    "#rho_drop=rho.drop(index=['hESC','APS','MPS','D2LtM'])\n",
    "\n",
    "\n",
    "#rho_drop=rho.drop(index=['hESC'])\n",
    "#rho_drop=rho.drop(index=['ESMT','D5CntrlDrmmtm','DLL1pPXM','D2LtM'])\n",
    "#rho_drop.apply(lambda x : np.all(x==1) | np.all(x==0) ,axis=0)"
   ]
  },
  {
   "cell_type": "code",
   "execution_count": 46,
   "metadata": {},
   "outputs": [
    {
     "data": {
      "text/html": [
       "<div>\n",
       "<style scoped>\n",
       "    .dataframe tbody tr th:only-of-type {\n",
       "        vertical-align: middle;\n",
       "    }\n",
       "\n",
       "    .dataframe tbody tr th {\n",
       "        vertical-align: top;\n",
       "    }\n",
       "\n",
       "    .dataframe thead th {\n",
       "        text-align: right;\n",
       "    }\n",
       "</style>\n",
       "<table border=\"1\" class=\"dataframe\">\n",
       "  <thead>\n",
       "    <tr style=\"text-align: right;\">\n",
       "      <th></th>\n",
       "      <th>ENSG00000008311</th>\n",
       "      <th>ENSG00000018625</th>\n",
       "      <th>ENSG00000019549</th>\n",
       "      <th>ENSG00000026025</th>\n",
       "      <th>ENSG00000039068</th>\n",
       "      <th>ENSG00000042493</th>\n",
       "      <th>ENSG00000053438</th>\n",
       "      <th>ENSG00000075340</th>\n",
       "      <th>ENSG00000079102</th>\n",
       "      <th>ENSG00000092068</th>\n",
       "      <th>...</th>\n",
       "      <th>ENSG00000240563</th>\n",
       "      <th>ENSG00000241186</th>\n",
       "      <th>ENSG00000243004</th>\n",
       "      <th>ENSG00000249532</th>\n",
       "      <th>ENSG00000250305</th>\n",
       "      <th>ENSG00000254277</th>\n",
       "      <th>ENSG00000254339</th>\n",
       "      <th>ENSG00000260342</th>\n",
       "      <th>ENSG00000260834</th>\n",
       "      <th>ENSG00000280623</th>\n",
       "    </tr>\n",
       "  </thead>\n",
       "  <tbody>\n",
       "    <tr>\n",
       "      <th>hESC</th>\n",
       "      <td>1</td>\n",
       "      <td>1</td>\n",
       "      <td>0</td>\n",
       "      <td>0</td>\n",
       "      <td>1</td>\n",
       "      <td>1</td>\n",
       "      <td>0</td>\n",
       "      <td>1</td>\n",
       "      <td>1</td>\n",
       "      <td>1</td>\n",
       "      <td>...</td>\n",
       "      <td>1</td>\n",
       "      <td>1</td>\n",
       "      <td>1</td>\n",
       "      <td>1</td>\n",
       "      <td>0</td>\n",
       "      <td>1</td>\n",
       "      <td>1</td>\n",
       "      <td>1</td>\n",
       "      <td>1</td>\n",
       "      <td>0</td>\n",
       "    </tr>\n",
       "    <tr>\n",
       "      <th>APS</th>\n",
       "      <td>0</td>\n",
       "      <td>0</td>\n",
       "      <td>1</td>\n",
       "      <td>0</td>\n",
       "      <td>1</td>\n",
       "      <td>1</td>\n",
       "      <td>0</td>\n",
       "      <td>1</td>\n",
       "      <td>1</td>\n",
       "      <td>1</td>\n",
       "      <td>...</td>\n",
       "      <td>1</td>\n",
       "      <td>1</td>\n",
       "      <td>1</td>\n",
       "      <td>1</td>\n",
       "      <td>1</td>\n",
       "      <td>1</td>\n",
       "      <td>1</td>\n",
       "      <td>1</td>\n",
       "      <td>1</td>\n",
       "      <td>0</td>\n",
       "    </tr>\n",
       "    <tr>\n",
       "      <th>MPS</th>\n",
       "      <td>0</td>\n",
       "      <td>0</td>\n",
       "      <td>1</td>\n",
       "      <td>0</td>\n",
       "      <td>1</td>\n",
       "      <td>1</td>\n",
       "      <td>0</td>\n",
       "      <td>1</td>\n",
       "      <td>1</td>\n",
       "      <td>1</td>\n",
       "      <td>...</td>\n",
       "      <td>1</td>\n",
       "      <td>1</td>\n",
       "      <td>1</td>\n",
       "      <td>1</td>\n",
       "      <td>1</td>\n",
       "      <td>1</td>\n",
       "      <td>1</td>\n",
       "      <td>1</td>\n",
       "      <td>1</td>\n",
       "      <td>1</td>\n",
       "    </tr>\n",
       "    <tr>\n",
       "      <th>DLL1pPXM</th>\n",
       "      <td>0</td>\n",
       "      <td>1</td>\n",
       "      <td>1</td>\n",
       "      <td>1</td>\n",
       "      <td>1</td>\n",
       "      <td>1</td>\n",
       "      <td>0</td>\n",
       "      <td>1</td>\n",
       "      <td>0</td>\n",
       "      <td>1</td>\n",
       "      <td>...</td>\n",
       "      <td>0</td>\n",
       "      <td>0</td>\n",
       "      <td>1</td>\n",
       "      <td>0</td>\n",
       "      <td>1</td>\n",
       "      <td>0</td>\n",
       "      <td>0</td>\n",
       "      <td>1</td>\n",
       "      <td>1</td>\n",
       "      <td>0</td>\n",
       "    </tr>\n",
       "    <tr>\n",
       "      <th>ESMT</th>\n",
       "      <td>0</td>\n",
       "      <td>1</td>\n",
       "      <td>1</td>\n",
       "      <td>1</td>\n",
       "      <td>1</td>\n",
       "      <td>1</td>\n",
       "      <td>1</td>\n",
       "      <td>1</td>\n",
       "      <td>1</td>\n",
       "      <td>1</td>\n",
       "      <td>...</td>\n",
       "      <td>0</td>\n",
       "      <td>0</td>\n",
       "      <td>1</td>\n",
       "      <td>0</td>\n",
       "      <td>1</td>\n",
       "      <td>0</td>\n",
       "      <td>0</td>\n",
       "      <td>1</td>\n",
       "      <td>1</td>\n",
       "      <td>0</td>\n",
       "    </tr>\n",
       "    <tr>\n",
       "      <th>Sclrtm</th>\n",
       "      <td>0</td>\n",
       "      <td>1</td>\n",
       "      <td>1</td>\n",
       "      <td>1</td>\n",
       "      <td>0</td>\n",
       "      <td>0</td>\n",
       "      <td>0</td>\n",
       "      <td>0</td>\n",
       "      <td>1</td>\n",
       "      <td>0</td>\n",
       "      <td>...</td>\n",
       "      <td>0</td>\n",
       "      <td>0</td>\n",
       "      <td>0</td>\n",
       "      <td>0</td>\n",
       "      <td>1</td>\n",
       "      <td>0</td>\n",
       "      <td>0</td>\n",
       "      <td>0</td>\n",
       "      <td>0</td>\n",
       "      <td>0</td>\n",
       "    </tr>\n",
       "    <tr>\n",
       "      <th>D5CntrlDrmmtm</th>\n",
       "      <td>0</td>\n",
       "      <td>1</td>\n",
       "      <td>1</td>\n",
       "      <td>1</td>\n",
       "      <td>0</td>\n",
       "      <td>1</td>\n",
       "      <td>0</td>\n",
       "      <td>1</td>\n",
       "      <td>1</td>\n",
       "      <td>1</td>\n",
       "      <td>...</td>\n",
       "      <td>0</td>\n",
       "      <td>0</td>\n",
       "      <td>0</td>\n",
       "      <td>0</td>\n",
       "      <td>1</td>\n",
       "      <td>0</td>\n",
       "      <td>0</td>\n",
       "      <td>1</td>\n",
       "      <td>1</td>\n",
       "      <td>0</td>\n",
       "    </tr>\n",
       "    <tr>\n",
       "      <th>D2LtM</th>\n",
       "      <td>0</td>\n",
       "      <td>1</td>\n",
       "      <td>1</td>\n",
       "      <td>1</td>\n",
       "      <td>1</td>\n",
       "      <td>1</td>\n",
       "      <td>0</td>\n",
       "      <td>1</td>\n",
       "      <td>1</td>\n",
       "      <td>1</td>\n",
       "      <td>...</td>\n",
       "      <td>0</td>\n",
       "      <td>0</td>\n",
       "      <td>1</td>\n",
       "      <td>0</td>\n",
       "      <td>1</td>\n",
       "      <td>0</td>\n",
       "      <td>0</td>\n",
       "      <td>1</td>\n",
       "      <td>1</td>\n",
       "      <td>0</td>\n",
       "    </tr>\n",
       "  </tbody>\n",
       "</table>\n",
       "<p>8 rows × 84 columns</p>\n",
       "</div>"
      ],
      "text/plain": [
       "               ENSG00000008311  ENSG00000018625  ENSG00000019549  \\\n",
       "hESC                         1                1                0   \n",
       "APS                          0                0                1   \n",
       "MPS                          0                0                1   \n",
       "DLL1pPXM                     0                1                1   \n",
       "ESMT                         0                1                1   \n",
       "Sclrtm                       0                1                1   \n",
       "D5CntrlDrmmtm                0                1                1   \n",
       "D2LtM                        0                1                1   \n",
       "\n",
       "               ENSG00000026025  ENSG00000039068  ENSG00000042493  \\\n",
       "hESC                         0                1                1   \n",
       "APS                          0                1                1   \n",
       "MPS                          0                1                1   \n",
       "DLL1pPXM                     1                1                1   \n",
       "ESMT                         1                1                1   \n",
       "Sclrtm                       1                0                0   \n",
       "D5CntrlDrmmtm                1                0                1   \n",
       "D2LtM                        1                1                1   \n",
       "\n",
       "               ENSG00000053438  ENSG00000075340  ENSG00000079102  \\\n",
       "hESC                         0                1                1   \n",
       "APS                          0                1                1   \n",
       "MPS                          0                1                1   \n",
       "DLL1pPXM                     0                1                0   \n",
       "ESMT                         1                1                1   \n",
       "Sclrtm                       0                0                1   \n",
       "D5CntrlDrmmtm                0                1                1   \n",
       "D2LtM                        0                1                1   \n",
       "\n",
       "               ENSG00000092068  ...  ENSG00000240563  ENSG00000241186  \\\n",
       "hESC                         1  ...                1                1   \n",
       "APS                          1  ...                1                1   \n",
       "MPS                          1  ...                1                1   \n",
       "DLL1pPXM                     1  ...                0                0   \n",
       "ESMT                         1  ...                0                0   \n",
       "Sclrtm                       0  ...                0                0   \n",
       "D5CntrlDrmmtm                1  ...                0                0   \n",
       "D2LtM                        1  ...                0                0   \n",
       "\n",
       "               ENSG00000243004  ENSG00000249532  ENSG00000250305  \\\n",
       "hESC                         1                1                0   \n",
       "APS                          1                1                1   \n",
       "MPS                          1                1                1   \n",
       "DLL1pPXM                     1                0                1   \n",
       "ESMT                         1                0                1   \n",
       "Sclrtm                       0                0                1   \n",
       "D5CntrlDrmmtm                0                0                1   \n",
       "D2LtM                        1                0                1   \n",
       "\n",
       "               ENSG00000254277  ENSG00000254339  ENSG00000260342  \\\n",
       "hESC                         1                1                1   \n",
       "APS                          1                1                1   \n",
       "MPS                          1                1                1   \n",
       "DLL1pPXM                     0                0                1   \n",
       "ESMT                         0                0                1   \n",
       "Sclrtm                       0                0                0   \n",
       "D5CntrlDrmmtm                0                0                1   \n",
       "D2LtM                        0                0                1   \n",
       "\n",
       "               ENSG00000260834  ENSG00000280623  \n",
       "hESC                         1                0  \n",
       "APS                          1                0  \n",
       "MPS                          1                1  \n",
       "DLL1pPXM                     1                0  \n",
       "ESMT                         1                0  \n",
       "Sclrtm                       0                0  \n",
       "D5CntrlDrmmtm                1                0  \n",
       "D2LtM                        1                0  \n",
       "\n",
       "[8 rows x 84 columns]"
      ]
     },
     "execution_count": 46,
     "metadata": {},
     "output_type": "execute_result"
    }
   ],
   "source": [
    "rho"
   ]
  },
  {
   "cell_type": "code",
   "execution_count": 47,
   "metadata": {},
   "outputs": [],
   "source": [
    "rho_drop=rho.drop(index=['hESC','APS'],columns=rho.columns[(rho.loc[['hESC','APS']].sum(axis=0)>0)])"
   ]
  },
  {
   "cell_type": "code",
   "execution_count": 48,
   "metadata": {},
   "outputs": [
    {
     "data": {
      "text/html": [
       "<div>\n",
       "<style scoped>\n",
       "    .dataframe tbody tr th:only-of-type {\n",
       "        vertical-align: middle;\n",
       "    }\n",
       "\n",
       "    .dataframe tbody tr th {\n",
       "        vertical-align: top;\n",
       "    }\n",
       "\n",
       "    .dataframe thead th {\n",
       "        text-align: right;\n",
       "    }\n",
       "</style>\n",
       "<table border=\"1\" class=\"dataframe\">\n",
       "  <thead>\n",
       "    <tr style=\"text-align: right;\">\n",
       "      <th></th>\n",
       "      <th>ENSG00000026025</th>\n",
       "      <th>ENSG00000053438</th>\n",
       "      <th>ENSG00000132669</th>\n",
       "      <th>ENSG00000137831</th>\n",
       "      <th>ENSG00000137868</th>\n",
       "      <th>ENSG00000138061</th>\n",
       "      <th>ENSG00000141449</th>\n",
       "      <th>ENSG00000147010</th>\n",
       "      <th>ENSG00000169122</th>\n",
       "      <th>ENSG00000181744</th>\n",
       "      <th>ENSG00000185920</th>\n",
       "      <th>ENSG00000197461</th>\n",
       "      <th>ENSG00000280623</th>\n",
       "    </tr>\n",
       "  </thead>\n",
       "  <tbody>\n",
       "    <tr>\n",
       "      <th>MPS</th>\n",
       "      <td>0</td>\n",
       "      <td>0</td>\n",
       "      <td>0</td>\n",
       "      <td>0</td>\n",
       "      <td>0</td>\n",
       "      <td>0</td>\n",
       "      <td>0</td>\n",
       "      <td>0</td>\n",
       "      <td>0</td>\n",
       "      <td>0</td>\n",
       "      <td>0</td>\n",
       "      <td>0</td>\n",
       "      <td>1</td>\n",
       "    </tr>\n",
       "    <tr>\n",
       "      <th>DLL1pPXM</th>\n",
       "      <td>1</td>\n",
       "      <td>0</td>\n",
       "      <td>1</td>\n",
       "      <td>0</td>\n",
       "      <td>1</td>\n",
       "      <td>0</td>\n",
       "      <td>1</td>\n",
       "      <td>1</td>\n",
       "      <td>0</td>\n",
       "      <td>0</td>\n",
       "      <td>1</td>\n",
       "      <td>0</td>\n",
       "      <td>0</td>\n",
       "    </tr>\n",
       "    <tr>\n",
       "      <th>ESMT</th>\n",
       "      <td>1</td>\n",
       "      <td>1</td>\n",
       "      <td>1</td>\n",
       "      <td>0</td>\n",
       "      <td>0</td>\n",
       "      <td>1</td>\n",
       "      <td>1</td>\n",
       "      <td>0</td>\n",
       "      <td>0</td>\n",
       "      <td>0</td>\n",
       "      <td>1</td>\n",
       "      <td>1</td>\n",
       "      <td>0</td>\n",
       "    </tr>\n",
       "    <tr>\n",
       "      <th>Sclrtm</th>\n",
       "      <td>1</td>\n",
       "      <td>0</td>\n",
       "      <td>1</td>\n",
       "      <td>1</td>\n",
       "      <td>0</td>\n",
       "      <td>1</td>\n",
       "      <td>1</td>\n",
       "      <td>0</td>\n",
       "      <td>1</td>\n",
       "      <td>0</td>\n",
       "      <td>1</td>\n",
       "      <td>0</td>\n",
       "      <td>0</td>\n",
       "    </tr>\n",
       "    <tr>\n",
       "      <th>D5CntrlDrmmtm</th>\n",
       "      <td>1</td>\n",
       "      <td>0</td>\n",
       "      <td>1</td>\n",
       "      <td>0</td>\n",
       "      <td>0</td>\n",
       "      <td>1</td>\n",
       "      <td>1</td>\n",
       "      <td>0</td>\n",
       "      <td>0</td>\n",
       "      <td>0</td>\n",
       "      <td>1</td>\n",
       "      <td>0</td>\n",
       "      <td>0</td>\n",
       "    </tr>\n",
       "    <tr>\n",
       "      <th>D2LtM</th>\n",
       "      <td>1</td>\n",
       "      <td>0</td>\n",
       "      <td>1</td>\n",
       "      <td>0</td>\n",
       "      <td>0</td>\n",
       "      <td>0</td>\n",
       "      <td>1</td>\n",
       "      <td>0</td>\n",
       "      <td>0</td>\n",
       "      <td>1</td>\n",
       "      <td>1</td>\n",
       "      <td>0</td>\n",
       "      <td>0</td>\n",
       "    </tr>\n",
       "  </tbody>\n",
       "</table>\n",
       "</div>"
      ],
      "text/plain": [
       "               ENSG00000026025  ENSG00000053438  ENSG00000132669  \\\n",
       "MPS                          0                0                0   \n",
       "DLL1pPXM                     1                0                1   \n",
       "ESMT                         1                1                1   \n",
       "Sclrtm                       1                0                1   \n",
       "D5CntrlDrmmtm                1                0                1   \n",
       "D2LtM                        1                0                1   \n",
       "\n",
       "               ENSG00000137831  ENSG00000137868  ENSG00000138061  \\\n",
       "MPS                          0                0                0   \n",
       "DLL1pPXM                     0                1                0   \n",
       "ESMT                         0                0                1   \n",
       "Sclrtm                       1                0                1   \n",
       "D5CntrlDrmmtm                0                0                1   \n",
       "D2LtM                        0                0                0   \n",
       "\n",
       "               ENSG00000141449  ENSG00000147010  ENSG00000169122  \\\n",
       "MPS                          0                0                0   \n",
       "DLL1pPXM                     1                1                0   \n",
       "ESMT                         1                0                0   \n",
       "Sclrtm                       1                0                1   \n",
       "D5CntrlDrmmtm                1                0                0   \n",
       "D2LtM                        1                0                0   \n",
       "\n",
       "               ENSG00000181744  ENSG00000185920  ENSG00000197461  \\\n",
       "MPS                          0                0                0   \n",
       "DLL1pPXM                     0                1                0   \n",
       "ESMT                         0                1                1   \n",
       "Sclrtm                       0                1                0   \n",
       "D5CntrlDrmmtm                0                1                0   \n",
       "D2LtM                        1                1                0   \n",
       "\n",
       "               ENSG00000280623  \n",
       "MPS                          1  \n",
       "DLL1pPXM                     0  \n",
       "ESMT                         0  \n",
       "Sclrtm                       0  \n",
       "D5CntrlDrmmtm                0  \n",
       "D2LtM                        0  "
      ]
     },
     "execution_count": 48,
     "metadata": {},
     "output_type": "execute_result"
    }
   ],
   "source": [
    "rho_drop"
   ]
  },
  {
   "cell_type": "code",
   "execution_count": 49,
   "metadata": {},
   "outputs": [
    {
     "data": {
      "text/plain": [
       "(6, 13)"
      ]
     },
     "execution_count": 49,
     "metadata": {},
     "output_type": "execute_result"
    }
   ],
   "source": [
    "rho_drop.shape"
   ]
  },
  {
   "cell_type": "code",
   "execution_count": 50,
   "metadata": {},
   "outputs": [
    {
     "data": {
      "text/html": [
       "<div>\n",
       "<style scoped>\n",
       "    .dataframe tbody tr th:only-of-type {\n",
       "        vertical-align: middle;\n",
       "    }\n",
       "\n",
       "    .dataframe tbody tr th {\n",
       "        vertical-align: top;\n",
       "    }\n",
       "\n",
       "    .dataframe thead th {\n",
       "        text-align: right;\n",
       "    }\n",
       "</style>\n",
       "<table border=\"1\" class=\"dataframe\">\n",
       "  <thead>\n",
       "    <tr style=\"text-align: right;\">\n",
       "      <th></th>\n",
       "      <th>ENSG00000026025</th>\n",
       "      <th>ENSG00000053438</th>\n",
       "      <th>ENSG00000132669</th>\n",
       "      <th>ENSG00000137831</th>\n",
       "      <th>ENSG00000137868</th>\n",
       "      <th>ENSG00000138061</th>\n",
       "      <th>ENSG00000141449</th>\n",
       "      <th>ENSG00000147010</th>\n",
       "      <th>ENSG00000169122</th>\n",
       "      <th>ENSG00000181744</th>\n",
       "      <th>ENSG00000185920</th>\n",
       "      <th>ENSG00000197461</th>\n",
       "      <th>ENSG00000280623</th>\n",
       "    </tr>\n",
       "  </thead>\n",
       "  <tbody>\n",
       "    <tr>\n",
       "      <th>MPS</th>\n",
       "      <td>0</td>\n",
       "      <td>0</td>\n",
       "      <td>0</td>\n",
       "      <td>0</td>\n",
       "      <td>0</td>\n",
       "      <td>0</td>\n",
       "      <td>0</td>\n",
       "      <td>0</td>\n",
       "      <td>0</td>\n",
       "      <td>0</td>\n",
       "      <td>0</td>\n",
       "      <td>0</td>\n",
       "      <td>1</td>\n",
       "    </tr>\n",
       "    <tr>\n",
       "      <th>DLL1pPXM</th>\n",
       "      <td>1</td>\n",
       "      <td>0</td>\n",
       "      <td>1</td>\n",
       "      <td>0</td>\n",
       "      <td>1</td>\n",
       "      <td>0</td>\n",
       "      <td>1</td>\n",
       "      <td>1</td>\n",
       "      <td>0</td>\n",
       "      <td>0</td>\n",
       "      <td>1</td>\n",
       "      <td>0</td>\n",
       "      <td>0</td>\n",
       "    </tr>\n",
       "    <tr>\n",
       "      <th>ESMT</th>\n",
       "      <td>1</td>\n",
       "      <td>1</td>\n",
       "      <td>1</td>\n",
       "      <td>0</td>\n",
       "      <td>0</td>\n",
       "      <td>1</td>\n",
       "      <td>1</td>\n",
       "      <td>0</td>\n",
       "      <td>0</td>\n",
       "      <td>0</td>\n",
       "      <td>1</td>\n",
       "      <td>1</td>\n",
       "      <td>0</td>\n",
       "    </tr>\n",
       "    <tr>\n",
       "      <th>Sclrtm</th>\n",
       "      <td>1</td>\n",
       "      <td>0</td>\n",
       "      <td>1</td>\n",
       "      <td>1</td>\n",
       "      <td>0</td>\n",
       "      <td>1</td>\n",
       "      <td>1</td>\n",
       "      <td>0</td>\n",
       "      <td>1</td>\n",
       "      <td>0</td>\n",
       "      <td>1</td>\n",
       "      <td>0</td>\n",
       "      <td>0</td>\n",
       "    </tr>\n",
       "    <tr>\n",
       "      <th>D5CntrlDrmmtm</th>\n",
       "      <td>1</td>\n",
       "      <td>0</td>\n",
       "      <td>1</td>\n",
       "      <td>0</td>\n",
       "      <td>0</td>\n",
       "      <td>1</td>\n",
       "      <td>1</td>\n",
       "      <td>0</td>\n",
       "      <td>0</td>\n",
       "      <td>0</td>\n",
       "      <td>1</td>\n",
       "      <td>0</td>\n",
       "      <td>0</td>\n",
       "    </tr>\n",
       "    <tr>\n",
       "      <th>D2LtM</th>\n",
       "      <td>1</td>\n",
       "      <td>0</td>\n",
       "      <td>1</td>\n",
       "      <td>0</td>\n",
       "      <td>0</td>\n",
       "      <td>0</td>\n",
       "      <td>1</td>\n",
       "      <td>0</td>\n",
       "      <td>0</td>\n",
       "      <td>1</td>\n",
       "      <td>1</td>\n",
       "      <td>0</td>\n",
       "      <td>0</td>\n",
       "    </tr>\n",
       "  </tbody>\n",
       "</table>\n",
       "</div>"
      ],
      "text/plain": [
       "               ENSG00000026025  ENSG00000053438  ENSG00000132669  \\\n",
       "MPS                          0                0                0   \n",
       "DLL1pPXM                     1                0                1   \n",
       "ESMT                         1                1                1   \n",
       "Sclrtm                       1                0                1   \n",
       "D5CntrlDrmmtm                1                0                1   \n",
       "D2LtM                        1                0                1   \n",
       "\n",
       "               ENSG00000137831  ENSG00000137868  ENSG00000138061  \\\n",
       "MPS                          0                0                0   \n",
       "DLL1pPXM                     0                1                0   \n",
       "ESMT                         0                0                1   \n",
       "Sclrtm                       1                0                1   \n",
       "D5CntrlDrmmtm                0                0                1   \n",
       "D2LtM                        0                0                0   \n",
       "\n",
       "               ENSG00000141449  ENSG00000147010  ENSG00000169122  \\\n",
       "MPS                          0                0                0   \n",
       "DLL1pPXM                     1                1                0   \n",
       "ESMT                         1                0                0   \n",
       "Sclrtm                       1                0                1   \n",
       "D5CntrlDrmmtm                1                0                0   \n",
       "D2LtM                        1                0                0   \n",
       "\n",
       "               ENSG00000181744  ENSG00000185920  ENSG00000197461  \\\n",
       "MPS                          0                0                0   \n",
       "DLL1pPXM                     0                1                0   \n",
       "ESMT                         0                1                1   \n",
       "Sclrtm                       0                1                0   \n",
       "D5CntrlDrmmtm                0                1                0   \n",
       "D2LtM                        1                1                0   \n",
       "\n",
       "               ENSG00000280623  \n",
       "MPS                          1  \n",
       "DLL1pPXM                     0  \n",
       "ESMT                         0  \n",
       "Sclrtm                       0  \n",
       "D5CntrlDrmmtm                0  \n",
       "D2LtM                        0  "
      ]
     },
     "execution_count": 50,
     "metadata": {},
     "output_type": "execute_result"
    }
   ],
   "source": [
    "rho_drop=rho_drop.iloc[:,~rho_drop.apply(lambda x : np.all(x==1) | np.all(x==0) ,axis=0).values]\n",
    "rho_drop"
   ]
  },
  {
   "cell_type": "code",
   "execution_count": 51,
   "metadata": {},
   "outputs": [
    {
     "data": {
      "text/plain": [
       "(6, 13)"
      ]
     },
     "execution_count": 51,
     "metadata": {},
     "output_type": "execute_result"
    }
   ],
   "source": [
    "rho_drop.shape"
   ]
  },
  {
   "cell_type": "code",
   "execution_count": 52,
   "metadata": {},
   "outputs": [
    {
     "data": {
      "text/plain": [
       "(446, 13)"
      ]
     },
     "execution_count": 52,
     "metadata": {},
     "output_type": "execute_result"
    }
   ],
   "source": [
    "Y=exp_data[list(map(lambda x: exp_data_row.index(x),rho_drop.columns))].transpose().astype(float)\n",
    "Y.shape"
   ]
  },
  {
   "cell_type": "code",
   "execution_count": 53,
   "metadata": {},
   "outputs": [],
   "source": [
    "device=device_cuda_list[3]#\n",
    "\n",
    "model=Custom_Model(Y,rho_drop.values,X_col=X.shape[1],delta_min=2,LOWER_BOUND=LOWER_BOUND,THETA_LOWER_BOUND=THETA_LOWER_BOUND).to(device)\n",
    "optimizer = optim.Adamax(model.parameters(),lr=LR)#,betas=(0.92, 0.999))\n",
    "\n",
    "\n",
    "cell_dataset=Cell_Dataset(Y,X,s)\n",
    "cell_dataloader=DataLoader(dataset=cell_dataset,shuffle=False,batch_size=BATCH_SIZE,num_workers=NUM_WORKERS)"
   ]
  },
  {
   "cell_type": "code",
   "execution_count": 54,
   "metadata": {},
   "outputs": [
    {
     "name": "stdout",
     "output_type": "stream",
     "text": [
      "Start time: 2020-05-26 13:50:18\n",
      "tensor(-4327824.3003, device='cuda:2')\n",
      "tensor(4327825.2518, device='cuda:2')\n",
      "M: 0, Q: 4327825.251813954 Q_diff: 0.0\n",
      "M: 20, Q: 1761433.0336995223 Q_diff: 0.5929981154019008\n",
      "M: 40, Q: 1557512.0557904062 Q_diff: 0.11576992937439276\n",
      "M: 60, Q: 1419645.691007573 Q_diff: 0.08851704503363786\n",
      "M: 80, Q: 1331180.0210401528 Q_diff: 0.062315316087518245\n",
      "M: 100, Q: 1273116.2503717097 Q_diff: 0.04361827082040594\n",
      "M: 120, Q: 1236665.4545772416 Q_diff: 0.028631160574555278\n",
      "M: 140, Q: 1214525.9470701006 Q_diff: 0.017902584264156914\n",
      "M: 160, Q: 1200875.4384086384 Q_diff: 0.011239371784845319\n",
      "M: 180, Q: 1192442.5840584864 Q_diff: 0.0070222556648563885\n",
      "M: 200, Q: 1186655.4261856284 Q_diff: 0.004853196246280773\n",
      "M: 220, Q: 1183628.583456587 Q_diff: 0.0025507343262827368\n",
      "M: 240, Q: 1181624.7936043176 Q_diff: 0.0016929211412060785\n",
      "M: 260, Q: 1180023.7104505715 Q_diff: 0.0013549843930257225\n",
      "M: 280, Q: 1178715.8457049248 Q_diff: 0.001108337683441403\n",
      "M: 300, Q: 1177635.2752398266 Q_diff: 0.0009167353345045648\n",
      "M: 320, Q: 1176732.5306226704 Q_diff: 0.0007665740285950366\n",
      "M: 340, Q: 1175971.1736511 Q_diff: 0.0006470093685330938\n",
      "M: 360, Q: 1175368.353751132 Q_diff: 0.0005126145210653972\n",
      "M: 380, Q: 1175013.3689872536 Q_diff: 0.0003020200116376119\n",
      "M: 400, Q: 1174837.6467627771 Q_diff: 0.00014954912779245204\n",
      "M: 420, Q: 1174764.7899168746 Q_diff: 6.201439501301841e-05\n",
      "M break\n",
      "EM: 0, LL: -1013340.1473458918 LL_diff: 0.7658546010603517\n",
      "M: 0, Q: 1013340.148418815 Q_diff: 0.13741018021955007\n",
      "M: 20, Q: 872327.9913150674 Q_diff: 0.1391557981037055\n",
      "M: 40, Q: 861051.2525227956 Q_diff: 0.012927177511834406\n",
      "M: 60, Q: 858784.4712271651 Q_diff: 0.002632574180676298\n",
      "M: 80, Q: 858258.6383413086 Q_diff: 0.0006122990150312283\n",
      "M: 100, Q: 858108.3306937849 Q_diff: 0.00017513094632428197\n",
      "M: 120, Q: 858055.9084070597 Q_diff: 6.109052301444703e-05\n",
      "M break\n",
      "EM: 1, LL: -783882.4533460187 LL_diff: 0.22643699117306404\n",
      "M: 0, Q: 783882.4533465385 Q_diff: 0.08644361554274567\n",
      "M: 20, Q: 744884.9127035139 Q_diff: 0.04974922002213078\n",
      "M: 40, Q: 739584.2318567862 Q_diff: 0.007116107141288701\n",
      "M: 60, Q: 738606.0096229329 Q_diff: 0.0013226650754808505\n",
      "M: 80, Q: 738382.8722005148 Q_diff: 0.00030210615607097446\n",
      "M: 100, Q: 738318.9166930299 Q_diff: 8.661564331015391e-05\n",
      "M break\n",
      "EM: 2, LL: -721538.239920977 LL_diff: 0.0795326048681458\n",
      "M: 0, Q: 721538.2400705942 Q_diff: 0.022728222510669555\n",
      "M: 20, Q: 713614.9381968805 Q_diff: 0.010981125370345622\n",
      "M: 40, Q: 713007.6309035136 Q_diff: 0.0008510294009559012\n",
      "M: 60, Q: 712915.7076963028 Q_diff: 0.00012892317448883215\n",
      "M: 80, Q: 712888.4608790979 Q_diff: 3.8218848190220234e-05\n",
      "M break\n",
      "EM: 3, LL: -711077.7876105981 LL_diff: 0.014497433027977182\n",
      "M: 0, Q: 711078.0980839566 Q_diff: 0.0025394755203483658\n",
      "M: 20, Q: 710221.1461363363 Q_diff: 0.0012051446246614552\n",
      "M: 40, Q: 710050.073596573 Q_diff: 0.00024087221380825048\n",
      "M: 60, Q: 710009.926542839 Q_diff: 5.654115847151359e-05\n",
      "M break\n",
      "EM: 4, LL: -709762.6841472816 LL_diff: 0.0018494509127273552\n",
      "M: 0, Q: 709762.6841473139 Q_diff: 0.0003482238575578311\n",
      "M: 20, Q: 709702.242559085 Q_diff: 8.515746118934142e-05\n",
      "M break\n",
      "EM: 5, LL: -709700.2782763718 LL_diff: 8.792498155179554e-05\n",
      "EM break\n",
      "End time: 2020-05-26 13:50:21\n"
     ]
    },
    {
     "data": {
      "text/plain": [
       "(tensor([[ 0.0000e+00,  0.0000e+00,  0.0000e+00,  0.0000e+00,  0.0000e+00,\n",
       "           1.0000e+00],\n",
       "         [ 0.0000e+00,  0.0000e+00,  0.0000e+00,  0.0000e+00,  0.0000e+00,\n",
       "           1.0000e+00],\n",
       "         [ 0.0000e+00, 1.5773e-218,  0.0000e+00,  0.0000e+00,  0.0000e+00,\n",
       "           1.0000e+00],\n",
       "         ...,\n",
       "         [ 0.0000e+00, 1.9192e-163,  0.0000e+00,  0.0000e+00,  0.0000e+00,\n",
       "           1.0000e+00],\n",
       "         [ 0.0000e+00,  0.0000e+00,  0.0000e+00,  0.0000e+00,  0.0000e+00,\n",
       "           1.0000e+00],\n",
       "         [ 0.0000e+00,  0.0000e+00,  0.0000e+00,  0.0000e+00,  0.0000e+00,\n",
       "           1.0000e+00]], device='cuda:2'),\n",
       " tensor(709702.2426, device='cuda:2', grad_fn=<NegBackward>),\n",
       " tensor(-709700.2783, device='cuda:2'))"
      ]
     },
     "execution_count": 54,
     "metadata": {},
     "output_type": "execute_result"
    }
   ],
   "source": [
    "run_EM(model,optimizer,LL_diff_tolerance=LL_diff_tolerance,Q_diff_tolerance=Q_diff_tolerance)"
   ]
  },
  {
   "cell_type": "code",
   "execution_count": 55,
   "metadata": {},
   "outputs": [
    {
     "data": {
      "text/plain": [
       "(array([0, 1, 2, 3, 4, 5]), array([ 23, 123,  42,  64,  42, 152]))"
      ]
     },
     "execution_count": 55,
     "metadata": {},
     "output_type": "execute_result"
    },
    {
     "data": {
      "image/png": "[encoded data removed]",
      "text/plain": [
       "<Figure size 1080x1080 with 1 Axes>"
      ]
     },
     "metadata": {
      "needs_background": "light"
     },
     "output_type": "display_data"
    }
   ],
   "source": [
    "import seaborn as sns\n",
    "\n",
    "plt.rcParams[\"figure.figsize\"] = (15,15)\n",
    "plt.rcParams[\"font.size\"] = 15\n",
    "plt.rcParams['font.family']='Arial'\n",
    "\n",
    "\n",
    "plot_value=np.argmax(gamma_new.cpu().numpy(),axis=1)\n",
    "\n",
    "sns.scatterplot(x=\"tSNE_1\", y=\"tSNE_2\",hue=plot_value,style=np.array((list(range(0,2))*30))[plot_value],\n",
    "                data=exp_data_meta,s=40,palette=plt.cm.rainbow)#,linewidth=0.3)\n",
    "\n",
    "np.unique(plot_value,return_counts=True)"
   ]
  },
  {
   "cell_type": "code",
   "execution_count": 56,
   "metadata": {},
   "outputs": [
    {
     "name": "stdout",
     "output_type": "stream",
     "text": [
      "4800"
     ]
    }
   ],
   "source": [
    "import statsmodels.api as sm\n",
    "import sys\n",
    "\n",
    "label=np.argmax(gamma_new.cpu().numpy(),axis=1)\n",
    "label=list(map(lambda x: np.unique(label,return_counts=True)[0].tolist().index(x),label))\n",
    "\n",
    "#exp_data_col_patient=pd.Series(exp_data_col).str.slice(start=1,stop=2).astype(int).values\n",
    "#x_data_covariate=np.eye(len(np.unique(exp_data_col_patient)))[exp_data_col_patient-1]\n",
    "x_data_intercept=np.array([np.ones(Y.shape[0])]).transpose()\n",
    "x_data_null=np.concatenate([x_data_intercept],axis=1)\n",
    "x_data_null_test=np.concatenate([x_data_intercept,np.eye(max(label)+1)[label]],axis=1)\n",
    "x_data_null_test=x_data_null_test[:,:-1]\n",
    "\n",
    "family=sm.families.Poisson(link=sm.families.links.log())\n",
    "\n",
    "data_list=[]\n",
    "data_list_=[]\n",
    "for exp_data_row_idx in range(exp_data.shape[0]):\n",
    "    if exp_data_row_idx%100==0:\n",
    "        sys.stdout.write('\\r{}'.format(exp_data_row_idx))\n",
    "    y_data=exp_data[exp_data_row_idx,:]\n",
    "    \n",
    "    model=sm.GLM(y_data,x_data_null_test,family=family)\n",
    "    model_result=model.fit()\n",
    "    \n",
    "    model_=sm.GLM(y_data,x_data_null,family=family)\n",
    "    model_result_=model_.fit()\n",
    "    \n",
    "    data_list.append({\n",
    "        'llf':model_result.llf,\n",
    "        'deviance':model_result.deviance,\n",
    "        'pearson_chi2':model_result.pearson_chi2,\n",
    "        'llnull':model_result.llnull,\n",
    "        'null_deviance':model_result.null_deviance\n",
    "    })\n",
    "    \n",
    "    data_list_.append({\n",
    "        'llf':model_result_.llf,\n",
    "        'deviance':model_result_.deviance,\n",
    "        'pearson_chi2':model_result_.pearson_chi2,\n",
    "        'llnull':model_result_.llnull,\n",
    "        'null_deviance':model_result_.null_deviance\n",
    "    })    \n",
    "    \n",
    "    #ll_list.append([model_result.llf,model_result.deviance,model_result.pearson_chi2])\n",
    "#model_result.llf,model_result.llnull,model_result.null_deviance,model_result.null"
   ]
  },
  {
   "cell_type": "code",
   "execution_count": 57,
   "metadata": {},
   "outputs": [],
   "source": [
    "data_full=pd.DataFrame(data_list)\n",
    "data_null=pd.DataFrame(data_list_)"
   ]
  },
  {
   "cell_type": "code",
   "execution_count": 58,
   "metadata": {},
   "outputs": [
    {
     "data": {
      "text/plain": [
       "1"
      ]
     },
     "execution_count": 58,
     "metadata": {},
     "output_type": "execute_result"
    }
   ],
   "source": [
    "np.sum(np.argmax(gamma_new.cpu().numpy(),axis=1)==exp_data_meta_clusterid_clusteridunique)"
   ]
  },
  {
   "cell_type": "code",
   "execution_count": 59,
   "metadata": {},
   "outputs": [
    {
     "data": {
      "text/plain": [
       "(6, 13)"
      ]
     },
     "execution_count": 59,
     "metadata": {},
     "output_type": "execute_result"
    }
   ],
   "source": [
    "rho_drop.shape"
   ]
  },
  {
   "cell_type": "code",
   "execution_count": 60,
   "metadata": {},
   "outputs": [],
   "source": [
    "marker_unique_exp_data_idx=list(map(lambda x: exp_data_row.index(x), rho.columns))\n",
    "marker_unique_exp_data_idx_bool=np.array(list(map(lambda x: x in marker_unique_exp_data_idx, np.arange(exp_data.shape[0]))))\n",
    "\n",
    "marker_unique_exp_data_idx_drop=list(map(lambda x: exp_data_row.index(x), rho_drop.columns))\n",
    "marker_unique_exp_data_idx_bool_drop=np.array(list(map(lambda x: x in marker_unique_exp_data_idx_drop, np.arange(exp_data.shape[0]))))"
   ]
  },
  {
   "cell_type": "markdown",
   "metadata": {},
   "source": [
    "## deviance of null model"
   ]
  },
  {
   "cell_type": "code",
   "execution_count": 61,
   "metadata": {},
   "outputs": [
    {
     "data": {
      "image/png": "[encoded data removed]",
      "text/plain": [
       "<Figure size 1080x1080 with 1 Axes>"
      ]
     },
     "metadata": {
      "needs_background": "light"
     },
     "output_type": "display_data"
    },
    {
     "data": {
      "text/plain": [
       "\"\\ndata_full['null_deviance'][marker_unique_exp_data_idx_bool].hist(alpha=0.5,density=True)\\ndata_full['null_deviance'][~marker_unique_exp_data_idx_bool].hist(bins=50,alpha=0.5,density=True)\\n\\ndata_full['deviance'][marker_unique_exp_data_idx_bool].hist(alpha=0.5,density=True)\\ndata_full['deviance'][~marker_unique_exp_data_idx_bool].hist(bins=50,alpha=0.5,density=True)\\n\""
      ]
     },
     "execution_count": 61,
     "metadata": {},
     "output_type": "execute_result"
    }
   ],
   "source": [
    "plt.hist(\n",
    "    x=[\n",
    "        np.log10(data_full['null_deviance'])[marker_unique_exp_data_idx_bool].repeat(10),# np.sum(~marker_unique_exp_data_idx_bool)/np.sum(marker_unique_exp_data_idx_bool) ),\n",
    "        np.log10(data_full['null_deviance'])[~marker_unique_exp_data_idx_bool],\n",
    "    ],\n",
    "    bins=30,\n",
    "    histtype='barstacked',\n",
    "    color=['blue','grey'],\n",
    "    alpha=0.7\n",
    ")\n",
    "plt.hist(\n",
    "    x=np.log10(data_full['null_deviance'])[pd.Index(marker_unique_exp_data_idx).difference(pd.Index(marker_unique_exp_data_idx_drop))].repeat(50),\n",
    "    bins=20,\n",
    "    alpha=0.3,\n",
    "    color='white',\n",
    "    edgecolor='black',\n",
    "    linewidth=3\n",
    ")\n",
    "plt.show()\n",
    "\n",
    "\"\"\"\n",
    "data_full['null_deviance'][marker_unique_exp_data_idx_bool].hist(alpha=0.5,density=True)\n",
    "data_full['null_deviance'][~marker_unique_exp_data_idx_bool].hist(bins=50,alpha=0.5,density=True)\n",
    "\n",
    "data_full['deviance'][marker_unique_exp_data_idx_bool].hist(alpha=0.5,density=True)\n",
    "data_full['deviance'][~marker_unique_exp_data_idx_bool].hist(bins=50,alpha=0.5,density=True)\n",
    "\"\"\""
   ]
  },
  {
   "cell_type": "markdown",
   "metadata": {},
   "source": [
    "## deviance of full model"
   ]
  },
  {
   "cell_type": "code",
   "execution_count": 62,
   "metadata": {},
   "outputs": [
    {
     "data": {
      "image/png": "[encoded data removed]",
      "text/plain": [
       "<Figure size 1080x1080 with 1 Axes>"
      ]
     },
     "metadata": {
      "needs_background": "light"
     },
     "output_type": "display_data"
    }
   ],
   "source": [
    "plt.hist(\n",
    "    x=[\n",
    "        np.log10(data_full['deviance'])[marker_unique_exp_data_idx_bool].repeat(10),# np.sum(~marker_unique_exp_data_idx_bool)/np.sum(marker_unique_exp_data_idx_bool) ),\n",
    "        np.log10(data_full['deviance'])[~marker_unique_exp_data_idx_bool],\n",
    "    ],\n",
    "    bins=30, \n",
    "    histtype='barstacked',\n",
    "    color=['blue','grey'],\n",
    "    alpha=0.7    \n",
    "    \n",
    ")\n",
    "plt.hist(\n",
    "    np.log10(data_full['deviance'])[pd.Index(marker_unique_exp_data_idx).difference(pd.Index(marker_unique_exp_data_idx_drop))].repeat(50),\n",
    "    bins=20,\n",
    "    alpha=0.3,\n",
    "    color='white',\n",
    "    edgecolor='black',\n",
    "    linewidth=3\n",
    ")\n",
    "plt.show()"
   ]
  },
  {
   "cell_type": "markdown",
   "metadata": {},
   "source": [
    "# 3. Case of lost types and markers + 5 redundant clusters"
   ]
  },
  {
   "cell_type": "code",
   "execution_count": 63,
   "metadata": {},
   "outputs": [],
   "source": [
    "def run_EM_(model,optimizer,LL_diff_tolerance,Q_diff_tolerance):\n",
    "    global gamma_new,Q_new,LL_new\n",
    "    \n",
    "    print('Start time:',datetime.datetime.now().strftime('%Y-%m-%d %H:%M:%S'))\n",
    "    \n",
    "    with torch.no_grad():\n",
    "        for batch_idx,batch in enumerate(cell_dataloader):\n",
    "            batch_Y=batch['Y'].to(device)\n",
    "            batch_X=batch['X'].to(device)\n",
    "            batch_s=batch['s'].to(device)\n",
    "        gamma_fixed,_,LL_old=model(batch_Y,batch_X,batch_s,gamma_fixed=None,mode='LL')\n",
    "        _,Q_old,_=model(batch_Y,batch_X,batch_s,gamma_fixed=gamma_fixed,mode='M')\n",
    "\n",
    "    print(LL_old)\n",
    "    print(Q_old)\n",
    "\n",
    "    for em_idx in range(EM_ITER_MAX):#\n",
    "        #optimizer = optim.Adam(model.parameters(),lr=0.1,eps=1e-3,betas=(0.9,0.999))\n",
    "        LL_new=torch.zeros_like(LL_old)\n",
    "        #optimizer = optim.Adam(model.parameters(),lr=LR)\n",
    "        for batch_idx,batch in enumerate(cell_dataloader):\n",
    "            # It is usually just one iteration(batch).\n",
    "            # However, developer of cellAssign may have done this for extreme situation of larse sample size\n",
    "            batch_Y=batch['Y'].to(device)\n",
    "            batch_X=batch['X'].to(device)\n",
    "            batch_s=batch['s'].to(device)\n",
    "\n",
    "            #############\n",
    "            #E-step\n",
    "            ######### ####\n",
    "            with torch.no_grad():\n",
    "                gamma_new,_,_=model(batch_Y,batch_X,batch_s,gamma_fixed=None,mode='E')\n",
    "\n",
    "            #############\n",
    "            #M-step\n",
    "            #############\n",
    "            for m_idx in range(M_ITER_MAX):#\n",
    "            #for m_idx in range(20):#    \n",
    "                optimizer.zero_grad()\n",
    "                _,Q_new,_=model(batch_Y,batch_X,batch_s,gamma_fixed=gamma_new,mode='M')\n",
    "                Q_new.backward()\n",
    "                optimizer.step()\n",
    "                \n",
    "                #Constraint\n",
    "                model.delta_log.data[:-5]=model.delta_log.data.clamp(min=model.delta_log_min)[:-5]\n",
    "                #model.NB_basis_a.data=model.NB_basis_a.data.clamp(min=0)\n",
    "\n",
    "                if m_idx%20==0:\n",
    "                    #print(sorted(model.delta_log.cpu().detach().numpy().flatten())[-10:])\n",
    "                    Q_diff=(Q_old-Q_new)/torch.abs(Q_old)\n",
    "                    Q_old=Q_new\n",
    "                    print('M: {}, Q: {} Q_diff: {}'.format(m_idx,Q_new,Q_diff))    \n",
    "                    if m_idx>0 and torch.abs(Q_diff)<Q_diff_tolerance:\n",
    "                        print('M break')\n",
    "                        break                \n",
    "            #############\n",
    "            #Look at LL\n",
    "            #############\n",
    "            with torch.no_grad():\n",
    "                _,_,LL_temp=model(batch_Y,batch_X,batch_s,gamma_fixed=None,mode='LL')\n",
    "                LL_new+=LL_temp\n",
    "\n",
    "        LL_diff=(LL_new-LL_old)/torch.abs(LL_old)\n",
    "        LL_old=LL_new\n",
    "        print('EM: {}, LL: {} LL_diff: {}'.format(em_idx,LL_new,LL_diff))\n",
    "        if LL_diff<LL_diff_tolerance:\n",
    "            print('EM break')\n",
    "            break\n",
    "    print('End time:',datetime.datetime.now().strftime('%Y-%m-%d %H:%M:%S'))    \n",
    "    return gamma_new,Q_new,LL_new"
   ]
  },
  {
   "cell_type": "code",
   "execution_count": 64,
   "metadata": {},
   "outputs": [
    {
     "data": {
      "text/plain": [
       "13"
      ]
     },
     "execution_count": 64,
     "metadata": {},
     "output_type": "execute_result"
    }
   ],
   "source": [
    "rho_drop.values.shape[1]"
   ]
  },
  {
   "cell_type": "code",
   "execution_count": 65,
   "metadata": {},
   "outputs": [
    {
     "data": {
      "text/plain": [
       "(446, 13)"
      ]
     },
     "execution_count": 65,
     "metadata": {},
     "output_type": "execute_result"
    }
   ],
   "source": [
    "Y=exp_data[list(map(lambda x: exp_data_row.index(x),rho_drop.columns))].transpose().astype(float)\n",
    "Y.shape"
   ]
  },
  {
   "cell_type": "code",
   "execution_count": 66,
   "metadata": {},
   "outputs": [],
   "source": [
    "device=device_cuda_list[3]#\n",
    "\n",
    "model=Custom_Model(Y,\n",
    "                   np.concatenate([rho_drop.values,np.ones((5,rho_drop.values.shape[1]))],axis=0),\n",
    "                   X_col=X.shape[1],delta_min=2,LOWER_BOUND=LOWER_BOUND,THETA_LOWER_BOUND=THETA_LOWER_BOUND).to(device)\n",
    "optimizer = optim.Adamax(model.parameters(),lr=LR)#,betas=(0.92, 0.999))\n",
    "\n",
    "\n",
    "cell_dataset=Cell_Dataset(Y,X,s)\n",
    "cell_dataloader=DataLoader(dataset=cell_dataset,shuffle=False,batch_size=BATCH_SIZE,num_workers=NUM_WORKERS)"
   ]
  },
  {
   "cell_type": "code",
   "execution_count": 67,
   "metadata": {},
   "outputs": [
    {
     "name": "stdout",
     "output_type": "stream",
     "text": [
      "Start time: 2020-05-26 13:51:01\n",
      "tensor(-2941881.9185, device='cuda:2')\n",
      "tensor(2941883.1182, device='cuda:2')\n",
      "M: 0, Q: 2941883.1182223414 Q_diff: 0.0\n",
      "M: 20, Q: 1200837.168975387 Q_diff: 0.5918134335326676\n",
      "M: 40, Q: 1171191.691299308 Q_diff: 0.024687341832843067\n",
      "M: 60, Q: 1164322.520948008 Q_diff: 0.005865111921755156\n",
      "M: 80, Q: 1161848.0399385353 Q_diff: 0.002125253926599195\n",
      "M: 100, Q: 1160205.2278093444 Q_diff: 0.0014139647120098417\n",
      "M: 120, Q: 1158591.4704427845 Q_diff: 0.0013909240605707055\n",
      "M: 140, Q: 1156985.8473570454 Q_diff: 0.0013858405889398291\n",
      "M: 160, Q: 1155377.391220347 Q_diff: 0.001390212456247963\n",
      "M: 180, Q: 1153768.5210419418 Q_diff: 0.0013925061980881023\n",
      "M: 200, Q: 1152162.2612175872 Q_diff: 0.0013921855164709216\n",
      "M: 220, Q: 1150562.016351515 Q_diff: 0.001388905816426487\n",
      "M: 240, Q: 1148971.4092658227 Q_diff: 0.001382460973930044\n",
      "M: 260, Q: 1147394.2044310744 Q_diff: 0.0013727102537356478\n",
      "M: 280, Q: 1145834.2249288661 Q_diff: 0.0013595846102271369\n",
      "M: 300, Q: 1144295.2502990887 Q_diff: 0.0013431040863463681\n",
      "M: 320, Q: 1142781.751502485 Q_diff: 0.0013226471019678302\n",
      "M: 340, Q: 1141298.5312730598 Q_diff: 0.001297903320100408\n",
      "M: 360, Q: 1139848.9561675494 Q_diff: 0.0012701103749721756\n",
      "M: 380, Q: 1138435.7159987679 Q_diff: 0.0012398486318162224\n",
      "M: 400, Q: 1137060.926378328 Q_diff: 0.001207612868359337\n",
      "M: 420, Q: 1135726.1306550591 Q_diff: 0.0011738999136310512\n",
      "M: 440, Q: 1134432.3185144132 Q_diff: 0.001139193777200218\n",
      "M: 460, Q: 1133179.976626157 Q_diff: 0.0011039370686266525\n",
      "M: 480, Q: 1131969.1646587253 Q_diff: 0.0010685080855706425\n",
      "M: 500, Q: 1130799.605459293 Q_diff: 0.0010332076490661161\n",
      "M: 520, Q: 1129670.7779382898 Q_diff: 0.0009982560265791678\n",
      "M: 540, Q: 1128582.0031773956 Q_diff: 0.0009637982872154286\n",
      "M: 560, Q: 1127532.5174378497 Q_diff: 0.0009299153597976821\n",
      "M: 580, Q: 1126522.3296653533 Q_diff: 0.0008959278396616644\n",
      "M: 600, Q: 1125552.6300275647 Q_diff: 0.0008607904275422942\n",
      "M: 620, Q: 1124623.0401315128 Q_diff: 0.0008258964274546149\n",
      "M: 640, Q: 1123732.8170260459 Q_diff: 0.0007915746643095827\n",
      "M: 660, Q: 1122881.1569808424 Q_diff: 0.0007578848212846846\n",
      "M: 680, Q: 1122067.2355656778 Q_diff: 0.0007248508981600869\n",
      "M: 700, Q: 1121290.2049521632 Q_diff: 0.0006924991559198887\n",
      "M: 720, Q: 1120553.5785343524 Q_diff: 0.000656945378241507\n",
      "M: 740, Q: 1119860.781752284 Q_diff: 0.0006182629687146225\n",
      "M: 760, Q: 1119211.1156745392 Q_diff: 0.0005801311094474859\n",
      "M: 780, Q: 1118603.0026131999 Q_diff: 0.0005433407985524312\n",
      "M: 800, Q: 1118034.6283814483 Q_diff: 0.0005081107688999114\n",
      "M: 820, Q: 1117504.0447861173 Q_diff: 0.00047456812326034375\n",
      "M: 840, Q: 1117009.2063021557 Q_diff: 0.0004428068840289886\n",
      "M: 860, Q: 1116548.0026393016 Q_diff: 0.00041289155026838346\n",
      "M: 880, Q: 1116118.2935981434 Q_diff: 0.0003848549638192489\n",
      "M: 900, Q: 1115717.944874438 Q_diff: 0.00035869739435481134\n",
      "M: 920, Q: 1115344.862437598 Q_diff: 0.0003343877711692056\n",
      "M: 940, Q: 1114997.023181324 Q_diff: 0.00031186700005399393\n",
      "M: 960, Q: 1114672.5000888288 Q_diff: 0.0002910528779432175\n",
      "M: 980, Q: 1114369.4809113238 Q_diff: 0.0002718459255798454\n",
      "M: 1000, Q: 1114086.2801366113 Q_diff: 0.00025413543673224824\n",
      "M: 1020, Q: 1113821.344674984 Q_diff: 0.00023780515598381894\n",
      "M: 1040, Q: 1113573.2541371435 Q_diff: 0.00022273817881708304\n",
      "M: 1060, Q: 1113340.716813011 Q_diff: 0.0002088208595783671\n",
      "M: 1080, Q: 1113122.562513744 Q_diff: 0.00019594567590375993\n",
      "M: 1100, Q: 1112917.7333639516 Q_diff: 0.00018401311471925844\n",
      "M: 1120, Q: 1112725.273479813 Q_diff: 0.0001729327140441978\n",
      "M: 1140, Q: 1112544.318285088 Q_diff: 0.00016262342470128088\n",
      "M: 1160, Q: 1112374.0840315707 Q_diff: 0.00015301345817823837\n",
      "M: 1180, Q: 1112213.857921911 Q_diff: 0.00014403977219521187\n",
      "M: 1200, Q: 1112062.989089809 Q_diff: 0.00013564732270458546\n",
      "M: 1220, Q: 1111920.88057777 Q_diff: 0.00012778818595081772\n",
      "M: 1240, Q: 1111786.9823643747 Q_diff: 0.00012042063040115568\n",
      "M: 1260, Q: 1111660.785427926 Q_diff: 0.00011350819756874148\n",
      "M: 1280, Q: 1111542.4120123493 Q_diff: 0.00010648339594995492\n",
      "M: 1300, Q: 1111432.8447080445 Q_diff: 9.857231098041414e-05\n",
      "M break\n",
      "EM: 0, LL: -876940.6486121913 LL_diff: 0.7019116766401517\n",
      "M: 0, Q: 876942.919791403 Q_diff: 0.21097984105214945\n",
      "M: 20, Q: 763135.8810343272 Q_diff: 0.12977701990472412\n",
      "M: 40, Q: 755847.8509217429 Q_diff: 0.009550108039352596\n",
      "M: 60, Q: 754371.2964757888 Q_diff: 0.001953507500422748\n",
      "M: 80, Q: 753796.2854967955 Q_diff: 0.0007622386770010356\n",
      "M: 100, Q: 753499.4439850233 Q_diff: 0.00039379540266188924\n",
      "M: 120, Q: 753335.690158201 Q_diff: 0.00021732441626795074\n",
      "M: 140, Q: 753231.290036812 Q_diff: 0.00013858379836902354\n",
      "M: 160, Q: 753155.7733010931 Q_diff: 0.00010025703488118201\n",
      "M: 180, Q: 753095.9490735165 Q_diff: 7.9431413390618e-05\n",
      "M break\n",
      "EM: 1, LL: -719470.2818023374 LL_diff: 0.179567872762039\n",
      "M: 0, Q: 719472.3920178482 Q_diff: 0.04464710917252062\n",
      "M: 20, Q: 705493.9966502914 Q_diff: 0.01942867512727308\n",
      "M: 40, Q: 703995.0137325269 Q_diff: 0.002124728098157712\n",
      "M: 60, Q: 703608.1906532162 Q_diff: 0.0005494684930505415\n",
      "M: 80, Q: 703421.3035549719 Q_diff: 0.00026561245410001923\n",
      "M: 100, Q: 703293.9797684128 Q_diff: 0.0001810064408281248\n",
      "M: 120, Q: 703193.9692918546 Q_diff: 0.0001422029470393766\n",
      "M: 140, Q: 703110.9187496647 Q_diff: 0.00011810474181626984\n",
      "M: 160, Q: 703039.5642356448 Q_diff: 0.00010148400788143367\n",
      "M: 180, Q: 702976.886319176 Q_diff: 8.915275847521325e-05\n",
      "M break\n",
      "EM: 2, LL: -697568.4285350211 LL_diff: 0.03044163716178817\n",
      "M: 0, Q: 697570.4724906962 Q_diff: 0.007690741948555345\n",
      "M: 20, Q: 692608.4778500828 Q_diff: 0.007113252117591059\n",
      "M: 40, Q: 691446.2083090355 Q_diff: 0.0016781046987109757\n",
      "M: 60, Q: 690919.0114404346 Q_diff: 0.000762455361336337\n",
      "M: 80, Q: 690644.9554678248 Q_diff: 0.0003966542649310385\n",
      "M: 100, Q: 690463.5575259563 Q_diff: 0.0002626500641645101\n",
      "M: 120, Q: 690330.5807939653 Q_diff: 0.00019259051479490597\n",
      "M: 140, Q: 690226.3213232844 Q_diff: 0.00015102832408341773\n",
      "M: 160, Q: 690140.8229268845 Q_diff: 0.00012387008979312936\n",
      "M: 180, Q: 690068.4106022844 Q_diff: 0.00010492398390962318\n",
      "M: 200, Q: 690005.5759089508 Q_diff: 9.10557451525107e-05\n",
      "M break\n",
      "EM: 3, LL: -686787.5945057508 LL_diff: 0.015454876666238184\n",
      "M: 0, Q: 686787.6129613547 Q_diff: 0.0046636767295062\n",
      "M: 20, Q: 683602.7678811669 Q_diff: 0.004637307109333359\n",
      "M: 40, Q: 683203.569553971 Q_diff: 0.0005839624207976067\n",
      "M: 60, Q: 683079.487840676 Q_diff: 0.00018161748390173473\n",
      "M: 80, Q: 683001.3920853811 Q_diff: 0.00011432894221691519\n",
      "M: 100, Q: 682938.7103726435 Q_diff: 9.177391651597693e-05\n",
      "M break\n",
      "EM: 4, LL: -680075.7754959168 LL_diff: 0.009772772635277658\n",
      "M: 0, Q: 680075.8743422191 Q_diff: 0.004191936973176345\n",
      "M: 20, Q: 670728.050762749 Q_diff: 0.013745265685996313\n",
      "M: 40, Q: 670199.9356221727 Q_diff: 0.000787375956583016\n",
      "M: 60, Q: 670010.8930289877 Q_diff: 0.000282068951572607\n",
      "M: 80, Q: 669943.7141614965 Q_diff: 0.00010026533626564265\n",
      "M: 100, Q: 669894.5727717063 Q_diff: 7.335152006274052e-05\n",
      "M break\n",
      "EM: 5, LL: -642238.3426529217 LL_diff: 0.055637083699097784\n",
      "M: 0, Q: 642238.4124356931 Q_diff: 0.041284347507974425\n",
      "M: 20, Q: 592318.826122587 Q_diff: 0.07772750017207128\n",
      "M: 40, Q: 588573.2779234997 Q_diff: 0.00632353393797428\n",
      "M: 60, Q: 587961.421864075 Q_diff: 0.0010395579996144882\n",
      "M: 80, Q: 587712.5479824068 Q_diff: 0.0004232826719807075\n",
      "M: 100, Q: 587534.5181247587 Q_diff: 0.0003029199534010974\n",
      "M: 120, Q: 587393.4407364861 Q_diff: 0.0002401176167876897\n",
      "M: 140, Q: 587274.8043410628 Q_diff: 0.00020197092305725286\n",
      "M: 160, Q: 587171.9878926949 Q_diff: 0.0001750738284835188\n",
      "M: 180, Q: 587081.22897301 Q_diff: 0.00015456956659434676\n",
      "M: 200, Q: 586999.9957661043 Q_diff: 0.0001383679172433428\n",
      "M: 220, Q: 586926.5344896461 Q_diff: 0.00012514697953677398\n",
      "M: 240, Q: 586859.5887641859 Q_diff: 0.00011406150774627914\n",
      "M: 260, Q: 586798.235062323 Q_diff: 0.00010454579432203703\n",
      "M: 280, Q: 586741.7790005503 Q_diff: 9.621034692916757e-05\n",
      "M break\n",
      "EM: 6, LL: -579069.9526748045 LL_diff: 0.09835661588995885\n",
      "M: 0, Q: 579069.9537781009 Q_diff: 0.013075300749023673\n",
      "M: 20, Q: 577995.0744009251 Q_diff: 0.0018562168010321492\n",
      "M: 40, Q: 577688.573068553 Q_diff: 0.0005302836407209134\n",
      "M: 60, Q: 577480.9638675285 Q_diff: 0.00035937910269151675\n",
      "M: 80, Q: 577317.25977647 Q_diff: 0.0002834796318862121\n",
      "M: 100, Q: 577184.7863389882 Q_diff: 0.00022946384373314025\n",
      "M: 120, Q: 577076.2368203509 Q_diff: 0.00018806718611880837\n",
      "M: 140, Q: 576986.524945179 Q_diff: 0.00015545931273512896\n",
      "M: 160, Q: 576911.0150585645 Q_diff: 0.00013086941089601191\n",
      "M: 180, Q: 576845.9258542556 Q_diff: 0.00011282364629893341\n",
      "M: 200, Q: 576788.5972061079 Q_diff: 9.938294712360229e-05\n",
      "M break\n",
      "EM: 7, LL: -576781.8641285556 LL_diff: 0.003951316305879545\n",
      "M: 0, Q: 576781.9529023669 Q_diff: 1.1519478320539158e-05\n",
      "M: 20, Q: 576691.1590892439 Q_diff: 0.000157414448677085\n",
      "M: 40, Q: 576641.8923103826 Q_diff: 8.543009214688654e-05\n",
      "M break\n",
      "EM: 8, LL: -576587.703736125 LL_diff: 0.0003366270760332638\n",
      "M: 0, Q: 576587.7037507219 Q_diff: 9.39726377554279e-05\n",
      "M: 20, Q: 576400.2713866726 Q_diff: 0.00032507173293845414\n",
      "M: 40, Q: 576345.3281667051 Q_diff: 9.532129441118455e-05\n",
      "M break\n",
      "EM: 9, LL: -576343.440173414 LL_diff: 0.0004236364409582678\n",
      "M: 0, Q: 576343.440380529 Q_diff: 3.2754428357396813e-06\n",
      "M: 20, Q: 576302.2437321079 Q_diff: 7.147933946106036e-05\n",
      "M break\n",
      "EM: 10, LL: -576300.304835106 LL_diff: 7.48431148881673e-05\n",
      "EM break\n",
      "End time: 2020-05-26 13:51:12\n"
     ]
    },
    {
     "data": {
      "text/plain": [
       "(tensor([[ 0.0000e+00,  0.0000e+00,  0.0000e+00,  ...,  0.0000e+00,\n",
       "           0.0000e+00,  0.0000e+00],\n",
       "         [ 0.0000e+00,  0.0000e+00,  0.0000e+00,  ...,  0.0000e+00,\n",
       "           0.0000e+00,  0.0000e+00],\n",
       "         [ 0.0000e+00,  0.0000e+00,  0.0000e+00,  ...,  0.0000e+00,\n",
       "          5.2992e-306,  0.0000e+00],\n",
       "         ...,\n",
       "         [ 0.0000e+00,  0.0000e+00,  0.0000e+00,  ...,  0.0000e+00,\n",
       "          4.8666e-282,  0.0000e+00],\n",
       "         [ 0.0000e+00,  0.0000e+00,  0.0000e+00,  ...,  0.0000e+00,\n",
       "           0.0000e+00,  0.0000e+00],\n",
       "         [ 0.0000e+00,  0.0000e+00,  0.0000e+00,  ...,  0.0000e+00,\n",
       "          1.5553e-302,  0.0000e+00]], device='cuda:2'),\n",
       " tensor(576302.2437, device='cuda:2', grad_fn=<NegBackward>),\n",
       " tensor(-576300.3048, device='cuda:2'))"
      ]
     },
     "execution_count": 67,
     "metadata": {},
     "output_type": "execute_result"
    }
   ],
   "source": [
    "run_EM_(model,optimizer,LL_diff_tolerance=LL_diff_tolerance,Q_diff_tolerance=Q_diff_tolerance)"
   ]
  },
  {
   "cell_type": "code",
   "execution_count": 68,
   "metadata": {},
   "outputs": [
    {
     "data": {
      "text/plain": [
       "(array([ 0,  1,  2,  3,  4,  5,  6,  7,  8,  9, 10]),\n",
       " array([ 22,  17,  13,  18,  16,  26, 126,  57,  40,  51,  60]))"
      ]
     },
     "execution_count": 68,
     "metadata": {},
     "output_type": "execute_result"
    },
    {
     "data": {
      "image/png": "[encoded data removed]",
      "text/plain": [
       "<Figure size 1080x1080 with 1 Axes>"
      ]
     },
     "metadata": {
      "needs_background": "light"
     },
     "output_type": "display_data"
    }
   ],
   "source": [
    "import seaborn as sns\n",
    "\n",
    "plt.rcParams[\"figure.figsize\"] = (15,15)\n",
    "plt.rcParams[\"font.size\"] = 15\n",
    "plt.rcParams['font.family']='Arial'\n",
    "\n",
    "\n",
    "plot_value=np.argmax(gamma_new.cpu().numpy(),axis=1)\n",
    "\n",
    "sns.scatterplot(x=\"tSNE_1\", y=\"tSNE_2\",hue=plot_value,style=np.array((list(range(0,2))*30))[plot_value],\n",
    "                data=exp_data_meta,s=40,palette=plt.cm.rainbow)#,linewidth=0.3)\n",
    "\n",
    "np.unique(plot_value,return_counts=True)"
   ]
  },
  {
   "cell_type": "code",
   "execution_count": 69,
   "metadata": {},
   "outputs": [],
   "source": [
    "label=np.argmax(gamma_new.cpu().numpy(),axis=1)\n",
    "label=list(map(lambda x: np.unique(label,return_counts=True)[0].tolist().index(x),label))\n",
    "\n",
    "x_data_intercept=np.array([np.ones(Y.shape[0])]).transpose()\n",
    "x_data_null=np.concatenate([x_data_intercept],axis=1)\n",
    "x_data_null_test=np.concatenate([x_data_intercept,np.eye(max(label)+1)[label]],axis=1)"
   ]
  },
  {
   "cell_type": "code",
   "execution_count": 70,
   "metadata": {},
   "outputs": [
    {
     "data": {
      "text/plain": [
       "(446, 12)"
      ]
     },
     "execution_count": 70,
     "metadata": {},
     "output_type": "execute_result"
    }
   ],
   "source": [
    "x_data_null_test.shape"
   ]
  },
  {
   "cell_type": "code",
   "execution_count": 71,
   "metadata": {},
   "outputs": [
    {
     "name": "stdout",
     "output_type": "stream",
     "text": [
      "4800"
     ]
    }
   ],
   "source": [
    "import statsmodels.api as sm\n",
    "import sys\n",
    "\n",
    "label=np.argmax(gamma_new.cpu().numpy(),axis=1)\n",
    "label=list(map(lambda x: np.unique(label,return_counts=True)[0].tolist().index(x),label))\n",
    "\n",
    "#exp_data_col_patient=pd.Series(exp_data_col).str.slice(start=1,stop=2).astype(int).values\n",
    "#x_data_covariate=np.eye(len(np.unique(exp_data_col_patient)))[exp_data_col_patient-1]\n",
    "x_data_intercept=np.array([np.ones(Y.shape[0])]).transpose()\n",
    "x_data_null=np.concatenate([x_data_intercept],axis=1)\n",
    "x_data_null_test=np.concatenate([x_data_intercept,np.eye(max(label)+1)[label]],axis=1)\n",
    "x_data_null_test=x_data_null_test[:,:-1]\n",
    "\n",
    "family=sm.families.Poisson(link=sm.families.links.log())\n",
    "\n",
    "data_list=[]\n",
    "data_list_=[]\n",
    "for exp_data_row_idx in range(exp_data.shape[0]):\n",
    "    if exp_data_row_idx%100==0:\n",
    "        sys.stdout.write('\\r{}'.format(exp_data_row_idx))\n",
    "    y_data=exp_data[exp_data_row_idx,:]\n",
    "    \n",
    "    model=sm.GLM(y_data,x_data_null_test,family=family)\n",
    "    model_result=model.fit()\n",
    "    \n",
    "    model_=sm.GLM(y_data,x_data_null,family=family)\n",
    "    model_result_=model_.fit()\n",
    "    \n",
    "    data_list.append({\n",
    "        'llf':model_result.llf,\n",
    "        'deviance':model_result.deviance,\n",
    "        'pearson_chi2':model_result.pearson_chi2,\n",
    "        'llnull':model_result.llnull,\n",
    "        'null_deviance':model_result.null_deviance\n",
    "    })\n",
    "    \n",
    "    data_list_.append({\n",
    "        'llf':model_result_.llf,\n",
    "        'deviance':model_result_.deviance,\n",
    "        'pearson_chi2':model_result_.pearson_chi2,\n",
    "        'llnull':model_result_.llnull,\n",
    "        'null_deviance':model_result_.null_deviance\n",
    "    })    \n",
    "    \n",
    "    #ll_list.append([model_result.llf,model_result.deviance,model_result.pearson_chi2])\n",
    "#model_result.llf,model_result.llnull,model_result.null_deviance,model_result.null"
   ]
  },
  {
   "cell_type": "code",
   "execution_count": 72,
   "metadata": {},
   "outputs": [],
   "source": [
    "data_full=pd.DataFrame(data_list)\n",
    "data_null=pd.DataFrame(data_list_)"
   ]
  },
  {
   "cell_type": "code",
   "execution_count": 73,
   "metadata": {},
   "outputs": [
    {
     "data": {
      "text/plain": [
       "6"
      ]
     },
     "execution_count": 73,
     "metadata": {},
     "output_type": "execute_result"
    }
   ],
   "source": [
    "np.sum(np.argmax(gamma_new.cpu().numpy(),axis=1)==exp_data_meta_clusterid_clusteridunique)"
   ]
  },
  {
   "cell_type": "code",
   "execution_count": 74,
   "metadata": {},
   "outputs": [],
   "source": [
    "marker_unique_exp_data_idx=list(map(lambda x: exp_data_row.index(x), rho.columns))\n",
    "marker_unique_exp_data_idx_bool=np.array(list(map(lambda x: x in marker_unique_exp_data_idx, np.arange(exp_data.shape[0]))))\n",
    "\n",
    "marker_unique_exp_data_idx_drop=list(map(lambda x: exp_data_row.index(x), rho_drop.columns))\n",
    "marker_unique_exp_data_idx_bool_drop=np.array(list(map(lambda x: x in marker_unique_exp_data_idx_drop, np.arange(exp_data.shape[0]))))"
   ]
  },
  {
   "cell_type": "markdown",
   "metadata": {},
   "source": [
    "## deviance of null model"
   ]
  },
  {
   "cell_type": "code",
   "execution_count": 75,
   "metadata": {},
   "outputs": [
    {
     "data": {
      "image/png": "[encoded data removed]",
      "text/plain": [
       "<Figure size 1080x1080 with 1 Axes>"
      ]
     },
     "metadata": {
      "needs_background": "light"
     },
     "output_type": "display_data"
    }
   ],
   "source": [
    "plt.hist(\n",
    "    x=[\n",
    "        np.log10(data_full['null_deviance'])[marker_unique_exp_data_idx_bool].repeat(10),# np.sum(~marker_unique_exp_data_idx_bool)/np.sum(marker_unique_exp_data_idx_bool) ),\n",
    "        np.log10(data_full['null_deviance'])[~marker_unique_exp_data_idx_bool],\n",
    "    ],\n",
    "    bins=30,\n",
    "    histtype='barstacked',\n",
    "    color=['blue','grey'],\n",
    "    alpha=0.7\n",
    ")\n",
    "plt.hist(\n",
    "    x=np.log10(data_full['null_deviance'])[pd.Index(marker_unique_exp_data_idx).difference(pd.Index(marker_unique_exp_data_idx_drop))].repeat(50),\n",
    "    bins=20,\n",
    "    alpha=0.3,\n",
    "    color='white',\n",
    "    edgecolor='black',\n",
    "    linewidth=3\n",
    ")\n",
    "plt.show()"
   ]
  },
  {
   "cell_type": "markdown",
   "metadata": {},
   "source": [
    "## deviance of full model"
   ]
  },
  {
   "cell_type": "code",
   "execution_count": 76,
   "metadata": {},
   "outputs": [
    {
     "data": {
      "image/png": "[encoded data removed]",
      "text/plain": [
       "<Figure size 1080x1080 with 1 Axes>"
      ]
     },
     "metadata": {
      "needs_background": "light"
     },
     "output_type": "display_data"
    }
   ],
   "source": [
    "plt.hist(\n",
    "    x=[\n",
    "        np.log10(data_full['deviance'])[marker_unique_exp_data_idx_bool].repeat(10),# np.sum(~marker_unique_exp_data_idx_bool)/np.sum(marker_unique_exp_data_idx_bool) ),\n",
    "        np.log10(data_full['deviance'])[~marker_unique_exp_data_idx_bool],\n",
    "    ],\n",
    "    bins=30, \n",
    "    histtype='barstacked',\n",
    "    color=['blue','grey'],\n",
    "    alpha=0.7    \n",
    "    \n",
    ")\n",
    "plt.hist(\n",
    "    np.log10(data_full['deviance'])[pd.Index(marker_unique_exp_data_idx).difference(pd.Index(marker_unique_exp_data_idx_drop))].repeat(50),\n",
    "    bins=20,\n",
    "    alpha=0.3,\n",
    "    color='white',\n",
    "    edgecolor='black',\n",
    "    linewidth=3\n",
    ")\n",
    "plt.show()"
   ]
  },
  {
   "cell_type": "code",
   "execution_count": 77,
   "metadata": {},
   "outputs": [
    {
     "data": {
      "text/plain": [
       "0       5.508826e+06\n",
       "1       3.380692e+06\n",
       "2       2.949016e+06\n",
       "3       2.685364e+06\n",
       "4       2.666817e+06\n",
       "            ...     \n",
       "4524    6.629339e+03\n",
       "4638    6.478960e+03\n",
       "4143    6.473952e+03\n",
       "4633    4.787749e+03\n",
       "4189    1.191683e+03\n",
       "Name: deviance, Length: 4898, dtype: float64"
      ]
     },
     "execution_count": 77,
     "metadata": {},
     "output_type": "execute_result"
    }
   ],
   "source": [
    "data_full['deviance'].sort_values(ascending=False)"
   ]
  },
  {
   "cell_type": "markdown",
   "metadata": {},
   "source": [
    "# 4. Case of lost types and markers + 5 redundant clusters + recovery"
   ]
  },
  {
   "cell_type": "code",
   "execution_count": 78,
   "metadata": {},
   "outputs": [],
   "source": [
    "def run_EM_(model,optimizer,LL_diff_tolerance,Q_diff_tolerance):\n",
    "    global gamma_new,Q_new,LL_new\n",
    "    \n",
    "    print('Start time:',datetime.datetime.now().strftime('%Y-%m-%d %H:%M:%S'))\n",
    "    \n",
    "    with torch.no_grad():\n",
    "        for batch_idx,batch in enumerate(cell_dataloader):\n",
    "            batch_Y=batch['Y'].to(device)\n",
    "            batch_X=batch['X'].to(device)\n",
    "            batch_s=batch['s'].to(device)\n",
    "        gamma_fixed,_,LL_old=model(batch_Y,batch_X,batch_s,gamma_fixed=None,mode='LL')\n",
    "        _,Q_old,_=model(batch_Y,batch_X,batch_s,gamma_fixed=gamma_fixed,mode='M')\n",
    "\n",
    "    print(LL_old)\n",
    "    print(Q_old)\n",
    "\n",
    "    for em_idx in range(EM_ITER_MAX):#\n",
    "        #optimizer = optim.Adam(model.parameters(),lr=0.1,eps=1e-3,betas=(0.9,0.999))\n",
    "        LL_new=torch.zeros_like(LL_old)\n",
    "        #optimizer = optim.Adam(model.parameters(),lr=LR)\n",
    "        for batch_idx,batch in enumerate(cell_dataloader):\n",
    "            # It is usually just one iteration(batch).\n",
    "            # However, developer of cellAssign may have done this for extreme situation of larse sample size\n",
    "            batch_Y=batch['Y'].to(device)\n",
    "            batch_X=batch['X'].to(device)\n",
    "            batch_s=batch['s'].to(device)\n",
    "\n",
    "            #############\n",
    "            #E-step\n",
    "            ######### ####\n",
    "            with torch.no_grad():\n",
    "                gamma_new,_,_=model(batch_Y,batch_X,batch_s,gamma_fixed=None,mode='E')\n",
    "\n",
    "            #############\n",
    "            #M-step\n",
    "            #############\n",
    "            for m_idx in range(M_ITER_MAX):#\n",
    "            #for m_idx in range(20):#    \n",
    "                optimizer.zero_grad()\n",
    "                _,Q_new,_=model(batch_Y,batch_X,batch_s,gamma_fixed=gamma_new,mode='M')\n",
    "                Q_new.backward()\n",
    "                optimizer.step()\n",
    "                \n",
    "                #Constraint\n",
    "                model.delta_log.data[:-5,:-value]=model.delta_log.data.clamp(min=model.delta_log_min)[:-5,:-value]\n",
    "                #model.NB_basis_a.data=model.NB_basis_a.data.clamp(min=0)\n",
    "\n",
    "                if m_idx%20==0:\n",
    "                    #print(sorted(model.delta_log.cpu().detach().numpy().flatten())[-10:])\n",
    "                    Q_diff=(Q_old-Q_new)/torch.abs(Q_old)\n",
    "                    Q_old=Q_new\n",
    "                    print('M: {}, Q: {} Q_diff: {}'.format(m_idx,Q_new,Q_diff))    \n",
    "                    if m_idx>0 and torch.abs(Q_diff)<Q_diff_tolerance:\n",
    "                        print('M break')\n",
    "                        break                \n",
    "            #############\n",
    "            #Look at LL\n",
    "            #############\n",
    "            with torch.no_grad():\n",
    "                _,_,LL_temp=model(batch_Y,batch_X,batch_s,gamma_fixed=None,mode='LL')\n",
    "                LL_new+=LL_temp\n",
    "\n",
    "        LL_diff=(LL_new-LL_old)/torch.abs(LL_old)\n",
    "        LL_old=LL_new\n",
    "        print('EM: {}, LL: {} LL_diff: {}'.format(em_idx,LL_new,LL_diff))\n",
    "        if LL_diff<LL_diff_tolerance:\n",
    "            print('EM break')\n",
    "            break\n",
    "    print('End time:',datetime.datetime.now().strftime('%Y-%m-%d %H:%M:%S'))    \n",
    "    return gamma_new,Q_new,LL_new"
   ]
  },
  {
   "cell_type": "code",
   "execution_count": 80,
   "metadata": {},
   "outputs": [],
   "source": [
    "LL_all=pd.concat([pd.read_csv('LL_{}.csv'.format(c),index_col=0,header=None) for c in [1,2,3,5,8,10,20,30,40,50]],axis=1)#[pd.read_csv('LL_{}.csv'.format(c),index_col=0,header=None) for c in [1,3,5,8,10,20]\n",
    "LL_all.columns=[1,2,3,5,8,10,20,30,40,50]"
   ]
  },
  {
   "cell_type": "code",
   "execution_count": 171,
   "metadata": {},
   "outputs": [],
   "source": [
    "value=60"
   ]
  },
  {
   "cell_type": "code",
   "execution_count": 161,
   "metadata": {},
   "outputs": [
    {
     "data": {
      "text/plain": [
       "0       1.308077e+09\n",
       "1       3.395042e+08\n",
       "2       3.328137e+08\n",
       "3       2.791383e+08\n",
       "4       2.980235e+08\n",
       "            ...     \n",
       "4893    1.778631e+04\n",
       "4894    1.083816e+04\n",
       "4895    1.039980e+05\n",
       "4896    3.137651e+03\n",
       "4897    8.550312e+03\n",
       "Length: 4898, dtype: float64"
      ]
     },
     "execution_count": 161,
     "metadata": {},
     "output_type": "execute_result"
    }
   ],
   "source": [
    "pd.Series(np.var(exp_data,axis=1))"
   ]
  },
  {
   "cell_type": "code",
   "execution_count": 248,
   "metadata": {},
   "outputs": [],
   "source": [
    "value=200"
   ]
  },
  {
   "cell_type": "code",
   "execution_count": 249,
   "metadata": {},
   "outputs": [],
   "source": [
    "new_markers=pd.DataFrame(1,index=rho_drop.index,columns=np.array(exp_data_row)[(LL_all[1]/LL_all[2])[LL_all.index.difference(marker_unique_exp_data_idx_drop)].sort_values(ascending=False)[:value].index])"
   ]
  },
  {
   "cell_type": "code",
   "execution_count": 250,
   "metadata": {},
   "outputs": [
    {
     "data": {
      "text/plain": [
       "33"
      ]
     },
     "execution_count": 250,
     "metadata": {},
     "output_type": "execute_result"
    }
   ],
   "source": [
    "len(rho.columns.intersection(new_markers.columns))"
   ]
  },
  {
   "cell_type": "code",
   "execution_count": 251,
   "metadata": {},
   "outputs": [],
   "source": [
    "new_markers=pd.DataFrame(1,index=rho_drop.index,columns=np.array(exp_data_row)[(LL_all[1]/LL_all[3])[LL_all.index.difference(marker_unique_exp_data_idx_drop)].sort_values(ascending=False)[:value].index])"
   ]
  },
  {
   "cell_type": "code",
   "execution_count": 252,
   "metadata": {},
   "outputs": [
    {
     "data": {
      "text/plain": [
       "35"
      ]
     },
     "execution_count": 252,
     "metadata": {},
     "output_type": "execute_result"
    }
   ],
   "source": [
    "len(rho.columns.intersection(new_markers.columns))"
   ]
  },
  {
   "cell_type": "code",
   "execution_count": 247,
   "metadata": {},
   "outputs": [],
   "source": [
    "#pd.Series(np.var(exp_data,axis=1))[LL_all.index.difference(marker_unique_exp_data_idx_drop)].sort_values(ascending=False)[:value]"
   ]
  },
  {
   "cell_type": "code",
   "execution_count": 174,
   "metadata": {},
   "outputs": [],
   "source": [
    "new_markers=pd.DataFrame(1,index=rho_drop.index,columns=np.array(exp_data_row)[pd.Series(np.var(exp_data,axis=1))[LL_all.index.difference(marker_unique_exp_data_idx_drop)].sort_values(ascending=False)[:value].index])"
   ]
  },
  {
   "cell_type": "code",
   "execution_count": 175,
   "metadata": {},
   "outputs": [
    {
     "data": {
      "text/plain": [
       "0"
      ]
     },
     "execution_count": 175,
     "metadata": {},
     "output_type": "execute_result"
    }
   ],
   "source": [
    "len(rho.columns.intersection(new_markers.columns))"
   ]
  },
  {
   "cell_type": "code",
   "execution_count": 152,
   "metadata": {},
   "outputs": [],
   "source": [
    "#pd.set_option('display.max_rows', None)\n",
    "#pd.set_option('display.max_columns', 500)\n",
    "#pd.set_option('display.width', 1000)\n",
    "#pd.DataFrame([(LL_all[1]/LL_all[3]),marker_unique_exp_data_idx_bool,marker_unique_exp_data_idx_bool_drop],index=['log/log','IsMarker','IsMarkerAfterDrop']).T.sort_values('log/log',ascending=False)"
   ]
  },
  {
   "cell_type": "code",
   "execution_count": 153,
   "metadata": {},
   "outputs": [],
   "source": [
    "rho_drop_recover=pd.concat([rho_drop,new_markers],axis=1)"
   ]
  },
  {
   "cell_type": "code",
   "execution_count": 154,
   "metadata": {},
   "outputs": [
    {
     "data": {
      "text/plain": [
       "((8, 84), (6, 13), (6, 14))"
      ]
     },
     "execution_count": 154,
     "metadata": {},
     "output_type": "execute_result"
    }
   ],
   "source": [
    "rho.shape,rho_drop.shape,rho_drop_recover.shape"
   ]
  },
  {
   "cell_type": "code",
   "execution_count": 155,
   "metadata": {},
   "outputs": [
    {
     "data": {
      "text/html": [
       "<div>\n",
       "<style scoped>\n",
       "    .dataframe tbody tr th:only-of-type {\n",
       "        vertical-align: middle;\n",
       "    }\n",
       "\n",
       "    .dataframe tbody tr th {\n",
       "        vertical-align: top;\n",
       "    }\n",
       "\n",
       "    .dataframe thead th {\n",
       "        text-align: right;\n",
       "    }\n",
       "</style>\n",
       "<table border=\"1\" class=\"dataframe\">\n",
       "  <thead>\n",
       "    <tr style=\"text-align: right;\">\n",
       "      <th></th>\n",
       "      <th>ENSG00000198804</th>\n",
       "    </tr>\n",
       "  </thead>\n",
       "  <tbody>\n",
       "    <tr>\n",
       "      <th>MPS</th>\n",
       "      <td>1</td>\n",
       "    </tr>\n",
       "    <tr>\n",
       "      <th>DLL1pPXM</th>\n",
       "      <td>1</td>\n",
       "    </tr>\n",
       "    <tr>\n",
       "      <th>ESMT</th>\n",
       "      <td>1</td>\n",
       "    </tr>\n",
       "    <tr>\n",
       "      <th>Sclrtm</th>\n",
       "      <td>1</td>\n",
       "    </tr>\n",
       "    <tr>\n",
       "      <th>D5CntrlDrmmtm</th>\n",
       "      <td>1</td>\n",
       "    </tr>\n",
       "    <tr>\n",
       "      <th>D2LtM</th>\n",
       "      <td>1</td>\n",
       "    </tr>\n",
       "  </tbody>\n",
       "</table>\n",
       "</div>"
      ],
      "text/plain": [
       "               ENSG00000198804\n",
       "MPS                          1\n",
       "DLL1pPXM                     1\n",
       "ESMT                         1\n",
       "Sclrtm                       1\n",
       "D5CntrlDrmmtm                1\n",
       "D2LtM                        1"
      ]
     },
     "execution_count": 155,
     "metadata": {},
     "output_type": "execute_result"
    }
   ],
   "source": [
    "new_markers"
   ]
  },
  {
   "cell_type": "code",
   "execution_count": 156,
   "metadata": {},
   "outputs": [
    {
     "data": {
      "text/plain": [
       "(446, 14)"
      ]
     },
     "execution_count": 156,
     "metadata": {},
     "output_type": "execute_result"
    }
   ],
   "source": [
    "Y=exp_data[list(map(lambda x: exp_data_row.index(x),rho_drop_recover.columns))].transpose().astype(float)\n",
    "Y.shape"
   ]
  },
  {
   "cell_type": "code",
   "execution_count": 157,
   "metadata": {},
   "outputs": [],
   "source": [
    "device=device_cuda_list[3]#\n",
    "\n",
    "model=Custom_Model(Y,\n",
    "                   np.concatenate([rho_drop_recover.values,np.ones((5,rho_drop_recover.values.shape[1]))],axis=0),\n",
    "                   X_col=X.shape[1],delta_min=2,LOWER_BOUND=LOWER_BOUND,THETA_LOWER_BOUND=THETA_LOWER_BOUND).to(device)\n",
    "optimizer = optim.Adamax(model.parameters(),lr=LR)#,betas=(0.92, 0.999))\n",
    "\n",
    "\n",
    "cell_dataset=Cell_Dataset(Y,X,s)\n",
    "cell_dataloader=DataLoader(dataset=cell_dataset,shuffle=False,batch_size=BATCH_SIZE,num_workers=NUM_WORKERS)"
   ]
  },
  {
   "cell_type": "code",
   "execution_count": 158,
   "metadata": {},
   "outputs": [
    {
     "name": "stdout",
     "output_type": "stream",
     "text": [
      "Start time: 2020-05-26 15:14:51\n",
      "tensor(-13240334.5031, device='cuda:2')\n",
      "tensor(13240334.5031, device='cuda:2')\n",
      "M: 0, Q: 13240334.503081884 Q_diff: 0.0\n",
      "M: 20, Q: 5820379.558544102 Q_diff: 0.5604053993356949\n",
      "M: 40, Q: 5115957.320530377 Q_diff: 0.12102685588256164\n",
      "M: 60, Q: 4760769.512006185 Q_diff: 0.06942743777373217\n",
      "M: 80, Q: 4593436.312318694 Q_diff: 0.03514835138846641\n",
      "M: 100, Q: 4520582.6599646825 Q_diff: 0.015860381509727725\n",
      "M: 120, Q: 4486959.3169511035 Q_diff: 0.007437833912728788\n",
      "M: 140, Q: 4469011.693153157 Q_diff: 0.003999952424383034\n",
      "M: 160, Q: 4457520.866282456 Q_diff: 0.002571223272542795\n",
      "M: 180, Q: 4449190.963158372 Q_diff: 0.0018687300349153164\n",
      "M: 200, Q: 4442738.865522573 Q_diff: 0.0014501732313190938\n",
      "M: 220, Q: 4437574.642885361 Q_diff: 0.0011623961690137435\n",
      "M: 240, Q: 4433374.9148286395 Q_diff: 0.000946401670889006\n",
      "M: 260, Q: 4429930.501185453 Q_diff: 0.0007769281212076436\n",
      "M: 280, Q: 4427087.859021047 Q_diff: 0.0006416900137924832\n",
      "M: 300, Q: 4424725.923211733 Q_diff: 0.0005335190727017875\n",
      "M: 320, Q: 4422872.494263519 Q_diff: 0.00041887994429018715\n",
      "M: 340, Q: 4421387.597111365 Q_diff: 0.00033573139494292274\n",
      "M: 360, Q: 4420134.177610345 Q_diff: 0.00028349007488928164\n",
      "M: 380, Q: 4419053.6381027 Q_diff: 0.000244458530946532\n",
      "M: 400, Q: 4418108.249875988 Q_diff: 0.0002139345443921836\n",
      "M: 420, Q: 4417269.098851877 Q_diff: 0.00018993446440208192\n",
      "M: 440, Q: 4416514.129219679 Q_diff: 0.00017091320798054438\n",
      "M: 460, Q: 4415826.534312328 Q_diff: 0.0001556872427514059\n",
      "M: 480, Q: 4415193.446948309 Q_diff: 0.00014336780647962764\n",
      "M: 500, Q: 4414604.949888837 Q_diff: 0.00013328907703457333\n",
      "M: 520, Q: 4414053.336278912 Q_diff: 0.0001249519755870347\n",
      "M: 540, Q: 4413532.562301185 Q_diff: 0.00011798089829284104\n",
      "M: 560, Q: 4413037.844286198 Q_diff: 0.0001120911668836183\n",
      "M: 580, Q: 4412565.362247463 Q_diff: 0.00010706503216287373\n",
      "M: 600, Q: 4412112.04098527 Q_diff: 0.0001027341750156016\n",
      "M: 620, Q: 4411675.387481336 Q_diff: 9.896700262338387e-05\n",
      "M break\n",
      "EM: 0, LL: -3533965.2099705082 LL_diff: 0.7330909419888202\n",
      "M: 0, Q: 3533965.2099705115 Q_diff: 0.19895166811262524\n",
      "M: 20, Q: 3258417.8151787417 Q_diff: 0.07797116791482762\n",
      "M: 40, Q: 3249067.6749233697 Q_diff: 0.0028695338614391705\n",
      "M: 60, Q: 3241135.7535517532 Q_diff: 0.0024412915227453673\n",
      "M: 80, Q: 3236852.329942187 Q_diff: 0.0013215810553052212\n",
      "M: 100, Q: 3233286.0914300196 Q_diff: 0.0011017612633045073\n",
      "M: 120, Q: 3230022.267740098 Q_diff: 0.0010094447560865959\n",
      "M: 140, Q: 3226989.990702727 Q_diff: 0.0009387789885091098\n",
      "M: 160, Q: 3224141.540799731 Q_diff: 0.0008826956114529693\n",
      "M: 180, Q: 3221451.8787733708 Q_diff: 0.0008342257907489412\n",
      "M: 200, Q: 3218906.2869966384 Q_diff: 0.0007902001558693585\n",
      "M: 220, Q: 3216495.6917019607 Q_diff: 0.0007488864476781115\n",
      "M: 240, Q: 3214214.360751603 Q_diff: 0.0007092597562755692\n",
      "M: 260, Q: 3212058.4993851483 Q_diff: 0.0006707273145125241\n",
      "M: 280, Q: 3210025.3522657356 Q_diff: 0.0006329732536944296\n",
      "M: 300, Q: 3208112.6114565525 Q_diff: 0.0005958647048793649\n",
      "M: 320, Q: 3206318.0172748994 Q_diff: 0.0005593925148526278\n",
      "M: 340, Q: 3204639.0840132777 Q_diff: 0.0005236327939324919\n",
      "M: 360, Q: 3203072.90616972 Q_diff: 0.0004887220690063772\n",
      "M: 380, Q: 3201616.020379597 Q_diff: 0.0004548400341799598\n",
      "M: 400, Q: 3200264.3171045715 Q_diff: 0.00042219406275493745\n",
      "M: 420, Q: 3199013.011007608 Q_diff: 0.000391000858983954\n",
      "M: 440, Q: 3197856.682592384 Q_diff: 0.00036146411760283804\n",
      "M: 460, Q: 3196789.3936307416 Q_diff: 0.00033375134272034047\n",
      "M: 480, Q: 3195804.861639952 Q_diff: 0.0003079752431459458\n",
      "M: 500, Q: 3194896.665070894 Q_diff: 0.0002841839875641215\n",
      "M: 520, Q: 3194058.447722693 Q_diff: 0.0002623613331114108\n",
      "M: 540, Q: 3193284.097298802 Q_diff: 0.00024243464437640315\n",
      "M: 560, Q: 3192567.8836390246 Q_diff: 0.000224287485220357\n",
      "M: 580, Q: 3191904.5521778557 Q_diff: 0.0002077736434574203\n",
      "M: 600, Q: 3191289.3753077453 Q_diff: 0.00019273034642928338\n",
      "M: 620, Q: 3190718.168197322 Q_diff: 0.00017898944384134576\n",
      "M: 640, Q: 3190187.276669668 Q_diff: 0.0001663862176690078\n",
      "M: 660, Q: 3189693.5437472435 Q_diff: 0.00015476612487151062\n",
      "M: 680, Q: 3189234.259495946 Q_diff: 0.00014399008713476358\n",
      "M: 700, Q: 3188807.0972337215 Q_diff: 0.00013393881648948066\n",
      "M: 720, Q: 3188410.0392815312 Q_diff: 0.0001245161403882756\n",
      "M: 740, Q: 3188041.297515041 Q_diff: 0.00011565067288934192\n",
      "M: 760, Q: 3187699.236692022 Q_diff: 0.00010729497867099523\n",
      "M: 780, Q: 3187382.3095660447 Q_diff: 9.942190352507589e-05\n",
      "M break\n",
      "EM: 1, LL: -2955351.067757137 LL_diff: 0.16372943926581546\n",
      "M: 0, Q: 2955351.067757147 Q_diff: 0.0727968029164623\n",
      "M: 20, Q: 2793366.092629177 Q_diff: 0.054810738695386975\n",
      "M: 40, Q: 2782602.417623432 Q_diff: 0.0038532990839070928\n",
      "M: 60, Q: 2780853.040646242 Q_diff: 0.0006286837695929336\n",
      "M: 80, Q: 2780206.887963313 Q_diff: 0.00023235772386543475\n",
      "M: 100, Q: 2780030.319128787 Q_diff: 6.350924288780074e-05\n",
      "M break\n",
      "EM: 2, LL: -2682061.5110036805 LL_diff: 0.09247278935319869\n",
      "M: 0, Q: 2682061.549880496 Q_diff: 0.03524018014270888\n",
      "M: 20, Q: 2645236.5538414437 Q_diff: 0.013730108483413923\n",
      "M: 40, Q: 2640953.794764681 Q_diff: 0.0016190457789279644\n",
      "M: 60, Q: 2640437.516895672 Q_diff: 0.00019548917138663893\n",
      "M: 80, Q: 2640306.0357316327 Q_diff: 4.9795218859673426e-05\n",
      "M break\n",
      "EM: 3, LL: -2606518.8523842543 LL_diff: 0.028165893403077333\n",
      "M: 0, Q: 2606518.882466851 Q_diff: 0.012796680690622841\n",
      "M: 20, Q: 2574483.4107636884 Q_diff: 0.012290519711425816\n",
      "M: 40, Q: 2572001.530008324 Q_diff: 0.000964030587646401\n",
      "M: 60, Q: 2571578.4050322254 Q_diff: 0.00016451194572079746\n",
      "M: 80, Q: 2571497.192498399 Q_diff: 3.158081187318743e-05\n",
      "M break\n",
      "EM: 4, LL: -2532378.3638438033 LL_diff: 0.028444255629546934\n",
      "M: 0, Q: 2532378.3638438033 Q_diff: 0.015212471850528769\n",
      "M: 20, Q: 2517720.256191565 Q_diff: 0.005788277084309434\n",
      "M: 40, Q: 2516469.354289267 Q_diff: 0.0004968391143621956\n",
      "M: 60, Q: 2516197.855886264 Q_diff: 0.00010788861884635161\n",
      "M: 80, Q: 2516009.971899162 Q_diff: 7.46697985860691e-05\n",
      "M break\n",
      "EM: 5, LL: -2503908.879395663 LL_diff: 0.011242192262663195\n",
      "M: 0, Q: 2503908.9474713802 Q_diff: 0.004809609088571134\n",
      "M: 20, Q: 2491157.1130326074 Q_diff: 0.005092770826052023\n",
      "M: 40, Q: 2490146.1889325003 Q_diff: 0.00040580503526588106\n",
      "M: 60, Q: 2490016.2120825145 Q_diff: 5.219647367028453e-05\n",
      "M break\n",
      "EM: 6, LL: -2477827.584078027 LL_diff: 0.010416231809494117\n",
      "M: 0, Q: 2477827.9139900166 Q_diff: 0.0048948669624541705\n",
      "M: 20, Q: 2458807.3843495785 Q_diff: 0.007676291615348503\n",
      "M: 40, Q: 2457708.1992956093 Q_diff: 0.0004470399190134335\n",
      "M: 60, Q: 2457434.310190281 Q_diff: 0.00011144085591888273\n",
      "M: 80, Q: 2457348.4512826162 Q_diff: 3.493843449187142e-05\n",
      "M break\n",
      "EM: 7, LL: -2443846.040538138 LL_diff: 0.013714248625791016\n",
      "M: 0, Q: 2443846.1039042496 Q_diff: 0.005494681623731083\n",
      "M: 20, Q: 2437145.214627824 Q_diff: 0.0027419440470169486\n",
      "M: 40, Q: 2436774.487119498 Q_diff: 0.00015211547760899804\n",
      "M: 60, Q: 2436576.6435641246 Q_diff: 8.119075294795763e-05\n",
      "M break\n",
      "EM: 8, LL: -2428803.868729706 LL_diff: 0.006155122523642918\n",
      "M: 0, Q: 2428803.8689291147 Q_diff: 0.0031900390474236167\n",
      "M: 20, Q: 2418451.373822798 Q_diff: 0.0042623841466792305\n",
      "M: 40, Q: 2417925.729072001 Q_diff: 0.00021734766160144605\n",
      "M: 60, Q: 2417722.9301289734 Q_diff: 8.387310684899427e-05\n",
      "M break\n",
      "EM: 9, LL: -2406522.015532463 LL_diff: 0.009174002678485829\n",
      "M: 0, Q: 2406522.01553246 Q_diff: 0.0046328363175659115\n",
      "M: 20, Q: 2400999.5968118142 Q_diff: 0.0022947717432054973\n",
      "M: 40, Q: 2399895.978501696 Q_diff: 0.0004596495191350895\n",
      "M: 60, Q: 2399586.8632015795 Q_diff: 0.00012880362435941154\n",
      "M: 80, Q: 2399307.686418902 Q_diff: 0.00011634368688988912\n",
      "M: 100, Q: 2398974.3782964367 Q_diff: 0.00013891845733336\n",
      "M: 120, Q: 2398548.7739439746 Q_diff: 0.0001774109620813609\n",
      "M: 140, Q: 2398026.118222726 Q_diff: 0.0002179049794302\n",
      "M: 160, Q: 2397514.3515731217 Q_diff: 0.00021341162455044496\n",
      "M: 180, Q: 2397254.551011298 Q_diff: 0.0001083624636713498\n",
      "M: 200, Q: 2397205.2086462975 Q_diff: 2.0582864251767324e-05\n",
      "M break\n",
      "EM: 10, LL: -2385912.341789613 LL_diff: 0.008564091086567428\n",
      "M: 0, Q: 2385912.557751434 Q_diff: 0.004710756865592035\n",
      "M: 20, Q: 2373944.446973118 Q_diff: 0.0050161564972\n",
      "M: 40, Q: 2372503.3037752146 Q_diff: 0.0006070669428431359\n",
      "M: 60, Q: 2372344.2811251236 Q_diff: 6.702736718551028e-05\n",
      "M break\n",
      "EM: 11, LL: -2364850.3925798046 LL_diff: 0.008827629096385969\n",
      "M: 0, Q: 2364850.3925798046 Q_diff: 0.0031588537148431388\n",
      "M: 20, Q: 2355639.526019426 Q_diff: 0.003894904552642962\n",
      "M: 40, Q: 2354986.93944386 Q_diff: 0.0002770315951815448\n",
      "M: 60, Q: 2354907.244532264 Q_diff: 3.384091447028812e-05\n",
      "M break\n",
      "EM: 12, LL: -2342130.449050788 LL_diff: 0.009607349200738115\n",
      "M: 0, Q: 2342130.4490507883 Q_diff: 0.005425604558795812\n",
      "M: 20, Q: 2332035.8871733877 Q_diff: 0.004309991307910158\n",
      "M: 40, Q: 2331154.085467768 Q_diff: 0.0003781252726297448\n",
      "M: 60, Q: 2331040.9837523582 Q_diff: 4.8517477293641726e-05\n",
      "M break\n",
      "EM: 13, LL: -2323590.5517918905 LL_diff: 0.007915826066140386\n",
      "M: 0, Q: 2323590.5517918905 Q_diff: 0.003196182311850431\n",
      "M: 20, Q: 2318091.3654438322 Q_diff: 0.002366676152912336\n",
      "M: 40, Q: 2317345.1553097423 Q_diff: 0.00032190712808554534\n",
      "M: 60, Q: 2317220.2959670657 Q_diff: 5.3880339055447434e-05\n",
      "M break\n",
      "EM: 14, LL: -2316312.5053455327 LL_diff: 0.0031322413670279475\n",
      "M: 0, Q: 2316312.5157767767 Q_diff: 0.00039175394409799466\n",
      "M: 20, Q: 2315842.896062812 Q_diff: 0.00020274453933405648\n",
      "M: 40, Q: 2315668.1891587256 Q_diff: 7.543987736962008e-05\n",
      "M break\n",
      "EM: 15, LL: -2315274.953456376 LL_diff: 0.0004479326026872534\n",
      "M: 0, Q: 2315274.953456376 Q_diff: 0.00016981521972377222\n",
      "M: 20, Q: 2315173.1901674587 Q_diff: 4.3953003838946865e-05\n",
      "M break\n",
      "EM: 16, LL: -2315187.759160392 LL_diff: 3.766044972501367e-05\n",
      "EM break\n",
      "End time: 2020-05-26 15:15:00\n"
     ]
    },
    {
     "data": {
      "text/plain": [
       "(tensor([[0., 0., 0.,  ..., 1., 0., 0.],\n",
       "         [0., 0., 0.,  ..., 0., 1., 0.],\n",
       "         [0., 0., 0.,  ..., 1., 0., 0.],\n",
       "         ...,\n",
       "         [1., 0., 0.,  ..., 0., 0., 0.],\n",
       "         [0., 1., 0.,  ..., 0., 0., 0.],\n",
       "         [1., 0., 0.,  ..., 0., 0., 0.]], device='cuda:2'),\n",
       " tensor(2315173.1902, device='cuda:2', grad_fn=<NegBackward>),\n",
       " tensor(-2315187.7592, device='cuda:2'))"
      ]
     },
     "execution_count": 158,
     "metadata": {},
     "output_type": "execute_result"
    }
   ],
   "source": [
    "run_EM_(model,optimizer,LL_diff_tolerance=LL_diff_tolerance,Q_diff_tolerance=Q_diff_tolerance)"
   ]
  },
  {
   "cell_type": "code",
   "execution_count": 159,
   "metadata": {},
   "outputs": [
    {
     "data": {
      "text/plain": [
       "(array([0, 1, 5, 8, 9]), array([101,  76,  22,  81, 166]))"
      ]
     },
     "execution_count": 159,
     "metadata": {},
     "output_type": "execute_result"
    },
    {
     "data": {
      "image/png": "[encoded data removed]",
      "text/plain": [
       "<Figure size 1080x1080 with 1 Axes>"
      ]
     },
     "metadata": {
      "needs_background": "light"
     },
     "output_type": "display_data"
    }
   ],
   "source": [
    "import seaborn as sns\n",
    "\n",
    "plt.rcParams[\"figure.figsize\"] = (15,15)\n",
    "plt.rcParams[\"font.size\"] = 15\n",
    "plt.rcParams['font.family']='Arial'\n",
    "\n",
    "\n",
    "plot_value=np.argmax(gamma_new.cpu().numpy(),axis=1)\n",
    "\n",
    "sns.scatterplot(x=\"tSNE_1\", y=\"tSNE_2\",hue=plot_value,style=np.array((list(range(0,2))*30))[plot_value],\n",
    "                data=exp_data_meta,s=40,palette=plt.cm.rainbow)#,linewidth=0.3)\n",
    "\n",
    "np.unique(plot_value,return_counts=True)"
   ]
  },
  {
   "cell_type": "code",
   "execution_count": 225,
   "metadata": {},
   "outputs": [],
   "source": [
    "label=np.argmax(gamma_new.cpu().numpy(),axis=1)\n",
    "label=list(map(lambda x: np.unique(label,return_counts=True)[0].tolist().index(x),label))\n",
    "\n",
    "x_data_intercept=np.array([np.ones(Y.shape[0])]).transpose()\n",
    "x_data_null=np.concatenate([x_data_intercept],axis=1)\n",
    "x_data_null_test=np.concatenate([x_data_intercept,np.eye(max(label)+1)[label]],axis=1)"
   ]
  },
  {
   "cell_type": "code",
   "execution_count": 206,
   "metadata": {},
   "outputs": [
    {
     "data": {
      "text/plain": [
       "(446, 12)"
      ]
     },
     "execution_count": 206,
     "metadata": {},
     "output_type": "execute_result"
    }
   ],
   "source": [
    "x_data_null_test.shape"
   ]
  },
  {
   "cell_type": "code",
   "execution_count": 119,
   "metadata": {},
   "outputs": [
    {
     "name": "stdout",
     "output_type": "stream",
     "text": [
      "4800"
     ]
    }
   ],
   "source": [
    "import statsmodels.api as sm\n",
    "import sys\n",
    "\n",
    "label=np.argmax(gamma_new.cpu().numpy(),axis=1)\n",
    "label=list(map(lambda x: np.unique(label,return_counts=True)[0].tolist().index(x),label))\n",
    "\n",
    "#exp_data_col_patient=pd.Series(exp_data_col).str.slice(start=1,stop=2).astype(int).values\n",
    "#x_data_covariate=np.eye(len(np.unique(exp_data_col_patient)))[exp_data_col_patient-1]\n",
    "x_data_intercept=np.array([np.ones(Y.shape[0])]).transpose()\n",
    "x_data_null=np.concatenate([x_data_intercept],axis=1)\n",
    "x_data_null_test=np.concatenate([x_data_intercept,np.eye(max(label)+1)[label]],axis=1)\n",
    "x_data_null_test=x_data_null_test[:,:-1]\n",
    "\n",
    "family=sm.families.Poisson(link=sm.families.links.log())\n",
    "\n",
    "data_list=[]\n",
    "data_list_=[]\n",
    "for exp_data_row_idx in range(exp_data.shape[0]):\n",
    "    if exp_data_row_idx%100==0:\n",
    "        sys.stdout.write('\\r{}'.format(exp_data_row_idx))\n",
    "    y_data=exp_data[exp_data_row_idx,:]\n",
    "    \n",
    "    model=sm.GLM(y_data,x_data_null_test,family=family)\n",
    "    model_result=model.fit()\n",
    "    \n",
    "    model_=sm.GLM(y_data,x_data_null,family=family)\n",
    "    model_result_=model_.fit()\n",
    "    \n",
    "    data_list.append({\n",
    "        'llf':model_result.llf,\n",
    "        'deviance':model_result.deviance,\n",
    "        'pearson_chi2':model_result.pearson_chi2,\n",
    "        'llnull':model_result.llnull,\n",
    "        'null_deviance':model_result.null_deviance\n",
    "    })\n",
    "    \n",
    "    data_list_.append({\n",
    "        'llf':model_result_.llf,\n",
    "        'deviance':model_result_.deviance,\n",
    "        'pearson_chi2':model_result_.pearson_chi2,\n",
    "        'llnull':model_result_.llnull,\n",
    "        'null_deviance':model_result_.null_deviance\n",
    "    })    \n",
    "    \n",
    "    #ll_list.append([model_result.llf,model_result.deviance,model_result.pearson_chi2])\n",
    "#model_result.llf,model_result.llnull,model_result.null_deviance,model_result.null"
   ]
  },
  {
   "cell_type": "code",
   "execution_count": 120,
   "metadata": {},
   "outputs": [],
   "source": [
    "data_full=pd.DataFrame(data_list)\n",
    "data_null=pd.DataFrame(data_list_)"
   ]
  },
  {
   "cell_type": "code",
   "execution_count": 121,
   "metadata": {},
   "outputs": [
    {
     "data": {
      "text/plain": [
       "40799.684922023094"
      ]
     },
     "execution_count": 121,
     "metadata": {},
     "output_type": "execute_result"
    }
   ],
   "source": [
    "model_result.null_deviance#,model_result.null"
   ]
  },
  {
   "cell_type": "code",
   "execution_count": 122,
   "metadata": {},
   "outputs": [],
   "source": [
    "#np.sum((y_data-np.exp(model_result.null)))"
   ]
  },
  {
   "cell_type": "code",
   "execution_count": 255,
   "metadata": {},
   "outputs": [],
   "source": [
    "marker_unique_exp_data_idx=list(map(lambda x: exp_data_row.index(x), rho.columns))\n",
    "marker_unique_exp_data_idx_bool=np.array(list(map(lambda x: x in marker_unique_exp_data_idx, np.arange(exp_data.shape[0]))))\n",
    "\n",
    "marker_unique_exp_data_idx_drop=list(map(lambda x: exp_data_row.index(x), rho_drop.columns))\n",
    "marker_unique_exp_data_idx_bool_drop=np.array(list(map(lambda x: x in marker_unique_exp_data_idx_drop, np.arange(exp_data.shape[0]))))"
   ]
  },
  {
   "cell_type": "code",
   "execution_count": 124,
   "metadata": {},
   "outputs": [
    {
     "data": {
      "image/png": "[encoded data removed]",
      "text/plain": [
       "<Figure size 1080x1080 with 1 Axes>"
      ]
     },
     "metadata": {
      "needs_background": "light"
     },
     "output_type": "display_data"
    }
   ],
   "source": [
    "plt.hist(\n",
    "    x=[\n",
    "        np.log10(data_full['null_deviance'])[marker_unique_exp_data_idx_bool].repeat(10),# np.sum(~marker_unique_exp_data_idx_bool)/np.sum(marker_unique_exp_data_idx_bool) ),\n",
    "        np.log10(data_full['null_deviance'])[~marker_unique_exp_data_idx_bool],\n",
    "    ],\n",
    "    bins=30,\n",
    "    histtype='barstacked',\n",
    "    color=['blue','grey'],\n",
    "    alpha=0.7\n",
    ")\n",
    "plt.hist(\n",
    "    x=np.log10(data_full['null_deviance'])[pd.Index(marker_unique_exp_data_idx).difference(pd.Index(marker_unique_exp_data_idx_drop))].repeat(50),\n",
    "    bins=20,\n",
    "    alpha=0.3,\n",
    "    color='white',\n",
    "    edgecolor='black',\n",
    "    linewidth=3\n",
    ")\n",
    "plt.show()"
   ]
  },
  {
   "cell_type": "code",
   "execution_count": null,
   "metadata": {},
   "outputs": [],
   "source": []
  },
  {
   "cell_type": "code",
   "execution_count": null,
   "metadata": {},
   "outputs": [],
   "source": []
  }
 ],
 "metadata": {
  "kernelspec": {
   "display_name": "Python 3",
   "language": "python",
   "name": "python3"
  },
  "language_info": {
   "codemirror_mode": {
    "name": "ipython",
    "version": 3
   },
   "file_extension": ".py",
   "mimetype": "text/x-python",
   "name": "python",
   "nbconvert_exporter": "python",
   "pygments_lexer": "ipython3",
   "version": "3.6.9"
  }
 },
 "nbformat": 4,
 "nbformat_minor": 4
}
