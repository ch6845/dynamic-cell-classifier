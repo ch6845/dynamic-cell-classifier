{
 "cells": [
  {
   "cell_type": "markdown",
   "metadata": {},
   "source": [
    "# Tips for using colab Environment\n",
    "\n",
    "\n",
    "## Click the following URL to load this notebook on Colab environment\n",
    "\n",
    "* https://colab.research.google.com/github/ch6845/dynamic-cell-classifier/blob/master/3_DCC.ipynb\n",
    "\n",
    "* You can use free GPUs from Google on Colab. (For more information, see https://colab.research.google.com/notebooks/welcome.ipynb)\n",
    "\n",
    "## Enabling and testing the GPU\n",
    "* Navigate to Edit→Notebook Settings\n",
    "* select GPU from the Hardware Accelerator drop-down\n",
    "\n",
    "## Load data\n",
    "* Upload your data or, mount a storage to Colab virtual environment.\n",
    "(For more information, see https://colab.research.google.com/notebooks/io.ipynb)"
   ]
  },
  {
   "cell_type": "code",
   "execution_count": 2,
   "metadata": {},
   "outputs": [],
   "source": [
    "import datetime\n",
    "\n",
    "import numpy as np\n",
    "import pandas as pd\n",
    "\n",
    "from scipy.io import mmread\n",
    "\n",
    "import matplotlib.pyplot as plt"
   ]
  },
  {
   "cell_type": "code",
   "execution_count": 3,
   "metadata": {},
   "outputs": [
    {
     "data": {
      "text/plain": [
       "'/home/ch6845/tools/miniconda3/envs/pytorch/lib/python3.6/os.py'"
      ]
     },
     "execution_count": 3,
     "metadata": {},
     "output_type": "execute_result"
    }
   ],
   "source": [
    "import os\n",
    "os.__file__"
   ]
  },
  {
   "cell_type": "markdown",
   "metadata": {},
   "source": [
    "# load data"
   ]
  },
  {
   "cell_type": "markdown",
   "metadata": {},
   "source": [
    "# Panglao"
   ]
  },
  {
   "cell_type": "code",
   "execution_count": 4,
   "metadata": {},
   "outputs": [],
   "source": [
    "markers_db=pd.read_csv(\"data/PanglaoDB_markers_27_Mar_2020.tsv.gz\",sep='\\t')\n",
    "markers_db=markers_db[markers_db['species'].str.contains('Hs')].drop(columns='species')\n",
    "markers_db['nicknames']=markers_db['nicknames'].astype(str)\n",
    "markers_db.head()\n",
    "\n",
    "marker_db_markerinfo=markers_db[~markers_db.duplicated(['official gene symbol'])][['official gene symbol','nicknames']]\n",
    "#markers_db_markers=markers_db['official gene symbol'].unique()\n",
    "#markers_db_markers_k\n",
    "#list2=np.unique([j for i in markers_db['nicknames'].astype(str).apply(lambda x: x.split('|') if isinstance(x,str) else x) for j in i])"
   ]
  },
  {
   "cell_type": "code",
   "execution_count": 5,
   "metadata": {},
   "outputs": [],
   "source": [
    "#marker_db_markerinfo['nicknames']"
   ]
  },
  {
   "cell_type": "code",
   "execution_count": 6,
   "metadata": {},
   "outputs": [],
   "source": [
    "#with open('data/HumanLiver_extract/HumanLiver.data.row','r') as f: exp_data_row=[i.strip().strip('\"') for i in f.read().split()]"
   ]
  },
  {
   "cell_type": "code",
   "execution_count": 7,
   "metadata": {},
   "outputs": [],
   "source": [
    "#'MS4A1' in exp_data_row"
   ]
  },
  {
   "cell_type": "code",
   "execution_count": 8,
   "metadata": {},
   "outputs": [],
   "source": [
    "#markers_db[(markers_db['official gene symbol'].str.contains('MS4A1'))|(markers_db['nicknames'].str.contains('MS4A1'))]"
   ]
  },
  {
   "cell_type": "markdown",
   "metadata": {},
   "source": [
    "## expression data"
   ]
  },
  {
   "cell_type": "code",
   "execution_count": 9,
   "metadata": {},
   "outputs": [],
   "source": [
    "exp_data=mmread('data/HumanLiver_extract/HumanLiver.data.counts.mm').toarray().astype(float)\n",
    "with open('data/HumanLiver_extract/HumanLiver.data.col','r') as f: exp_data_col=[i.strip().strip('\"') for i in f.read().split()]\n",
    "with open('data/HumanLiver_extract/HumanLiver.data.row','r') as f: exp_data_row=[i.strip().strip('\"') for i in f.read().split()]\n",
    "assert exp_data.shape==(len(exp_data_row),len(exp_data_col))"
   ]
  },
  {
   "cell_type": "code",
   "execution_count": 10,
   "metadata": {},
   "outputs": [],
   "source": [
    "with open('data/HumanLiver_extract/HumanLiver.data.row','r') as f: exp_data_row=[i.strip().strip('\"') for i in f.read().split()]\n",
    "marker_db_markerinfo_nicknames=np.unique([j for i in marker_db_markerinfo['nicknames'].astype(str).apply(lambda x: x.split('|') if isinstance(x,str) else x) for j in i])\n",
    "exp_data_row_new=[]\n",
    "exp_data_row_new_check=[]\n",
    "for marker in exp_data_row:\n",
    "    if marker in marker_db_markerinfo['official gene symbol'].values:\n",
    "        exp_data_row_new.append(marker)\n",
    "        exp_data_row_new_check.append(True)        \n",
    "    elif marker in marker_db_markerinfo_nicknames:\n",
    "        official_name=marker_db_markerinfo[(marker_db_markerinfo['nicknames']==marker)|\n",
    "                                   (marker_db_markerinfo['nicknames'].str.startswith(marker+'|'))|\n",
    "                                   (marker_db_markerinfo['nicknames'].str.endswith('|'+marker))|\n",
    "                                   (marker_db_markerinfo['nicknames'].str.contains('|'+marker+'|',regex=False))]['official gene symbol'].values[0]\n",
    "        if official_name in exp_data_row_new:\n",
    "            #exp_data_row_new.append(official_name)\n",
    "            exp_data_row_new_check.append(False)            \n",
    "        else:\n",
    "            exp_data_row_new.append(marker)\n",
    "            exp_data_row_new_check.append(True)\n",
    "    else:\n",
    "        exp_data_row_new.append(marker)\n",
    "        exp_data_row_new_check.append(True)\n",
    "exp_data_row=list(exp_data_row_new)\n",
    "exp_data=exp_data[exp_data_row_new_check,:]"
   ]
  },
  {
   "cell_type": "code",
   "execution_count": 11,
   "metadata": {},
   "outputs": [],
   "source": [
    "assert len(set(exp_data_row))==len(exp_data_row)\n",
    "assert len(set(exp_data_col))==len(exp_data_col)"
   ]
  },
  {
   "cell_type": "markdown",
   "metadata": {},
   "source": [
    "## cluster info "
   ]
  },
  {
   "cell_type": "code",
   "execution_count": 12,
   "metadata": {},
   "outputs": [
    {
     "data": {
      "text/html": [
       "<div>\n",
       "<style scoped>\n",
       "    .dataframe tbody tr th:only-of-type {\n",
       "        vertical-align: middle;\n",
       "    }\n",
       "\n",
       "    .dataframe tbody tr th {\n",
       "        vertical-align: top;\n",
       "    }\n",
       "\n",
       "    .dataframe thead th {\n",
       "        text-align: right;\n",
       "    }\n",
       "</style>\n",
       "<table border=\"1\" class=\"dataframe\">\n",
       "  <thead>\n",
       "    <tr style=\"text-align: right;\">\n",
       "      <th></th>\n",
       "      <th>total_counts</th>\n",
       "      <th>total_features</th>\n",
       "      <th>orig.ident</th>\n",
       "      <th>res.0.8</th>\n",
       "      <th>S.Score</th>\n",
       "      <th>G2M.Score</th>\n",
       "      <th>Phase</th>\n",
       "    </tr>\n",
       "  </thead>\n",
       "  <tbody>\n",
       "    <tr>\n",
       "      <th>P1TLH_AAACCTGAGCAGCCTC_1</th>\n",
       "      <td>2943</td>\n",
       "      <td>1427</td>\n",
       "      <td>P1TLH</td>\n",
       "      <td>12</td>\n",
       "      <td>0.046089</td>\n",
       "      <td>0.000349</td>\n",
       "      <td>S</td>\n",
       "    </tr>\n",
       "    <tr>\n",
       "      <th>P1TLH_AAACCTGTCCTCATTA_1</th>\n",
       "      <td>10897</td>\n",
       "      <td>2522</td>\n",
       "      <td>P1TLH</td>\n",
       "      <td>17</td>\n",
       "      <td>-0.000357</td>\n",
       "      <td>0.009434</td>\n",
       "      <td>G2M</td>\n",
       "    </tr>\n",
       "    <tr>\n",
       "      <th>P1TLH_AAACCTGTCTAAGCCA_1</th>\n",
       "      <td>1914</td>\n",
       "      <td>1018</td>\n",
       "      <td>P1TLH</td>\n",
       "      <td>12</td>\n",
       "      <td>0.012811</td>\n",
       "      <td>-0.056561</td>\n",
       "      <td>S</td>\n",
       "    </tr>\n",
       "    <tr>\n",
       "      <th>P1TLH_AAACGGGAGTAGGCCA_1</th>\n",
       "      <td>5574</td>\n",
       "      <td>1798</td>\n",
       "      <td>P1TLH</td>\n",
       "      <td>10</td>\n",
       "      <td>-0.011324</td>\n",
       "      <td>-0.047102</td>\n",
       "      <td>G1</td>\n",
       "    </tr>\n",
       "    <tr>\n",
       "      <th>P1TLH_AAACGGGGTTCGGGCT_1</th>\n",
       "      <td>3700</td>\n",
       "      <td>1417</td>\n",
       "      <td>P1TLH</td>\n",
       "      <td>2</td>\n",
       "      <td>0.057467</td>\n",
       "      <td>-0.003861</td>\n",
       "      <td>S</td>\n",
       "    </tr>\n",
       "  </tbody>\n",
       "</table>\n",
       "</div>"
      ],
      "text/plain": [
       "                          total_counts  total_features orig.ident  res.0.8  \\\n",
       "P1TLH_AAACCTGAGCAGCCTC_1          2943            1427      P1TLH       12   \n",
       "P1TLH_AAACCTGTCCTCATTA_1         10897            2522      P1TLH       17   \n",
       "P1TLH_AAACCTGTCTAAGCCA_1          1914            1018      P1TLH       12   \n",
       "P1TLH_AAACGGGAGTAGGCCA_1          5574            1798      P1TLH       10   \n",
       "P1TLH_AAACGGGGTTCGGGCT_1          3700            1417      P1TLH        2   \n",
       "\n",
       "                           S.Score  G2M.Score Phase  \n",
       "P1TLH_AAACCTGAGCAGCCTC_1  0.046089   0.000349     S  \n",
       "P1TLH_AAACCTGTCCTCATTA_1 -0.000357   0.009434   G2M  \n",
       "P1TLH_AAACCTGTCTAAGCCA_1  0.012811  -0.056561     S  \n",
       "P1TLH_AAACGGGAGTAGGCCA_1 -0.011324  -0.047102    G1  \n",
       "P1TLH_AAACGGGGTTCGGGCT_1  0.057467  -0.003861     S  "
      ]
     },
     "execution_count": 12,
     "metadata": {},
     "output_type": "execute_result"
    }
   ],
   "source": [
    "exp_data_meta=pd.read_csv('data/HumanLiver_extract/HumanLiver.metadata.tsv',sep='\\t')\n",
    "exp_data_meta.head()"
   ]
  },
  {
   "cell_type": "markdown",
   "metadata": {},
   "source": [
    "`clusterid_to_clustername` is used to convert integers in `res.0.8` to cell-type name"
   ]
  },
  {
   "cell_type": "code",
   "execution_count": 13,
   "metadata": {},
   "outputs": [
    {
     "data": {
      "text/plain": [
       "(11,)"
      ]
     },
     "execution_count": 13,
     "metadata": {},
     "output_type": "execute_result"
    }
   ],
   "source": [
    "clusterid_to_clustername=pd.read_csv('data/HumanLiver_extract/HumanLiver.clusterid_to_clustername.tsv',sep='\\t',header=None,index_col=0)\n",
    "clusterid_to_clustername[1]=clusterid_to_clustername[1].str.replace(' ','_')\n",
    "len(clusterid_to_clustername[1].unique()),"
   ]
  },
  {
   "cell_type": "markdown",
   "metadata": {},
   "source": [
    "## Marker info"
   ]
  },
  {
   "cell_type": "code",
   "execution_count": 14,
   "metadata": {},
   "outputs": [
    {
     "data": {
      "text/plain": [
       "\"\\n# Old one\\nclustername_to_markers={'Hepatocytes':['ALB','HAMP','ARG1','PCK1','AFP','BCHE'],\\n'LSECs':['CALCRL','FCGR2B','VWF'],\\n'Cholangiocytes':['KRT19','EPCAM','FXYD2','CLDN4','CLDN10','SOX9','MMP7','CXCL1','CFTR','TFF2','KRT7','CD24'],\\n'Hepatic_Stellate_Cells':['ACTA2','COL1A1','TAGLN','COL1A2','COL3A1','SPARC','RBP1','DCN','MYL9'],\\n'Macrophages':['CD68','MARCO'],\\n'ab_T_cells':['CD2','CD3D','TRAC','IL32','CD3E'],\\n'gd_T_cells':['NKG7','FCGR3A','HOPX','GNLY'],\\n'NK_cells':['GZMK','KLRF1','CCL3','CMC1'],\\n'Plasma_cells':['CD27','IGHG1'],\\n'Mature_B_cells':['MS4A1','LTB','CD52','IGHD'],\\n'Erythroid_cells':['HBB','SLC25A37','CA1','ALAS2'],\\n'other':[]    \\n}\\n\""
      ]
     },
     "execution_count": 14,
     "metadata": {},
     "output_type": "execute_result"
    }
   ],
   "source": [
    "\n",
    "# New one\n",
    "clustername_to_markers={'Cholangiocytes':['KRT19','EPCAM','FXYD2','CLDN4','CLDN10','SOX9','MMP7','CXCL1','CFTR','TFF2','KRT7','CD24'],\n",
    "'Mature_B_cells':['MS4A1','IGHD','CD79A','PTPRC','IGKC','CD19'],\n",
    "'Hepatocytes':['ALB','HAMP','ARG1','PCK1','AFP','BCHE'],\n",
    "'LSECs':['CALCRL','VWF','PECAM1','CLEC14A','EMCN'],\n",
    "'Hepatic_Stellate_Cells':['ACTA2','COL1A1','TAGLN','COL1A2','COL3A1','SPARC','RBP1','DCN','MYL9'],\n",
    "'Macrophages':['CD68','MARCO','FCGR3A','LYZ','PTPRC','AIF1'],\n",
    "'ab_T_cells':['CD2','CD3D','TRAC','IL32','CD3E','PTPRC'],\n",
    "'gd_T_cells':['NKG7','FCGR3A','HOPX','GNLY','CMC1','KLRF1','CCL3','PTPRC'],\n",
    "'NK_cells':['GZMK','KLRF1','CCL3','CMC1','NKG7','PTPRC'],\n",
    "'Plasma_cells':['CD27','IGHG1','IGHA1','IGHM','CD79A','PTPRC','IGKC'],\n",
    "'Erythroid_cells':['HBB','SLC25A37','CA1','ALAS2'],\n",
    "'other':[]                           \n",
    "}\n",
    "\n",
    "\n",
    "\"\"\"\n",
    "# Old one\n",
    "clustername_to_markers={'Hepatocytes':['ALB','HAMP','ARG1','PCK1','AFP','BCHE'],\n",
    "'LSECs':['CALCRL','FCGR2B','VWF'],\n",
    "'Cholangiocytes':['KRT19','EPCAM','FXYD2','CLDN4','CLDN10','SOX9','MMP7','CXCL1','CFTR','TFF2','KRT7','CD24'],\n",
    "'Hepatic_Stellate_Cells':['ACTA2','COL1A1','TAGLN','COL1A2','COL3A1','SPARC','RBP1','DCN','MYL9'],\n",
    "'Macrophages':['CD68','MARCO'],\n",
    "'ab_T_cells':['CD2','CD3D','TRAC','IL32','CD3E'],\n",
    "'gd_T_cells':['NKG7','FCGR3A','HOPX','GNLY'],\n",
    "'NK_cells':['GZMK','KLRF1','CCL3','CMC1'],\n",
    "'Plasma_cells':['CD27','IGHG1'],\n",
    "'Mature_B_cells':['MS4A1','LTB','CD52','IGHD'],\n",
    "'Erythroid_cells':['HBB','SLC25A37','CA1','ALAS2'],\n",
    "'other':[]    \n",
    "}\n",
    "\"\"\"\n",
    "\n",
    "#for key,value in clustername2markers_new.items():\n",
    "#    for i in value:\n",
    "#        print(markers_db[(markers_db['official gene symbol']==i)].shape)\n",
    "#markers_db[(markers_db['official gene symbol']=='CD32B') |(markers_db['nicknames'].str.contains('CD32B'))]\n",
    "#clustername_to_markers"
   ]
  },
  {
   "cell_type": "code",
   "execution_count": 15,
   "metadata": {},
   "outputs": [],
   "source": [
    "clustername_unique=list(clustername_to_markers.keys())\n",
    "exp_data_meta_clusterid_clusteridunique=clusterid_to_clustername.loc[exp_data_meta['res.0.8'].values][1].apply(lambda x: clustername_unique.index(x))"
   ]
  },
  {
   "cell_type": "code",
   "execution_count": 16,
   "metadata": {},
   "outputs": [
    {
     "data": {
      "text/plain": [
       "array(['ACTA2', 'AFP', 'AIF1', 'ALAS2', 'ALB', 'ARG1', 'BCHE', 'CA1',\n",
       "       'CALCRL', 'CCL3', 'CD19', 'CD2', 'CD24', 'CD27', 'CD3D', 'CD3E',\n",
       "       'CD68', 'CD79A', 'CFTR', 'CLDN10', 'CLDN4', 'CLEC14A', 'CMC1',\n",
       "       'COL1A1', 'COL1A2', 'COL3A1', 'CXCL1', 'DCN', 'EMCN', 'EPCAM',\n",
       "       'FCGR3A', 'FXYD2', 'GNLY', 'GZMK', 'HAMP', 'HBB', 'HOPX', 'IGHA1',\n",
       "       'IGHD', 'IGHG1', 'IGHM', 'IGKC', 'IL32', 'KLRF1', 'KRT19', 'KRT7',\n",
       "       'LYZ', 'MARCO', 'MMP7', 'MS4A1', 'MYL9', 'NKG7', 'PCK1', 'PECAM1',\n",
       "       'PTPRC', 'RBP1', 'SLC25A37', 'SOX9', 'SPARC', 'TAGLN', 'TFF2',\n",
       "       'TRAC', 'VWF'], dtype='<U8')"
      ]
     },
     "execution_count": 16,
     "metadata": {},
     "output_type": "execute_result"
    }
   ],
   "source": [
    "marker_unique=np.unique([j for i in list(clustername_to_markers.values()) for j in i])\n",
    "marker_unique_exp_data_idx=list(map(lambda x: exp_data_row.index(x),marker_unique))\n",
    "marker_unique#,"
   ]
  },
  {
   "cell_type": "code",
   "execution_count": 17,
   "metadata": {},
   "outputs": [],
   "source": [
    "pi_true=np.array([np.sum(exp_data_meta_clusterid_clusteridunique==i) for i in sorted(np.unique(exp_data_meta_clusterid_clusteridunique))])/exp_data_meta_clusterid_clusteridunique.shape[0]\n",
    "M_true=np.array([np.mean(exp_data[marker_unique_exp_data_idx,:][:,exp_data_meta_clusterid_clusteridunique==i],axis=1) for i in sorted(np.unique(exp_data_meta_clusterid_clusteridunique))])"
   ]
  },
  {
   "cell_type": "markdown",
   "metadata": {},
   "source": [
    "# Data preparation"
   ]
  },
  {
   "cell_type": "code",
   "execution_count": 18,
   "metadata": {},
   "outputs": [
    {
     "data": {
      "text/plain": [
       "(8444,)"
      ]
     },
     "execution_count": 18,
     "metadata": {},
     "output_type": "execute_result"
    }
   ],
   "source": [
    "cell_size_factor=pd.read_csv('data/analysis/size_factor_cluster.tsv',sep='\\t',header=None)[0].values.astype(float)#.reshape(-1,1)\n",
    "#cell_size_factor=np.ones_like(cell_size_factor)\n",
    "cell_size_factor.shape"
   ]
  },
  {
   "cell_type": "code",
   "execution_count": 19,
   "metadata": {},
   "outputs": [
    {
     "data": {
      "text/plain": [
       "(8444, 63)"
      ]
     },
     "execution_count": 19,
     "metadata": {},
     "output_type": "execute_result"
    }
   ],
   "source": [
    "marker_onehot=np.array([np.sum(np.eye(len(marker_unique))[[marker_unique.tolist().index(marker) for marker in value]],axis=0) for key,value in clustername_to_markers.items()])\n",
    "marker_onehot.shape\n",
    "#marker_onehot.T\n",
    "\n",
    "Y=exp_data[marker_unique_exp_data_idx].transpose().astype(float)\n",
    "Y.shape"
   ]
  },
  {
   "cell_type": "code",
   "execution_count": 20,
   "metadata": {},
   "outputs": [
    {
     "data": {
      "text/plain": [
       "(array([1., 2., 6.]), array([55,  7,  1]))"
      ]
     },
     "execution_count": 20,
     "metadata": {},
     "output_type": "execute_result"
    }
   ],
   "source": [
    "np.unique(np.sum(marker_onehot,axis=0),return_counts=True)"
   ]
  },
  {
   "cell_type": "code",
   "execution_count": 21,
   "metadata": {},
   "outputs": [
    {
     "data": {
      "text/plain": [
       "((8444, 240), (10, 240))"
      ]
     },
     "execution_count": 21,
     "metadata": {},
     "output_type": "execute_result"
    }
   ],
   "source": [
    "type_list=markers_db['cell type'].unique()[:10]\n",
    "marker_list=list(set(markers_db.set_index('cell type').loc[type_list]['official gene symbol'].values).intersection(exp_data_row))#len(marker_touse)\n",
    "\n",
    "\n",
    "onehotsum_list=[]\n",
    "\n",
    "for cell_type in type_list:\n",
    "    marker_list_idx=[]\n",
    "    for x in markers_db[markers_db['cell type']==cell_type]['official gene symbol'].values:\n",
    "        if x in marker_list:\n",
    "            marker_list_idx.append(marker_list.index(x))\n",
    "        else:\n",
    "            continue    \n",
    "    onehotsum=np.sum(np.eye(len(marker_list))[marker_list_idx],axis=0)\n",
    "    onehotsum_list.append(onehotsum)    \n",
    "marker_onehot=np.array(onehotsum_list)\n",
    "marker_onehot.shape # (C,G)\n",
    "\n",
    "Y=exp_data[list(map(lambda x: exp_data_row.index(x),marker_list))].transpose().astype(float)\n",
    "Y.shape\n",
    "rho=marker_onehot\n",
    "Y.shape,rho.shape"
   ]
  },
  {
   "cell_type": "code",
   "execution_count": null,
   "metadata": {},
   "outputs": [],
   "source": []
  },
  {
   "cell_type": "code",
   "execution_count": 22,
   "metadata": {},
   "outputs": [
    {
     "data": {
      "text/plain": [
       "(8444, 6)"
      ]
     },
     "execution_count": 22,
     "metadata": {},
     "output_type": "execute_result"
    }
   ],
   "source": [
    "exp_data_col_patient=pd.Series(exp_data_col).str.slice(start=1,stop=2).astype(int).values\n",
    "x_data_covariate=np.eye(len(np.unique(exp_data_col_patient)))[exp_data_col_patient-1]\n",
    "x_data_intercept=np.array([np.ones(Y.shape[0])]).transpose()\n",
    "x_data_null=np.concatenate([x_data_intercept,x_data_covariate[:,:]],axis=1)\n",
    "x_data_null.shape"
   ]
  },
  {
   "cell_type": "code",
   "execution_count": null,
   "metadata": {},
   "outputs": [],
   "source": []
  },
  {
   "cell_type": "markdown",
   "metadata": {},
   "source": [
    "# Torch porting"
   ]
  },
  {
   "cell_type": "code",
   "execution_count": 23,
   "metadata": {},
   "outputs": [
    {
     "data": {
      "text/plain": [
       "(8444, 3)"
      ]
     },
     "execution_count": 23,
     "metadata": {},
     "output_type": "execute_result"
    }
   ],
   "source": [
    "# Asuume that the following variables are initialized\n",
    "\n",
    "# Input\n",
    "Y\n",
    "s=cell_size_factor\n",
    "X=x_data_null.copy()[:,[0, 1,2,3,4]]\n",
    "X=x_data_null.copy()[:,[0, 1,2]]\n",
    "# 234 x\n",
    "# 34 x\n",
    "# 123 x\n",
    "rho=marker_onehot\n",
    "\n",
    "delta_min=2\n",
    "B=10\n",
    "LR=1e-1\n",
    "\n",
    "# Optional\n",
    "EM_ITER_MAX=20\n",
    "M_ITER_MAX=10000\n",
    "\n",
    "BATCH_SIZE=Y.shape[0]\n",
    "NUM_WORKERS=0\n",
    "\n",
    "LOWER_BOUND=1e-10\n",
    "THETA_LOWER_BOUND=1e-20\n",
    "\n",
    "\n",
    "Q_diff_tolerance=1e-4\n",
    "LL_diff_tolerance=1e-4\n",
    "X.shape"
   ]
  },
  {
   "cell_type": "code",
   "execution_count": 24,
   "metadata": {},
   "outputs": [],
   "source": [
    "import math\n",
    "import numpy as np\n",
    "\n",
    "import torch\n",
    "import torch.nn.functional as F\n",
    "import torch.nn as nn\n",
    "import torch.optim as optim\n",
    "import torch.nn.init as init\n",
    "from torch.nn.parameter import Parameter\n",
    "\n",
    "from torch.utils.data import Dataset\n",
    "from torch.utils.data import DataLoader"
   ]
  },
  {
   "cell_type": "code",
   "execution_count": 25,
   "metadata": {},
   "outputs": [],
   "source": [
    "torch.set_default_dtype(torch.float64) "
   ]
  },
  {
   "cell_type": "code",
   "execution_count": 26,
   "metadata": {},
   "outputs": [],
   "source": [
    "device_cpu=torch.device(\"cpu\")\n",
    "device_cuda_list=[torch.device(\"cuda:{}\".format(i)) for i in range(6)][::-1]"
   ]
  },
  {
   "cell_type": "code",
   "execution_count": 27,
   "metadata": {},
   "outputs": [],
   "source": [
    "#from basic_tools import Cell_Dataset,Masked\n",
    "class Masked_Function(torch.autograd.Function):\n",
    "    @staticmethod\n",
    "    def forward(ctx, input, mask):\n",
    "        #print('aaaa')\n",
    "        output=input\n",
    "        ctx.save_for_backward(input, mask)\n",
    "        return output\n",
    "\n",
    "    @staticmethod\n",
    "    def backward(ctx, grad_output):\n",
    "        input, mask = ctx.saved_tensors\n",
    "        grad_input = grad_mask = None\n",
    "        if ctx.needs_input_grad[0]:\n",
    "            grad_input = grad_output.mul(mask)\n",
    "\n",
    "        return grad_input, grad_mask\n",
    "    \n",
    "class Masked(nn.Module):    \n",
    "    def __init__(self, mask):    \n",
    "        super(Masked, self).__init__()\n",
    "        \n",
    "        self.mask = nn.Parameter(torch.Tensor(mask)==1, requires_grad=False)    \n",
    "        \n",
    "        \n",
    "    def forward(self, input):\n",
    "        return Masked_Function.apply(input, self.mask)\n",
    "\n",
    "    def extra_repr(self):\n",
    "        return 'mask={}'.format(self.mask.shape)  "
   ]
  },
  {
   "cell_type": "code",
   "execution_count": 28,
   "metadata": {},
   "outputs": [],
   "source": [
    "import math\n",
    "class NB_logprob(nn.Module):\n",
    "    def __init__(self):\n",
    "        super(NB_logprob,self).__init__()\n",
    "        \n",
    "    def forward(self,total_count,probs,value):\n",
    "        \n",
    "        #eps = torch.finfo(probs.dtype).eps\n",
    "        #probs_clamped=probs.clamp(min=eps, max=1 - eps)        \n",
    "        probs_clamped=probs\n",
    "        logits=torch.log(probs_clamped) - torch.log1p(-probs_clamped)\n",
    "        #logits=torch.log(probs_clamped)\n",
    "        \n",
    "        log_unnormalized_prob = (total_count * F.logsigmoid(-logits) +\n",
    "                                 value * F.logsigmoid(logits))\n",
    "        log_normalization = (-torch.lgamma(total_count + value) + torch.lgamma(1. + value) +\n",
    "                             torch.lgamma(total_count))\n",
    "\n",
    "        return log_unnormalized_prob - log_normalization\n",
    "    \n",
    "class Normal_logprob(nn.Module):\n",
    "    def __init__(self):\n",
    "        super(Normal_logprob,self).__init__()\n",
    "        \n",
    "    def forward(self,loc,scale,value):\n",
    "    \n",
    "        var = (scale ** 2)\n",
    "        log_scale = torch.log(scale)\n",
    "        \n",
    "        \n",
    "        #print(loc.shape,scale.shape,value.shape)\n",
    "        return -((value - loc) ** 2) / (2 * var) - log_scale - math.log(math.sqrt(2 * math.pi))    \n",
    "        #return log_scale\n",
    "        \n",
    "class Poisson_logprob(nn.Module):\n",
    "    def __init__(self):\n",
    "        super(Poisson_logprob,self).__init__()\n",
    "        \n",
    "    def forward(self,rate,value):\n",
    "        #rate=rate.clamp(min=1e-3)+(-1)/rate.clamp(max=-1e-5)\n",
    "        \n",
    "        return (rate.log() * value) - rate - (value + 1).lgamma()\n",
    "    \n",
    "class Dirichlet_logprob(nn.Module):\n",
    "    def __init__(self):\n",
    "        super(Dirichlet_logprob,self).__init__()\n",
    "        \n",
    "    def forward(self,concentration,value):\n",
    "        \n",
    "        return ((torch.log(value) * (concentration - 1.0)).sum(-1) +\n",
    "                torch.lgamma(concentration.sum(-1)) -\n",
    "                torch.lgamma(concentration).sum(-1))\n",
    "    \n",
    "        \n",
    "NB_logprob=NB_logprob()        \n",
    "normal_logprob=Normal_logprob()\n",
    "poisson_logprob=Poisson_logprob()\n",
    "dirichlet_logprob=Dirichlet_logprob()"
   ]
  },
  {
   "cell_type": "code",
   "execution_count": 29,
   "metadata": {},
   "outputs": [],
   "source": [
    "class Cell_Dataset(Dataset):\n",
    "    def __init__(self,Y,X,s):\n",
    "        self.Y=Y\n",
    "        self.X=X\n",
    "        self.s=s\n",
    "        \n",
    "    def __len__(self):\n",
    "        return self.Y.shape[0]\n",
    "    \n",
    "    def __getitem__(self,idx):\n",
    "        item= {\"Y\":self.Y[idx,:],\"X\":self.X[idx,:],\"s\":self.s[idx]}\n",
    "        return item  "
   ]
  },
  {
   "cell_type": "code",
   "execution_count": 30,
   "metadata": {},
   "outputs": [],
   "source": [
    "def run_EM(em_iter_max=EM_ITER_MAX,m_iter_max=M_ITER_MAX,batch_iter_max=9999):\n",
    "    global gamma_new,Q_new,LL_new\n",
    "    \n",
    "    print('Start time:',datetime.datetime.now().strftime('%Y-%m-%d %H:%M:%S'))\n",
    "    \n",
    "    with torch.no_grad():\n",
    "        for batch_idx,batch in enumerate(cell_dataloader):\n",
    "            batch_Y=batch['Y'].to(device)\n",
    "            batch_X=batch['X'].to(device)\n",
    "            batch_s=batch['s'].to(device)    \n",
    "        gamma_fixed,_,LL_old=model(batch_Y,batch_X,batch_s,gamma_fixed=None,mode='LL')\n",
    "        _,Q_old,_=model(batch_Y,batch_X,batch_s,gamma_fixed=gamma_fixed,mode='M')\n",
    "\n",
    "    print(LL_old)\n",
    "    print(Q_old)\n",
    "\n",
    "    for em_idx in range(EM_ITER_MAX):\n",
    "        print('------------EM {}----------------'.format(em_idx))\n",
    "        if em_idx==em_iter_max:\n",
    "            break         \n",
    "        #optimizer = optim.Adam(model.parameters(),lr=0.1,eps=1e-3,betas=(0.9,0.999))\n",
    "        LL_new=torch.zeros_like(LL_old)\n",
    "        #optimizer = optim.Adam(model.parameters(),lr=LR)\n",
    "        for batch_idx,batch in enumerate(cell_dataloader):\n",
    "            print('------------batch {}----------------'.format(batch_idx))\n",
    "            if batch_idx==batch_iter_max:\n",
    "                break\n",
    "            # It is usually just one iteration(batch).\n",
    "            # However, developer of cellAssign may have done this for extreme situation of larse sample size\n",
    "            batch_Y=batch['Y'].to(device)\n",
    "            batch_X=batch['X'].to(device)\n",
    "            batch_s=batch['s'].to(device)\n",
    "\n",
    "            #############\n",
    "            #E-step\n",
    "            ######### ####\n",
    "            with torch.no_grad():\n",
    "                gamma_new,_,_=model(batch_Y,batch_X,batch_s,gamma_fixed=None,mode='E')\n",
    "                \n",
    "\n",
    "                \n",
    "            #############\n",
    "            #M-step\n",
    "            #############\n",
    "            for m_idx in range(M_ITER_MAX):\n",
    "                if m_idx==m_iter_max:\n",
    "                    break                #\n",
    "            #for m_idx in range(20):#    \n",
    "                optimizer.zero_grad()\n",
    "                _,Q_new,_=model(batch_Y,batch_X,batch_s,gamma_fixed=gamma_new,mode='M')\n",
    "                Q_new.backward()\n",
    "                optimizer.step()\n",
    "                \n",
    "                #Constraint\n",
    "                model.delta_log.data=model.delta_log.data.clamp(min=model.delta_log_min)\n",
    "                model.NB_basis_a.data=model.NB_basis_a.data.clamp(min=0)\n",
    "\n",
    "                if m_idx%20==0:\n",
    "                    #print(sorted(model.delta_log.cpu().detach().numpy().flatten())[-10:])\n",
    "                    Q_diff=(Q_old-Q_new)/torch.abs(Q_old)\n",
    "                    Q_old=Q_new\n",
    "                    print('M: {}, Q: {} Q_diff: {}'.format(m_idx,Q_new,Q_diff))    \n",
    "                    if m_idx>0 and torch.abs(Q_diff)<Q_diff_tolerance:\n",
    "                        print('M break')\n",
    "                        break                \n",
    "            #############\n",
    "            #Look at LL\n",
    "            #############\n",
    "            with torch.no_grad():\n",
    "                _,_,LL_temp=model(batch_Y,batch_X,batch_s,gamma_fixed=None,mode='LL')\n",
    "                LL_new+=LL_temp\n",
    "\n",
    "        LL_diff=(LL_new-LL_old)/torch.abs(LL_old)\n",
    "        LL_old=LL_new\n",
    "        print('EM: {}, LL: {} LL_diff: {}'.format(em_idx,LL_new,LL_diff))\n",
    "        if LL_diff<LL_diff_tolerance:\n",
    "            print('EM break')\n",
    "            break\n",
    "    print('End time:',datetime.datetime.now().strftime('%Y-%m-%d %H:%M:%S'))    \n",
    "    return gamma_new,Q_new,LL_new"
   ]
  },
  {
   "cell_type": "code",
   "execution_count": 31,
   "metadata": {},
   "outputs": [],
   "source": [
    "import torch\n",
    "import torch.nn as nn\n",
    "import torch.nn.functional as F\n",
    "\n",
    "from torch.distributions.negative_binomial import NegativeBinomial\n",
    "from torch.distributions.normal import Normal\n",
    "from torch.distributions.dirichlet import Dirichlet\n",
    "\n",
    "class Custom_Model(nn.Module):\n",
    "    def __init__(self,Y,rho,X_col=5,delta_min=2,LOWER_BOUND=1e-10,THETA_LOWER_BOUND=1e-20):\n",
    "        # Y,rho are needed for model parameter initialization\n",
    "        super(Custom_Model, self).__init__()\n",
    "        \n",
    "        #rho\n",
    "        self.masked=Masked(rho)\n",
    "         \n",
    "        #delta\n",
    "        self.delta_log_min=np.log(delta_min) #\n",
    "        ########## be careful\n",
    "        self.delta_log=nn.Parameter(torch.Tensor(np.random.uniform(2,2,size=rho.shape)),requires_grad=True) # (C,G)\n",
    "        self.delta_log.data=self.delta_log.data.clamp(min=self.delta_log_min)\n",
    "\n",
    "        #delta prior\n",
    "        self.delta_log_mean=nn.Parameter(0*torch.ones(1),requires_grad=True)        \n",
    "        self.delta_log_variance=nn.Parameter(1*torch.ones(1),requires_grad=True)           \n",
    "        \n",
    "        #beta\n",
    "        Y_colmean=np.mean(Y,axis=0)\n",
    "        beta_init=np.hstack([((Y_colmean-Y_colmean.mean())/np.std(Y_colmean)).reshape(-1,1),\\\n",
    "                     np.zeros((Y.shape[1],X_col-1))]).T\n",
    "        self.beta=nn.Parameter(torch.Tensor(beta_init),requires_grad=True) # (P,G)\n",
    "        \n",
    "        #print(((np.mean(Y,axis=0)-np.mean(Y))/np.std(np.mean(Y,axis=0))).reshape(-1,1))\n",
    "        #print(self.beta)\n",
    "        \n",
    "        #NB parameters\n",
    "        self.NB_basis_mean=nn.Parameter(torch.Tensor(np.linspace(np.min(Y),np.max(Y),B)), requires_grad=False)\n",
    "        self.NB_basis_a=nn.Parameter(torch.ones(B),requires_grad=True) # not consistent with paper.. hmm. strange...\n",
    "        self.NB_basis_b=nn.Parameter((1/(2*((np.max(Y)-np.min(Y))/(B-1))**2))*torch.ones(B),requires_grad=False) # hmm... strange\n",
    "        \n",
    "        #theta\n",
    "        self.theta_logit=nn.Parameter(torch.Tensor(np.random.normal(loc=0.,scale=1.,size=rho.shape[0])),requires_grad=True)\n",
    "        \n",
    "        # lower bounds\n",
    "        self.LOWER_BOUND=LOWER_BOUND\n",
    "        self.THETA_LOWER_BOUND=THETA_LOWER_BOUND\n",
    "        \n",
    "    def forward(self,Y,X,s,gamma_fixed=None,mode='E'):\n",
    "        delta_log_masked=self.masked(self.delta_log) #(C,G)\n",
    "        delta=torch.exp(delta_log_masked)*self.masked.mask\n",
    "        \n",
    "        X_beta_s=X.matmul(self.beta)+torch.log(s.view(-1, 1)) #(N,P)*(P,G) + (N,1) = (N,G)\n",
    "        \n",
    "        mu_log=X_beta_s.unsqueeze(dim=1).repeat(1,delta.shape[0],1)+delta #(N,1,G)+(C,G) = (N,C,G)\n",
    "        \n",
    "        mu=torch.exp(mu_log) # (N,C,G)\n",
    "        #print(mu.shape)\n",
    "        \n",
    "        #Y_extend=Y.view(Y.shape[0],1,Y.shape[1]).repeat(1,mu_log.shape[1],1) # (N,C,G)\n",
    "        #print('Y',Y.shape)\n",
    "        Y_extend=Y.unsqueeze(dim=1).repeat(1,mu_log.shape[1],1);#print(Y_extend.shape)\n",
    "        \n",
    "        # Negative Binomial\n",
    "        phi_B=self.NB_basis_a*torch.exp(-self.NB_basis_b*(mu_log.unsqueeze(dim=3).repeat(1,1,1,B)-self.NB_basis_mean)**2);#print(phi_B.shape) # (N,C,G,B)\n",
    "        phi=torch.sum(phi_B,axis=3)+self.LOWER_BOUND;#print(phi.shape)\n",
    "        Y_logprob=NB_logprob(total_count=phi,probs=(mu/(mu+phi)),value=Y_extend) # (N,C,G)\n",
    "        \n",
    "        # Normal\n",
    "        #Y_logprob=normal_logprob(loc=mu_log,scale=torch.ones(1).to(device),value=Y_extend) # (N,C,G)\n",
    "        \n",
    "        # Poisson\n",
    "        #Y_logprob=poisson_logprob(rate=mu,value=Y_extend) # (N,C,G)\n",
    "\n",
    "        theta_log=F.log_softmax(self.theta_logit,dim=0) # (C)          \n",
    "        Y_logprob_reduce=torch.sum(Y_logprob,axis=2)+theta_log # (N,C)\n",
    "        \n",
    "        Y_logprob_reduce_reduce=torch.logsumexp(Y_logprob_reduce,dim=1).view(-1,1) # (N,1)\n",
    "        \n",
    "        gamma=torch.exp(Y_logprob_reduce-Y_logprob_reduce_reduce) # (N,C)\n",
    "\n",
    "        if mode=='E':\n",
    "            return gamma,None,None\n",
    "        elif mode=='M' or mode=='LL':\n",
    "            theta_log_prob=dirichlet_logprob(concentration=1e-2*torch.ones_like(theta_log),value=(torch.exp(theta_log)+self.THETA_LOWER_BOUND))\n",
    "            #print(1e-2*torch.ones_like(theta_log))\n",
    "            delta_log_prob=torch.sum(normal_logprob(loc=self.delta_log_mean*self.masked.mask,scale=self.delta_log_variance,value=delta_log_masked))            \n",
    "            if mode=='M':\n",
    "                Q=-torch.sum(gamma_fixed*Y_logprob_reduce) # (N,C) (N,C)\n",
    "                Q=Q-theta_log_prob\n",
    "                Q=Q-delta_log_prob\n",
    "                return gamma,Q,None\n",
    "            elif mode=='LL':      \n",
    "                LL=torch.sum(Y_logprob_reduce_reduce) # product of likelihood(y_i)-> (1) \n",
    "                print(LL,theta_log_prob,delta_log_prob)\n",
    "                LL=LL+theta_log_prob\n",
    "                LL=LL+delta_log_prob\n",
    "                return gamma,None,LL\n",
    "        else:\n",
    "            raise          "
   ]
  },
  {
   "cell_type": "code",
   "execution_count": 32,
   "metadata": {},
   "outputs": [],
   "source": [
    "cell_dataset=Cell_Dataset(Y,X,s)\n",
    "cell_dataloader=DataLoader(dataset=cell_dataset,shuffle=True,batch_size=int(BATCH_SIZE/2),num_workers=NUM_WORKERS)"
   ]
  },
  {
   "cell_type": "code",
   "execution_count": 33,
   "metadata": {},
   "outputs": [],
   "source": [
    "model=Custom_Model(Y,rho,X_col=X.shape[1],delta_min=delta_min,LOWER_BOUND=LOWER_BOUND,THETA_LOWER_BOUND=THETA_LOWER_BOUND)"
   ]
  },
  {
   "cell_type": "code",
   "execution_count": 36,
   "metadata": {},
   "outputs": [],
   "source": [
    "model=model.to(device_cuda_list[0])"
   ]
  },
  {
   "cell_type": "code",
   "execution_count": null,
   "metadata": {},
   "outputs": [],
   "source": []
  },
  {
   "cell_type": "code",
   "execution_count": 38,
   "metadata": {},
   "outputs": [
    {
     "name": "stdout",
     "output_type": "stream",
     "text": [
      "delta_log torch.Size([10, 240])\n",
      "delta_log_mean torch.Size([1])\n",
      "delta_log_variance torch.Size([1])\n",
      "beta torch.Size([3, 240])\n",
      "NB_basis_mean torch.Size([10])\n",
      "NB_basis_a torch.Size([10])\n",
      "NB_basis_b torch.Size([10])\n",
      "theta_logit torch.Size([10])\n",
      "masked.mask torch.Size([10, 240])\n"
     ]
    }
   ],
   "source": [
    "for name,param in model.named_parameters():\n",
    "    print(name,param.size())"
   ]
  },
  {
   "cell_type": "code",
   "execution_count": 85,
   "metadata": {},
   "outputs": [
    {
     "name": "stdout",
     "output_type": "stream",
     "text": [
      "(8444, 348) (8, 348) (8444, 3)\n"
     ]
    }
   ],
   "source": [
    "print(Y.shape,rho.shape,X.shape)"
   ]
  },
  {
   "cell_type": "code",
   "execution_count": 33,
   "metadata": {},
   "outputs": [
    {
     "name": "stdout",
     "output_type": "stream",
     "text": [
      "(8444, 203) (8, 203)\n",
      "206.0\n",
      "Start time: 2020-04-30 03:41:22\n",
      "tensor(-482253.1691, device='cuda:5') tensor(-10.4455, device='cuda:5') tensor(-4740.3562, device='cuda:5')\n",
      "tensor(-487003.9707, device='cuda:5')\n",
      "tensor(487007.0895, device='cuda:5')\n",
      "------------EM 0----------------\n",
      "------------batch 0----------------\n",
      "M: 0, Q: 492459.15877598437 Q_diff: -0.01119505108581388\n",
      "M: 20, Q: 193806.11530452967 Q_diff: 0.6064524096044065\n",
      "tensor(-174813.0199, device='cuda:5') tensor(13.5064, device='cuda:5') tensor(-3335.7732, device='cuda:5')\n",
      "------------batch 1----------------\n",
      "EM: 0, LL: -178135.28662835804 LL_diff: 0.6342221063128843\n",
      "------------EM 1----------------\n",
      "------------batch 0----------------\n",
      "M: 0, Q: 178156.10288680033 Q_diff: 0.08075086997713306\n",
      "M: 20, Q: 171789.08874844163 Q_diff: 0.035738400398241076\n",
      "tensor(-165155.2028, device='cuda:5') tensor(12.6689, device='cuda:5') tensor(-3321.3682, device='cuda:5')\n",
      "------------batch 1----------------\n",
      "EM: 1, LL: -168463.90212142427 LL_diff: 0.054292356612708\n",
      "------------EM 2----------------\n",
      "------------batch 0----------------\n",
      "M: 0, Q: 167381.8083413706 Q_diff: 0.0256551824052388\n",
      "M: 20, Q: 165343.75671513323 Q_diff: 0.012176064092226921\n",
      "tensor(-160807.2155, device='cuda:5') tensor(10.0807, device='cuda:5') tensor(-3321.7527, device='cuda:5')\n",
      "------------batch 1----------------\n",
      "EM: 2, LL: -164118.88749561884 LL_diff: 0.025791962379416215\n",
      "------------EM 3----------------\n",
      "End time: 2020-04-30 03:41:29\n",
      "(tensor([0, 1, 2, 4, 5, 6], device='cuda:5'), tensor([   6,    1,   29,   16,    7, 2052], device='cuda:5'))\n",
      "['Acinar cells' 'Adipocyte progenitor cells' 'Adipocytes'\n",
      " 'Adrenergic neurons' 'Airway epithelial cells' 'Airway goblet cells'\n",
      " 'Airway smooth muscle cells' 'Alpha cells']\n",
      "(8444, 348) (8, 348)\n",
      "424.0\n",
      "Start time: 2020-04-30 03:41:29\n",
      "tensor(-1135652.4830, device='cuda:5') tensor(-16.2062, device='cuda:5') tensor(-8126.3249, device='cuda:5')\n",
      "tensor(-1143795.0141, device='cuda:5')\n",
      "tensor(1143864.9158, device='cuda:5')\n",
      "------------EM 0----------------\n",
      "------------batch 0----------------\n",
      "M: 0, Q: 1153352.6493244811 Q_diff: -0.008294452764041714\n",
      "M: 20, Q: nan Q_diff: nan\n",
      "tensor(nan, device='cuda:5') tensor(3.4295, device='cuda:5') tensor(nan, device='cuda:5')\n",
      "------------batch 1----------------\n",
      "EM: 0, LL: nan LL_diff: nan\n",
      "------------EM 1----------------\n",
      "------------batch 0----------------\n",
      "M: 0, Q: nan Q_diff: nan\n",
      "M: 20, Q: nan Q_diff: nan\n",
      "tensor(nan, device='cuda:5') tensor(nan, device='cuda:5') tensor(nan, device='cuda:5')\n",
      "------------batch 1----------------\n",
      "EM: 1, LL: nan LL_diff: nan\n",
      "------------EM 2----------------\n",
      "------------batch 0----------------\n",
      "M: 0, Q: nan Q_diff: nan\n",
      "M: 20, Q: nan Q_diff: nan\n",
      "tensor(nan, device='cuda:5') tensor(nan, device='cuda:5') tensor(nan, device='cuda:5')\n",
      "------------batch 1----------------\n",
      "EM: 2, LL: nan LL_diff: nan\n",
      "------------EM 3----------------\n",
      "End time: 2020-04-30 03:41:40\n",
      "(tensor([0], device='cuda:5'), tensor([2111], device='cuda:5'))\n",
      "['Alveolar macrophages' 'Anterior pituitary gland cells' 'Astrocytes'\n",
      " 'B cells' 'B cells memory' 'B cells naive' 'Basal cells' 'Basophils']\n",
      "(8444, 298) (8, 298)\n",
      "311.0\n",
      "Start time: 2020-04-30 03:41:40\n",
      "tensor(-634147.2907, device='cuda:5') tensor(-16.5471, device='cuda:5') tensor(-6958.7495, device='cuda:5')\n",
      "tensor(-641122.5872, device='cuda:5')\n",
      "tensor(641122.5872, device='cuda:5')\n",
      "------------EM 0----------------\n",
      "------------batch 0----------------\n",
      "M: 0, Q: 630774.0994978929 Q_diff: 0.01614119971663846\n",
      "M: 20, Q: 186959.73814550316 Q_diff: 0.703602702941788\n",
      "tensor(-148923.5557, device='cuda:5') tensor(4.2869, device='cuda:5') tensor(-4891.2261, device='cuda:5')\n",
      "------------batch 1----------------\n",
      "EM: 0, LL: -153810.49489379732 LL_diff: 0.7600919107210297\n",
      "------------EM 1----------------\n",
      "------------batch 0----------------\n",
      "M: 0, Q: 158302.62430976125 Q_diff: 0.15327959976836963\n",
      "M: 20, Q: 149824.45261299788 Q_diff: 0.053556734979791416\n",
      "tensor(-140714.5089, device='cuda:5') tensor(7.4262, device='cuda:5') tensor(-4871.2334, device='cuda:5')\n",
      "------------batch 1----------------\n",
      "EM: 1, LL: -145578.31609509236 LL_diff: 0.05352156759126934\n",
      "------------EM 2----------------\n",
      "------------batch 0----------------\n",
      "M: 0, Q: 142987.7055281437 Q_diff: 0.045631717424082584\n",
      "M: 20, Q: 140064.3443986585 Q_diff: 0.020444842573614293\n",
      "tensor(-133039.3270, device='cuda:5') tensor(5.7629, device='cuda:5') tensor(-4871.6363, device='cuda:5')\n",
      "------------batch 1----------------\n",
      "EM: 2, LL: -137905.20043238346 LL_diff: 0.05270781987680635\n",
      "------------EM 3----------------\n",
      "End time: 2020-04-30 03:41:51\n",
      "(tensor([0, 1, 2, 4, 5, 6, 7], device='cuda:5'), tensor([   4,    1,    1,    2,   44, 2034,   25], device='cuda:5'))\n",
      "['Bergmann glia' 'Beta cells' 'Cajal-Retzius cells'\n",
      " 'Cardiac stem and precursor cells' 'Cardiomyocytes' 'Cholangiocytes'\n",
      " 'Cholinergic neurons' 'Chondrocytes']\n",
      "(8444, 226) (8, 226)\n",
      "228.0\n",
      "Start time: 2020-04-30 03:41:51\n",
      "tensor(-672377.6011, device='cuda:5') tensor(-15.3820, device='cuda:5') tensor(-5277.4409, device='cuda:5')\n",
      "tensor(-677670.4239, device='cuda:5')\n",
      "tensor(677670.4240, device='cuda:5')\n",
      "------------EM 0----------------\n",
      "------------batch 0----------------\n",
      "M: 0, Q: 688740.3960499306 Q_diff: -0.01633533307817068\n",
      "M: 20, Q: nan Q_diff: nan\n",
      "tensor(nan, device='cuda:5') tensor(4.8452, device='cuda:5') tensor(nan, device='cuda:5')\n",
      "------------batch 1----------------\n",
      "EM: 0, LL: nan LL_diff: nan\n",
      "------------EM 1----------------\n",
      "------------batch 0----------------\n",
      "M: 0, Q: nan Q_diff: nan\n",
      "M: 20, Q: nan Q_diff: nan\n",
      "tensor(nan, device='cuda:5') tensor(nan, device='cuda:5') tensor(nan, device='cuda:5')\n",
      "------------batch 1----------------\n",
      "EM: 1, LL: nan LL_diff: nan\n",
      "------------EM 2----------------\n",
      "------------batch 0----------------\n",
      "M: 0, Q: nan Q_diff: nan\n",
      "M: 20, Q: nan Q_diff: nan\n",
      "tensor(nan, device='cuda:5') tensor(nan, device='cuda:5') tensor(nan, device='cuda:5')\n",
      "------------batch 1----------------\n",
      "EM: 2, LL: nan LL_diff: nan\n",
      "------------EM 3----------------\n",
      "End time: 2020-04-30 03:41:58\n",
      "(tensor([0], device='cuda:5'), tensor([2111], device='cuda:5'))\n",
      "['Choroid plexus cells' 'Chromaffin cells' 'Ciliated cells' 'Clara cells'\n",
      " 'Crypt cells' 'Decidual cells' 'Delta cells' 'Dendritic cells']\n",
      "(8444, 411) (8, 411)\n",
      "442.0\n",
      "Start time: 2020-04-30 03:41:58\n",
      "tensor(-1004932.7995, device='cuda:5') tensor(-13.8438, device='cuda:5') tensor(-9597.4699, device='cuda:5')\n",
      "tensor(-1014544.1132, device='cuda:5')\n",
      "tensor(1014545.9630, device='cuda:5')\n",
      "------------EM 0----------------\n",
      "------------batch 0----------------\n",
      "M: 0, Q: 1012066.0381695376 Q_diff: 0.0024443691165774418\n",
      "M: 20, Q: nan Q_diff: nan\n",
      "tensor(nan, device='cuda:5') tensor(3.0325, device='cuda:5') tensor(nan, device='cuda:5')\n",
      "------------batch 1----------------\n",
      "EM: 0, LL: nan LL_diff: nan\n",
      "------------EM 1----------------\n",
      "------------batch 0----------------\n",
      "M: 0, Q: nan Q_diff: nan\n",
      "M: 20, Q: nan Q_diff: nan\n",
      "tensor(nan, device='cuda:5') tensor(nan, device='cuda:5') tensor(nan, device='cuda:5')\n",
      "------------batch 1----------------\n",
      "EM: 1, LL: nan LL_diff: nan\n",
      "------------EM 2----------------\n",
      "------------batch 0----------------\n",
      "M: 0, Q: nan Q_diff: nan\n",
      "M: 20, Q: nan Q_diff: nan\n",
      "tensor(nan, device='cuda:5') tensor(nan, device='cuda:5') tensor(nan, device='cuda:5')\n",
      "------------batch 1----------------\n",
      "EM: 2, LL: nan LL_diff: nan\n",
      "------------EM 3----------------\n",
      "End time: 2020-04-30 03:42:11\n",
      "(tensor([0], device='cuda:5'), tensor([2111], device='cuda:5'))\n",
      "['Distal tubule cells' 'Dopaminergic neurons' 'Ductal cells'\n",
      " 'Embryonic stem cells' 'Endothelial cells' 'Endothelial cells (aorta)'\n",
      " 'Endothelial cells (blood brain barrier)' 'Enteric glia cells']\n",
      "(8444, 365) (8, 365)\n",
      "385.0\n",
      "Start time: 2020-04-30 03:42:11\n",
      "tensor(-823588.9596, device='cuda:5') tensor(-14.6749, device='cuda:5') tensor(-8523.3005, device='cuda:5')\n",
      "tensor(-832126.9350, device='cuda:5')\n",
      "tensor(832127.3426, device='cuda:5')\n",
      "------------EM 0----------------\n",
      "------------batch 0----------------\n",
      "M: 0, Q: 829865.2162493708 Q_diff: 0.0027184858265864574\n",
      "M: 20, Q: 249138.69707754784 Q_diff: 0.6997841430159634\n",
      "tensor(-226100.4008, device='cuda:5') tensor(8.1916, device='cuda:5') tensor(-5988.8717, device='cuda:5')\n",
      "------------batch 1----------------\n",
      "EM: 0, LL: -232081.08090336664 LL_diff: 0.7210989439978601\n",
      "------------EM 1----------------\n",
      "------------batch 0----------------\n",
      "M: 0, Q: 231579.8012309938 Q_diff: 0.07047839638130804\n",
      "M: 20, Q: 221094.806798488 Q_diff: 0.04527594538371393\n",
      "tensor(-208597.6528, device='cuda:5') tensor(11.4520, device='cuda:5') tensor(-5963.4649, device='cuda:5')\n",
      "------------batch 1----------------\n",
      "EM: 1, LL: -214549.6656211113 LL_diff: 0.0755400449447021\n",
      "------------EM 2----------------\n",
      "------------batch 0----------------\n",
      "M: 0, Q: 216880.54061650927 Q_diff: 0.0190609008099395\n",
      "M: 20, Q: 212511.76850109224 Q_diff: 0.020143679571243522\n",
      "tensor(-203559.4463, device='cuda:5') tensor(9.6372, device='cuda:5') tensor(-5963.2180, device='cuda:5')\n",
      "------------batch 1----------------\n",
      "EM: 2, LL: -209513.0271838234 LL_diff: 0.023475396350337106\n",
      "------------EM 3----------------\n",
      "End time: 2020-04-30 03:42:24\n",
      "(tensor([1, 2, 3, 4, 7], device='cuda:5'), tensor([2030,   39,    7,   21,   14], device='cuda:5'))\n",
      "['Enteric neurons' 'Enterochromaffin cells' 'Enterocytes'\n",
      " 'Enteroendocrine cells' 'Eosinophils' 'Ependymal cells' 'Epiblast cells'\n",
      " 'Epithelial cells']\n",
      "(8444, 330) (8, 330)\n",
      "348.0\n",
      "Start time: 2020-04-30 03:42:24\n",
      "tensor(-857408.0561, device='cuda:5') tensor(-14.5591, device='cuda:5') tensor(-7705.9977, device='cuda:5')\n",
      "tensor(-865128.6129, device='cuda:5')\n",
      "tensor(865129.2604, device='cuda:5')\n",
      "------------EM 0----------------\n",
      "------------batch 0----------------\n",
      "M: 0, Q: 862294.9840550785 Q_diff: 0.0032761304379506696\n",
      "M: 20, Q: 299766.2458276778 Q_diff: 0.6523622990151472\n",
      "tensor(-260666.8120, device='cuda:5') tensor(9.1130, device='cuda:5') tensor(-5416.6963, device='cuda:5')\n",
      "------------batch 1----------------\n",
      "EM: 0, LL: -266074.39541213174 LL_diff: 0.6924452717975426\n",
      "------------EM 1----------------\n",
      "------------batch 0----------------\n",
      "M: 0, Q: 270956.3770609092 Q_diff: 0.09610778120539332\n",
      "M: 20, Q: 248368.16326156154 Q_diff: 0.08336476167995838\n",
      "tensor(-235751.5880, device='cuda:5') tensor(8.0873, device='cuda:5') tensor(-5395.3576, device='cuda:5')\n",
      "------------batch 1----------------\n",
      "EM: 1, LL: -241138.85832101852 LL_diff: 0.09371640985029661\n",
      "------------EM 2----------------\n",
      "------------batch 0----------------\n",
      "M: 0, Q: 238223.76252376763 Q_diff: 0.0408442072630325\n",
      "M: 20, Q: 235474.86780006188 Q_diff: 0.011539128987736838\n",
      "tensor(-228304.8434, device='cuda:5') tensor(5.4545, device='cuda:5') tensor(-5395.3482, device='cuda:5')\n",
      "------------batch 1----------------\n",
      "EM: 2, LL: -233694.73702513147 LL_diff: 0.030870683172833906\n",
      "------------EM 3----------------\n",
      "End time: 2020-04-30 03:42:36\n",
      "(tensor([0, 2, 3, 5, 6, 7], device='cuda:5'), tensor([  19,   36,   25,    8, 2020,    3], device='cuda:5'))\n",
      "['Epsilon cells' 'Erythroblasts'\n",
      " 'Erythroid-like and erythroid precursor cells' 'Fibroblasts'\n",
      " 'Follicular cells' 'Foveolar cells' 'GABAergic neurons'\n",
      " 'Gamma (PP) cells']\n",
      "(8444, 198) (8, 198)\n",
      "200.0\n",
      "Start time: 2020-04-30 03:42:36\n",
      "tensor(-398126.1984, device='cuda:5') tensor(-14.9640, device='cuda:5') tensor(-4623.5986, device='cuda:5')\n",
      "tensor(-402764.7610, device='cuda:5')\n",
      "tensor(402764.7610, device='cuda:5')\n",
      "------------EM 0----------------\n",
      "------------batch 0----------------\n",
      "M: 0, Q: 408201.1097996923 Q_diff: -0.013497577969020997\n",
      "M: 20, Q: 147149.25002905555 Q_diff: 0.6395177609848662\n",
      "tensor(-123448.0396, device='cuda:5') tensor(0.7537, device='cuda:5') tensor(-3253.6625, device='cuda:5')\n",
      "------------batch 1----------------\n",
      "EM: 0, LL: -126700.94837039721 LL_diff: 0.6854219618295796\n",
      "------------EM 1----------------\n",
      "------------batch 0----------------\n",
      "M: 0, Q: 128323.3227180321 Q_diff: 0.12793763683679088\n",
      "M: 20, Q: 116764.65583614242 Q_diff: 0.09007456039217288\n",
      "tensor(-107390.2519, device='cuda:5') tensor(0.3394, device='cuda:5') tensor(-3239.9217, device='cuda:5')\n",
      "------------batch 1----------------\n",
      "EM: 1, LL: -110629.8341637158 LL_diff: 0.126842888024004\n",
      "------------EM 2----------------\n",
      "------------batch 0----------------\n",
      "M: 0, Q: 109184.66112171373 Q_diff: 0.06491685913129243\n",
      "M: 20, Q: 104838.89248895657 Q_diff: 0.03980200687633867\n",
      "tensor(-98351.7140, device='cuda:5') tensor(-1.5123, device='cuda:5') tensor(-3240.0042, device='cuda:5')\n",
      "------------batch 1----------------\n",
      "EM: 2, LL: -101593.23055791759 LL_diff: 0.08168324280795157\n",
      "------------EM 3----------------\n",
      "End time: 2020-04-30 03:42:43\n",
      "(tensor([0, 1, 3, 4, 5, 6, 7], device='cuda:5'), tensor([ 290,    2,    6,   18, 1766,   22,    7], device='cuda:5'))\n",
      "['Gamma delta T cells' 'Gastric chief cells' 'Germ cells' 'Glomus cells'\n",
      " 'Glutaminergic neurons' 'Glycinergic neurons' 'Goblet cells'\n",
      " 'Granulosa cells']\n",
      "(8444, 324) (8, 324)\n",
      "338.0\n",
      "Start time: 2020-04-30 03:42:43\n",
      "tensor(-840087.7107, device='cuda:5') tensor(-15.5694, device='cuda:5') tensor(-7565.8887, device='cuda:5')\n",
      "tensor(-847669.1688, device='cuda:5')\n",
      "tensor(847670.3808, device='cuda:5')\n",
      "------------EM 0----------------\n",
      "------------batch 0----------------\n",
      "M: 0, Q: 845012.0148297483 Q_diff: 0.003136084477361116\n",
      "M: 20, Q: 433670.9763848499 Q_diff: 0.4867872068396267\n",
      "tensor(-401014.7646, device='cuda:5') tensor(1.6836, device='cuda:5') tensor(-5319.5485, device='cuda:5')\n",
      "------------batch 1----------------\n",
      "EM: 0, LL: -406332.6294567554 LL_diff: 0.5206471528801808\n",
      "------------EM 1----------------\n",
      "------------batch 0----------------\n",
      "M: 0, Q: 405855.16343372146 Q_diff: 0.0641403609321645\n",
      "M: 20, Q: 397574.7383102176 Q_diff: 0.02040241413574151\n",
      "tensor(-389009.5342, device='cuda:5') tensor(2.3165, device='cuda:5') tensor(-5298.2678, device='cuda:5')\n",
      "------------batch 1----------------\n",
      "EM: 1, LL: -394305.4854925275 LL_diff: 0.029599257092169942\n",
      "------------EM 2----------------\n",
      "------------batch 0----------------\n",
      "M: 0, Q: 387874.03138057084 Q_diff: 0.02439970650770463\n",
      "M: 20, Q: 386330.7733677737 Q_diff: 0.003978760855178158\n",
      "tensor(-380233.3326, device='cuda:5') tensor(1.4175, device='cuda:5') tensor(-5298.4690, device='cuda:5')\n",
      "------------batch 1----------------\n",
      "EM: 2, LL: -385530.384119014 LL_diff: 0.022254575947764133\n",
      "------------EM 3----------------\n",
      "End time: 2020-04-30 03:42:55\n",
      "(tensor([0, 1, 2, 3, 4, 6, 7], device='cuda:5'), tensor([2021,    4,   17,    1,   34,    1,   33], device='cuda:5'))\n",
      "['Hemangioblasts' 'Hematopoietic stem cells' 'Hepatic stellate cells'\n",
      " 'Hepatoblasts' 'Hepatocytes' 'His bundle cells' 'Immature neurons'\n",
      " 'Intercalated cells']\n",
      "(8444, 304) (8, 304)\n",
      "311.0\n",
      "Start time: 2020-04-30 03:42:55\n",
      "tensor(-630064.1479, device='cuda:5') tensor(-16.3518, device='cuda:5') tensor(-7098.8585, device='cuda:5')\n",
      "tensor(-637179.3581, device='cuda:5')\n",
      "tensor(637181.1338, device='cuda:5')\n",
      "------------EM 0----------------\n",
      "------------batch 0----------------\n",
      "M: 0, Q: 629718.5258658277 Q_diff: 0.011711909716862905\n",
      "M: 20, Q: 215405.58217564784 Q_diff: 0.6579335475647993\n",
      "tensor(-179481.1343, device='cuda:5') tensor(3.5090, device='cuda:5') tensor(-4993.4166, device='cuda:5')\n",
      "------------batch 1----------------\n",
      "EM: 0, LL: -184471.04195938256 LL_diff: 0.7104880445310612\n",
      "------------EM 1----------------\n",
      "------------batch 0----------------\n",
      "M: 0, Q: 184994.88558089136 Q_diff: 0.14117877674107224\n",
      "M: 20, Q: 167703.13166208065 Q_diff: 0.09347152416951375\n",
      "tensor(-154532.1609, device='cuda:5') tensor(-1.2329, device='cuda:5') tensor(-4971.8082, device='cuda:5')\n",
      "------------batch 1----------------\n",
      "EM: 1, LL: -159505.20197502422 LL_diff: 0.13533744765129807\n",
      "------------EM 2----------------\n",
      "------------batch 0----------------\n",
      "M: 0, Q: 159915.41700242073 Q_diff: 0.04643750288069784\n",
      "M: 20, Q: 155108.8512749907 Q_diff: 0.030056925201634922\n",
      "tensor(-146981.5802, device='cuda:5') tensor(-0.7992, device='cuda:5') tensor(-4972.0053, device='cuda:5')\n",
      "------------batch 1----------------\n",
      "EM: 2, LL: -151954.38462448234 LL_diff: 0.04733900372556006\n",
      "------------EM 3----------------\n",
      "End time: 2020-04-30 03:43:06\n",
      "(tensor([0, 2, 3, 4, 5, 6, 7], device='cuda:5'), tensor([   2,    3,   18, 1819,  202,   56,   11], device='cuda:5'))\n",
      "['Interneurons' 'Ionocytes' 'Juxtaglomerular cells' 'Keratinocytes'\n",
      " 'Kidney progenitor cells' 'Kupffer cells' 'Langerhans cells'\n",
      " 'Leydig cells']\n",
      "(8444, 432) (8, 432)\n",
      "464.0\n",
      "Start time: 2020-04-30 03:43:06\n",
      "tensor(-1371978.9989, device='cuda:5') tensor(-14.4993, device='cuda:5') tensor(-10087.8516, device='cuda:5')\n",
      "tensor(-1382081.3498, device='cuda:5')\n",
      "tensor(1382081.4960, device='cuda:5')\n",
      "------------EM 0----------------\n",
      "------------batch 0----------------\n",
      "M: 0, Q: 1385343.1639165448 Q_diff: -0.0023599678844897953\n",
      "M: 20, Q: nan Q_diff: nan\n",
      "tensor(nan, device='cuda:5') tensor(5.6205, device='cuda:5') tensor(nan, device='cuda:5')\n",
      "------------batch 1----------------\n",
      "EM: 0, LL: nan LL_diff: nan\n",
      "------------EM 1----------------\n",
      "------------batch 0----------------\n",
      "M: 0, Q: nan Q_diff: nan\n",
      "M: 20, Q: nan Q_diff: nan\n",
      "tensor(nan, device='cuda:5') tensor(nan, device='cuda:5') tensor(nan, device='cuda:5')\n",
      "------------batch 1----------------\n",
      "EM: 1, LL: nan LL_diff: nan\n",
      "------------EM 2----------------\n",
      "------------batch 0----------------\n",
      "M: 0, Q: nan Q_diff: nan\n",
      "M: 20, Q: nan Q_diff: nan\n",
      "tensor(nan, device='cuda:5') tensor(nan, device='cuda:5') tensor(nan, device='cuda:5')\n",
      "------------batch 1----------------\n",
      "EM: 2, LL: nan LL_diff: nan\n",
      "------------EM 3----------------\n",
      "End time: 2020-04-30 03:43:19\n",
      "(tensor([0], device='cuda:5'), tensor([2111], device='cuda:5'))\n",
      "['Loop of Henle cells' 'Luminal epithelial cells' 'Luteal cells'\n",
      " 'Macrophages' 'Mammary epithelial cells' 'Mast cells' 'Megakaryocytes'\n",
      " 'Melanocytes']\n",
      "(8444, 313) (8, 313)\n",
      "330.0\n",
      "Start time: 2020-04-30 03:43:19\n",
      "tensor(-685463.9125, device='cuda:5') tensor(-13.2579, device='cuda:5') tensor(-7309.0221, device='cuda:5')\n",
      "tensor(-692786.1925, device='cuda:5')\n",
      "tensor(692786.1925, device='cuda:5')\n",
      "------------EM 0----------------\n",
      "------------batch 0----------------\n",
      "M: 0, Q: 694563.4773160184 Q_diff: -0.0025654160764590713\n",
      "M: 20, Q: 317386.4921509159 Q_diff: 0.5430417772938719\n",
      "tensor(-292295.5381, device='cuda:5') tensor(7.3335, device='cuda:5') tensor(-5135.4857, device='cuda:5')\n",
      "------------batch 1----------------\n",
      "EM: 0, LL: -297423.6902897458 LL_diff: 0.5706847314249676\n",
      "------------EM 1----------------\n",
      "------------batch 0----------------\n",
      "M: 0, Q: 299701.93252037314 Q_diff: 0.055719320348812544\n",
      "M: 20, Q: 283703.6945682941 Q_diff: 0.05338049647374734\n",
      "tensor(-268969.1582, device='cuda:5') tensor(4.1682, device='cuda:5') tensor(-5113.6940, device='cuda:5')\n",
      "------------batch 1----------------\n",
      "EM: 1, LL: -274078.68406147434 LL_diff: 0.07849074229940829\n",
      "------------EM 2----------------\n",
      "------------batch 0----------------\n",
      "M: 0, Q: 270824.41434326384 Q_diff: 0.045396942202773884\n",
      "M: 20, Q: 264895.05658638285 Q_diff: 0.02189373425309307\n",
      "tensor(-256848.9440, device='cuda:5') tensor(-0.2635, device='cuda:5') tensor(-5114.0364, device='cuda:5')\n",
      "------------batch 1----------------\n",
      "EM: 2, LL: -261963.24382725498 LL_diff: 0.04420424111311749\n",
      "------------EM 3----------------\n",
      "End time: 2020-04-30 03:43:30\n",
      "(tensor([0, 1, 2, 3, 4, 5, 6, 7], device='cuda:5'), tensor([  43,    5,   18,    3,    2,   53,  184, 1803], device='cuda:5'))\n",
      "['Meningeal cells' 'Merkel cells' 'Mesangial cells' 'Mesothelial cells'\n",
      " 'Microfold cells' 'Microglia' 'Monocytes' 'Motor neurons']\n",
      "(8444, 216) (8, 216)\n",
      "235.0\n",
      "Start time: 2020-04-30 03:43:31\n",
      "tensor(-606050.9228, device='cuda:5') tensor(-14.2425, device='cuda:5') tensor(-5043.9258, device='cuda:5')\n",
      "tensor(-611109.0911, device='cuda:5')\n",
      "tensor(611109.6578, device='cuda:5')\n",
      "------------EM 0----------------\n",
      "------------batch 0----------------\n",
      "M: 0, Q: 606866.8495548571 Q_diff: 0.00694279359891507\n",
      "M: 20, Q: nan Q_diff: nan\n",
      "tensor(nan, device='cuda:5') tensor(-2.1772, device='cuda:5') tensor(nan, device='cuda:5')\n",
      "------------batch 1----------------\n",
      "EM: 0, LL: nan LL_diff: nan\n",
      "------------EM 1----------------\n",
      "------------batch 0----------------\n",
      "M: 0, Q: nan Q_diff: nan\n",
      "M: 20, Q: nan Q_diff: nan\n",
      "tensor(nan, device='cuda:5') tensor(nan, device='cuda:5') tensor(nan, device='cuda:5')\n",
      "------------batch 1----------------\n",
      "EM: 1, LL: nan LL_diff: nan\n",
      "------------EM 2----------------\n",
      "------------batch 0----------------\n",
      "M: 0, Q: nan Q_diff: nan\n",
      "M: 20, Q: nan Q_diff: nan\n",
      "tensor(nan, device='cuda:5') tensor(nan, device='cuda:5') tensor(nan, device='cuda:5')\n",
      "------------batch 1----------------\n",
      "EM: 2, LL: nan LL_diff: nan\n",
      "------------EM 3----------------\n",
      "End time: 2020-04-30 03:43:38\n",
      "(tensor([0], device='cuda:5'), tensor([2111], device='cuda:5'))\n",
      "['Müller cells' 'Myeloid-derived suppressor cells' 'Myoblasts' 'Myocytes'\n",
      " 'Myoepithelial cells' 'Myofibroblasts' 'Natural killer T cells'\n",
      " 'Neural stem/precursor cells']\n",
      "(8444, 454) (8, 454)\n",
      "474.0\n",
      "Start time: 2020-04-30 03:43:38\n",
      "tensor(-957640.8061, device='cuda:5') tensor(-15.8567, device='cuda:5') tensor(-10601.5848, device='cuda:5')\n",
      "tensor(-968258.2476, device='cuda:5')\n",
      "tensor(968258.3451, device='cuda:5')\n",
      "------------EM 0----------------\n",
      "------------batch 0----------------\n",
      "M: 0, Q: 961833.6973001922 Q_diff: 0.006635262002231139\n",
      "M: 20, Q: 320703.09650479286 Q_diff: 0.6665711573580895\n",
      "tensor(-271710.5567, device='cuda:5') tensor(5.4329, device='cuda:5') tensor(-7451.7609, device='cuda:5')\n",
      "------------batch 1----------------\n",
      "EM: 0, LL: -279156.8847453411 LL_diff: 0.7116917047301774\n",
      "------------EM 1----------------\n",
      "------------batch 0----------------\n",
      "M: 0, Q: 283625.7383227632 Q_diff: 0.11561272275235286\n",
      "M: 20, Q: 258668.8154888515 Q_diff: 0.08799244730571999\n",
      "tensor(-237706.4790, device='cuda:5') tensor(0.9162, device='cuda:5') tensor(-7419.2908, device='cuda:5')\n",
      "------------batch 1----------------\n",
      "EM: 1, LL: -245124.85356524296 LL_diff: 0.12191005502566635\n",
      "------------EM 2----------------\n",
      "------------batch 0----------------\n",
      "M: 0, Q: 246790.5982841389 Q_diff: 0.04592056132574113\n",
      "M: 20, Q: 240428.50187378202 Q_diff: 0.025779330552260175\n",
      "tensor(-228955.1980, device='cuda:5') tensor(-0.0711, device='cuda:5') tensor(-7420.1547, device='cuda:5')\n",
      "------------batch 1----------------\n",
      "EM: 2, LL: -236375.4237906168 LL_diff: 0.03569376849131861\n",
      "------------EM 3----------------\n",
      "End time: 2020-04-30 03:43:54\n",
      "(tensor([0, 1, 2, 3, 4, 5, 6, 7], device='cuda:5'), tensor([   3,    2,    5,  126,  394, 1567,   12,    2], device='cuda:5'))\n",
      "['Neuroblasts' 'Neuroendocrine cells' 'Neurons' 'Neutrophils' 'NK cells'\n",
      " 'Noradrenergic neurons' 'Nuocytes' 'Olfactory epithelial cells']\n",
      "(8444, 204) (8, 204)\n",
      "219.0\n",
      "Start time: 2020-04-30 03:43:54\n",
      "tensor(-401336.8595, device='cuda:5') tensor(-13.7230, device='cuda:5') tensor(-4763.7077, device='cuda:5')\n",
      "tensor(-406114.2902, device='cuda:5')\n",
      "tensor(406114.2902, device='cuda:5')\n",
      "------------EM 0----------------\n",
      "------------batch 0----------------\n",
      "M: 0, Q: 408507.62681577314 Q_diff: -0.005893258681643948\n",
      "M: 20, Q: 147256.18449193012 Q_diff: 0.6395264743530994\n",
      "tensor(-124611.3740, device='cuda:5') tensor(9.2898, device='cuda:5') tensor(-3344.8137, device='cuda:5')\n",
      "------------batch 1----------------\n",
      "EM: 0, LL: -127946.89796220734 LL_diff: 0.6849485451896998\n",
      "------------EM 1----------------\n",
      "------------batch 0----------------\n",
      "M: 0, Q: 128424.74696290263 Q_diff: 0.12788215037623418\n",
      "M: 20, Q: 118198.31911905414 Q_diff: 0.07962972936051448\n",
      "tensor(-110420.5695, device='cuda:5') tensor(12.7433, device='cuda:5') tensor(-3330.8425, device='cuda:5')\n",
      "------------batch 1----------------\n",
      "EM: 1, LL: -113738.66868258896 LL_diff: 0.11104786052581885\n",
      "------------EM 2----------------\n",
      "------------batch 0----------------\n",
      "M: 0, Q: 113827.3264118607 Q_diff: 0.03698015961454405\n",
      "M: 20, Q: 111119.35659912607 Q_diff: 0.023790155651520834\n"
     ]
    },
    {
     "ename": "KeyboardInterrupt",
     "evalue": "",
     "output_type": "error",
     "traceback": [
      "\u001b[0;31m---------------------------------------------------------------------------\u001b[0m",
      "\u001b[0;31mKeyboardInterrupt\u001b[0m                         Traceback (most recent call last)",
      "\u001b[0;32m<ipython-input-33-2799c8428f8a>\u001b[0m in \u001b[0;36m<module>\u001b[0;34m\u001b[0m\n\u001b[1;32m     42\u001b[0m     \u001b[0mprint\u001b[0m\u001b[0;34m(\u001b[0m\u001b[0mmarker_onehot\u001b[0m\u001b[0;34m.\u001b[0m\u001b[0msum\u001b[0m\u001b[0;34m(\u001b[0m\u001b[0;34m)\u001b[0m\u001b[0;34m)\u001b[0m\u001b[0;34m\u001b[0m\u001b[0;34m\u001b[0m\u001b[0m\n\u001b[1;32m     43\u001b[0m     \u001b[0;31m#gamma_value,Q_value,LL_value=run_EM(em_iter_max=1,m_iter_max=0,batch_iter_max=9999)\u001b[0m\u001b[0;34m\u001b[0m\u001b[0;34m\u001b[0m\u001b[0;34m\u001b[0m\u001b[0m\n\u001b[0;32m---> 44\u001b[0;31m     \u001b[0mgamma_new\u001b[0m\u001b[0;34m,\u001b[0m\u001b[0mQ_new\u001b[0m\u001b[0;34m,\u001b[0m\u001b[0mLL_new\u001b[0m\u001b[0;34m=\u001b[0m\u001b[0mrun_EM\u001b[0m\u001b[0;34m(\u001b[0m\u001b[0mem_iter_max\u001b[0m\u001b[0;34m=\u001b[0m\u001b[0;36m3\u001b[0m\u001b[0;34m,\u001b[0m\u001b[0mm_iter_max\u001b[0m\u001b[0;34m=\u001b[0m\u001b[0;36m40\u001b[0m\u001b[0;34m,\u001b[0m\u001b[0mbatch_iter_max\u001b[0m\u001b[0;34m=\u001b[0m\u001b[0;36m1\u001b[0m\u001b[0;34m)\u001b[0m\u001b[0;34m\u001b[0m\u001b[0;34m\u001b[0m\u001b[0m\n\u001b[0m\u001b[1;32m     45\u001b[0m     \u001b[0mprint\u001b[0m\u001b[0;34m(\u001b[0m\u001b[0mtorch\u001b[0m\u001b[0;34m.\u001b[0m\u001b[0munique\u001b[0m\u001b[0;34m(\u001b[0m\u001b[0mtorch\u001b[0m\u001b[0;34m.\u001b[0m\u001b[0mmax\u001b[0m\u001b[0;34m(\u001b[0m\u001b[0mgamma_new\u001b[0m\u001b[0;34m,\u001b[0m\u001b[0maxis\u001b[0m\u001b[0;34m=\u001b[0m\u001b[0;36m1\u001b[0m\u001b[0;34m)\u001b[0m\u001b[0;34m[\u001b[0m\u001b[0;36m1\u001b[0m\u001b[0;34m]\u001b[0m\u001b[0;34m,\u001b[0m\u001b[0mreturn_counts\u001b[0m\u001b[0;34m=\u001b[0m\u001b[0;32mTrue\u001b[0m\u001b[0;34m)\u001b[0m\u001b[0;34m)\u001b[0m\u001b[0;34m\u001b[0m\u001b[0;34m\u001b[0m\u001b[0m\n\u001b[1;32m     46\u001b[0m     \u001b[0mprint\u001b[0m\u001b[0;34m(\u001b[0m\u001b[0mtype_list_cut\u001b[0m\u001b[0;34m)\u001b[0m\u001b[0;34m\u001b[0m\u001b[0;34m\u001b[0m\u001b[0m\n",
      "\u001b[0;32m<ipython-input-29-73e447585232>\u001b[0m in \u001b[0;36mrun_EM\u001b[0;34m(em_iter_max, m_iter_max, batch_iter_max)\u001b[0m\n\u001b[1;32m     48\u001b[0m             \u001b[0;31m#for m_idx in range(20):#\u001b[0m\u001b[0;34m\u001b[0m\u001b[0;34m\u001b[0m\u001b[0;34m\u001b[0m\u001b[0m\n\u001b[1;32m     49\u001b[0m                 \u001b[0moptimizer\u001b[0m\u001b[0;34m.\u001b[0m\u001b[0mzero_grad\u001b[0m\u001b[0;34m(\u001b[0m\u001b[0;34m)\u001b[0m\u001b[0;34m\u001b[0m\u001b[0;34m\u001b[0m\u001b[0m\n\u001b[0;32m---> 50\u001b[0;31m                 \u001b[0m_\u001b[0m\u001b[0;34m,\u001b[0m\u001b[0mQ_new\u001b[0m\u001b[0;34m,\u001b[0m\u001b[0m_\u001b[0m\u001b[0;34m=\u001b[0m\u001b[0mmodel\u001b[0m\u001b[0;34m(\u001b[0m\u001b[0mbatch_Y\u001b[0m\u001b[0;34m,\u001b[0m\u001b[0mbatch_X\u001b[0m\u001b[0;34m,\u001b[0m\u001b[0mbatch_s\u001b[0m\u001b[0;34m,\u001b[0m\u001b[0mgamma_fixed\u001b[0m\u001b[0;34m=\u001b[0m\u001b[0mgamma_new\u001b[0m\u001b[0;34m,\u001b[0m\u001b[0mmode\u001b[0m\u001b[0;34m=\u001b[0m\u001b[0;34m'M'\u001b[0m\u001b[0;34m)\u001b[0m\u001b[0;34m\u001b[0m\u001b[0;34m\u001b[0m\u001b[0m\n\u001b[0m\u001b[1;32m     51\u001b[0m                 \u001b[0mQ_new\u001b[0m\u001b[0;34m.\u001b[0m\u001b[0mbackward\u001b[0m\u001b[0;34m(\u001b[0m\u001b[0;34m)\u001b[0m\u001b[0;34m\u001b[0m\u001b[0;34m\u001b[0m\u001b[0m\n\u001b[1;32m     52\u001b[0m                 \u001b[0moptimizer\u001b[0m\u001b[0;34m.\u001b[0m\u001b[0mstep\u001b[0m\u001b[0;34m(\u001b[0m\u001b[0;34m)\u001b[0m\u001b[0;34m\u001b[0m\u001b[0;34m\u001b[0m\u001b[0m\n",
      "\u001b[0;32m~/tools/miniconda3/envs/pytorch/lib/python3.6/site-packages/torch/nn/modules/module.py\u001b[0m in \u001b[0;36m__call__\u001b[0;34m(self, *input, **kwargs)\u001b[0m\n\u001b[1;32m    530\u001b[0m             \u001b[0mresult\u001b[0m \u001b[0;34m=\u001b[0m \u001b[0mself\u001b[0m\u001b[0;34m.\u001b[0m\u001b[0m_slow_forward\u001b[0m\u001b[0;34m(\u001b[0m\u001b[0;34m*\u001b[0m\u001b[0minput\u001b[0m\u001b[0;34m,\u001b[0m \u001b[0;34m**\u001b[0m\u001b[0mkwargs\u001b[0m\u001b[0;34m)\u001b[0m\u001b[0;34m\u001b[0m\u001b[0;34m\u001b[0m\u001b[0m\n\u001b[1;32m    531\u001b[0m         \u001b[0;32melse\u001b[0m\u001b[0;34m:\u001b[0m\u001b[0;34m\u001b[0m\u001b[0;34m\u001b[0m\u001b[0m\n\u001b[0;32m--> 532\u001b[0;31m             \u001b[0mresult\u001b[0m \u001b[0;34m=\u001b[0m \u001b[0mself\u001b[0m\u001b[0;34m.\u001b[0m\u001b[0mforward\u001b[0m\u001b[0;34m(\u001b[0m\u001b[0;34m*\u001b[0m\u001b[0minput\u001b[0m\u001b[0;34m,\u001b[0m \u001b[0;34m**\u001b[0m\u001b[0mkwargs\u001b[0m\u001b[0;34m)\u001b[0m\u001b[0;34m\u001b[0m\u001b[0;34m\u001b[0m\u001b[0m\n\u001b[0m\u001b[1;32m    533\u001b[0m         \u001b[0;32mfor\u001b[0m \u001b[0mhook\u001b[0m \u001b[0;32min\u001b[0m \u001b[0mself\u001b[0m\u001b[0;34m.\u001b[0m\u001b[0m_forward_hooks\u001b[0m\u001b[0;34m.\u001b[0m\u001b[0mvalues\u001b[0m\u001b[0;34m(\u001b[0m\u001b[0;34m)\u001b[0m\u001b[0;34m:\u001b[0m\u001b[0;34m\u001b[0m\u001b[0;34m\u001b[0m\u001b[0m\n\u001b[1;32m    534\u001b[0m             \u001b[0mhook_result\u001b[0m \u001b[0;34m=\u001b[0m \u001b[0mhook\u001b[0m\u001b[0;34m(\u001b[0m\u001b[0mself\u001b[0m\u001b[0;34m,\u001b[0m \u001b[0minput\u001b[0m\u001b[0;34m,\u001b[0m \u001b[0mresult\u001b[0m\u001b[0;34m)\u001b[0m\u001b[0;34m\u001b[0m\u001b[0;34m\u001b[0m\u001b[0m\n",
      "\u001b[0;32m<ipython-input-30-c7c2d290eea3>\u001b[0m in \u001b[0;36mforward\u001b[0;34m(self, Y, X, s, gamma_fixed, mode)\u001b[0m\n\u001b[1;32m     82\u001b[0m             \u001b[0;32mreturn\u001b[0m \u001b[0mgamma\u001b[0m\u001b[0;34m,\u001b[0m\u001b[0;32mNone\u001b[0m\u001b[0;34m,\u001b[0m\u001b[0;32mNone\u001b[0m\u001b[0;34m\u001b[0m\u001b[0;34m\u001b[0m\u001b[0m\n\u001b[1;32m     83\u001b[0m         \u001b[0;32melif\u001b[0m \u001b[0mmode\u001b[0m\u001b[0;34m==\u001b[0m\u001b[0;34m'M'\u001b[0m \u001b[0;32mor\u001b[0m \u001b[0mmode\u001b[0m\u001b[0;34m==\u001b[0m\u001b[0;34m'LL'\u001b[0m\u001b[0;34m:\u001b[0m\u001b[0;34m\u001b[0m\u001b[0;34m\u001b[0m\u001b[0m\n\u001b[0;32m---> 84\u001b[0;31m             \u001b[0mtheta_log_prob\u001b[0m\u001b[0;34m=\u001b[0m\u001b[0mdirichlet_logprob\u001b[0m\u001b[0;34m(\u001b[0m\u001b[0mconcentration\u001b[0m\u001b[0;34m=\u001b[0m\u001b[0;36m1e-2\u001b[0m\u001b[0;34m*\u001b[0m\u001b[0mtorch\u001b[0m\u001b[0;34m.\u001b[0m\u001b[0mones_like\u001b[0m\u001b[0;34m(\u001b[0m\u001b[0mtheta_log\u001b[0m\u001b[0;34m)\u001b[0m\u001b[0;34m,\u001b[0m\u001b[0mvalue\u001b[0m\u001b[0;34m=\u001b[0m\u001b[0;34m(\u001b[0m\u001b[0mtorch\u001b[0m\u001b[0;34m.\u001b[0m\u001b[0mexp\u001b[0m\u001b[0;34m(\u001b[0m\u001b[0mtheta_log\u001b[0m\u001b[0;34m)\u001b[0m\u001b[0;34m+\u001b[0m\u001b[0mself\u001b[0m\u001b[0;34m.\u001b[0m\u001b[0mTHETA_LOWER_BOUND\u001b[0m\u001b[0;34m)\u001b[0m\u001b[0;34m)\u001b[0m\u001b[0;34m\u001b[0m\u001b[0;34m\u001b[0m\u001b[0m\n\u001b[0m\u001b[1;32m     85\u001b[0m             \u001b[0;31m#print(1e-2*torch.ones_like(theta_log))\u001b[0m\u001b[0;34m\u001b[0m\u001b[0;34m\u001b[0m\u001b[0;34m\u001b[0m\u001b[0m\n\u001b[1;32m     86\u001b[0m             \u001b[0mdelta_log_prob\u001b[0m\u001b[0;34m=\u001b[0m\u001b[0mtorch\u001b[0m\u001b[0;34m.\u001b[0m\u001b[0msum\u001b[0m\u001b[0;34m(\u001b[0m\u001b[0mnormal_logprob\u001b[0m\u001b[0;34m(\u001b[0m\u001b[0mloc\u001b[0m\u001b[0;34m=\u001b[0m\u001b[0mself\u001b[0m\u001b[0;34m.\u001b[0m\u001b[0mdelta_log_mean\u001b[0m\u001b[0;34m*\u001b[0m\u001b[0mself\u001b[0m\u001b[0;34m.\u001b[0m\u001b[0mmasked\u001b[0m\u001b[0;34m.\u001b[0m\u001b[0mmask\u001b[0m\u001b[0;34m,\u001b[0m\u001b[0mscale\u001b[0m\u001b[0;34m=\u001b[0m\u001b[0mself\u001b[0m\u001b[0;34m.\u001b[0m\u001b[0mdelta_log_variance\u001b[0m\u001b[0;34m,\u001b[0m\u001b[0mvalue\u001b[0m\u001b[0;34m=\u001b[0m\u001b[0mdelta_log_masked\u001b[0m\u001b[0;34m)\u001b[0m\u001b[0;34m)\u001b[0m\u001b[0;34m\u001b[0m\u001b[0;34m\u001b[0m\u001b[0m\n",
      "\u001b[0;31mKeyboardInterrupt\u001b[0m: "
     ]
    }
   ],
   "source": [
    "#markers_db_marker\n",
    "#exp_data_row\n",
    "type_list=markers_db['cell type'].unique()\n",
    "for i in range(0,len(type_list),int(len(type_list)/20)):\n",
    "    try:\n",
    "        del model\n",
    "    except:\n",
    "        pass\n",
    "    #type_list=markers_db['cell type'].unique()[int(i*len(markers_db['cell type'].unique()))/10:(i+1)*len(markers_db['cell type'].unique())/10]\n",
    "    type_list_cut=type_list[i:min(i+int(len(type_list)/20),len(type_list))]\n",
    "    marker_list=list(set(markers_db.set_index('cell type').loc[type_list_cut]['official gene symbol'].values).intersection(exp_data_row))#len(marker_touse)\n",
    "\n",
    "\n",
    "    onehotsum_list=[]\n",
    "\n",
    "    for cell_type in type_list_cut:\n",
    "        marker_list_idx=[]\n",
    "        for x in markers_db[markers_db['cell type']==cell_type]['official gene symbol'].values:\n",
    "            if x in marker_list:\n",
    "                marker_list_idx.append(marker_list.index(x))\n",
    "            else:\n",
    "                continue    \n",
    "        onehotsum=np.sum(np.eye(len(marker_list))[marker_list_idx],axis=0)\n",
    "        onehotsum_list.append(onehotsum)    \n",
    "    marker_onehot=np.array(onehotsum_list)\n",
    "    marker_onehot.shape # (C,G)\n",
    "\n",
    "    Y=exp_data[list(map(lambda x: exp_data_row.index(x),marker_list))].transpose().astype(float)\n",
    "    Y.shape\n",
    "    rho=marker_onehot\n",
    "    \n",
    "    cell_dataset=Cell_Dataset(Y,X,s)\n",
    "    cell_dataloader=DataLoader(dataset=cell_dataset,shuffle=True,batch_size=int(BATCH_SIZE/4),num_workers=NUM_WORKERS)    \n",
    "    \n",
    "    device=device_cuda_list[0]#\n",
    "    model=Custom_Model(Y,rho,X_col=X.shape[1],delta_min=delta_min,LOWER_BOUND=LOWER_BOUND,THETA_LOWER_BOUND=THETA_LOWER_BOUND)\n",
    "    #model=nn.DataParallel(model).to(device)\n",
    "    model=model.to(device)\n",
    "    optimizer = optim.Adam(model.parameters(),lr=LR)#,betas=(0.92, 0.999))    \n",
    "    \n",
    "    print(Y.shape,rho.shape)\n",
    "    print(marker_onehot.sum())\n",
    "    #gamma_value,Q_value,LL_value=run_EM(em_iter_max=1,m_iter_max=0,batch_iter_max=9999)\n",
    "    gamma_new,Q_new,LL_new=run_EM(em_iter_max=3,m_iter_max=40,batch_iter_max=1)\n",
    "    print(torch.unique(torch.max(gamma_new,axis=1)[1],return_counts=True))\n",
    "    print(type_list_cut)\n",
    "    \n",
    "    del model,cell_dataset,cell_dataloader,gamma_new,Q_new,LL_new"
   ]
  },
  {
   "cell_type": "code",
   "execution_count": null,
   "metadata": {},
   "outputs": [],
   "source": [
    "torch.unique(torch.max(gamma_new,axis=1)[1],return_counts=True)"
   ]
  },
  {
   "cell_type": "code",
   "execution_count": 36,
   "metadata": {},
   "outputs": [],
   "source": [
    "del model"
   ]
  },
  {
   "cell_type": "code",
   "execution_count": 46,
   "metadata": {},
   "outputs": [
    {
     "name": "stdout",
     "output_type": "stream",
     "text": [
      "torch.Size([17, 557])\n",
      "torch.Size([1])\n",
      "torch.Size([1])\n",
      "torch.Size([3, 557])\n",
      "torch.Size([10])\n",
      "torch.Size([10])\n",
      "torch.Size([10])\n",
      "torch.Size([17])\n",
      "torch.Size([17, 557])\n"
     ]
    }
   ],
   "source": [
    "for name,param in model.named_parameters():\n",
    "    print(param.size())"
   ]
  },
  {
   "cell_type": "code",
   "execution_count": 160,
   "metadata": {},
   "outputs": [],
   "source": [
    "device=device_cuda_list[2]#\n",
    "model=Custom_Model(Y,rho,X_col=X.shape[1],delta_min=delta_min,LOWER_BOUND=LOWER_BOUND,THETA_LOWER_BOUND=THETA_LOWER_BOUND)\n",
    "model=model.to(device)\n",
    "optimizer = optim.Adam(model.parameters(),lr=LR)#,betas=(0.92, 0.999))"
   ]
  },
  {
   "cell_type": "code",
   "execution_count": 135,
   "metadata": {},
   "outputs": [
    {
     "name": "stdout",
     "output_type": "stream",
     "text": [
      "torch.Size([10, 240])\n",
      "torch.Size([1])\n",
      "torch.Size([1])\n",
      "torch.Size([3, 240])\n",
      "torch.Size([10])\n",
      "torch.Size([10])\n",
      "torch.Size([10])\n",
      "torch.Size([10])\n",
      "torch.Size([10, 240])\n"
     ]
    }
   ],
   "source": [
    "for name,param in model.named_parameters():\n",
    "    print(param.size())"
   ]
  },
  {
   "cell_type": "code",
   "execution_count": 136,
   "metadata": {},
   "outputs": [],
   "source": [
    "for batch_idx,batch in enumerate(cell_dataloader):\n",
    "    # It is usually just one iteration(batch).\n",
    "    # However, developer of cellAssign may have done this for extreme situation of larse sample size\n",
    "    batch_Y=batch['Y'].to(device)\n",
    "    batch_X=batch['X'].to(device)\n",
    "    batch_s=batch['s'].to(device)"
   ]
  },
  {
   "cell_type": "code",
   "execution_count": 164,
   "metadata": {},
   "outputs": [],
   "source": [
    "#gamma_value,Q_value,LL_value=run_EM()"
   ]
  },
  {
   "cell_type": "code",
   "execution_count": 184,
   "metadata": {},
   "outputs": [
    {
     "data": {
      "text/plain": [
       "(tensor([0, 1, 2, 4, 5, 6, 7, 8, 9], device='cuda:4'),\n",
       " tensor([   4,    2,    8,    3,   18, 4151,    1,   34,    1], device='cuda:4'))"
      ]
     },
     "execution_count": 184,
     "metadata": {},
     "output_type": "execute_result"
    }
   ],
   "source": [
    "# Total 8444 cells\n",
    "#NB              7640 LL: -271628 90sec 9iters\n",
    "#NB(old markers) 7362 LL: -241538 90sec 13iters\n",
    "#Poisson         7300 LL: -1116555 40sec 9iters \n",
    "#Normal          3369  LL: -783656280 doesn't_converge\n",
    "#\n",
    "torch.unique(torch.max(gamma_new,axis=1)[1],return_counts=True)"
   ]
  },
  {
   "cell_type": "code",
   "execution_count": 185,
   "metadata": {},
   "outputs": [],
   "source": [
    "# Total 8444 cells\n",
    "#NB              7640 LL: -271628 90sec 9iters\n",
    "#NB(old markers) 7362 LL: -241538 90sec 13iters\n",
    "#Poisson         7300 LL: -1116555 40sec 9iters \n",
    "#Normal          3369  LL: -783656280 doesn't_converge\n",
    "#\n"
   ]
  },
  {
   "cell_type": "code",
   "execution_count": 153,
   "metadata": {},
   "outputs": [
    {
     "data": {
      "text/plain": [
       "'Alpha cells'"
      ]
     },
     "execution_count": 153,
     "metadata": {},
     "output_type": "execute_result"
    }
   ],
   "source": [
    "type_list[-3]"
   ]
  },
  {
   "cell_type": "code",
   "execution_count": null,
   "metadata": {},
   "outputs": [],
   "source": [
    "full0=pd.read_csv('data/analysis/cellassign_fit.prob.tsv',sep='\\t').values#.idxmax(axis=1)#.value_counts()\n",
    "full1=pd.read_csv('data/analysis/cellassign_fit_full.prob.tsv',sep='\\t').values#.idxmax(axis=1)#.value_counts()\n",
    "full2=pd.read_csv('data/analysis/cellassign_fit_full2.prob.tsv',sep='\\t').values#.idxmax(axis=1)#.value_counts()\n",
    "full3=pd.read_csv('data/analysis/cellassign_fit_full3.prob.tsv',sep='\\t').values#.idxmax(axis=1)#.value_counts()"
   ]
  },
  {
   "cell_type": "code",
   "execution_count": 532,
   "metadata": {},
   "outputs": [
    {
     "data": {
      "text/plain": [
       "(7775, 4920, 4512, 4548, 7705, 7562)"
      ]
     },
     "execution_count": 532,
     "metadata": {},
     "output_type": "execute_result"
    }
   ],
   "source": [
    "sum(np.argmax(full0,axis=1)==exp_data_meta_clusterid_clusteridunique.values),\\\n",
    "sum(np.argmax(full1,axis=1)==exp_data_meta_clusterid_clusteridunique.values),\\\n",
    "sum(np.argmax(full2,axis=1)==exp_data_meta_clusterid_clusteridunique.values),\\\n",
    "sum(np.argmax(full3,axis=1)==exp_data_meta_clusterid_clusteridunique.values),\\\n",
    "sum(np.argmax(test3,axis=1)==exp_data_meta_clusterid_clusteridunique.values),\\\n",
    "sum(np.argmax(gamma_new.cpu().numpy(),axis=1)==exp_data_meta_clusterid_clusteridunique.values),\\"
   ]
  },
  {
   "cell_type": "code",
   "execution_count": null,
   "metadata": {},
   "outputs": [],
   "source": [
    "np.unique(exp_data_meta_clusterid_clusteridunique.values,return_counts=True)"
   ]
  },
  {
   "cell_type": "code",
   "execution_count": null,
   "metadata": {},
   "outputs": [],
   "source": [
    "np.unique(np.argmax(gamma_value.cpu().numpy(),axis=1),return_counts=True)"
   ]
  },
  {
   "cell_type": "code",
   "execution_count": null,
   "metadata": {},
   "outputs": [],
   "source": [
    "dict(model.named_parameters())"
   ]
  },
  {
   "cell_type": "code",
   "execution_count": null,
   "metadata": {},
   "outputs": [],
   "source": [
    "print(datetime.datetime.now().strftime('%Y-%m-%d %H:%M:%S'))\n",
    "with torch.no_grad():\n",
    "    for batch_idx,batch in enumerate(cell_dataloader):\n",
    "        batch_Y=batch['Y'].to(device)\n",
    "        batch_X=batch['X'].to(device)\n",
    "        batch_s=batch['s'].to(device)    \n",
    "    gamma_fixed,_,LL_old=model(batch_Y,batch_X,batch_s,gamma_fixed=None,mode='LL')\n",
    "    _,Q_old,_=model(batch_Y,batch_X,batch_s,gamma_fixed=gamma_fixed,mode='M')\n",
    "    \n",
    "print(LL_old)\n",
    "print(Q_old)\n",
    "\n",
    "\n",
    "from torchviz import make_dot, make_dot_from_trace\n",
    "\n",
    "make_dot(model(batch_Y,batch_X,batch_s,gamma_fixed=gamma_fixed,mode='M')[1],params=dict(model.named_parameters()))"
   ]
  },
  {
   "cell_type": "code",
   "execution_count": 41,
   "metadata": {},
   "outputs": [],
   "source": []
  },
  {
   "cell_type": "code",
   "execution_count": 108,
   "metadata": {},
   "outputs": [],
   "source": [
    "a=torch.ones(5,requires_grad=True)"
   ]
  },
  {
   "cell_type": "code",
   "execution_count": 109,
   "metadata": {},
   "outputs": [
    {
     "data": {
      "text/plain": [
       "tensor([1., 1., 1., 1., 1.], grad_fn=<MulBackward0>)"
      ]
     },
     "execution_count": 109,
     "metadata": {},
     "output_type": "execute_result"
    }
   ],
   "source": [
    "b=a*a*(a)\n",
    "b"
   ]
  },
  {
   "cell_type": "code",
   "execution_count": 110,
   "metadata": {},
   "outputs": [],
   "source": [
    "b.backward(torch.Tensor([3,1,1,1,1]))"
   ]
  },
  {
   "cell_type": "code",
   "execution_count": 111,
   "metadata": {},
   "outputs": [
    {
     "data": {
      "text/plain": [
       "tensor([9., 3., 3., 3., 3.])"
      ]
     },
     "execution_count": 111,
     "metadata": {},
     "output_type": "execute_result"
    }
   ],
   "source": [
    "a.grad"
   ]
  },
  {
   "cell_type": "code",
   "execution_count": 84,
   "metadata": {},
   "outputs": [
    {
     "data": {
      "text/plain": [
       "tensor([2.7183, 2.7183, 2.7183, 2.7183, 2.7183], grad_fn=<ExpBackward>)"
      ]
     },
     "execution_count": 84,
     "metadata": {},
     "output_type": "execute_result"
    }
   ],
   "source": [
    "c=torch.exp(a)\n",
    "c"
   ]
  },
  {
   "cell_type": "code",
   "execution_count": 85,
   "metadata": {},
   "outputs": [],
   "source": [
    "c.sum().backward()"
   ]
  },
  {
   "cell_type": "code",
   "execution_count": 106,
   "metadata": {},
   "outputs": [
    {
     "data": {
      "text/plain": [
       "tensor([6., 3., 3., 3., 3.])"
      ]
     },
     "execution_count": 106,
     "metadata": {},
     "output_type": "execute_result"
    }
   ],
   "source": [
    "a.grad"
   ]
  },
  {
   "cell_type": "code",
   "execution_count": 107,
   "metadata": {},
   "outputs": [],
   "source": [
    "b.grad"
   ]
  },
  {
   "cell_type": "code",
   "execution_count": 88,
   "metadata": {},
   "outputs": [],
   "source": [
    "c.grad"
   ]
  },
  {
   "cell_type": "code",
   "execution_count": null,
   "metadata": {},
   "outputs": [],
   "source": []
  },
  {
   "cell_type": "code",
   "execution_count": null,
   "metadata": {},
   "outputs": [],
   "source": []
  }
 ],
 "metadata": {
  "kernelspec": {
   "display_name": "Python 3",
   "language": "python",
   "name": "python3"
  },
  "language_info": {
   "codemirror_mode": {
    "name": "ipython",
    "version": 3
   },
   "file_extension": ".py",
   "mimetype": "text/x-python",
   "name": "python",
   "nbconvert_exporter": "python",
   "pygments_lexer": "ipython3",
   "version": "3.6.9"
  }
 },
 "nbformat": 4,
 "nbformat_minor": 4
}
