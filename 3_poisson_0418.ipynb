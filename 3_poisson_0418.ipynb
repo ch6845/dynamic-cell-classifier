{
 "cells": [
  {
   "cell_type": "code",
   "execution_count": 3,
   "metadata": {},
   "outputs": [],
   "source": [
    "import sys\n",
    "\n",
    "import numpy as np\n",
    "import numba as nb\n",
    "from numba import prange, njit, jit\n",
    "\n",
    "import scipy.stats\n",
    "from scipy.stats import pearsonr\n",
    "import scipy.special as sc\n",
    "from scipy.io import mmread\n",
    "\n",
    "import statsmodels.api as sm\n",
    "\n",
    "import numba_scipy.special\n",
    "\n",
    "from sklearn.linear_model import LinearRegression\n",
    "\n",
    "import pandas as pd\n",
    "\n",
    "import matplotlib.pyplot as plt"
   ]
  },
  {
   "cell_type": "markdown",
   "metadata": {},
   "source": [
    "# load data"
   ]
  },
  {
   "cell_type": "markdown",
   "metadata": {},
   "source": [
    "## expression data"
   ]
  },
  {
   "cell_type": "code",
   "execution_count": 4,
   "metadata": {},
   "outputs": [],
   "source": [
    "exp_data=mmread('data/extract/HumanLiver.data.counts.mm').toarray()\n",
    "with open('data/extract/HumanLiver.data.col','r') as f: exp_data_col=[i.strip().strip('\"') for i in f.read().split()]\n",
    "with open('data/extract/HumanLiver.data.row','r') as f: exp_data_row=[i.strip().strip('\"') for i in f.read().split()]\n",
    "assert exp_data.shape==(len(exp_data_row),len(exp_data_col))"
   ]
  },
  {
   "cell_type": "code",
   "execution_count": 5,
   "metadata": {},
   "outputs": [
    {
     "data": {
      "text/plain": [
       "(array([[0, 0, 0, ..., 0, 0, 0],\n",
       "        [0, 0, 0, ..., 0, 0, 0],\n",
       "        [0, 1, 0, ..., 0, 0, 0],\n",
       "        ...,\n",
       "        [0, 0, 0, ..., 0, 0, 0],\n",
       "        [0, 0, 0, ..., 0, 0, 0],\n",
       "        [0, 0, 0, ..., 0, 0, 0]]),\n",
       " (20007, 8444))"
      ]
     },
     "execution_count": 5,
     "metadata": {},
     "output_type": "execute_result"
    }
   ],
   "source": [
    "exp_data,exp_data.shape"
   ]
  },
  {
   "cell_type": "code",
   "execution_count": 6,
   "metadata": {},
   "outputs": [
    {
     "data": {
      "text/plain": [
       "(['RP11-34P13.7', 'FO538757.2', 'AP006222.2', 'RP4-669L17.10', 'RP5-857K21.4'],\n",
       " ['P1TLH_AAACCTGAGCAGCCTC_1',\n",
       "  'P1TLH_AAACCTGTCCTCATTA_1',\n",
       "  'P1TLH_AAACCTGTCTAAGCCA_1',\n",
       "  'P1TLH_AAACGGGAGTAGGCCA_1',\n",
       "  'P1TLH_AAACGGGGTTCGGGCT_1'])"
      ]
     },
     "execution_count": 6,
     "metadata": {},
     "output_type": "execute_result"
    }
   ],
   "source": [
    "exp_data_row[:5],exp_data_col[:5]"
   ]
  },
  {
   "cell_type": "markdown",
   "metadata": {},
   "source": [
    "## cluster info "
   ]
  },
  {
   "cell_type": "code",
   "execution_count": 7,
   "metadata": {},
   "outputs": [
    {
     "data": {
      "text/html": [
       "<div>\n",
       "<style scoped>\n",
       "    .dataframe tbody tr th:only-of-type {\n",
       "        vertical-align: middle;\n",
       "    }\n",
       "\n",
       "    .dataframe tbody tr th {\n",
       "        vertical-align: top;\n",
       "    }\n",
       "\n",
       "    .dataframe thead th {\n",
       "        text-align: right;\n",
       "    }\n",
       "</style>\n",
       "<table border=\"1\" class=\"dataframe\">\n",
       "  <thead>\n",
       "    <tr style=\"text-align: right;\">\n",
       "      <th></th>\n",
       "      <th>total_counts</th>\n",
       "      <th>total_features</th>\n",
       "      <th>orig.ident</th>\n",
       "      <th>res.0.8</th>\n",
       "      <th>S.Score</th>\n",
       "      <th>G2M.Score</th>\n",
       "      <th>Phase</th>\n",
       "    </tr>\n",
       "  </thead>\n",
       "  <tbody>\n",
       "    <tr>\n",
       "      <th>P1TLH_AAACCTGAGCAGCCTC_1</th>\n",
       "      <td>2943</td>\n",
       "      <td>1427</td>\n",
       "      <td>P1TLH</td>\n",
       "      <td>12</td>\n",
       "      <td>0.046089</td>\n",
       "      <td>0.000349</td>\n",
       "      <td>S</td>\n",
       "    </tr>\n",
       "    <tr>\n",
       "      <th>P1TLH_AAACCTGTCCTCATTA_1</th>\n",
       "      <td>10897</td>\n",
       "      <td>2522</td>\n",
       "      <td>P1TLH</td>\n",
       "      <td>17</td>\n",
       "      <td>-0.000357</td>\n",
       "      <td>0.009434</td>\n",
       "      <td>G2M</td>\n",
       "    </tr>\n",
       "    <tr>\n",
       "      <th>P1TLH_AAACCTGTCTAAGCCA_1</th>\n",
       "      <td>1914</td>\n",
       "      <td>1018</td>\n",
       "      <td>P1TLH</td>\n",
       "      <td>12</td>\n",
       "      <td>0.012811</td>\n",
       "      <td>-0.056561</td>\n",
       "      <td>S</td>\n",
       "    </tr>\n",
       "    <tr>\n",
       "      <th>P1TLH_AAACGGGAGTAGGCCA_1</th>\n",
       "      <td>5574</td>\n",
       "      <td>1798</td>\n",
       "      <td>P1TLH</td>\n",
       "      <td>10</td>\n",
       "      <td>-0.011324</td>\n",
       "      <td>-0.047102</td>\n",
       "      <td>G1</td>\n",
       "    </tr>\n",
       "    <tr>\n",
       "      <th>P1TLH_AAACGGGGTTCGGGCT_1</th>\n",
       "      <td>3700</td>\n",
       "      <td>1417</td>\n",
       "      <td>P1TLH</td>\n",
       "      <td>2</td>\n",
       "      <td>0.057467</td>\n",
       "      <td>-0.003861</td>\n",
       "      <td>S</td>\n",
       "    </tr>\n",
       "  </tbody>\n",
       "</table>\n",
       "</div>"
      ],
      "text/plain": [
       "                          total_counts  total_features orig.ident  res.0.8  \\\n",
       "P1TLH_AAACCTGAGCAGCCTC_1          2943            1427      P1TLH       12   \n",
       "P1TLH_AAACCTGTCCTCATTA_1         10897            2522      P1TLH       17   \n",
       "P1TLH_AAACCTGTCTAAGCCA_1          1914            1018      P1TLH       12   \n",
       "P1TLH_AAACGGGAGTAGGCCA_1          5574            1798      P1TLH       10   \n",
       "P1TLH_AAACGGGGTTCGGGCT_1          3700            1417      P1TLH        2   \n",
       "\n",
       "                           S.Score  G2M.Score Phase  \n",
       "P1TLH_AAACCTGAGCAGCCTC_1  0.046089   0.000349     S  \n",
       "P1TLH_AAACCTGTCCTCATTA_1 -0.000357   0.009434   G2M  \n",
       "P1TLH_AAACCTGTCTAAGCCA_1  0.012811  -0.056561     S  \n",
       "P1TLH_AAACGGGAGTAGGCCA_1 -0.011324  -0.047102    G1  \n",
       "P1TLH_AAACGGGGTTCGGGCT_1  0.057467  -0.003861     S  "
      ]
     },
     "execution_count": 7,
     "metadata": {},
     "output_type": "execute_result"
    }
   ],
   "source": [
    "exp_data_meta=pd.read_csv('data/extract/HumanLiver.metadata.tsv',sep='\\t')\n",
    "exp_data_meta.head()"
   ]
  },
  {
   "cell_type": "markdown",
   "metadata": {},
   "source": [
    "`clusterid_to_clustername` is used to convert integers in `res.0.8` to cell-type name"
   ]
  },
  {
   "cell_type": "code",
   "execution_count": 8,
   "metadata": {},
   "outputs": [
    {
     "data": {
      "text/plain": [
       "(11,\n",
       "                          1\n",
       " 0                         \n",
       " 1              Hepatocytes\n",
       " 2               ab_T_cells\n",
       " 3              Hepatocytes\n",
       " 4              Macrophages\n",
       " 5              Hepatocytes\n",
       " 6              Hepatocytes\n",
       " 7             Plasma_cells\n",
       " 8                 NK_cells\n",
       " 9               gd_T_cells\n",
       " 10             Macrophages\n",
       " 11                   LSECs\n",
       " 12                   LSECs\n",
       " 13                   LSECs\n",
       " 14             Hepatocytes\n",
       " 15             Hepatocytes\n",
       " 16          Mature_B_cells\n",
       " 17          Cholangiocytes\n",
       " 18              gd_T_cells\n",
       " 19         Erythroid_cells\n",
       " 20  Hepatic_Stellate_Cells)"
      ]
     },
     "execution_count": 8,
     "metadata": {},
     "output_type": "execute_result"
    }
   ],
   "source": [
    "clusterid_to_clustername=pd.read_csv('data/extract/HumanLiver.clusterid_to_clustername.tsv',sep='\\t',header=None,index_col=0)\n",
    "len(clusterid_to_clustername[1].unique()),clusterid_to_clustername"
   ]
  },
  {
   "cell_type": "markdown",
   "metadata": {},
   "source": [
    "## marker info"
   ]
  },
  {
   "cell_type": "code",
   "execution_count": 9,
   "metadata": {},
   "outputs": [],
   "source": [
    "clustername2markers={'Hepatocytes':['ALB','HAMP','ARG1','PCK1','AFP','BCHE'],\n",
    "'LSECs':['CALCRL','CD32B','VWF'],\n",
    "'Cholangiocytes':['KRT19','EPCAM','FXDY2','CLDN4','CLDN10','SOX9','MMP7','CXCL1','CFTR','TFF2','KRT7','CD24'],\n",
    "'Hepatic_Stellate_Cells':['ACTA2','COL1A1','TAGLN','COL1A2','COL3A1','SPARC','RBP1','DCN','MYL9'],\n",
    "'Macrophages':['CD68','MARCO'],\n",
    "'ab_T_cells':['CD2','CD3D','TRAC','IL32','CD3E'],\n",
    "'gd_T_cells':['NKG7','FCGR3A','HOPX','GNLY'],\n",
    "'NK_cells':['GZMK','KLRF1','CCL3','CMC1'],\n",
    "'Plasma_cells':['CD27','IGHG1'],\n",
    "'Mature_B_cells':['MS4A1','LTB','CD52','IGHD'],\n",
    "'Erythroid_cells':['HBB','SLC25A37','CA1','ALAS2']\n",
    "}"
   ]
  },
  {
   "cell_type": "code",
   "execution_count": 10,
   "metadata": {},
   "outputs": [],
   "source": [
    "clustername_to_markers_new={'Cholangiocytes':['KRT19','EPCAM','FXYD2','CLDN4','CLDN10','SOX9','MMP7','CXCL1','CFTR','TFF2','KRT7','CD24'],\n",
    "'Mature_B_cells':['MS4A1','IGHD','CD79A','PTPRC','IGKC','CD19'],\n",
    "'Hepatocytes':['ALB','HAMP','ARG1','PCK1','AFP','BCHE'],\n",
    "'LSECs':['CALCRL','VWF','PECAM1','CLEC14A','EMCN'],\n",
    "'Hepatic_Stellate_Cells':['ACTA2','COL1A1','TAGLN','COL1A2','COL3A1','SPARC','RBP1','DCN','MYL9'],\n",
    "'Macrophages':['CD68','MARCO','FCGR3A','LYZ','PTPRC','AIF1'],\n",
    "'ab_T_cells':['CD2','CD3D','TRAC','IL32','CD3E','PTPRC'],\n",
    "'gd_T_cells':['NKG7','FCGR3A','HOPX','GNLY','CMC1','KLRF1','CCL3','PTPRC'],\n",
    "'NK_cells':['GZMK','KLRF1','CCL3','CMC1','NKG7','PTPRC'],\n",
    "'Plasma_cells':['CD27','IGHG1','IGHA1','IGHM','CD79A','PTPRC','IGKC'],\n",
    "'Erythroid_cells':['HBB','SLC25A37','CA1','ALAS2']}\n",
    "\n",
    "#for key,value in clustername2markers_new.items():\n",
    "#    for i in value:\n",
    "#        print(markers_db[(markers_db['official gene symbol']==i)].shape)\n",
    "#markers_db[(markers_db['official gene symbol']=='CD32B') |(markers_db['nicknames'].str.contains('CD32B'))]"
   ]
  },
  {
   "cell_type": "code",
   "execution_count": 11,
   "metadata": {},
   "outputs": [],
   "source": [
    "clustername_unique=list(clustername_to_markers_new.keys())\n",
    "exp_data_meta_clusterid_clusteridunique=clusterid_to_clustername.loc[exp_data_meta['res.0.8'].values][1].apply(lambda x: clustername_unique.index(x))"
   ]
  },
  {
   "cell_type": "code",
   "execution_count": 12,
   "metadata": {},
   "outputs": [
    {
     "data": {
      "text/plain": [
       "Hepatocytes               3501\n",
       "Macrophages               1192\n",
       "ab_T_cells                 961\n",
       "LSECs                      844\n",
       "gd_T_cells                 569\n",
       "Plasma_cells               511\n",
       "NK_cells                   488\n",
       "Mature_B_cells             129\n",
       "Cholangiocytes             119\n",
       "Erythroid_cells             93\n",
       "Hepatic_Stellate_Cells      37\n",
       "Name: 1, dtype: int64"
      ]
     },
     "execution_count": 12,
     "metadata": {},
     "output_type": "execute_result"
    }
   ],
   "source": [
    "clusterid_to_clustername.loc[exp_data_meta['res.0.8'].values][1].value_counts()"
   ]
  },
  {
   "cell_type": "code",
   "execution_count": 13,
   "metadata": {},
   "outputs": [
    {
     "data": {
      "text/plain": [
       "array([dict_values([['KRT19', 'EPCAM', 'FXYD2', 'CLDN4', 'CLDN10', 'SOX9', 'MMP7', 'CXCL1', 'CFTR', 'TFF2', 'KRT7', 'CD24'], ['MS4A1', 'IGHD', 'CD79A', 'PTPRC', 'IGKC', 'CD19'], ['ALB', 'HAMP', 'ARG1', 'PCK1', 'AFP', 'BCHE'], ['CALCRL', 'VWF', 'PECAM1', 'CLEC14A', 'EMCN'], ['ACTA2', 'COL1A1', 'TAGLN', 'COL1A2', 'COL3A1', 'SPARC', 'RBP1', 'DCN', 'MYL9'], ['CD68', 'MARCO', 'FCGR3A', 'LYZ', 'PTPRC', 'AIF1'], ['CD2', 'CD3D', 'TRAC', 'IL32', 'CD3E', 'PTPRC'], ['NKG7', 'FCGR3A', 'HOPX', 'GNLY', 'CMC1', 'KLRF1', 'CCL3', 'PTPRC'], ['GZMK', 'KLRF1', 'CCL3', 'CMC1', 'NKG7', 'PTPRC'], ['CD27', 'IGHG1', 'IGHA1', 'IGHM', 'CD79A', 'PTPRC', 'IGKC'], ['HBB', 'SLC25A37', 'CA1', 'ALAS2']])],\n",
       "      dtype=object)"
      ]
     },
     "execution_count": 13,
     "metadata": {},
     "output_type": "execute_result"
    }
   ],
   "source": [
    "np.unique(clustername_to_markers_new.values())"
   ]
  },
  {
   "cell_type": "code",
   "execution_count": 14,
   "metadata": {},
   "outputs": [],
   "source": [
    "marker_unique=np.unique([j for i in list(clustername_to_markers_new.values()) for j in i])\n",
    "marker_unique_exp_data_idx=[exp_data_row.index(marker) for marker in marker_unique]"
   ]
  },
  {
   "cell_type": "code",
   "execution_count": 15,
   "metadata": {},
   "outputs": [],
   "source": [
    "pi_true=np.array([np.sum(exp_data_meta_clusterid_clusteridunique==i) for i in sorted(np.unique(exp_data_meta_clusterid_clusteridunique))])/exp_data_meta_clusterid_clusteridunique.shape[0]\n",
    "M_true=np.array([np.mean(exp_data[marker_unique_exp_data_idx,:][:,exp_data_meta_clusterid_clusteridunique==i],axis=1) for i in sorted(np.unique(exp_data_meta_clusterid_clusteridunique))])"
   ]
  },
  {
   "cell_type": "code",
   "execution_count": 16,
   "metadata": {},
   "outputs": [
    {
     "data": {
      "text/plain": [
       "(array([ 119,  129, 3501,  844,   37, 1192,  961,  569,  488,  511,   93]),\n",
       " array([ 119.,  129., 3501.,  844.,   37., 1192.,  961.,  569.,  488.,\n",
       "         511.,   93.]))"
      ]
     },
     "execution_count": 16,
     "metadata": {},
     "output_type": "execute_result"
    }
   ],
   "source": [
    "clustername_unique\n",
    "np.unique(list(map(lambda x: clustername_unique.index(x),clusterid_to_clustername.loc[exp_data_meta['res.0.8'].values][1])),return_counts=True)[1],pi_true*8444"
   ]
  },
  {
   "cell_type": "code",
   "execution_count": null,
   "metadata": {},
   "outputs": [],
   "source": []
  },
  {
   "cell_type": "code",
   "execution_count": null,
   "metadata": {},
   "outputs": [],
   "source": []
  },
  {
   "cell_type": "markdown",
   "metadata": {},
   "source": [
    "# Our"
   ]
  },
  {
   "cell_type": "code",
   "execution_count": 15,
   "metadata": {},
   "outputs": [],
   "source": [
    "def safe_log_sum(logx, logy):\n",
    "    if logx >= logy:\n",
    "        return logx + np.log(1+np.exp(logy-logx))\n",
    "    else:\n",
    "        return logy + np.log(1+np.exp(logx-logy))\n",
    "\n",
    "def safe_log_sum_vector(vec):\n",
    "    # safe_log_sum    \n",
    "    log_sum = vec[-1]\n",
    "    for i in range(vec.shape[0]-1):\n",
    "        log_sum = safe_log_sum(log_sum, vec[i])\n",
    "    \n",
    "    return log_sum"
   ]
  },
  {
   "cell_type": "code",
   "execution_count": null,
   "metadata": {},
   "outputs": [],
   "source": []
  },
  {
   "cell_type": "code",
   "execution_count": 201,
   "metadata": {},
   "outputs": [],
   "source": [
    "cell_size_factor=pd.read_csv('data/analysis/size_factor_cluster.tsv',sep='\\t',header=None)[0].values#.reshape(-1,1)"
   ]
  },
  {
   "cell_type": "code",
   "execution_count": 222,
   "metadata": {},
   "outputs": [],
   "source": [
    "num_type=11\n",
    "\n",
    "Y=exp_data[marker_unique_exp_data_idx].transpose().astype(float)/cell_size_factor.reshape(-1,1)\n",
    "Y_gammaln=sc.gammaln(Y+1)\n",
    "Y.shape,Y,Y_gammaln\n",
    "\n",
    "marker_onehot=np.array([np.sum(np.eye(len(marker_unique))[[marker_unique.tolist().index(marker) for marker in value]],axis=0) for key,value in clustername_to_markers_new.items()])\n",
    "marker_onehot.shape\n",
    "\n",
    "pi=np.ones(shape=num_type) / num_type"
   ]
  },
  {
   "cell_type": "code",
   "execution_count": 223,
   "metadata": {},
   "outputs": [],
   "source": [
    "exp_data_col_patient=pd.Series(exp_data_col).str.slice(start=1,stop=2).astype(int)\n",
    "x_data_covariate=np.eye(len(exp_data_col_patient.unique()))[exp_data_col_patient.values-1]\n",
    "x_data_intercept=np.array([np.ones(Y.shape[0])]).transpose()\n",
    "x_data_null=np.concatenate([x_data_intercept,x_data_covariate[:,:-1]],axis=1)\n",
    "x_data_null.shape\n",
    "\n",
    "beta=np.zeros((x_data_null.shape[1],Y.shape[1]))"
   ]
  },
  {
   "cell_type": "code",
   "execution_count": 224,
   "metadata": {},
   "outputs": [],
   "source": [
    "mu_type_init=np.where(marker_onehot==0,np.random.uniform(5,10,size=(marker_onehot.shape[0],marker_onehot.shape[1])),0)+\\\n",
    "np.where(marker_onehot!=0,np.random.normal(np.mean(np.max(Y,axis=0)),np.mean(np.max(Y,axis=0))/50,size=(marker_onehot.shape[0],marker_onehot.shape[1])),0)\n",
    "mu_type_init=(mu_type_init/np.mean(mu_type_init,axis=1).reshape(-1,1)*np.mean(mu_type_init))"
   ]
  },
  {
   "cell_type": "code",
   "execution_count": 225,
   "metadata": {},
   "outputs": [
    {
     "data": {
      "text/plain": [
       "2.8909702987821544"
      ]
     },
     "execution_count": 225,
     "metadata": {},
     "output_type": "execute_result"
    }
   ],
   "source": [
    "np.min(mu_type_init)"
   ]
  },
  {
   "cell_type": "code",
   "execution_count": 226,
   "metadata": {},
   "outputs": [],
   "source": [
    "mu_type=mu_type_init"
   ]
  },
  {
   "cell_type": "code",
   "execution_count": 227,
   "metadata": {},
   "outputs": [
    {
     "data": {
      "text/plain": [
       "118.54291720410605"
      ]
     },
     "execution_count": 227,
     "metadata": {},
     "output_type": "execute_result"
    }
   ],
   "source": [
    "np.max(np.mean(Y,axis=0))"
   ]
  },
  {
   "cell_type": "code",
   "execution_count": 228,
   "metadata": {},
   "outputs": [
    {
     "data": {
      "text/plain": [
       "array([1.0309219 , 2.38041632, 0.72895119, ..., 1.45360587, 0.51372201,\n",
       "       0.40260243])"
      ]
     },
     "execution_count": 228,
     "metadata": {},
     "output_type": "execute_result"
    }
   ],
   "source": [
    "cell_size_factor"
   ]
  },
  {
   "cell_type": "code",
   "execution_count": 229,
   "metadata": {},
   "outputs": [],
   "source": [
    "def E_step(Y, mu, pi):    \n",
    "    log_gamma=np.zeros(shape=(Y.shape[0], mu_type.shape[0]))\n",
    "    for i in range(Y.shape[0]): # prange if needed\n",
    "        for t in range(mu_type.shape[0]):\n",
    "            for f in range(Y.shape[1]): # likelihood using sc special funcs\n",
    "                LL=sc.xlogy(Y[i,f],mu[i,t,f]) - Y_gammaln[i,f] -(mu[i,t,f])\n",
    "                log_gamma[i,t] += LL\n",
    "            log_gamma[i,t] += np.log(pi[t]) \n",
    "    print(np.min(log_gamma),np.max(log_gamma))\n",
    "    for i in range(Y.shape[0]):\n",
    "        log_gamma[i,:] = log_gamma[i,:] - safe_log_sum_vector(log_gamma[i,:])\n",
    "\n",
    "    return np.exp(log_gamma),log_gamma\n",
    "#3E_step(Y,mu,pi)\n",
    "#pi\n",
    "#np.sum(gamma, axis=0)\n",
    "#gamma\n",
    "def M_step(Y,cell_size_factor,gamma,mu_type,mu_null,x_data_null):\n",
    "    \n",
    "    mu_type_new = np.zeros(shape=(gamma.shape[1],Y.shape[1])) # type feature\n",
    "    for i in range(Y.shape[0]):\n",
    "        for t in range(gamma.shape[1]):\n",
    "            for f in range(Y.shape[1]):\n",
    "                mu_type_new[t,f]+=gamma[i][t]*(Y[i][f]-mu_null[i,f])\n",
    "    mu_type_new=mu_type_new/np.sum(gamma,axis=0).reshape(-1,1)\n",
    "    #mu_type=np.where(mu_type>0,mu_type,0.1)\n",
    "    \n",
    "    \n",
    "    mu_null_new=np.zeros(shape=(mu_null.shape[0],mu_null.shape[1])) #  cell  feature\n",
    "    for i in range(Y.shape[0]):\n",
    "        for t in range(gamma.shape[1]):\n",
    "            for f in range(Y.shape[1]):\n",
    "                mu_null_new[i,f]+=gamma[i][t]*(Y[i][f]-mu_type[t,f]) \n",
    "    #mu_null=mu_null/np.sum(gamma,axis=0).reshape(-1,1)           \n",
    "    #mu_null=np.where(mu_null>0,mu_null,0.1)\n",
    "           \n",
    "    reg=LinearRegression(fit_intercept=False).fit(x_data_null, mu_null_new)\n",
    "    beta=reg.coef_.T\n",
    "        \n",
    "    #mu_null=mu_null/np.sum(gamma,axis=1).reshape(-1,1)\n",
    "    \n",
    "    return mu_type_new,mu_null_new,beta\n"
   ]
  },
  {
   "cell_type": "code",
   "execution_count": 230,
   "metadata": {},
   "outputs": [
    {
     "data": {
      "text/plain": [
       "((8444, 63), (8444, 11))"
      ]
     },
     "execution_count": 230,
     "metadata": {},
     "output_type": "execute_result"
    }
   ],
   "source": [
    "#mu_null/np.sum(gamma,axis=1).reshape(-1,1)     \n",
    "mu_null.shape,gamma.shape"
   ]
  },
  {
   "cell_type": "code",
   "execution_count": 231,
   "metadata": {},
   "outputs": [
    {
     "data": {
      "text/plain": [
       "array([1., 1., 1., ..., 1., 1., 1.])"
      ]
     },
     "execution_count": 231,
     "metadata": {},
     "output_type": "execute_result"
    }
   ],
   "source": [
    "#np.sum(gamma,axis=0).reshape(-1,1)     \n",
    "np.sum(gamma,axis=1)"
   ]
  },
  {
   "cell_type": "code",
   "execution_count": 232,
   "metadata": {},
   "outputs": [
    {
     "data": {
      "text/plain": [
       "(2279.498146066211, 60680.554482129875)"
      ]
     },
     "execution_count": 232,
     "metadata": {},
     "output_type": "execute_result"
    }
   ],
   "source": [
    "mu_type.max(),np.max(Y)"
   ]
  },
  {
   "cell_type": "code",
   "execution_count": 233,
   "metadata": {},
   "outputs": [
    {
     "data": {
      "text/plain": [
       "133757"
      ]
     },
     "execution_count": 233,
     "metadata": {},
     "output_type": "execute_result"
    }
   ],
   "source": [
    "((mu_null.reshape(mu_null.shape[0],1,mu_null.shape[1])+mu_type)<0).sum()"
   ]
  },
  {
   "cell_type": "code",
   "execution_count": 234,
   "metadata": {},
   "outputs": [],
   "source": [
    "param_list=[]"
   ]
  },
  {
   "cell_type": "code",
   "execution_count": 236,
   "metadata": {},
   "outputs": [
    {
     "name": "stdout",
     "output_type": "stream",
     "text": [
      "[  780.00399401 12554.56165686   779.31032379   779.45805516\n",
      "  1273.88598317  1452.58317724  4948.43190008   888.05616614\n",
      "   779.53859367  3673.9844685  36490.46764577]\n",
      "[0.40629277 0.00450024 0.53442065 0.00259192 0.00450024 0.00236855\n",
      " 0.0039081  0.01184278 0.02164014 0.00698721 0.00094742]\n",
      "-397567.22203092003 -8222.810976517256\n",
      "[3234   38 4728   20   29   22   31   86  191   55    8]\n",
      "388\n",
      "[  779.45875897 12548.34918913   569.89726272   660.42532705\n",
      "  1467.38744509  1556.18964257  5086.41929452  1027.18142552\n",
      "   605.50205876  3890.69335146 36482.57913583]\n",
      "[0.38309657 0.00450024 0.559941   0.00236855 0.00343439 0.0026054\n",
      " 0.00367125 0.01029846 0.02262323 0.0065135  0.00094742]\n",
      "-438046.8615805007 -277.57622609530483\n",
      "[3317   37 4638   21   38   21   33  100  170   59    8]\n",
      "353\n",
      "[  779.98661068 12672.44376957   779.31176112   779.45201365\n",
      "  1250.83677313  1505.27688412  5123.68825845   887.13849067\n",
      "   779.52270044  3671.19259872 36493.1732752 ]\n",
      "[0.39287313 0.00438181 0.54931792 0.00248697 0.00461843 0.00248697\n",
      " 0.0039081  0.01184273 0.02014931 0.00698721 0.00094742]\n",
      "-401457.20702668966 -8208.76818131954\n",
      "[3157   37 4805   19   29   23   30   85  191   55    8]\n",
      "474\n",
      "[  774.70638155 12664.02517915   579.50057316   662.73334999\n",
      "  1469.54125696  1618.33334029  5258.18380141  1022.06468461\n",
      "   610.74938213  3892.57159875 36484.74523922]\n",
      "[0.37394324 0.00438181 0.56909502 0.00236855 0.00343439 0.00272497\n",
      " 0.0036701  0.01018475 0.02273626 0.0065135  0.00094742]\n",
      "-441330.7894533535 -281.98355530373135\n",
      "[3179   37 4778   21   39   23   31   99  167   58    8]\n",
      "481\n",
      "[  779.95216178 12672.28251063   779.33202429   779.44132449\n",
      "  1249.11447857  1626.55670615  5265.72404898   885.56020613\n",
      "   779.51766556  3669.28136849 36494.45359586]\n",
      "[0.37659183 0.00438181 0.56586859 0.00248697 0.00461866 0.00272383\n",
      " 0.00367125 0.01184273 0.01987969 0.00698721 0.00094742]\n",
      "-405365.2611602179 -8196.91111226057\n",
      "[3069   37 4893   20   29   25   28   86  191   55    8]\n",
      "565\n",
      "[  771.16766612 12665.53926776   585.81384945   663.85338318\n",
      "  1471.41850682  1787.60627074  5491.43695319  1024.37824029\n",
      "   614.26536217  3894.8961314  36486.3027049 ]\n",
      "[0.3635092  0.00438181 0.57952716 0.00236855 0.00343443 0.00307911\n",
      " 0.00331596 0.01018487 0.02273799 0.0065135  0.00094742]\n",
      "-441769.1265206411 -285.1648315224959\n",
      "[3055   36 4906   21   39   26   27   99  163   58    8]\n",
      "603\n",
      "[  779.90549916 12783.39374208   779.36313084   779.39148556\n",
      "  1247.0372875   1891.13328957  5690.75290507   884.29736338\n",
      "   779.51322294  3667.2167636  36494.47745985]\n",
      "[0.36186616 0.00426338 0.58108718 0.00260539 0.00462119 0.00307911\n",
      " 0.00331596 0.01184268 0.01938431 0.00698721 0.00094742]\n",
      "-409625.30956407246 -8187.199477083493\n",
      "[2968   34 4991   23   31   25   27   86  191   55    8]\n",
      "673\n",
      "[  769.10990419 13014.10464999   590.06286731   650.05030305\n",
      "  1372.39581229  2082.39420414  6059.37459802  1014.30990648\n",
      "   616.60636854  3896.85547979 36485.94219743]\n",
      "[0.35159052 0.00402653 0.59109086 0.0027239  0.00378862 0.00307904\n",
      " 0.00331596 0.01030317 0.02262048 0.0065135  0.00094742]\n",
      "-448552.6120544717 -284.74143865235374\n",
      "[2930   30 5038   23   40   25   29   99  158   58    8]\n",
      "735\n",
      "[  779.85195329 13400.92389935   779.39889641   779.46121688\n",
      "  1224.04761072  2251.976682    6436.07319802   883.1483996\n",
      "   779.50671254  3688.12681341 36492.23527577]\n",
      "[0.34701564 0.00367125 0.59674742 0.00282849 0.00473776 0.00296068\n",
      " 0.00355282 0.01184273 0.01878732 0.00690848 0.00094742]\n",
      "-404219.79952110414 -8179.690963339027\n",
      "[2823   28 5137   26   32   25   31   86  190   54    7]\n",
      "820\n",
      "[  769.36192084 14319.36394562   593.48559888   642.16722685\n",
      "  1344.43448427  2521.7452439   7050.29664975  1014.67502738\n",
      "   617.82367915  3931.77759989 38420.85585754]\n",
      "[0.33435672 0.00331596 0.60845326 0.00307911 0.0039081  0.00307911\n",
      " 0.00367125 0.01030314 0.02258502 0.00641933 0.00082899]\n",
      "-436919.2549148539 -288.4998631061252\n",
      "[2779   27 5193   26   41   26   30   99  155   57    7]\n",
      "879\n",
      "[  779.79132753 14465.22641717   779.43535146   779.43322138\n",
      "  1192.88085813  2698.66396682  7321.1695791    881.92444953\n",
      "   779.50922857  3744.51260638 38424.01131693]\n",
      "[0.32921569 0.00319754 0.61506583 0.00307911 0.00490406 0.00319754\n",
      " 0.00355282 0.01184273 0.01836534 0.00675036 0.00082899]\n",
      "-458912.38246358745 -8171.73716578741\n",
      "[2744   26 5219   27   33   26   30   86  190   54    6]\n",
      "899\n",
      "[  767.71219397 15158.65708023   595.38050758   637.309093\n",
      "  1345.82788423  2890.26046042  7613.68105269  1007.54968183\n",
      "   619.04273375  3940.89483388 40800.89417349]\n",
      "[0.32502638 0.00307911 0.61809404 0.00331596 0.00390827 0.00307911\n",
      " 0.00367125 0.01018478 0.02253546 0.00639507 0.00071056]\n",
      "-470065.39787567477 -293.93125922952765\n",
      "[2721   25 5276   27   41   25   31  110  121   57    6]\n",
      "938\n",
      "[  779.7672915  15315.070235     779.45027243   779.41978139\n",
      "  1179.16527487  2943.71460213  7698.85405748   818.89036164\n",
      "   779.48327077  3743.93472804 40802.36663842]\n",
      "[0.32231413 0.00296068 0.62486703 0.00319754 0.00497282 0.00296068\n",
      " 0.00378967 0.01314536 0.01433117 0.00675036 0.00071056]\n",
      "-611477.1714323387 -8162.640375053233\n",
      "[2736   23 5232   27   33   25   32   93  178   54    6]\n",
      "911\n",
      "[  765.72942819 15682.11556915   595.74879471   637.17334571\n",
      "  1318.64999801  3023.95514024  7982.67166662   945.09306369\n",
      "   618.53508059  3941.40187308 40814.3083685 ]\n",
      "[0.32412228 0.00273225 0.6196689  0.00319754 0.00402653 0.00307911\n",
      " 0.00389968 0.01101377 0.02115431 0.00639507 0.00071056]\n",
      "-534269.1869441533 -296.3907506268189\n",
      "[2765   22 5240   27   43   26   34  117  106   56    6]\n",
      "892\n",
      "[  779.75932614 15874.96680962   779.45343155   779.41924808\n",
      "  1159.54323965  3017.35926805  8085.84246332   780.97609464\n",
      "   779.44978227  3804.34254449 40811.99947366]\n",
      "[0.32754339 0.0026054  0.62055982 0.00319754 0.00509237 0.00307911\n",
      " 0.00402653 0.01397442 0.01257893 0.00663193 0.00071056]\n",
      "-654868.0042593596 -8155.404641304562\n",
      "[2791   22 5179   27   34   27   31  104  166   51    6]\n",
      "862\n",
      "[  764.61203808 15880.20533108   595.42990181   632.9580372\n",
      "  1295.60394036  3233.22390128  8279.64227096   885.62080314\n",
      "   615.61824474  4019.7866747  40815.94371269]\n",
      "[0.33058852 0.00260573 0.61343411 0.00331596 0.00414495 0.00319754\n",
      " 0.00378934 0.01231645 0.01973934 0.00615749 0.00071056]\n",
      "-573561.7017159535 -294.1053554633403\n",
      "[2781   21 5192   27   43   27   33  108  148   54    6]\n",
      "876\n",
      "[  779.75918113 16076.15788803   779.45338376   779.38279278\n",
      "  1161.4011407   3230.33682784  8381.42933628   831.0147988\n",
      "   779.47587126  3881.74420516 40813.14608939]\n",
      "[0.32944352 0.00248697 0.61495741 0.00331596 0.00509237 0.00319754\n",
      " 0.0039081  0.01287988 0.0175803  0.00642738 0.00071056]\n",
      "-524334.5164498371 -8156.277211252709\n",
      "[2732   21 5232   28   35   26   33   93  183   53    6]\n",
      "920\n",
      "[  766.60949264 16079.50655242   595.92130398   632.84141887\n",
      "  1297.18531014  3297.44797076  8384.65569122   973.78262427\n",
      "   617.52157668  3980.23928745 40816.37656042]\n",
      "[0.32361599 0.00248697 0.61965542 0.00331792 0.00414495 0.00307911\n",
      " 0.0039081  0.01101374 0.02179058 0.00627665 0.00071056]\n",
      "-702355.2157106455 -291.6738708814462\n",
      "[2743   20 5237   28   43   26   33  103  147   55    6]\n",
      "918\n",
      "[  779.75590931 16079.46474225   779.45460011   779.38190361\n",
      "  1160.51725379  3296.76166709  8384.8608685    854.23912478\n",
      "   779.48425325  3853.549576   40814.21164389]\n",
      "[0.32486447 0.00248697 0.62026161 0.00331596 0.00509237 0.00307911\n",
      " 0.0039081  0.01229213 0.0174752  0.0065135  0.00071056]\n",
      "-524300.3036101509 -8152.600499865828\n",
      "[2734   21 5231   28   35   26   33   91  184   53    6]\n",
      "917\n",
      "[  766.16270028 16082.77296806   596.32503069   632.9950622\n",
      "  1298.27598108  3299.86840703  8388.1906481    972.35204197\n",
      "   618.57491168  3941.70646665 40817.06280887]\n",
      "[0.32382134 0.00248697 0.61956968 0.00331596 0.00414495 0.00307911\n",
      " 0.0039081  0.01077766 0.02179137 0.00639429 0.00071056]\n",
      "-517952.5944939938 -291.15017768266614\n",
      "[2731   20 5245   29   43   26   33   97  154   57    6]\n",
      "933\n"
     ]
    }
   ],
   "source": [
    "for i in range(20):\n",
    "    print(np.max(mu_type,axis=1))\n",
    "    print(pi)\n",
    "\n",
    "    mu_null=np.dot(x_data_null,beta)\n",
    "    mu=(mu_null.reshape(mu_null.shape[0],1,mu_null.shape[1])+mu_type)\n",
    "    \n",
    "    #mu*=cell_size_factor.reshape(-1,1)\n",
    "    mu=np.where(mu>0,mu,0)+np.where(mu<0,5,0)\n",
    "\n",
    "\n",
    "    gamma,_ = E_step(Y,mu,pi)\n",
    "    pi = np.sum(gamma, axis=0) / Y.shape[0]\n",
    "    mu_type,mu_null,beta=M_step(Y,cell_size_factor,gamma,mu_type,mu_null,x_data_null)    \n",
    "    print((pi*8444).astype(int))\n",
    "    print(np.sum(np.argmax(gamma,axis=1)==list(map(lambda x: clustername_unique.index(x),clusterid_to_clustername.loc[exp_data_meta['res.0.8'].values][1]))))\n",
    "    param_list.append([pi,mu,mu_type,mu_null,beta])"
   ]
  },
  {
   "cell_type": "code",
   "execution_count": 221,
   "metadata": {},
   "outputs": [
    {
     "data": {
      "text/plain": [
       "(array([1.68067227e-02, 0.00000000e+00, 1.09243697e-01, 2.52100840e-02,\n",
       "        8.16722689e+01, 1.09243697e-01, 5.88235294e-02, 1.68067227e-02,\n",
       "        1.68067227e-02, 2.52100840e-02, 0.00000000e+00, 0.00000000e+00,\n",
       "        6.53781513e+00, 0.00000000e+00, 4.20168067e-02, 0.00000000e+00,\n",
       "        7.56302521e-02, 8.40336134e-03, 3.36134454e-01, 1.94117647e+00,\n",
       "        1.69747899e+00, 8.40336134e-03, 1.84873950e-01, 1.68067227e-02,\n",
       "        0.00000000e+00, 0.00000000e+00, 2.45378151e+00, 0.00000000e+00,\n",
       "        0.00000000e+00, 1.42857143e+00, 4.20168067e-02, 9.45378151e+00,\n",
       "        5.88235294e-02, 8.40336134e-03, 1.76470588e-01, 1.25210084e+00,\n",
       "        1.68067227e-02, 1.42857143e-01, 0.00000000e+00, 1.26050420e-01,\n",
       "        2.18487395e-01, 9.66386555e-01, 1.30252101e+00, 3.36134454e-02,\n",
       "        3.57983193e+00, 4.24369748e+00, 4.26050420e+00, 8.40336134e-03,\n",
       "        5.88235294e-01, 0.00000000e+00, 1.09243697e-01, 1.68067227e-01,\n",
       "        3.52941176e-01, 8.40336134e-03, 3.36134454e-02, 4.53781513e-01,\n",
       "        3.44537815e-01, 1.12605042e+00, 2.52100840e-02, 1.68067227e-02,\n",
       "        1.22436975e+01, 0.00000000e+00, 0.00000000e+00]),\n",
       " array([ 2.34485361e-01,  1.53887957e-01,  2.48030024e+00,  7.63426627e-01,\n",
       "         1.01502024e+02,  1.15275151e+00,  5.14202186e-01,  4.66920607e-01,\n",
       "         3.95719334e-01, -9.90646758e-02,  4.14279848e-02, -2.81434375e-01,\n",
       "         3.17576476e-01, -1.00178826e-01, -4.11298325e-01, -7.54014706e-02,\n",
       "         7.17685031e-01,  3.29420722e-01,  7.14231795e-03,  2.06515964e-02,\n",
       "         2.45037279e-02,  6.80698771e-01, -4.32993107e-01,  1.76279558e-01,\n",
       "         1.32625410e-01,  8.94426659e-02,  9.29523270e-02,  6.56532834e-02,\n",
       "         1.70625421e-01,  1.41666107e-02,  5.50988897e-01,  1.20522047e-01,\n",
       "        -1.20730374e-01, -5.34671274e-01,  3.08214003e+00,  2.40261571e+02,\n",
       "        -1.08376672e-01, -5.69646320e-01,  8.19830498e-02, -1.41036190e+01,\n",
       "         3.43361618e+00, -1.31748010e+01, -1.18193538e+00, -3.94786890e-01,\n",
       "         8.14631820e-02,  3.47917461e-02,  5.03810633e+00,  8.43900961e-01,\n",
       "         2.00890551e-03,  2.58711391e-01,  8.91440818e-02, -9.54193461e-01,\n",
       "         1.24448747e+00,  5.19135606e-01,  2.55704232e-01,  4.10119373e-01,\n",
       "         9.82633451e-01,  1.71620287e-02,  4.04538235e-01,  9.30555532e-01,\n",
       "         3.95407109e-01, -2.56818101e-01,  6.67344290e-01]))"
      ]
     },
     "execution_count": 221,
     "metadata": {},
     "output_type": "execute_result"
    }
   ],
   "source": [
    "M_true[0],mu_type[0],"
   ]
  },
  {
   "cell_type": "code",
   "execution_count": null,
   "metadata": {},
   "outputs": [],
   "source": [
    "\n",
    "print(np.max(mu_type,axis=1))\n",
    "print(pi)\n",
    "\n",
    "mu_null=cell_size_factor.reshape(-1,1)*np.dot(x_data_null,beta)\n",
    "#mu_null=np.where(mu_null>-50,mu_null,-50)\n",
    "mu=(mu_null.reshape(mu_null.shape[0],1,mu_null.shape[1])+mu_type)\n",
    "mu=np.where(mu>0,mu,0)+np.where(mu<0,5,0)\n",
    "\n",
    "\n",
    "gamma,_ = E_step(Y,mu,pi)\n",
    "pi = np.sum(gamma, axis=0) / Y.shape[0]\n",
    "mu_type,beta=M_step(Y,cell_size_factor,gamma,mu_null,x_data_null)    \n",
    "print((pi*8444).astype(int))\n",
    "print(np.sum(np.argmax(gamma,axis=1)==list(map(lambda x: clustername_unique.index(x),clusterid_to_clustername.loc[exp_data_meta['res.0.8'].values][1]))))\n",
    "param_list.append([pi,mu,mu_type,mu_null,beta])"
   ]
  },
  {
   "cell_type": "code",
   "execution_count": 124,
   "metadata": {},
   "outputs": [
    {
     "name": "stdout",
     "output_type": "stream",
     "text": [
      "[  67.01592848  145.15954379  219.26619855   26.55876291   87.2427411\n",
      "   30.4219869    10.25649865   17.01405711   11.75997344 1260.58419348\n",
      " 2448.30661958]\n",
      "[0.00416676 0.02677531 0.41802871 0.19461507 0.01616555 0.1117985\n",
      " 0.07746171 0.05197071 0.04833735 0.03800861 0.01267172]\n",
      "-223817.1471593248 -57.94327859977274\n",
      "[  38  791 2827 2899   51  330  856  161  166  221   97]\n",
      "4736\n"
     ]
    }
   ],
   "source": [
    "\n",
    "print(np.max(mu_type,axis=1))\n",
    "print(pi)\n",
    "\n",
    "mu_null=cell_size_factor.reshape(-1,1)*np.dot(x_data_null,beta)\n",
    "#mu_null=np.where(mu_null>-50,mu_null,-50)\n",
    "mu=(mu_null.reshape(mu_null.shape[0],1,mu_null.shape[1])+mu_type)\n",
    "mu=np.where(mu>0,mu,0)+np.where(mu<0,5,0)\n",
    "\n",
    "\n",
    "gamma,_ = E_step(Y,mu,pi)\n",
    "pi = np.sum(gamma, axis=0) / Y.shape[0]\n",
    "mu_type,beta=M_step(Y,cell_size_factor,gamma,mu_null,x_data_null)    \n",
    "print((pi*8444).astype(int))\n",
    "print(np.sum(np.argmax(gamma,axis=1)==list(map(lambda x: clustername_unique.index(x),clusterid_to_clustername.loc[exp_data_meta['res.0.8'].values][1]))))\n",
    "param_list.append([pi,mu,mu_type,mu_null,beta])"
   ]
  },
  {
   "cell_type": "code",
   "execution_count": 125,
   "metadata": {},
   "outputs": [
    {
     "name": "stdout",
     "output_type": "stream",
     "text": [
      "[  94.39847387  174.35596969  274.05563459   10.65850142   43.10595464\n",
      "   16.24652764    9.53354247   25.30682085   17.38396417 1754.99271944\n",
      " 2657.70910478]\n",
      "[0.00457098 0.09374233 0.33489868 0.34341241 0.00610872 0.03919386\n",
      " 0.10146368 0.0190671  0.01976406 0.02629072 0.01148745]\n",
      "-192629.0228947786 -41.50085871086665\n",
      "[  46  548 2792 2894   39  358 1148   89  233  194   98]\n",
      "4502\n"
     ]
    }
   ],
   "source": [
    "\n",
    "print(np.max(mu_type,axis=1))\n",
    "print(pi)\n",
    "\n",
    "mu_null=cell_size_factor.reshape(-1,1)*np.dot(x_data_null,beta)\n",
    "#mu_null=np.where(mu_null>-50,mu_null,-50)\n",
    "mu=(mu_null.reshape(mu_null.shape[0],1,mu_null.shape[1])+mu_type)\n",
    "mu=np.where(mu>0,mu,0)+np.where(mu<0,5,0)\n",
    "\n",
    "\n",
    "gamma,_ = E_step(Y,mu,pi)\n",
    "pi = np.sum(gamma, axis=0) / Y.shape[0]\n",
    "mu_type,beta=M_step(Y,cell_size_factor,gamma,mu_null,x_data_null)    \n",
    "print((pi*8444).astype(int))\n",
    "print(np.sum(np.argmax(gamma,axis=1)==list(map(lambda x: clustername_unique.index(x),clusterid_to_clustername.loc[exp_data_meta['res.0.8'].values][1]))))\n",
    "param_list.append([pi,mu,mu_type,mu_null,beta])"
   ]
  },
  {
   "cell_type": "code",
   "execution_count": 109,
   "metadata": {},
   "outputs": [
    {
     "data": {
      "text/plain": [
       "array([ 119,  129, 3501,  844,   37, 1192,  961,  569,  488,  511,   93])"
      ]
     },
     "execution_count": 109,
     "metadata": {},
     "output_type": "execute_result"
    }
   ],
   "source": [
    "np.unique(list(map(lambda x: clustername_unique.index(x),clusterid_to_clustername.loc[exp_data_meta['res.0.8'].values][1])),return_counts=True)[1]"
   ]
  },
  {
   "cell_type": "code",
   "execution_count": 228,
   "metadata": {},
   "outputs": [
    {
     "data": {
      "text/plain": [
       "array([ 7.60961147e-01, -7.66725017e-01, -6.28592719e-01,  1.89757646e+00,\n",
       "       -4.24716959e+02, -7.98621653e+00, -3.30476665e+00,  2.61620738e+01,\n",
       "       -4.47660406e-01, -2.62412731e+00, -1.59678590e-01,  1.56422602e+00,\n",
       "       -1.00774111e+00, -1.52030203e+00,  1.50478727e+00,  3.09901655e+00,\n",
       "       -2.66748443e-01, -1.81064702e+00, -3.19695712e-02, -2.65737758e-01,\n",
       "       -1.55502514e-01, -1.17139006e+00,  1.26087851e+01,  5.87401261e-01,\n",
       "        4.99142394e-01,  1.73387132e-01, -4.80371358e-01,  3.44623235e-01,\n",
       "       -4.73516388e-02, -1.29997791e-01,  1.18062427e+00, -1.13202742e+00,\n",
       "        1.32751960e+01,  9.38052697e-01, -3.09163123e+01,  2.61840081e+02,\n",
       "        1.37065933e+00, -1.12956280e+02, -2.43066359e-01, -1.43096516e+02,\n",
       "       -6.22441187e+01, -5.44777275e+02, -1.82822902e+00,  9.74390185e-01,\n",
       "        1.67524294e-01, -3.62493298e-01, -9.18007308e+00,  1.34927412e+00,\n",
       "       -4.21253790e-02, -7.33423046e-01,  8.32361641e-02,  2.30135285e+01,\n",
       "       -9.18491577e+00, -6.18065631e-01,  1.84820017e+00, -5.15444637e-01,\n",
       "        2.84391354e+00, -1.42614468e-01,  1.72006612e+00, -1.78885858e-01,\n",
       "        2.10444539e+00,  1.91148500e+00, -9.22644237e-01])"
      ]
     },
     "execution_count": 228,
     "metadata": {},
     "output_type": "execute_result"
    }
   ],
   "source": [
    "np.sum(beta,axis=0)"
   ]
  },
  {
   "cell_type": "code",
   "execution_count": 135,
   "metadata": {},
   "outputs": [
    {
     "data": {
      "text/plain": [
       "(1485.1284449737188,\n",
       " 9.149994834817353e-37,\n",
       " 6.537284183792937,\n",
       " '-----',\n",
       " 2627.94623655914,\n",
       " 0.0,\n",
       " 6.811061848758416)"
      ]
     },
     "execution_count": 135,
     "metadata": {},
     "output_type": "execute_result"
    }
   ],
   "source": [
    "i=1\n",
    "a=1\n",
    "np.max(param_list[a][i]),np.min(param_list[a][i]),np.mean(param_list[a][i]),'-----',np.max(M_true),np.min(M_true),np.mean(M_true)"
   ]
  },
  {
   "cell_type": "code",
   "execution_count": 128,
   "metadata": {},
   "outputs": [
    {
     "data": {
      "text/plain": [
       "array([-2.09896468, -2.15768241, -2.09895425, -2.09896382,  9.94010302,\n",
       "       -1.9815158 , -2.01088686, -2.12832341, -2.12831994, -2.1283163 ,\n",
       "       -2.1576824 , -2.15768241,  9.62742936, -2.15768241, -2.15768236,\n",
       "       -2.15768236, -2.04023108, -2.12832321, -1.57056128,  0.92488512,\n",
       "        1.21951904, -2.1266231 , -1.89344661, -2.06960581, -2.15768239,\n",
       "       -2.15768241,  0.11773849, -1.95217035, -2.15766733, -0.21912543,\n",
       "       -2.12832354, 12.52006441, -2.12832348, -2.15768241, -1.98151355,\n",
       "       -0.36480989, -2.12832354, -1.95319618, -2.15768217, -2.06958089,\n",
       "       -1.95321154, -1.21816933, -1.01473372, -2.12832354,  8.67750257,\n",
       "        2.66122803, 10.40794249, -2.12832177, -0.92773646, -2.15768241,\n",
       "       -1.98152842, -2.01192773, -1.15948047, -2.12832126, -2.09896439,\n",
       "       -1.92286698, -1.3943968 , -0.72031575, -2.09892347, -2.12832281,\n",
       "       40.08972519, -2.15768241, -2.15768205])"
      ]
     },
     "execution_count": 128,
     "metadata": {},
     "output_type": "execute_result"
    }
   ],
   "source": [
    "i=1\n",
    "param_list[0][1][0]#,param_list[3][i]"
   ]
  },
  {
   "cell_type": "code",
   "execution_count": 153,
   "metadata": {},
   "outputs": [
    {
     "name": "stdout",
     "output_type": "stream",
     "text": [
      "-2 3\n",
      "-1 5\n",
      "-1 3\n",
      "-1 4\n",
      "7 4\n",
      "-1 3\n",
      "-1 3\n",
      "-1 4\n",
      "-1 4\n",
      "-1 4\n",
      "-1 3\n",
      "-2 3\n",
      "9 581\n",
      "-1 3\n",
      "-2 3\n",
      "-2 5\n",
      "-1 5\n",
      "-1 3\n",
      "-1 601\n",
      "1 583\n",
      "0 562\n",
      "-1 4\n",
      "-2 5\n",
      "-1 5\n",
      "-2 3\n",
      "-1 3\n",
      "1 566\n",
      "-1 4\n",
      "-1 4\n",
      "0 583\n",
      "-2 4\n",
      "11 588\n",
      "-2 3\n",
      "-2 3\n",
      "-1 4\n",
      "22 3\n",
      "-2 3\n",
      "1 3\n",
      "-1 4\n",
      "9 5\n",
      "0 5\n",
      "4 5\n",
      "0 5\n",
      "-1 3\n",
      "7 595\n",
      "2 609\n",
      "10 4\n",
      "-2 5\n",
      "0 577\n",
      "-1 5\n",
      "-1 4\n",
      "-3 5\n",
      "-1 4\n",
      "-1 4\n",
      "-2 4\n",
      "-1 4\n",
      "-1 3\n",
      "0 588\n",
      "-2 3\n",
      "-1 3\n",
      "33 591\n",
      "-2 5\n",
      "-1 4\n"
     ]
    }
   ],
   "source": [
    "for i in range(63):\n",
    "    print(param_list[1][1][0][i].astype(int),mu_type_init[0][i].astype(int))"
   ]
  },
  {
   "cell_type": "code",
   "execution_count": 137,
   "metadata": {},
   "outputs": [
    {
     "data": {
      "text/plain": [
       "array([0, 0, 0, 0, 0, 0, 0, 0, 0, 0, 0, 0, 1, 0, 0, 0, 0, 0, 1, 1, 1, 0,\n",
       "       0, 0, 0, 0, 1, 0, 0, 1, 0, 1, 0, 0, 0, 0, 0, 0, 0, 0, 0, 0, 0, 0,\n",
       "       1, 1, 0, 0, 1, 0, 0, 0, 0, 0, 0, 0, 0, 1, 0, 0, 1, 0, 0])"
      ]
     },
     "execution_count": 137,
     "metadata": {},
     "output_type": "execute_result"
    }
   ],
   "source": []
  },
  {
   "cell_type": "code",
   "execution_count": 28,
   "metadata": {},
   "outputs": [
    {
     "name": "stdout",
     "output_type": "stream",
     "text": [
      "[  31.12882289   82.85407948  211.89656871   80.39016246   44.42824689\n",
      "   33.72774873   22.38548037   17.81454516   23.43162545 1225.59050147\n",
      " 2494.56890807]\n",
      "[0.00608436 0.01119158 0.35297556 0.14253619 0.00772794 0.12812218\n",
      " 0.1659153  0.05574914 0.07498457 0.04227833 0.01243486]\n",
      "-175020.11918723217 -13.956508958914547\n",
      "[ 104  120 2783  900   71  878 1925  579  657  319  103]\n"
     ]
    }
   ],
   "source": [
    "\n",
    "print(np.max(mu_type,axis=1))\n",
    "print(pi)\n",
    "\n",
    "mu_null=cell_size_factor.reshape(-1,1)+np.dot(x_data_null,beta)\n",
    "mu=(mu_null.reshape(mu_null.shape[0],1,mu_null.shape[1])+mu_type)\n",
    "mu=np.where(mu>0,mu,0.1)\n",
    "\n",
    "\n",
    "gamma,_ = E_step(Y,mu,pi)\n",
    "pi = np.sum(gamma, axis=0) / Y.shape[0]\n",
    "mu_type,beta=M_step(Y,cell_size_factor,gamma,mu_null,x_data_null)    \n",
    "print((pi*8444).astype(int))"
   ]
  },
  {
   "cell_type": "code",
   "execution_count": 29,
   "metadata": {},
   "outputs": [
    {
     "name": "stdout",
     "output_type": "stream",
     "text": [
      "[  48.58310342  202.39084795  225.25660223  137.04688217   59.50634538\n",
      "   53.39068676   22.44376804   17.94991637   19.25324374 1365.46713383\n",
      " 2533.85953592]\n",
      "[0.01235106 0.01427113 0.32967901 0.10664645 0.00845194 0.10403465\n",
      " 0.22808279 0.0686739  0.07783246 0.03777861 0.01219801]\n",
      "-177791.2841974742 -17.151687444304\n",
      "[ 243  141 2587  983   60  486 2067  614  858  297  102]\n"
     ]
    }
   ],
   "source": [
    "\n",
    "print(np.max(mu_type,axis=1))\n",
    "print(pi)\n",
    "\n",
    "mu_null=cell_size_factor.reshape(-1,1)+np.dot(x_data_null,beta)\n",
    "mu=(mu_null.reshape(mu_null.shape[0],1,mu_null.shape[1])+mu_type)\n",
    "mu=np.where(mu>0,mu,0.1)\n",
    "\n",
    "\n",
    "gamma,_ = E_step(Y,mu,pi)\n",
    "pi = np.sum(gamma, axis=0) / Y.shape[0]\n",
    "mu_type,beta=M_step(Y,cell_size_factor,gamma,mu_null,x_data_null)    \n",
    "print((pi*8444).astype(int))"
   ]
  },
  {
   "cell_type": "code",
   "execution_count": 30,
   "metadata": {},
   "outputs": [
    {
     "name": "stdout",
     "output_type": "stream",
     "text": [
      "[  74.05464734  289.12719632  246.66740001  174.03390935   89.3753357\n",
      "  106.76916817   23.52985975   17.93064193   18.22124227 1465.14625428\n",
      " 2555.16038816]\n",
      "[0.02887429 0.01676547 0.30642086 0.11650331 0.00712817 0.05762977\n",
      " 0.24487613 0.07279474 0.10165766 0.03527001 0.01207958]\n",
      "-181048.84051002824 -17.144718015887335\n",
      "[ 288  163 2445 1084   42  268 1818  758 1195  277  102]\n"
     ]
    }
   ],
   "source": [
    "\n",
    "print(np.max(mu_type,axis=1))\n",
    "print(pi)\n",
    "\n",
    "mu_null=cell_size_factor.reshape(-1,1)+np.dot(x_data_null,beta)\n",
    "mu=(mu_null.reshape(mu_null.shape[0],1,mu_null.shape[1])+mu_type)\n",
    "mu=np.where(mu>0,mu,0.1)\n",
    "\n",
    "\n",
    "gamma,_ = E_step(Y,mu,pi)\n",
    "pi = np.sum(gamma, axis=0) / Y.shape[0]\n",
    "mu_type,beta=M_step(Y,cell_size_factor,gamma,mu_null,x_data_null)    \n",
    "print((pi*8444).astype(int))"
   ]
  },
  {
   "cell_type": "code",
   "execution_count": 31,
   "metadata": {},
   "outputs": [
    {
     "name": "stdout",
     "output_type": "stream",
     "text": [
      "[ 102.59118377  337.6503708   264.99091593  210.75887325  129.18223525\n",
      "  204.38956951   24.62880706   20.93558337   16.46666055 1583.96304898\n",
      " 2555.41382533]\n",
      "[0.03412718 0.01937107 0.28960704 0.12841501 0.00508884 0.03182805\n",
      " 0.21532079 0.08980242 0.14154298 0.03281705 0.01207958]\n",
      "-178568.3397025616 -15.991467648629534\n",
      "[ 268  159 2317 1114   28  343 1266 1362 1215  265  102]\n"
     ]
    }
   ],
   "source": [
    "\n",
    "print(np.max(mu_type,axis=1))\n",
    "print(pi)\n",
    "\n",
    "mu_null=cell_size_factor.reshape(-1,1)+np.dot(x_data_null,beta)\n",
    "mu=(mu_null.reshape(mu_null.shape[0],1,mu_null.shape[1])+mu_type)\n",
    "mu=np.where(mu>0,mu,0.1)\n",
    "\n",
    "\n",
    "gamma,_ = E_step(Y,mu,pi)\n",
    "pi = np.sum(gamma, axis=0) / Y.shape[0]\n",
    "mu_type,beta=M_step(Y,cell_size_factor,gamma,mu_null,x_data_null)    \n",
    "print((pi*8444).astype(int))"
   ]
  },
  {
   "cell_type": "code",
   "execution_count": 186,
   "metadata": {},
   "outputs": [
    {
     "data": {
      "text/plain": [
       "array([ 119,  129, 3501,  844,   37, 1192,  961,  569,  488,  511,   93])"
      ]
     },
     "execution_count": 186,
     "metadata": {},
     "output_type": "execute_result"
    }
   ],
   "source": []
  },
  {
   "cell_type": "code",
   "execution_count": 158,
   "metadata": {},
   "outputs": [
    {
     "name": "stdout",
     "output_type": "stream",
     "text": [
      "[  38.27693169  102.46117534  176.79433641    2.98713764   13.49770148\n",
      "    8.26891408    4.67045353   13.36116519    8.93255333  667.8713617\n",
      " 1502.09786507]\n",
      "[0.00421551 0.00883777 0.47173446 0.0450563  0.02574351 0.12164267\n",
      " 0.07649449 0.07155815 0.0864888  0.06747553 0.02075282]\n",
      "-inf -23.453833832015743\n"
     ]
    },
    {
     "name": "stderr",
     "output_type": "stream",
     "text": [
      "/home/ch6845/tools/miniconda3/envs/singlecell/lib/python3.7/site-packages/ipykernel_launcher.py:3: RuntimeWarning: invalid value encountered in double_scalars\n",
      "  This is separate from the ipykernel package so we can avoid doing imports until\n",
      "/home/ch6845/tools/miniconda3/envs/singlecell/lib/python3.7/site-packages/ipykernel_launcher.py:9: RuntimeWarning: invalid value encountered in greater\n",
      "  if __name__ == '__main__':\n"
     ]
    },
    {
     "ename": "ValueError",
     "evalue": "Input contains NaN, infinity or a value too large for dtype('float64').",
     "output_type": "error",
     "traceback": [
      "\u001b[0;31m---------------------------------------------------------------------------\u001b[0m",
      "\u001b[0;31mValueError\u001b[0m                                Traceback (most recent call last)",
      "\u001b[0;32m<ipython-input-158-1758ac9c3dbd>\u001b[0m in \u001b[0;36m<module>\u001b[0;34m\u001b[0m\n\u001b[1;32m      8\u001b[0m \u001b[0mgamma\u001b[0m\u001b[0;34m,\u001b[0m\u001b[0m_\u001b[0m \u001b[0;34m=\u001b[0m \u001b[0mE_step\u001b[0m\u001b[0;34m(\u001b[0m\u001b[0mY\u001b[0m\u001b[0;34m,\u001b[0m\u001b[0mmu\u001b[0m\u001b[0;34m,\u001b[0m\u001b[0mpi\u001b[0m\u001b[0;34m)\u001b[0m\u001b[0;34m\u001b[0m\u001b[0;34m\u001b[0m\u001b[0m\n\u001b[1;32m      9\u001b[0m \u001b[0mpi\u001b[0m \u001b[0;34m=\u001b[0m \u001b[0mnp\u001b[0m\u001b[0;34m.\u001b[0m\u001b[0msum\u001b[0m\u001b[0;34m(\u001b[0m\u001b[0mgamma\u001b[0m\u001b[0;34m,\u001b[0m \u001b[0maxis\u001b[0m\u001b[0;34m=\u001b[0m\u001b[0;36m0\u001b[0m\u001b[0;34m)\u001b[0m \u001b[0;34m/\u001b[0m \u001b[0mY\u001b[0m\u001b[0;34m.\u001b[0m\u001b[0mshape\u001b[0m\u001b[0;34m[\u001b[0m\u001b[0;36m0\u001b[0m\u001b[0;34m]\u001b[0m\u001b[0;34m\u001b[0m\u001b[0;34m\u001b[0m\u001b[0m\n\u001b[0;32m---> 10\u001b[0;31m \u001b[0mmu_type\u001b[0m\u001b[0;34m,\u001b[0m\u001b[0mbeta\u001b[0m\u001b[0;34m=\u001b[0m\u001b[0mM_step\u001b[0m\u001b[0;34m(\u001b[0m\u001b[0mY\u001b[0m\u001b[0;34m,\u001b[0m\u001b[0mcell_size_factor\u001b[0m\u001b[0;34m,\u001b[0m\u001b[0mgamma\u001b[0m\u001b[0;34m,\u001b[0m\u001b[0mmu_null\u001b[0m\u001b[0;34m,\u001b[0m\u001b[0mx_data_null\u001b[0m\u001b[0;34m)\u001b[0m\u001b[0;34m\u001b[0m\u001b[0;34m\u001b[0m\u001b[0m\n\u001b[0m",
      "\u001b[0;32m<ipython-input-133-8170eb9d3aac>\u001b[0m in \u001b[0;36mM_step\u001b[0;34m(Y, cell_size_factor, gamma, mu_null, x_data_null)\u001b[0m\n\u001b[1;32m     16\u001b[0m                 \u001b[0mmu_null\u001b[0m\u001b[0;34m[\u001b[0m\u001b[0mi\u001b[0m\u001b[0;34m,\u001b[0m\u001b[0mf\u001b[0m\u001b[0;34m]\u001b[0m\u001b[0;34m+=\u001b[0m\u001b[0mgamma\u001b[0m\u001b[0;34m[\u001b[0m\u001b[0mi\u001b[0m\u001b[0;34m]\u001b[0m\u001b[0;34m[\u001b[0m\u001b[0mt\u001b[0m\u001b[0;34m]\u001b[0m\u001b[0;34m*\u001b[0m\u001b[0;34m(\u001b[0m\u001b[0mY\u001b[0m\u001b[0;34m[\u001b[0m\u001b[0mi\u001b[0m\u001b[0;34m]\u001b[0m\u001b[0;34m[\u001b[0m\u001b[0mf\u001b[0m\u001b[0;34m]\u001b[0m\u001b[0;34m-\u001b[0m\u001b[0mmu_type\u001b[0m\u001b[0;34m[\u001b[0m\u001b[0mt\u001b[0m\u001b[0;34m,\u001b[0m\u001b[0mf\u001b[0m\u001b[0;34m]\u001b[0m\u001b[0;34m)\u001b[0m\u001b[0;34m\u001b[0m\u001b[0;34m\u001b[0m\u001b[0m\n\u001b[1;32m     17\u001b[0m \u001b[0;34m\u001b[0m\u001b[0m\n\u001b[0;32m---> 18\u001b[0;31m     \u001b[0mreg\u001b[0m\u001b[0;34m=\u001b[0m\u001b[0mLinearRegression\u001b[0m\u001b[0;34m(\u001b[0m\u001b[0;34m)\u001b[0m\u001b[0;34m.\u001b[0m\u001b[0mfit\u001b[0m\u001b[0;34m(\u001b[0m\u001b[0mx_data_null\u001b[0m\u001b[0;34m,\u001b[0m \u001b[0mmu_null\u001b[0m\u001b[0;34m-\u001b[0m\u001b[0mcell_size_factor\u001b[0m\u001b[0;34m.\u001b[0m\u001b[0mreshape\u001b[0m\u001b[0;34m(\u001b[0m\u001b[0;34m-\u001b[0m\u001b[0;36m1\u001b[0m\u001b[0;34m,\u001b[0m\u001b[0;36m1\u001b[0m\u001b[0;34m)\u001b[0m\u001b[0;34m)\u001b[0m\u001b[0;34m\u001b[0m\u001b[0;34m\u001b[0m\u001b[0m\n\u001b[0m\u001b[1;32m     19\u001b[0m     \u001b[0mbeta\u001b[0m\u001b[0;34m=\u001b[0m\u001b[0mreg\u001b[0m\u001b[0;34m.\u001b[0m\u001b[0mcoef_\u001b[0m\u001b[0;34m.\u001b[0m\u001b[0mT\u001b[0m\u001b[0;34m\u001b[0m\u001b[0;34m\u001b[0m\u001b[0m\n\u001b[1;32m     20\u001b[0m \u001b[0;34m\u001b[0m\u001b[0m\n",
      "\u001b[0;32m~/tools/miniconda3/envs/singlecell/lib/python3.7/site-packages/sklearn/linear_model/_base.py\u001b[0m in \u001b[0;36mfit\u001b[0;34m(self, X, y, sample_weight)\u001b[0m\n\u001b[1;32m    490\u001b[0m         \u001b[0mn_jobs_\u001b[0m \u001b[0;34m=\u001b[0m \u001b[0mself\u001b[0m\u001b[0;34m.\u001b[0m\u001b[0mn_jobs\u001b[0m\u001b[0;34m\u001b[0m\u001b[0;34m\u001b[0m\u001b[0m\n\u001b[1;32m    491\u001b[0m         X, y = check_X_y(X, y, accept_sparse=['csr', 'csc', 'coo'],\n\u001b[0;32m--> 492\u001b[0;31m                          y_numeric=True, multi_output=True)\n\u001b[0m\u001b[1;32m    493\u001b[0m \u001b[0;34m\u001b[0m\u001b[0m\n\u001b[1;32m    494\u001b[0m         \u001b[0;32mif\u001b[0m \u001b[0msample_weight\u001b[0m \u001b[0;32mis\u001b[0m \u001b[0;32mnot\u001b[0m \u001b[0;32mNone\u001b[0m\u001b[0;34m:\u001b[0m\u001b[0;34m\u001b[0m\u001b[0;34m\u001b[0m\u001b[0m\n",
      "\u001b[0;32m~/tools/miniconda3/envs/singlecell/lib/python3.7/site-packages/sklearn/utils/validation.py\u001b[0m in \u001b[0;36mcheck_X_y\u001b[0;34m(X, y, accept_sparse, accept_large_sparse, dtype, order, copy, force_all_finite, ensure_2d, allow_nd, multi_output, ensure_min_samples, ensure_min_features, y_numeric, warn_on_dtype, estimator)\u001b[0m\n\u001b[1;32m    756\u001b[0m     \u001b[0;32mif\u001b[0m \u001b[0mmulti_output\u001b[0m\u001b[0;34m:\u001b[0m\u001b[0;34m\u001b[0m\u001b[0;34m\u001b[0m\u001b[0m\n\u001b[1;32m    757\u001b[0m         y = check_array(y, 'csr', force_all_finite=True, ensure_2d=False,\n\u001b[0;32m--> 758\u001b[0;31m                         dtype=None)\n\u001b[0m\u001b[1;32m    759\u001b[0m     \u001b[0;32melse\u001b[0m\u001b[0;34m:\u001b[0m\u001b[0;34m\u001b[0m\u001b[0;34m\u001b[0m\u001b[0m\n\u001b[1;32m    760\u001b[0m         \u001b[0my\u001b[0m \u001b[0;34m=\u001b[0m \u001b[0mcolumn_or_1d\u001b[0m\u001b[0;34m(\u001b[0m\u001b[0my\u001b[0m\u001b[0;34m,\u001b[0m \u001b[0mwarn\u001b[0m\u001b[0;34m=\u001b[0m\u001b[0;32mTrue\u001b[0m\u001b[0;34m)\u001b[0m\u001b[0;34m\u001b[0m\u001b[0;34m\u001b[0m\u001b[0m\n",
      "\u001b[0;32m~/tools/miniconda3/envs/singlecell/lib/python3.7/site-packages/sklearn/utils/validation.py\u001b[0m in \u001b[0;36mcheck_array\u001b[0;34m(array, accept_sparse, accept_large_sparse, dtype, order, copy, force_all_finite, ensure_2d, allow_nd, ensure_min_samples, ensure_min_features, warn_on_dtype, estimator)\u001b[0m\n\u001b[1;32m    576\u001b[0m         \u001b[0;32mif\u001b[0m \u001b[0mforce_all_finite\u001b[0m\u001b[0;34m:\u001b[0m\u001b[0;34m\u001b[0m\u001b[0;34m\u001b[0m\u001b[0m\n\u001b[1;32m    577\u001b[0m             _assert_all_finite(array,\n\u001b[0;32m--> 578\u001b[0;31m                                allow_nan=force_all_finite == 'allow-nan')\n\u001b[0m\u001b[1;32m    579\u001b[0m \u001b[0;34m\u001b[0m\u001b[0m\n\u001b[1;32m    580\u001b[0m     \u001b[0;32mif\u001b[0m \u001b[0mensure_min_samples\u001b[0m \u001b[0;34m>\u001b[0m \u001b[0;36m0\u001b[0m\u001b[0;34m:\u001b[0m\u001b[0;34m\u001b[0m\u001b[0;34m\u001b[0m\u001b[0m\n",
      "\u001b[0;32m~/tools/miniconda3/envs/singlecell/lib/python3.7/site-packages/sklearn/utils/validation.py\u001b[0m in \u001b[0;36m_assert_all_finite\u001b[0;34m(X, allow_nan, msg_dtype)\u001b[0m\n\u001b[1;32m     58\u001b[0m                     \u001b[0mmsg_err\u001b[0m\u001b[0;34m.\u001b[0m\u001b[0mformat\u001b[0m\u001b[0;34m\u001b[0m\u001b[0;34m\u001b[0m\u001b[0m\n\u001b[1;32m     59\u001b[0m                     (type_err,\n\u001b[0;32m---> 60\u001b[0;31m                      msg_dtype if msg_dtype is not None else X.dtype)\n\u001b[0m\u001b[1;32m     61\u001b[0m             )\n\u001b[1;32m     62\u001b[0m     \u001b[0;31m# for object dtype data, we only check for NaNs (GH-13254)\u001b[0m\u001b[0;34m\u001b[0m\u001b[0;34m\u001b[0m\u001b[0;34m\u001b[0m\u001b[0m\n",
      "\u001b[0;31mValueError\u001b[0m: Input contains NaN, infinity or a value too large for dtype('float64')."
     ]
    }
   ],
   "source": [
    "\n",
    "print(np.max(mu_type,axis=1))\n",
    "print(pi)\n",
    "      \n",
    "mu_null=cell_size_factor.reshape(-1,1)+np.dot(x_data_null,beta)\n",
    "mu=(mu_null.reshape(mu_null.shape[0],1,mu_null.shape[1])+mu_type)\n",
    "mu=np.where(mu>0,mu,0)\n",
    "\n",
    "gamma,_ = E_step(Y,mu,pi)\n",
    "pi = np.sum(gamma, axis=0) / Y.shape[0]\n",
    "mu_type,beta=M_step(Y,cell_size_factor,gamma,mu_null,x_data_null)    "
   ]
  },
  {
   "cell_type": "code",
   "execution_count": 140,
   "metadata": {},
   "outputs": [
    {
     "name": "stdout",
     "output_type": "stream",
     "text": [
      "[  39.80087436  109.56413326  176.08164055    3.10590046   13.35522849\n",
      "    8.3458189     4.69519508   13.58351272    8.8313321   664.28711958\n",
      " 1511.27232724]\n",
      "[0.00406268 0.00821568 0.47373624 0.04397894 0.02550802 0.12035187\n",
      " 0.07672265 0.07040989 0.08854037 0.06784707 0.0206266 ]\n",
      "[[0.34873187 0.60064804 1.46714776 ... 0.73513704 0.87207477 0.46418287]\n",
      " [1.69822629 1.95014247 2.81664218 ... 2.08463146 2.22156919 1.8136773 ]\n",
      " [0.04676116 0.29867733 1.16517705 ... 0.43316632 0.57010406 0.16221216]\n",
      " ...\n",
      " [1.45360587 1.45360587 1.45360587 ... 1.45360587 1.45360587 1.45360587]\n",
      " [0.51372201 0.51372201 0.51372201 ... 0.51372201 0.51372201 0.51372201]\n",
      " [0.40260243 0.40260243 0.40260243 ... 0.40260243 0.40260243 0.40260243]] [[[ 0.34873187  0.60064804  1.46714776 ... 40.53601139  0.87207477\n",
      "    0.46418287]\n",
      "  [ 0.34873187  0.60064804  1.46714776 ...  0.73513704  0.87207477\n",
      "    0.46418287]\n",
      "  [ 0.34873187  0.60064804  1.46714776 ...  0.73513704  0.87207477\n",
      "    0.46418287]\n",
      "  ...\n",
      "  [ 0.34873187  0.60064804  1.46714776 ...  0.73513704  0.87207477\n",
      "    0.46418287]\n",
      "  [ 0.34873187  0.60064804  1.46714776 ...  0.73513704  0.87207477\n",
      "    0.46418287]\n",
      "  [ 0.34873187  0.60064804  1.46714776 ...  0.73513704  0.87207477\n",
      "    0.46418287]]\n",
      "\n",
      " [[ 1.69822629  1.95014247  2.81664218 ... 41.88550581  2.22156919\n",
      "    1.8136773 ]\n",
      "  [ 1.69822629  1.95014247  2.81664218 ...  2.08463146  2.22156919\n",
      "    1.8136773 ]\n",
      "  [ 1.69822629  1.95014247  2.81664218 ...  2.08463146  2.22156919\n",
      "    1.8136773 ]\n",
      "  ...\n",
      "  [ 1.69822629  1.95014247  2.81664218 ...  2.08463146  2.22156919\n",
      "    1.8136773 ]\n",
      "  [ 1.69822629  1.95014247  2.81664218 ...  2.08463146  2.22156919\n",
      "    1.8136773 ]\n",
      "  [ 1.69822629  1.95014247  2.81664218 ...  2.08463146  2.22156919\n",
      "    1.8136773 ]]\n",
      "\n",
      " [[ 0.04676116  0.29867733  1.16517705 ... 40.23404068  0.57010406\n",
      "    0.16221216]\n",
      "  [ 0.04676116  0.29867733  1.16517705 ...  0.43316632  0.57010406\n",
      "    0.16221216]\n",
      "  [ 0.04676116  0.29867733  1.16517705 ...  0.43316632  0.57010406\n",
      "    0.16221216]\n",
      "  ...\n",
      "  [ 0.04676116  0.29867733  1.16517705 ...  0.43316632  0.57010406\n",
      "    0.16221216]\n",
      "  [ 0.04676116  0.29867733  1.16517705 ...  0.43316632  0.57010406\n",
      "    0.16221216]\n",
      "  [ 0.04676116  0.29867733  1.16517705 ...  0.43316632  0.57010406\n",
      "    0.16221216]]\n",
      "\n",
      " ...\n",
      "\n",
      " [[ 1.45360587  1.45360587  1.45360587 ... 41.25448023  1.45360587\n",
      "    1.45360587]\n",
      "  [ 1.45360587  1.45360587  1.45360587 ...  1.45360587  1.45360587\n",
      "    1.45360587]\n",
      "  [ 1.45360587  1.45360587  1.45360587 ...  1.45360587  1.45360587\n",
      "    1.45360587]\n",
      "  ...\n",
      "  [ 1.45360587  1.45360587  1.45360587 ...  1.45360587  1.45360587\n",
      "    1.45360587]\n",
      "  [ 1.45360587  1.45360587  1.45360587 ...  1.45360587  1.45360587\n",
      "    1.45360587]\n",
      "  [ 1.45360587  1.45360587  1.45360587 ...  1.45360587  1.45360587\n",
      "    1.45360587]]\n",
      "\n",
      " [[ 0.51372201  0.51372201  0.51372201 ... 40.31459637  0.51372201\n",
      "    0.51372201]\n",
      "  [ 0.51372201  0.51372201  0.51372201 ...  0.51372201  0.51372201\n",
      "    0.51372201]\n",
      "  [ 0.51372201  0.51372201  0.51372201 ...  0.51372201  0.51372201\n",
      "    0.51372201]\n",
      "  ...\n",
      "  [ 0.51372201  0.51372201  0.51372201 ...  0.51372201  0.51372201\n",
      "    0.51372201]\n",
      "  [ 0.51372201  0.51372201  0.51372201 ...  0.51372201  0.51372201\n",
      "    0.51372201]\n",
      "  [ 0.51372201  0.51372201  0.51372201 ...  0.51372201  0.51372201\n",
      "    0.51372201]]\n",
      "\n",
      " [[ 0.40260243  0.40260243  0.40260243 ... 40.20347679  0.40260243\n",
      "    0.40260243]\n",
      "  [ 0.40260243  0.40260243  0.40260243 ...  0.40260243  0.40260243\n",
      "    0.40260243]\n",
      "  [ 0.40260243  0.40260243  0.40260243 ...  0.40260243  0.40260243\n",
      "    0.40260243]\n",
      "  ...\n",
      "  [ 0.40260243  0.40260243  0.40260243 ...  0.40260243  0.40260243\n",
      "    0.40260243]\n",
      "  [ 0.40260243  0.40260243  0.40260243 ...  0.40260243  0.40260243\n",
      "    0.40260243]\n",
      "  [ 0.40260243  0.40260243  0.40260243 ...  0.40260243  0.40260243\n",
      "    0.40260243]]]\n"
     ]
    },
    {
     "name": "stderr",
     "output_type": "stream",
     "text": [
      "/home/ch6845/tools/miniconda3/envs/singlecell/lib/python3.7/site-packages/ipykernel_launcher.py:3: RuntimeWarning: invalid value encountered in double_scalars\n",
      "  This is separate from the ipykernel package so we can avoid doing imports until\n",
      "/home/ch6845/tools/miniconda3/envs/singlecell/lib/python3.7/site-packages/ipykernel_launcher.py:9: RuntimeWarning: invalid value encountered in greater\n",
      "  if __name__ == '__main__':\n"
     ]
    },
    {
     "ename": "ValueError",
     "evalue": "Input contains NaN, infinity or a value too large for dtype('float64').",
     "output_type": "error",
     "traceback": [
      "\u001b[0;31m---------------------------------------------------------------------------\u001b[0m",
      "\u001b[0;31mValueError\u001b[0m                                Traceback (most recent call last)",
      "\u001b[0;32m<ipython-input-140-36697b2726b7>\u001b[0m in \u001b[0;36m<module>\u001b[0;34m\u001b[0m\n\u001b[1;32m      9\u001b[0m \u001b[0mgamma\u001b[0m\u001b[0;34m,\u001b[0m\u001b[0m_\u001b[0m \u001b[0;34m=\u001b[0m \u001b[0mE_step\u001b[0m\u001b[0;34m(\u001b[0m\u001b[0mY\u001b[0m\u001b[0;34m,\u001b[0m\u001b[0mmu\u001b[0m\u001b[0;34m,\u001b[0m\u001b[0mpi\u001b[0m\u001b[0;34m)\u001b[0m\u001b[0;34m\u001b[0m\u001b[0;34m\u001b[0m\u001b[0m\n\u001b[1;32m     10\u001b[0m \u001b[0mpi\u001b[0m \u001b[0;34m=\u001b[0m \u001b[0mnp\u001b[0m\u001b[0;34m.\u001b[0m\u001b[0msum\u001b[0m\u001b[0;34m(\u001b[0m\u001b[0mgamma\u001b[0m\u001b[0;34m,\u001b[0m \u001b[0maxis\u001b[0m\u001b[0;34m=\u001b[0m\u001b[0;36m0\u001b[0m\u001b[0;34m)\u001b[0m \u001b[0;34m/\u001b[0m \u001b[0mY\u001b[0m\u001b[0;34m.\u001b[0m\u001b[0mshape\u001b[0m\u001b[0;34m[\u001b[0m\u001b[0;36m0\u001b[0m\u001b[0;34m]\u001b[0m\u001b[0;34m\u001b[0m\u001b[0;34m\u001b[0m\u001b[0m\n\u001b[0;32m---> 11\u001b[0;31m \u001b[0mmu_type\u001b[0m\u001b[0;34m,\u001b[0m\u001b[0mbeta\u001b[0m\u001b[0;34m=\u001b[0m\u001b[0mM_step\u001b[0m\u001b[0;34m(\u001b[0m\u001b[0mY\u001b[0m\u001b[0;34m,\u001b[0m\u001b[0mcell_size_factor\u001b[0m\u001b[0;34m,\u001b[0m\u001b[0mgamma\u001b[0m\u001b[0;34m,\u001b[0m\u001b[0mmu_null\u001b[0m\u001b[0;34m,\u001b[0m\u001b[0mx_data_null\u001b[0m\u001b[0;34m)\u001b[0m\u001b[0;34m\u001b[0m\u001b[0;34m\u001b[0m\u001b[0m\n\u001b[0m",
      "\u001b[0;32m<ipython-input-133-8170eb9d3aac>\u001b[0m in \u001b[0;36mM_step\u001b[0;34m(Y, cell_size_factor, gamma, mu_null, x_data_null)\u001b[0m\n\u001b[1;32m     16\u001b[0m                 \u001b[0mmu_null\u001b[0m\u001b[0;34m[\u001b[0m\u001b[0mi\u001b[0m\u001b[0;34m,\u001b[0m\u001b[0mf\u001b[0m\u001b[0;34m]\u001b[0m\u001b[0;34m+=\u001b[0m\u001b[0mgamma\u001b[0m\u001b[0;34m[\u001b[0m\u001b[0mi\u001b[0m\u001b[0;34m]\u001b[0m\u001b[0;34m[\u001b[0m\u001b[0mt\u001b[0m\u001b[0;34m]\u001b[0m\u001b[0;34m*\u001b[0m\u001b[0;34m(\u001b[0m\u001b[0mY\u001b[0m\u001b[0;34m[\u001b[0m\u001b[0mi\u001b[0m\u001b[0;34m]\u001b[0m\u001b[0;34m[\u001b[0m\u001b[0mf\u001b[0m\u001b[0;34m]\u001b[0m\u001b[0;34m-\u001b[0m\u001b[0mmu_type\u001b[0m\u001b[0;34m[\u001b[0m\u001b[0mt\u001b[0m\u001b[0;34m,\u001b[0m\u001b[0mf\u001b[0m\u001b[0;34m]\u001b[0m\u001b[0;34m)\u001b[0m\u001b[0;34m\u001b[0m\u001b[0;34m\u001b[0m\u001b[0m\n\u001b[1;32m     17\u001b[0m \u001b[0;34m\u001b[0m\u001b[0m\n\u001b[0;32m---> 18\u001b[0;31m     \u001b[0mreg\u001b[0m\u001b[0;34m=\u001b[0m\u001b[0mLinearRegression\u001b[0m\u001b[0;34m(\u001b[0m\u001b[0;34m)\u001b[0m\u001b[0;34m.\u001b[0m\u001b[0mfit\u001b[0m\u001b[0;34m(\u001b[0m\u001b[0mx_data_null\u001b[0m\u001b[0;34m,\u001b[0m \u001b[0mmu_null\u001b[0m\u001b[0;34m-\u001b[0m\u001b[0mcell_size_factor\u001b[0m\u001b[0;34m.\u001b[0m\u001b[0mreshape\u001b[0m\u001b[0;34m(\u001b[0m\u001b[0;34m-\u001b[0m\u001b[0;36m1\u001b[0m\u001b[0;34m,\u001b[0m\u001b[0;36m1\u001b[0m\u001b[0;34m)\u001b[0m\u001b[0;34m)\u001b[0m\u001b[0;34m\u001b[0m\u001b[0;34m\u001b[0m\u001b[0m\n\u001b[0m\u001b[1;32m     19\u001b[0m     \u001b[0mbeta\u001b[0m\u001b[0;34m=\u001b[0m\u001b[0mreg\u001b[0m\u001b[0;34m.\u001b[0m\u001b[0mcoef_\u001b[0m\u001b[0;34m.\u001b[0m\u001b[0mT\u001b[0m\u001b[0;34m\u001b[0m\u001b[0;34m\u001b[0m\u001b[0m\n\u001b[1;32m     20\u001b[0m \u001b[0;34m\u001b[0m\u001b[0m\n",
      "\u001b[0;32m~/tools/miniconda3/envs/singlecell/lib/python3.7/site-packages/sklearn/linear_model/_base.py\u001b[0m in \u001b[0;36mfit\u001b[0;34m(self, X, y, sample_weight)\u001b[0m\n\u001b[1;32m    490\u001b[0m         \u001b[0mn_jobs_\u001b[0m \u001b[0;34m=\u001b[0m \u001b[0mself\u001b[0m\u001b[0;34m.\u001b[0m\u001b[0mn_jobs\u001b[0m\u001b[0;34m\u001b[0m\u001b[0;34m\u001b[0m\u001b[0m\n\u001b[1;32m    491\u001b[0m         X, y = check_X_y(X, y, accept_sparse=['csr', 'csc', 'coo'],\n\u001b[0;32m--> 492\u001b[0;31m                          y_numeric=True, multi_output=True)\n\u001b[0m\u001b[1;32m    493\u001b[0m \u001b[0;34m\u001b[0m\u001b[0m\n\u001b[1;32m    494\u001b[0m         \u001b[0;32mif\u001b[0m \u001b[0msample_weight\u001b[0m \u001b[0;32mis\u001b[0m \u001b[0;32mnot\u001b[0m \u001b[0;32mNone\u001b[0m\u001b[0;34m:\u001b[0m\u001b[0;34m\u001b[0m\u001b[0;34m\u001b[0m\u001b[0m\n",
      "\u001b[0;32m~/tools/miniconda3/envs/singlecell/lib/python3.7/site-packages/sklearn/utils/validation.py\u001b[0m in \u001b[0;36mcheck_X_y\u001b[0;34m(X, y, accept_sparse, accept_large_sparse, dtype, order, copy, force_all_finite, ensure_2d, allow_nd, multi_output, ensure_min_samples, ensure_min_features, y_numeric, warn_on_dtype, estimator)\u001b[0m\n\u001b[1;32m    756\u001b[0m     \u001b[0;32mif\u001b[0m \u001b[0mmulti_output\u001b[0m\u001b[0;34m:\u001b[0m\u001b[0;34m\u001b[0m\u001b[0;34m\u001b[0m\u001b[0m\n\u001b[1;32m    757\u001b[0m         y = check_array(y, 'csr', force_all_finite=True, ensure_2d=False,\n\u001b[0;32m--> 758\u001b[0;31m                         dtype=None)\n\u001b[0m\u001b[1;32m    759\u001b[0m     \u001b[0;32melse\u001b[0m\u001b[0;34m:\u001b[0m\u001b[0;34m\u001b[0m\u001b[0;34m\u001b[0m\u001b[0m\n\u001b[1;32m    760\u001b[0m         \u001b[0my\u001b[0m \u001b[0;34m=\u001b[0m \u001b[0mcolumn_or_1d\u001b[0m\u001b[0;34m(\u001b[0m\u001b[0my\u001b[0m\u001b[0;34m,\u001b[0m \u001b[0mwarn\u001b[0m\u001b[0;34m=\u001b[0m\u001b[0;32mTrue\u001b[0m\u001b[0;34m)\u001b[0m\u001b[0;34m\u001b[0m\u001b[0;34m\u001b[0m\u001b[0m\n",
      "\u001b[0;32m~/tools/miniconda3/envs/singlecell/lib/python3.7/site-packages/sklearn/utils/validation.py\u001b[0m in \u001b[0;36mcheck_array\u001b[0;34m(array, accept_sparse, accept_large_sparse, dtype, order, copy, force_all_finite, ensure_2d, allow_nd, ensure_min_samples, ensure_min_features, warn_on_dtype, estimator)\u001b[0m\n\u001b[1;32m    576\u001b[0m         \u001b[0;32mif\u001b[0m \u001b[0mforce_all_finite\u001b[0m\u001b[0;34m:\u001b[0m\u001b[0;34m\u001b[0m\u001b[0;34m\u001b[0m\u001b[0m\n\u001b[1;32m    577\u001b[0m             _assert_all_finite(array,\n\u001b[0;32m--> 578\u001b[0;31m                                allow_nan=force_all_finite == 'allow-nan')\n\u001b[0m\u001b[1;32m    579\u001b[0m \u001b[0;34m\u001b[0m\u001b[0m\n\u001b[1;32m    580\u001b[0m     \u001b[0;32mif\u001b[0m \u001b[0mensure_min_samples\u001b[0m \u001b[0;34m>\u001b[0m \u001b[0;36m0\u001b[0m\u001b[0;34m:\u001b[0m\u001b[0;34m\u001b[0m\u001b[0;34m\u001b[0m\u001b[0m\n",
      "\u001b[0;32m~/tools/miniconda3/envs/singlecell/lib/python3.7/site-packages/sklearn/utils/validation.py\u001b[0m in \u001b[0;36m_assert_all_finite\u001b[0;34m(X, allow_nan, msg_dtype)\u001b[0m\n\u001b[1;32m     58\u001b[0m                     \u001b[0mmsg_err\u001b[0m\u001b[0;34m.\u001b[0m\u001b[0mformat\u001b[0m\u001b[0;34m\u001b[0m\u001b[0;34m\u001b[0m\u001b[0m\n\u001b[1;32m     59\u001b[0m                     (type_err,\n\u001b[0;32m---> 60\u001b[0;31m                      msg_dtype if msg_dtype is not None else X.dtype)\n\u001b[0m\u001b[1;32m     61\u001b[0m             )\n\u001b[1;32m     62\u001b[0m     \u001b[0;31m# for object dtype data, we only check for NaNs (GH-13254)\u001b[0m\u001b[0;34m\u001b[0m\u001b[0;34m\u001b[0m\u001b[0;34m\u001b[0m\u001b[0m\n",
      "\u001b[0;31mValueError\u001b[0m: Input contains NaN, infinity or a value too large for dtype('float64')."
     ]
    }
   ],
   "source": [
    "\n",
    "print(np.max(mu_type,axis=1))\n",
    "print(pi)\n",
    "      \n",
    "mu_null=cell_size_factor.reshape(-1,1)+np.dot(x_data_null,beta)\n",
    "mu=(mu_null.reshape(mu_null.shape[0],1,mu_null.shape[1])+mu_type)\n",
    "mu=np.where(mu>0,mu,0)\n",
    "\n",
    "gamma,_ = E_step(Y,mu,pi)\n",
    "pi = np.sum(gamma, axis=0) / Y.shape[0]\n",
    "mu_type,beta=M_step(Y,cell_size_factor,gamma,mu_null,x_data_null)    "
   ]
  },
  {
   "cell_type": "code",
   "execution_count": 80,
   "metadata": {},
   "outputs": [],
   "source": [
    "temp_null=M_step2(Y,cell_size_factor,gamma,mu_null,x_data_null)  "
   ]
  },
  {
   "cell_type": "code",
   "execution_count": 82,
   "metadata": {},
   "outputs": [
    {
     "data": {
      "text/plain": [
       "(array([[nan, nan, nan, ..., nan, nan, nan],\n",
       "        [nan, nan, nan, ..., nan, nan, nan],\n",
       "        [nan, nan, nan, ..., nan, nan, nan],\n",
       "        ...,\n",
       "        [nan, nan, nan, ..., nan, nan, nan],\n",
       "        [nan, nan, nan, ..., nan, nan, nan],\n",
       "        [nan, nan, nan, ..., nan, nan, nan]]),\n",
       " array([[0.33333828, 0.6733144 , 1.42802075, ..., 0.81935536, 0.97437863,\n",
       "         0.43405014],\n",
       "        [1.6828327 , 2.02280882, 2.77751517, ..., 2.16884978, 2.32387305,\n",
       "         1.78354456],\n",
       "        [0.03136756, 0.37134369, 1.12605003, ..., 0.51738465, 0.67240792,\n",
       "         0.13207942],\n",
       "        ...,\n",
       "        [1.45360587, 1.45360587, 1.45360587, ..., 1.45360587, 1.45360587,\n",
       "         1.45360587],\n",
       "        [0.51372201, 0.51372201, 0.51372201, ..., 0.51372201, 0.51372201,\n",
       "         0.51372201],\n",
       "        [0.40260243, 0.40260243, 0.40260243, ..., 0.40260243, 0.40260243,\n",
       "         0.40260243]]),\n",
       " array([[nan, nan, nan, ..., nan, nan, nan],\n",
       "        [nan, nan, nan, ..., nan, nan, nan],\n",
       "        [nan, nan, nan, ..., nan, nan, nan],\n",
       "        ...,\n",
       "        [nan, nan, nan, ..., nan, nan, nan],\n",
       "        [nan, nan, nan, ..., nan, nan, nan],\n",
       "        [nan, nan, nan, ..., nan, nan, nan]]))"
      ]
     },
     "execution_count": 82,
     "metadata": {},
     "output_type": "execute_result"
    }
   ],
   "source": [
    "gamma,mu_null,temp_null"
   ]
  },
  {
   "cell_type": "code",
   "execution_count": 51,
   "metadata": {},
   "outputs": [
    {
     "data": {
      "text/plain": [
       "(array([[1.0309219 , 1.0309219 , 1.0309219 , ..., 1.0309219 , 1.0309219 ,\n",
       "         1.0309219 ],\n",
       "        [2.38041632, 2.38041632, 2.38041632, ..., 2.38041632, 2.38041632,\n",
       "         2.38041632],\n",
       "        [0.72895119, 0.72895119, 0.72895119, ..., 0.72895119, 0.72895119,\n",
       "         0.72895119],\n",
       "        ...,\n",
       "        [1.45360587, 1.45360587, 1.45360587, ..., 1.45360587, 1.45360587,\n",
       "         1.45360587],\n",
       "        [0.51372201, 0.51372201, 0.51372201, ..., 0.51372201, 0.51372201,\n",
       "         0.51372201],\n",
       "        [0.40260243, 0.40260243, 0.40260243, ..., 0.40260243, 0.40260243,\n",
       "         0.40260243]]),\n",
       " array([[[   6.76532477,    5.55684432,    4.45142528, ...,\n",
       "           596.87243118,    6.26628776,    4.73893481],\n",
       "         [   9.26590104,    8.14480269,   11.47122076, ...,\n",
       "             9.04538071,   11.244965  ,    7.35100509],\n",
       "         [   9.06345624, 1108.73509465,    9.29731481, ...,\n",
       "             7.01066575,    9.70611684,    6.65477778],\n",
       "         ...,\n",
       "         [   7.64176888,    9.59826799,    8.5248988 , ...,\n",
       "             8.16311192,    6.83528874,    6.8188244 ],\n",
       "         [   6.56177011,    6.10973937,    8.75881265, ...,\n",
       "             9.08666886,    7.73555038,    9.82148347],\n",
       "         [  14.82158218,   15.62550506,   15.95336948, ...,\n",
       "            14.67864811,   12.67522296,   11.10104229]],\n",
       " \n",
       "        [[   8.1148192 ,    6.90633874,    5.8009197 , ...,\n",
       "           598.2219256 ,    7.61578218,    6.08842923],\n",
       "         [  10.61539546,    9.49429711,   12.82071518, ...,\n",
       "            10.39487513,   12.59445942,    8.70049951],\n",
       "         [  10.41295066, 1110.08458907,   10.64680923, ...,\n",
       "             8.36016017,   11.05561126,    8.0042722 ],\n",
       "         ...,\n",
       "         [   8.9912633 ,   10.94776242,    9.87439323, ...,\n",
       "             9.51260634,    8.18478316,    8.16831882],\n",
       "         [   7.91126453,    7.45923379,   10.10830707, ...,\n",
       "            10.43616328,    9.0850448 ,   11.17097789],\n",
       "         [  16.1710766 ,   16.97499948,   17.3028639 , ...,\n",
       "            16.02814254,   14.02471738,   12.45053671]],\n",
       " \n",
       "        [[   6.46335406,    5.25487361,    4.14945456, ...,\n",
       "           596.57046046,    5.96431704,    4.4369641 ],\n",
       "         [   8.96393033,    7.84283198,   11.16925005, ...,\n",
       "             8.74341   ,   10.94299429,    7.04903438],\n",
       "         [   8.76148552, 1108.43312393,    8.9953441 , ...,\n",
       "             6.70869504,    9.40414613,    6.35280707],\n",
       "         ...,\n",
       "         [   7.33979817,    9.29629728,    8.22292809, ...,\n",
       "             7.86114121,    6.53331803,    6.51685368],\n",
       "         [   6.2597994 ,    5.80776865,    8.45684194, ...,\n",
       "             8.78469815,    7.43357967,    9.51951276],\n",
       "         [  14.51961147,   15.32353434,   15.65139877, ...,\n",
       "            14.3766774 ,   12.37325224,   10.79907158]],\n",
       " \n",
       "        ...,\n",
       " \n",
       "        [[   7.18800874,    5.97952829,    4.87410924, ...,\n",
       "           597.29511514,    6.68897172,    5.16161878],\n",
       "         [   9.68858501,    8.56748666,   11.89390473, ...,\n",
       "             9.46806468,   11.66764897,    7.77368906],\n",
       "         [   9.4861402 , 1109.15777861,    9.71999878, ...,\n",
       "             7.43334972,   10.12880081,    7.07746175],\n",
       "         ...,\n",
       "         [   8.06445285,   10.02095196,    8.94758277, ...,\n",
       "             8.58579589,    7.25797271,    7.24150836],\n",
       "         [   6.98445408,    6.53242333,    9.18149662, ...,\n",
       "             9.50935283,    8.15823435,   10.24416744],\n",
       "         [  15.24426615,   16.04818903,   16.37605345, ...,\n",
       "            15.10133208,   13.09790692,   11.52372626]],\n",
       " \n",
       "        [[   6.24812489,    5.03964443,    3.93422539, ...,\n",
       "           596.35523129,    5.74908787,    4.22173492],\n",
       "         [   8.74870115,    7.6276028 ,   10.95402087, ...,\n",
       "             8.52818082,   10.72776511,    6.8338052 ],\n",
       "         [   8.54625635, 1108.21789476,    8.78011492, ...,\n",
       "             6.49346586,    9.18891695,    6.13757789],\n",
       "         ...,\n",
       "         [   7.12456899,    9.08106811,    8.00769892, ...,\n",
       "             7.64591203,    6.31808885,    6.30162451],\n",
       "         [   6.04457022,    5.59253948,    8.24161276, ...,\n",
       "             8.56946897,    7.21835049,    9.30428358],\n",
       "         [  14.30438229,   15.10830517,   15.43616959, ...,\n",
       "            14.16144823,   12.15802307,   10.5838424 ]],\n",
       " \n",
       "        [[   6.1370053 ,    4.92852485,    3.8231058 , ...,\n",
       "           596.24411171,    5.63796828,    4.11061534],\n",
       "         [   8.63758157,    7.51648322,   10.84290129, ...,\n",
       "             8.41706124,   10.61664553,    6.72268562],\n",
       "         [   8.43513677, 1108.10677517,    8.66899534, ...,\n",
       "             6.38234628,    9.07779737,    6.02645831],\n",
       "         ...,\n",
       "         [   7.01344941,    8.96994852,    7.89657933, ...,\n",
       "             7.53479245,    6.20696927,    6.19050492],\n",
       "         [   5.93345064,    5.4814199 ,    8.13049318, ...,\n",
       "             8.45834939,    7.10723091,    9.193164  ],\n",
       "         [  14.19326271,   14.99718559,   15.32505001, ...,\n",
       "            14.05032864,   12.04690348,   10.47272282]]]))"
      ]
     },
     "execution_count": 51,
     "metadata": {},
     "output_type": "execute_result"
    }
   ],
   "source": [
    "mu_null,mu"
   ]
  },
  {
   "cell_type": "code",
   "execution_count": 53,
   "metadata": {},
   "outputs": [
    {
     "data": {
      "text/plain": [
       "(array([[1.0309219 , 1.0309219 , 1.0309219 , ..., 1.0309219 , 1.0309219 ,\n",
       "         1.0309219 ],\n",
       "        [2.38041632, 2.38041632, 2.38041632, ..., 2.38041632, 2.38041632,\n",
       "         2.38041632],\n",
       "        [0.72895119, 0.72895119, 0.72895119, ..., 0.72895119, 0.72895119,\n",
       "         0.72895119],\n",
       "        ...,\n",
       "        [1.45360587, 1.45360587, 1.45360587, ..., 1.45360587, 1.45360587,\n",
       "         1.45360587],\n",
       "        [0.51372201, 0.51372201, 0.51372201, ..., 0.51372201, 0.51372201,\n",
       "         0.51372201],\n",
       "        [0.40260243, 0.40260243, 0.40260243, ..., 0.40260243, 0.40260243,\n",
       "         0.40260243]]),\n",
       " array([[[   6.76532477,    5.55684432,    4.45142528, ...,\n",
       "           596.87243118,    6.26628776,    4.73893481],\n",
       "         [   9.26590104,    8.14480269,   11.47122076, ...,\n",
       "             9.04538071,   11.244965  ,    7.35100509],\n",
       "         [   9.06345624, 1108.73509465,    9.29731481, ...,\n",
       "             7.01066575,    9.70611684,    6.65477778],\n",
       "         ...,\n",
       "         [   7.64176888,    9.59826799,    8.5248988 , ...,\n",
       "             8.16311192,    6.83528874,    6.8188244 ],\n",
       "         [   6.56177011,    6.10973937,    8.75881265, ...,\n",
       "             9.08666886,    7.73555038,    9.82148347],\n",
       "         [  14.82158218,   15.62550506,   15.95336948, ...,\n",
       "            14.67864811,   12.67522296,   11.10104229]],\n",
       " \n",
       "        [[   8.1148192 ,    6.90633874,    5.8009197 , ...,\n",
       "           598.2219256 ,    7.61578218,    6.08842923],\n",
       "         [  10.61539546,    9.49429711,   12.82071518, ...,\n",
       "            10.39487513,   12.59445942,    8.70049951],\n",
       "         [  10.41295066, 1110.08458907,   10.64680923, ...,\n",
       "             8.36016017,   11.05561126,    8.0042722 ],\n",
       "         ...,\n",
       "         [   8.9912633 ,   10.94776242,    9.87439323, ...,\n",
       "             9.51260634,    8.18478316,    8.16831882],\n",
       "         [   7.91126453,    7.45923379,   10.10830707, ...,\n",
       "            10.43616328,    9.0850448 ,   11.17097789],\n",
       "         [  16.1710766 ,   16.97499948,   17.3028639 , ...,\n",
       "            16.02814254,   14.02471738,   12.45053671]],\n",
       " \n",
       "        [[   6.46335406,    5.25487361,    4.14945456, ...,\n",
       "           596.57046046,    5.96431704,    4.4369641 ],\n",
       "         [   8.96393033,    7.84283198,   11.16925005, ...,\n",
       "             8.74341   ,   10.94299429,    7.04903438],\n",
       "         [   8.76148552, 1108.43312393,    8.9953441 , ...,\n",
       "             6.70869504,    9.40414613,    6.35280707],\n",
       "         ...,\n",
       "         [   7.33979817,    9.29629728,    8.22292809, ...,\n",
       "             7.86114121,    6.53331803,    6.51685368],\n",
       "         [   6.2597994 ,    5.80776865,    8.45684194, ...,\n",
       "             8.78469815,    7.43357967,    9.51951276],\n",
       "         [  14.51961147,   15.32353434,   15.65139877, ...,\n",
       "            14.3766774 ,   12.37325224,   10.79907158]],\n",
       " \n",
       "        ...,\n",
       " \n",
       "        [[   7.18800874,    5.97952829,    4.87410924, ...,\n",
       "           597.29511514,    6.68897172,    5.16161878],\n",
       "         [   9.68858501,    8.56748666,   11.89390473, ...,\n",
       "             9.46806468,   11.66764897,    7.77368906],\n",
       "         [   9.4861402 , 1109.15777861,    9.71999878, ...,\n",
       "             7.43334972,   10.12880081,    7.07746175],\n",
       "         ...,\n",
       "         [   8.06445285,   10.02095196,    8.94758277, ...,\n",
       "             8.58579589,    7.25797271,    7.24150836],\n",
       "         [   6.98445408,    6.53242333,    9.18149662, ...,\n",
       "             9.50935283,    8.15823435,   10.24416744],\n",
       "         [  15.24426615,   16.04818903,   16.37605345, ...,\n",
       "            15.10133208,   13.09790692,   11.52372626]],\n",
       " \n",
       "        [[   6.24812489,    5.03964443,    3.93422539, ...,\n",
       "           596.35523129,    5.74908787,    4.22173492],\n",
       "         [   8.74870115,    7.6276028 ,   10.95402087, ...,\n",
       "             8.52818082,   10.72776511,    6.8338052 ],\n",
       "         [   8.54625635, 1108.21789476,    8.78011492, ...,\n",
       "             6.49346586,    9.18891695,    6.13757789],\n",
       "         ...,\n",
       "         [   7.12456899,    9.08106811,    8.00769892, ...,\n",
       "             7.64591203,    6.31808885,    6.30162451],\n",
       "         [   6.04457022,    5.59253948,    8.24161276, ...,\n",
       "             8.56946897,    7.21835049,    9.30428358],\n",
       "         [  14.30438229,   15.10830517,   15.43616959, ...,\n",
       "            14.16144823,   12.15802307,   10.5838424 ]],\n",
       " \n",
       "        [[   6.1370053 ,    4.92852485,    3.8231058 , ...,\n",
       "           596.24411171,    5.63796828,    4.11061534],\n",
       "         [   8.63758157,    7.51648322,   10.84290129, ...,\n",
       "             8.41706124,   10.61664553,    6.72268562],\n",
       "         [   8.43513677, 1108.10677517,    8.66899534, ...,\n",
       "             6.38234628,    9.07779737,    6.02645831],\n",
       "         ...,\n",
       "         [   7.01344941,    8.96994852,    7.89657933, ...,\n",
       "             7.53479245,    6.20696927,    6.19050492],\n",
       "         [   5.93345064,    5.4814199 ,    8.13049318, ...,\n",
       "             8.45834939,    7.10723091,    9.193164  ],\n",
       "         [  14.19326271,   14.99718559,   15.32505001, ...,\n",
       "            14.05032864,   12.04690348,   10.47272282]]]))"
      ]
     },
     "execution_count": 53,
     "metadata": {},
     "output_type": "execute_result"
    }
   ],
   "source": [
    "mu_null,mu"
   ]
  },
  {
   "cell_type": "code",
   "execution_count": 162,
   "metadata": {},
   "outputs": [
    {
     "data": {
      "text/plain": [
       "array([[1.],\n",
       "       [1.],\n",
       "       [1.],\n",
       "       ...,\n",
       "       [1.],\n",
       "       [1.],\n",
       "       [1.]])"
      ]
     },
     "execution_count": 162,
     "metadata": {},
     "output_type": "execute_result"
    }
   ],
   "source": []
  },
  {
   "cell_type": "code",
   "execution_count": 175,
   "metadata": {},
   "outputs": [
    {
     "data": {
      "text/plain": [
       "(80049.74603258204, 5996.595018158268, 531971.9999999999, 531971.9999999991)"
      ]
     },
     "execution_count": 175,
     "metadata": {},
     "output_type": "execute_result"
    }
   ],
   "source": [
    "mu_type.sum(),mu_type2.sum(),mu_null.sum(),mu_null2.sum()"
   ]
  },
  {
   "cell_type": "code",
   "execution_count": 176,
   "metadata": {},
   "outputs": [
    {
     "data": {
      "text/plain": [
       "(8444, 63)"
      ]
     },
     "execution_count": 176,
     "metadata": {},
     "output_type": "execute_result"
    }
   ],
   "source": [
    "mu_null2.shape"
   ]
  },
  {
   "cell_type": "code",
   "execution_count": 183,
   "metadata": {},
   "outputs": [
    {
     "data": {
      "text/plain": [
       "((8444, 5), (5, 63))"
      ]
     },
     "execution_count": 183,
     "metadata": {},
     "output_type": "execute_result"
    }
   ],
   "source": [
    "x_data_null.shape,beta.shape,"
   ]
  },
  {
   "cell_type": "code",
   "execution_count": 187,
   "metadata": {},
   "outputs": [],
   "source": []
  },
  {
   "cell_type": "code",
   "execution_count": 21,
   "metadata": {},
   "outputs": [
    {
     "data": {
      "text/plain": [
       "(5, 63)"
      ]
     },
     "execution_count": 21,
     "metadata": {},
     "output_type": "execute_result"
    }
   ],
   "source": [
    "beta.shape"
   ]
  },
  {
   "cell_type": "code",
   "execution_count": 20,
   "metadata": {},
   "outputs": [
    {
     "ename": "NameError",
     "evalue": "name 'reg' is not defined",
     "output_type": "error",
     "traceback": [
      "\u001b[0;31m---------------------------------------------------------------------------\u001b[0m",
      "\u001b[0;31mNameError\u001b[0m                                 Traceback (most recent call last)",
      "\u001b[0;32m<ipython-input-20-b5d7b1e9df8e>\u001b[0m in \u001b[0;36m<module>\u001b[0;34m\u001b[0m\n\u001b[0;32m----> 1\u001b[0;31m \u001b[0mreg\u001b[0m\u001b[0;34m.\u001b[0m\u001b[0mcoef_\u001b[0m\u001b[0;34m.\u001b[0m\u001b[0mshape\u001b[0m\u001b[0;34m\u001b[0m\u001b[0;34m\u001b[0m\u001b[0m\n\u001b[0m",
      "\u001b[0;31mNameError\u001b[0m: name 'reg' is not defined"
     ]
    }
   ],
   "source": [
    "reg.coef_.shape"
   ]
  },
  {
   "cell_type": "code",
   "execution_count": 181,
   "metadata": {},
   "outputs": [],
   "source": [
    "#family=sm.families.Poisson(link=sm.families.links.log())\n",
    "family=sm.families.Gaussian(link=sm.families.links.identity())"
   ]
  },
  {
   "cell_type": "code",
   "execution_count": null,
   "metadata": {},
   "outputs": [],
   "source": [
    "ValueError: operands could not be broadcast together with shapes"
   ]
  },
  {
   "cell_type": "code",
   "execution_count": 185,
   "metadata": {},
   "outputs": [
    {
     "ename": "ValueError",
     "evalue": "operands could not be broadcast together with shapes (8444,63) (8444,) ",
     "output_type": "error",
     "traceback": [
      "\u001b[0;31m---------------------------------------------------------------------------\u001b[0m",
      "\u001b[0;31mValueError\u001b[0m                                Traceback (most recent call last)",
      "\u001b[0;32m<ipython-input-185-88fbbf018de9>\u001b[0m in \u001b[0;36m<module>\u001b[0;34m\u001b[0m\n\u001b[1;32m      1\u001b[0m \u001b[0mmodel\u001b[0m\u001b[0;34m=\u001b[0m\u001b[0msm\u001b[0m\u001b[0;34m.\u001b[0m\u001b[0mGLM\u001b[0m\u001b[0;34m(\u001b[0m\u001b[0mmu_null2\u001b[0m\u001b[0;34m,\u001b[0m\u001b[0mx_data_null\u001b[0m\u001b[0;34m,\u001b[0m\u001b[0mfamily\u001b[0m\u001b[0;34m=\u001b[0m\u001b[0mfamily\u001b[0m\u001b[0;34m)\u001b[0m\u001b[0;34m\u001b[0m\u001b[0;34m\u001b[0m\u001b[0m\n\u001b[0;32m----> 2\u001b[0;31m \u001b[0mmodel_result\u001b[0m\u001b[0;34m=\u001b[0m\u001b[0mmodel\u001b[0m\u001b[0;34m.\u001b[0m\u001b[0mfit\u001b[0m\u001b[0;34m(\u001b[0m\u001b[0;34m)\u001b[0m\u001b[0;34m\u001b[0m\u001b[0;34m\u001b[0m\u001b[0m\n\u001b[0m",
      "\u001b[0;32m~/tools/miniconda3/envs/singlecell/lib/python3.7/site-packages/statsmodels/genmod/generalized_linear_model.py\u001b[0m in \u001b[0;36mfit\u001b[0;34m(self, start_params, maxiter, method, tol, scale, cov_type, cov_kwds, use_t, full_output, disp, max_start_irls, **kwargs)\u001b[0m\n\u001b[1;32m   1025\u001b[0m             return self._fit_irls(start_params=start_params, maxiter=maxiter,\n\u001b[1;32m   1026\u001b[0m                                   \u001b[0mtol\u001b[0m\u001b[0;34m=\u001b[0m\u001b[0mtol\u001b[0m\u001b[0;34m,\u001b[0m \u001b[0mscale\u001b[0m\u001b[0;34m=\u001b[0m\u001b[0mscale\u001b[0m\u001b[0;34m,\u001b[0m \u001b[0mcov_type\u001b[0m\u001b[0;34m=\u001b[0m\u001b[0mcov_type\u001b[0m\u001b[0;34m,\u001b[0m\u001b[0;34m\u001b[0m\u001b[0;34m\u001b[0m\u001b[0m\n\u001b[0;32m-> 1027\u001b[0;31m                                   cov_kwds=cov_kwds, use_t=use_t, **kwargs)\n\u001b[0m\u001b[1;32m   1028\u001b[0m         \u001b[0;32melse\u001b[0m\u001b[0;34m:\u001b[0m\u001b[0;34m\u001b[0m\u001b[0;34m\u001b[0m\u001b[0m\n\u001b[1;32m   1029\u001b[0m             \u001b[0mself\u001b[0m\u001b[0;34m.\u001b[0m\u001b[0m_optim_hessian\u001b[0m \u001b[0;34m=\u001b[0m \u001b[0mkwargs\u001b[0m\u001b[0;34m.\u001b[0m\u001b[0mget\u001b[0m\u001b[0;34m(\u001b[0m\u001b[0;34m'optim_hessian'\u001b[0m\u001b[0;34m)\u001b[0m\u001b[0;34m\u001b[0m\u001b[0;34m\u001b[0m\u001b[0m\n",
      "\u001b[0;32m~/tools/miniconda3/envs/singlecell/lib/python3.7/site-packages/statsmodels/genmod/generalized_linear_model.py\u001b[0m in \u001b[0;36m_fit_irls\u001b[0;34m(self, start_params, maxiter, tol, scale, cov_type, cov_kwds, use_t, **kwargs)\u001b[0m\n\u001b[1;32m   1136\u001b[0m             \u001b[0mlin_pred\u001b[0m \u001b[0;34m=\u001b[0m \u001b[0mnp\u001b[0m\u001b[0;34m.\u001b[0m\u001b[0mdot\u001b[0m\u001b[0;34m(\u001b[0m\u001b[0mwlsexog\u001b[0m\u001b[0;34m,\u001b[0m \u001b[0mstart_params\u001b[0m\u001b[0;34m)\u001b[0m \u001b[0;34m+\u001b[0m \u001b[0mself\u001b[0m\u001b[0;34m.\u001b[0m\u001b[0m_offset_exposure\u001b[0m\u001b[0;34m\u001b[0m\u001b[0;34m\u001b[0m\u001b[0m\n\u001b[1;32m   1137\u001b[0m             \u001b[0mmu\u001b[0m \u001b[0;34m=\u001b[0m \u001b[0mself\u001b[0m\u001b[0;34m.\u001b[0m\u001b[0mfamily\u001b[0m\u001b[0;34m.\u001b[0m\u001b[0mfitted\u001b[0m\u001b[0;34m(\u001b[0m\u001b[0mlin_pred\u001b[0m\u001b[0;34m)\u001b[0m\u001b[0;34m\u001b[0m\u001b[0;34m\u001b[0m\u001b[0m\n\u001b[0;32m-> 1138\u001b[0;31m         \u001b[0mself\u001b[0m\u001b[0;34m.\u001b[0m\u001b[0mscale\u001b[0m \u001b[0;34m=\u001b[0m \u001b[0mself\u001b[0m\u001b[0;34m.\u001b[0m\u001b[0mestimate_scale\u001b[0m\u001b[0;34m(\u001b[0m\u001b[0mmu\u001b[0m\u001b[0;34m)\u001b[0m\u001b[0;34m\u001b[0m\u001b[0;34m\u001b[0m\u001b[0m\n\u001b[0m\u001b[1;32m   1139\u001b[0m         dev = self.family.deviance(self.endog, mu, self.var_weights,\n\u001b[1;32m   1140\u001b[0m                                    self.freq_weights, self.scale)\n",
      "\u001b[0;32m~/tools/miniconda3/envs/singlecell/lib/python3.7/site-packages/statsmodels/genmod/generalized_linear_model.py\u001b[0m in \u001b[0;36mestimate_scale\u001b[0;34m(self, mu)\u001b[0m\n\u001b[1;32m    751\u001b[0m                 \u001b[0;32mreturn\u001b[0m \u001b[0;36m1.\u001b[0m\u001b[0;34m\u001b[0m\u001b[0;34m\u001b[0m\u001b[0m\n\u001b[1;32m    752\u001b[0m             \u001b[0;32melse\u001b[0m\u001b[0;34m:\u001b[0m\u001b[0;34m\u001b[0m\u001b[0;34m\u001b[0m\u001b[0m\n\u001b[0;32m--> 753\u001b[0;31m                 \u001b[0;32mreturn\u001b[0m \u001b[0mself\u001b[0m\u001b[0;34m.\u001b[0m\u001b[0m_estimate_x2_scale\u001b[0m\u001b[0;34m(\u001b[0m\u001b[0mmu\u001b[0m\u001b[0;34m)\u001b[0m\u001b[0;34m\u001b[0m\u001b[0;34m\u001b[0m\u001b[0m\n\u001b[0m\u001b[1;32m    754\u001b[0m \u001b[0;34m\u001b[0m\u001b[0m\n\u001b[1;32m    755\u001b[0m         \u001b[0;32mif\u001b[0m \u001b[0misinstance\u001b[0m\u001b[0;34m(\u001b[0m\u001b[0mself\u001b[0m\u001b[0;34m.\u001b[0m\u001b[0mscaletype\u001b[0m\u001b[0;34m,\u001b[0m \u001b[0mfloat\u001b[0m\u001b[0;34m)\u001b[0m\u001b[0;34m:\u001b[0m\u001b[0;34m\u001b[0m\u001b[0;34m\u001b[0m\u001b[0m\n",
      "\u001b[0;32m~/tools/miniconda3/envs/singlecell/lib/python3.7/site-packages/statsmodels/genmod/generalized_linear_model.py\u001b[0m in \u001b[0;36m_estimate_x2_scale\u001b[0;34m(self, mu)\u001b[0m\n\u001b[1;32m    771\u001b[0m \u001b[0;34m\u001b[0m\u001b[0m\n\u001b[1;32m    772\u001b[0m     \u001b[0;32mdef\u001b[0m \u001b[0m_estimate_x2_scale\u001b[0m\u001b[0;34m(\u001b[0m\u001b[0mself\u001b[0m\u001b[0;34m,\u001b[0m \u001b[0mmu\u001b[0m\u001b[0;34m)\u001b[0m\u001b[0;34m:\u001b[0m\u001b[0;34m\u001b[0m\u001b[0;34m\u001b[0m\u001b[0m\n\u001b[0;32m--> 773\u001b[0;31m         \u001b[0mresid\u001b[0m \u001b[0;34m=\u001b[0m \u001b[0mnp\u001b[0m\u001b[0;34m.\u001b[0m\u001b[0mpower\u001b[0m\u001b[0;34m(\u001b[0m\u001b[0mself\u001b[0m\u001b[0;34m.\u001b[0m\u001b[0mendog\u001b[0m \u001b[0;34m-\u001b[0m \u001b[0mmu\u001b[0m\u001b[0;34m,\u001b[0m \u001b[0;36m2\u001b[0m\u001b[0;34m)\u001b[0m \u001b[0;34m*\u001b[0m \u001b[0mself\u001b[0m\u001b[0;34m.\u001b[0m\u001b[0miweights\u001b[0m\u001b[0;34m\u001b[0m\u001b[0;34m\u001b[0m\u001b[0m\n\u001b[0m\u001b[1;32m    774\u001b[0m         \u001b[0;32mreturn\u001b[0m \u001b[0mnp\u001b[0m\u001b[0;34m.\u001b[0m\u001b[0msum\u001b[0m\u001b[0;34m(\u001b[0m\u001b[0mresid\u001b[0m \u001b[0;34m/\u001b[0m \u001b[0mself\u001b[0m\u001b[0;34m.\u001b[0m\u001b[0mfamily\u001b[0m\u001b[0;34m.\u001b[0m\u001b[0mvariance\u001b[0m\u001b[0;34m(\u001b[0m\u001b[0mmu\u001b[0m\u001b[0;34m)\u001b[0m\u001b[0;34m)\u001b[0m \u001b[0;34m/\u001b[0m \u001b[0mself\u001b[0m\u001b[0;34m.\u001b[0m\u001b[0mdf_resid\u001b[0m\u001b[0;34m\u001b[0m\u001b[0;34m\u001b[0m\u001b[0m\n\u001b[1;32m    775\u001b[0m \u001b[0;34m\u001b[0m\u001b[0m\n",
      "\u001b[0;31mValueError\u001b[0m: operands could not be broadcast together with shapes (8444,63) (8444,) "
     ]
    }
   ],
   "source": [
    "model=sm.GLM(mu_null2,x_data_null,family=family)\n",
    "model_result=model.fit()"
   ]
  },
  {
   "cell_type": "code",
   "execution_count": 156,
   "metadata": {},
   "outputs": [
    {
     "data": {
      "text/plain": [
       "array([[-2.63161466e+00, -2.68718705e+00, -2.63191634e+00,\n",
       "        -2.63161604e+00,  3.06429631e+01, -2.29818031e+00,\n",
       "        -2.63161466e+00, -2.68718705e+00, -2.63191634e+00,\n",
       "        -2.68718705e+00, -2.68718705e+00, -2.68718705e+00,\n",
       "         1.08670217e+01, -2.68718705e+00, -2.68718705e+00,\n",
       "        -2.68718705e+00, -2.57604227e+00, -2.68718705e+00,\n",
       "        -2.02092308e+00,  1.59007431e+00,  2.25211345e+00,\n",
       "        -2.63161604e+00, -2.13146451e+00, -2.63161466e+00,\n",
       "        -2.68718705e+00, -2.68718705e+00,  1.63988737e+00,\n",
       "        -2.68718705e+00, -2.68718705e+00,  3.55570946e-02,\n",
       "        -2.68718705e+00,  1.90358478e+01, -2.63161466e+00,\n",
       "        -2.68718705e+00, -2.40932509e+00,  2.05402545e+01,\n",
       "        -2.63191634e+00, -2.63191634e+00, -2.68718705e+00,\n",
       "        -2.57634395e+00, -2.46519917e+00, -1.68779178e+00,\n",
       "        -1.07619516e+00, -2.68718705e+00,  9.70333773e+00,\n",
       "         1.36686598e+00,  1.22608690e+01, -2.68718705e+00,\n",
       "        -1.29818168e+00, -2.68718705e+00, -2.63161466e+00,\n",
       "        -2.57604227e+00, -1.35345240e+00, -2.63161604e+00,\n",
       "        -2.68718705e+00, -2.40992845e+00, -1.68688675e+00,\n",
       "        -4.65197785e-01, -2.68718705e+00, -2.68718705e+00,\n",
       "         7.60033198e+01, -2.68718705e+00, -2.68718705e+00],\n",
       "       [-8.11931179e-01, -8.21005091e-01, -6.80359453e-01,\n",
       "        -8.16468135e-01,  5.65162665e+00, -7.62024662e-01,\n",
       "        -8.16468237e-01, -8.02857267e-01, -8.16468135e-01,\n",
       "        -6.53139984e-01, -7.07591896e-01, -7.84709442e-01,\n",
       "        -7.62024662e-01, -9.78456790e-02, -7.89246398e-01,\n",
       "        -8.02857267e-01, -7.89246398e-01, -1.85774039e-01,\n",
       "        -8.21005091e-01, -8.16468135e-01, -8.21005091e-01,\n",
       "        -8.07394223e-01, -7.30276573e-01, -8.16468135e-01,\n",
       "        -8.11931179e-01, -8.16468135e-01, -8.21005091e-01,\n",
       "        -8.16468135e-01, -8.11931179e-01, -8.16468135e-01,\n",
       "        -7.39339882e-01, -8.21005091e-01, -7.80172486e-01,\n",
       "        -8.07394325e-01, -7.98320311e-01, -3.03782781e-01,\n",
       "        -8.11941783e-01,  1.79730296e+01, -7.48413794e-01,\n",
       "         1.57252030e+01,  7.17254449e+01,  2.09362228e+02,\n",
       "        -7.66561618e-01, -8.16468135e-01, -8.21005091e-01,\n",
       "        -8.21005091e-01, -6.75822497e-01, -7.89246398e-01,\n",
       "        -8.21005091e-01, -6.85002447e-01, -8.04408476e-01,\n",
       "        -7.43876838e-01, -7.75635530e-01, -6.34989892e-01,\n",
       "        -5.38118375e-01, -8.07394223e-01, -7.71098574e-01,\n",
       "        -8.21005091e-01, -7.12118145e-01, -7.98499569e-01,\n",
       "        -8.21005091e-01, -7.75635530e-01, -8.11931179e-01],\n",
       "       [-1.21875058e+00, -8.09802733e-01, -1.19242924e+00,\n",
       "        -1.23005358e+00,  2.49333762e+02,  2.36190067e+00,\n",
       "         4.54015209e-01, -1.22533538e+00, -1.22512409e+00,\n",
       "        -1.20269606e+00, -1.23043277e+00, -1.22550328e+00,\n",
       "        -1.12577585e+00, -1.22582677e+00, -1.21791913e+00,\n",
       "        -1.22171108e+00, -1.16144445e+00, -1.23005358e+00,\n",
       "        -1.22815762e+00, -1.19933905e+00, -1.20616450e+00,\n",
       "        -1.22436571e+00, -9.15382373e-01, -1.22474490e+00,\n",
       "        -1.22702005e+00, -1.22853682e+00, -1.19175520e+00,\n",
       "        -1.22702005e+00, -1.22626167e+00, -1.20540612e+00,\n",
       "        -1.21531586e+00, -1.06548435e+00, -1.21867783e+00,\n",
       "        -1.22322813e+00,  1.04574726e+01, -7.54117902e-01,\n",
       "        -1.22739924e+00, -1.16173052e+00, -1.23043277e+00,\n",
       "        -1.15003136e+00, -1.19394267e+00, -8.99839161e-01,\n",
       "        -9.12033635e-01, -1.22273795e+00, -1.21602349e+00,\n",
       "        -1.16445352e+00, -1.18689958e+00, -1.22360732e+00,\n",
       "        -1.22322813e+00, -1.23043277e+00, -1.22355162e+00,\n",
       "        -1.18973387e+00,  3.22230370e+00, -1.22436718e+00,\n",
       "        -1.21640378e+00, -1.19478875e+00, -1.09277363e+00,\n",
       "        -1.20009743e+00, -1.20730208e+00, -1.20370268e+00,\n",
       "        -1.22246975e+00, -1.22284894e+00, -1.21716106e+00],\n",
       "       [-7.66421329e-01, -7.50440638e-01, -6.19289228e-01,\n",
       "        -7.72297922e-01,  2.27608680e+01, -1.76931395e-01,\n",
       "        -6.87909814e-01, -6.92562273e-01, -2.74168697e-01,\n",
       "        -7.04378937e-01, -7.63292988e-01, -7.71727761e-01,\n",
       "        -5.16865104e-01, -7.07628110e-01, -7.65645131e-01,\n",
       "        -7.64816217e-01, -6.96291611e-01, -6.46517056e-01,\n",
       "        -7.73880050e-01, -7.56944370e-01, -7.64651827e-01,\n",
       "         4.03573131e-02, -6.37223649e-01, -7.73216821e-01,\n",
       "        -7.63766986e-01, -7.42325809e-01, -7.11663070e-01,\n",
       "        -7.64562843e-01, -5.02043852e-01, -7.55999747e-01,\n",
       "        -7.26617902e-01, -6.57170083e-01, -7.49675790e-01,\n",
       "        -7.75482281e-01,  2.54088143e-01,  1.59325927e+00,\n",
       "        -7.72069443e-01,  1.35701439e+00, -7.46520785e-01,\n",
       "         1.82983541e+00,  7.59915535e-01,  3.96399757e-01,\n",
       "        -5.58906627e-01, -7.71163080e-01, -7.24798722e-01,\n",
       "        -6.67831481e-01, -6.09678955e-01, -7.37882819e-01,\n",
       "        -7.74079920e-01, -7.16769153e-01, -7.14278065e-01,\n",
       "        -7.11960536e-01, -3.05365046e-01, -1.42110827e-01,\n",
       "        -7.20139391e-01, -2.36888013e-01, -4.47966585e-01,\n",
       "        -7.65393990e-01, -1.18772191e-01,  1.33513162e-01,\n",
       "        -7.74834676e-01, -7.66699838e-01,  1.26859470e-01],\n",
       "       [ 2.83629762e+01, -2.50342303e+00, -2.33936424e+00,\n",
       "        -2.52689616e+00,  3.17001009e+00, -2.31618098e+00,\n",
       "        -2.47994990e+00, -2.52689603e+00, -1.08691708e+00,\n",
       "        -2.38605738e+00, -2.52689616e+00, -2.52689616e+00,\n",
       "        -2.47994990e+00, -2.52689616e+00, -2.48046250e+00,\n",
       "        -2.48046251e+00, -2.17479909e+00, -2.52689616e+00,\n",
       "        -2.52689616e+00, -2.52689616e+00, -2.52689616e+00,\n",
       "        -2.01161862e+00, -2.03530057e+00,  2.22843224e+01,\n",
       "         1.38914650e+01,  1.23028197e+01, -2.45686872e+00,\n",
       "         1.10394128e+01, -2.03513647e+00, -2.52689616e+00,\n",
       "        -2.52689616e+00, -2.52689616e+00, -2.38733572e+00,\n",
       "        -2.50342303e+00, -2.12954429e+00, -1.07389820e+00,\n",
       "        -2.45673309e+00, -2.39838184e+00, -2.52689616e+00,\n",
       "        -2.29216168e+00, -2.43300046e+00, -1.81272635e+00,\n",
       "        -1.18918088e+00, -2.50342303e+00, -2.52689616e+00,\n",
       "        -2.50342303e+00, -2.36258425e+00, -2.50367933e+00,\n",
       "        -2.52689616e+00, -2.52689616e+00,  6.41932186e+00,\n",
       "        -2.20109169e+00, -2.42928532e+00,  2.57893625e-01,\n",
       "        -2.48020620e+00,  3.64387265e+00, -1.96555043e+00,\n",
       "        -2.52689616e+00,  1.30137954e+01,  5.51432055e+01,\n",
       "        -2.52689616e+00, -2.50367933e+00,  6.46883915e+00],\n",
       "       [-1.10677525e+00, -1.11690571e+00,  6.39841034e+00,\n",
       "        -1.12089955e+00,  3.41291690e+00, -1.03354429e+00,\n",
       "        -1.11182834e+00, -1.09997300e+00, -1.08650632e+00,\n",
       "         1.12293959e+00, -1.11912997e+00, -1.09503531e+00,\n",
       "        -9.95330413e-01, -1.11494426e+00, -1.08726002e+00,\n",
       "        -1.10537570e+00,  1.37697428e+00, -1.11288551e+00,\n",
       "        -1.11987519e+00, -1.10289731e+00, -1.11237079e+00,\n",
       "        -1.10260242e+00, -9.06682012e-01, -1.12243108e+00,\n",
       "        -1.12202152e+00, -1.12189719e+00, -1.08456339e+00,\n",
       "        -1.11422129e+00, -1.10490940e+00, -1.11602190e+00,\n",
       "         1.76837241e+00, -1.05058530e+00, -1.06488833e+00,\n",
       "        -1.09468957e+00, -9.67942438e-01, -1.57564155e-01,\n",
       "        -1.09020103e+00, -9.10012201e-01, -1.12389205e+00,\n",
       "        -8.61289567e-01, -1.03189934e+00, -3.12539332e-01,\n",
       "        -1.00639443e+00, -1.09780180e+00, -1.06543846e+00,\n",
       "        -1.08689695e+00,  8.75255446e+00,  3.51658594e+00,\n",
       "        -1.11586138e+00, -1.12286529e+00, -1.10903965e+00,\n",
       "        -7.05262428e-01, -1.06371090e+00, -7.62486775e-01,\n",
       "         2.30546933e-02, -1.07970367e+00, -9.47697223e-01,\n",
       "        -1.11688951e+00, -9.64131917e-01, -1.04043990e+00,\n",
       "        -1.09694747e+00, -1.10306270e+00, -1.09540989e+00],\n",
       "       [-6.94546424e-01, -7.34483989e-01, -5.70371175e-01,\n",
       "        -7.36457952e-01,  2.71681860e+00, -6.35128953e-01,\n",
       "        -7.15413298e-01, -7.24382196e-01, -7.20054399e-01,\n",
       "        -9.36929359e-02, -7.35211816e-01,  6.48094867e-01,\n",
       "        -7.15036938e-01, -4.03664563e-01,  1.23195203e+00,\n",
       "         5.09260569e-01, -6.92949000e-01, -6.90920913e-01,\n",
       "        -7.38522945e-01, -7.36959420e-01, -7.33595850e-01,\n",
       "        -7.29003878e-01,  5.43927004e-01, -7.32390229e-01,\n",
       "        -7.34896929e-01, -7.33137444e-01, -7.33358590e-01,\n",
       "        -7.27154139e-01, -7.34054612e-01, -7.32573789e-01,\n",
       "        -5.53393894e-01, -7.22736567e-01,  2.08948500e-01,\n",
       "         3.69974308e-01, -5.47869194e-01,  3.50066423e-01,\n",
       "        -2.55653382e-01, -4.00383974e-01, -7.21572209e-01,\n",
       "        -5.02943083e-01, -6.33762857e-01,  5.94839905e-02,\n",
       "         2.92113766e+00, -3.80496429e-01, -7.06080814e-01,\n",
       "        -7.18031467e-01, -6.27023519e-01, -6.93897772e-01,\n",
       "        -7.38235447e-01, -6.95576299e-01, -7.23498740e-01,\n",
       "         2.62951949e+00, -6.43891435e-01, -6.89293165e-01,\n",
       "         3.32348977e-01, -7.03932767e-01, -6.78838315e-01,\n",
       "        -7.37386311e-01, -6.86026573e-01, -7.19909304e-01,\n",
       "        -7.38541306e-01,  9.59611912e-01, -7.24500205e-01],\n",
       "       [-7.68413097e-01, -8.07410071e-01, -7.31447506e-01,\n",
       "        -8.10198904e-01,  2.26828497e+00, -7.58868742e-01,\n",
       "        -7.91844814e-01, -7.99035202e-01, -7.81941872e-01,\n",
       "         3.02814632e+00, -8.07412424e-01, -6.57855682e-02,\n",
       "        -8.07394997e-01, -7.41473529e-01, -4.19901678e-01,\n",
       "        -3.47143823e-01, -7.93351103e-01, -7.94136487e-01,\n",
       "        -8.10198904e-01, -8.10198904e-01, -8.10198904e-01,\n",
       "        -7.91072483e-01,  2.46860707e+00, -8.10198777e-01,\n",
       "        -8.07412290e-01, -8.10198650e-01, -7.96266474e-01,\n",
       "        -7.87901836e-01, -8.02040605e-01, -8.07412418e-01,\n",
       "         4.88845418e-01, -8.07552585e-01,  2.01404905e+01,\n",
       "        -5.31384190e-01, -6.80666499e-01,  4.22866413e-01,\n",
       "         1.12620156e+00, -5.84728784e-01, -8.10183850e-01,\n",
       "        -7.06759999e-01, -7.41036344e-01, -1.41386427e-01,\n",
       "         8.80007766e-01,  1.12085300e+00, -8.10198904e-01,\n",
       "        -8.04625932e-01, -7.90244891e-01, -7.77227885e-01,\n",
       "        -8.10198904e-01, -8.10198904e-01, -7.88014322e-01,\n",
       "         1.62000625e+01, -7.54963681e-01, -7.58598156e-01,\n",
       "         3.51457603e-01, -7.54027062e-01, -7.82392576e-01,\n",
       "        -8.10198904e-01, -7.97429360e-01, -7.77600065e-01,\n",
       "        -8.10198904e-01, -4.68646578e-01, -7.58622944e-01],\n",
       "       [-9.02960816e-01, -9.21392131e-01, -7.57421537e-01,\n",
       "        -9.23463647e-01,  2.21191708e+00, -8.58869981e-01,\n",
       "        -9.11126291e-01, -9.15173181e-01, -9.08984204e-01,\n",
       "         7.47564030e+00, -9.25501265e-01, -1.46433794e-01,\n",
       "        -9.07167046e-01, -7.00052200e-01, -5.43461310e-01,\n",
       "        -1.62217439e-01, -8.73525767e-01, -9.23213340e-01,\n",
       "        -9.25501269e-01, -9.25501269e-01, -9.23486594e-01,\n",
       "        -9.16662114e-01,  1.04297884e+01, -9.19388496e-01,\n",
       "        -9.23463740e-01, -9.21426211e-01, -9.24322978e-01,\n",
       "        -9.11242691e-01, -9.22101338e-01, -9.24824375e-01,\n",
       "        -6.69725518e-01, -9.25501269e-01, -1.43422441e-01,\n",
       "         9.99486365e-01, -7.92402859e-01, -2.99524657e-02,\n",
       "        -5.18666461e-01, -7.70369211e-01, -9.23474773e-01,\n",
       "        -7.80730118e-01, -8.60370012e-01, -9.41146714e-02,\n",
       "         5.83021133e-01,  1.82020894e+00, -9.25501269e-01,\n",
       "        -9.25500764e-01, -8.35772558e-01, -8.70443014e-01,\n",
       "        -9.25501269e-01, -9.13309165e-01, -9.11303149e-01,\n",
       "         1.21528145e+01, -8.48467104e-01, -8.02539316e-01,\n",
       "         4.48341033e-01, -8.86036712e-01, -8.78834702e-01,\n",
       "        -9.25501269e-01, -8.79661873e-01, -9.12060475e-01,\n",
       "        -9.25501269e-01, -4.95202077e-01, -9.13601868e-01],\n",
       "       [-1.80831760e+00, -1.85905572e+00, -1.72939164e+00,\n",
       "        -1.85341815e+00,  6.78370434e+00, -1.73502921e+00,\n",
       "        -1.82523018e+00, -1.84778058e+00, -1.82523031e+00,\n",
       "        -1.22201048e+00, -1.66737826e+00, -1.82523031e+00,\n",
       "        -1.83086787e+00,  1.95216341e+00, -1.78012976e+00,\n",
       "        -1.81395517e+00, -1.80268003e+00,  3.79058949e-01,\n",
       "        -1.86469328e+00, -1.85905572e+00, -1.85905572e+00,\n",
       "        -1.84778058e+00, -1.45878836e+00, -1.86469328e+00,\n",
       "        -1.83086787e+00, -1.85341815e+00, -1.85341815e+00,\n",
       "        -1.85905572e+00, -1.85341815e+00, -1.85905572e+00,\n",
       "        -1.80831760e+00, -1.85905572e+00, -1.69556623e+00,\n",
       "        -1.83086775e+00, -1.43623808e+00,  1.26979476e+00,\n",
       "        -1.83650544e+00,  4.09029482e+02, -1.84778058e+00,\n",
       "         3.61809209e+02,  2.39803953e+02,  1.92168156e+03,\n",
       "        -1.72939164e+00, -1.80831760e+00, -1.85905572e+00,\n",
       "        -1.85905572e+00, -1.72939164e+00, -1.83650544e+00,\n",
       "        -1.86469328e+00, -1.85341815e+00, -1.82894036e+00,\n",
       "        -1.47006349e+00, -1.68992866e+00, -1.03033316e+00,\n",
       "        -1.52080148e+00, -1.83086787e+00, -1.75194192e+00,\n",
       "        -1.86469328e+00, -1.73502921e+00, -1.82500756e+00,\n",
       "        -1.86469328e+00, -1.78576733e+00, -1.83650544e+00],\n",
       "       [-5.78203497e-01, -5.78203497e-01, -2.31668844e-01,\n",
       "         8.25347967e+00,  4.33268759e+00, -4.19787656e-01,\n",
       "        -5.18797557e-01,  3.76198163e+01, -5.68302507e-01,\n",
       "        -3.10876765e-01, -5.88104487e-01, -5.08896566e-01,\n",
       "        -5.68302507e-01, -5.58401517e-01, -5.38599537e-01,\n",
       "        -5.78203497e-01, -3.80183695e-01, -5.58401517e-01,\n",
       "        -5.88104487e-01, -5.88104487e-01, -5.88104487e-01,\n",
       "        -5.88104487e-01, -1.72262903e-01, -5.88104487e-01,\n",
       "        -5.78203497e-01, -5.88104487e-01, -5.88104487e-01,\n",
       "        -5.78203497e-01, -5.48500527e-01, -5.78203497e-01,\n",
       "        -3.90084685e-01, -5.78203497e-01, -4.09886666e-01,\n",
       "        -5.68302507e-01, -2.31668844e-01,  2.56622378e+03,\n",
       "        -5.18797557e-01,  4.55588790e-02, -5.48500527e-01,\n",
       "        -2.71272804e-01,  1.16437076e+00,  5.64951928e+00,\n",
       "        -3.99985675e-01, -4.98995576e-01, -5.78203497e-01,\n",
       "        -5.88104487e-01, -5.08896566e-01,  5.54598691e-02,\n",
       "        -5.88104487e-01, -5.48500527e-01, -5.68302507e-01,\n",
       "         6.53608592e-02, -3.99985675e-01, -5.48500527e-01,\n",
       "        -5.18797557e-01, -5.38599537e-01,  1.44812024e+01,\n",
       "        -5.88104487e-01, -5.38599537e-01, -5.78203497e-01,\n",
       "        -5.88104487e-01, -5.28698547e-01, -5.68302507e-01]])"
      ]
     },
     "execution_count": 156,
     "metadata": {},
     "output_type": "execute_result"
    }
   ],
   "source": [
    "mu_type.shape,mu_type2.shape\n",
    "mu_type2/np.sum(gamma,axis=0).reshape(-1,1)"
   ]
  },
  {
   "cell_type": "code",
   "execution_count": null,
   "metadata": {},
   "outputs": [],
   "source": [
    "Y,mu_null,mu_type2,mu_null2"
   ]
  },
  {
   "cell_type": "code",
   "execution_count": null,
   "metadata": {},
   "outputs": [],
   "source": [
    "mu_type[0],mu_type2[0]"
   ]
  },
  {
   "cell_type": "code",
   "execution_count": null,
   "metadata": {},
   "outputs": [],
   "source": [
    "mu_type.shape,mu_type2.shape,mu_null.shape"
   ]
  },
  {
   "cell_type": "code",
   "execution_count": null,
   "metadata": {},
   "outputs": [],
   "source": [
    "mu_null=np.zeros(mu_null.shape[0],mu_null.shape[1])\n",
    "\n",
    "for i in range(Y.shape[0]):\n",
    "    for t in range(gamma.shape[1]):\n",
    "        for f in range(Y.shape[1]):\n",
    "            mu_null[i,f]=+=gamma[i][t]*(Y[i][f]-mu_type[i,f])"
   ]
  },
  {
   "cell_type": "code",
   "execution_count": null,
   "metadata": {},
   "outputs": [],
   "source": [
    "def M_step(Y,gamma):\n",
    "    \n",
    "    mu = np.zeros(shape=(Y.shape[0],gamma.shape[1],Y.shape[1]))\n",
    "    \n",
    "    \n",
    "    for t in range(gamma.shape[1]):\n",
    "        for f in range(Y.shape[1]):\n",
    "            #print(np.sum(gamma[:,t]))\n",
    "            mu[t,f] = np.dot(gamma[:,t],Y[:,f])/np.sum(gamma[:,t])\n",
    "    \n",
    "    return mu\n"
   ]
  },
  {
   "cell_type": "code",
   "execution_count": null,
   "metadata": {},
   "outputs": [],
   "source": [
    "mu = np.zeros(shape=(Y.shape[0],gamma.shape[1],Y.shape[1]))"
   ]
  },
  {
   "cell_type": "code",
   "execution_count": null,
   "metadata": {},
   "outputs": [],
   "source": [
    "mu.shape"
   ]
  },
  {
   "cell_type": "code",
   "execution_count": null,
   "metadata": {},
   "outputs": [],
   "source": [
    "gamma.shape"
   ]
  },
  {
   "cell_type": "code",
   "execution_count": null,
   "metadata": {},
   "outputs": [],
   "source": [
    "gamma,_ = E_step(Y,mu_type,pi,beta,x_data_null)"
   ]
  },
  {
   "cell_type": "code",
   "execution_count": null,
   "metadata": {},
   "outputs": [],
   "source": [
    "M_step(Y,gamma)"
   ]
  },
  {
   "cell_type": "code",
   "execution_count": null,
   "metadata": {},
   "outputs": [],
   "source": []
  },
  {
   "cell_type": "code",
   "execution_count": null,
   "metadata": {},
   "outputs": [],
   "source": []
  },
  {
   "cell_type": "code",
   "execution_count": null,
   "metadata": {},
   "outputs": [],
   "source": []
  },
  {
   "cell_type": "code",
   "execution_count": null,
   "metadata": {},
   "outputs": [],
   "source": []
  },
  {
   "cell_type": "code",
   "execution_count": null,
   "metadata": {},
   "outputs": [],
   "source": []
  },
  {
   "cell_type": "code",
   "execution_count": null,
   "metadata": {},
   "outputs": [],
   "source": []
  },
  {
   "cell_type": "code",
   "execution_count": null,
   "metadata": {},
   "outputs": [],
   "source": []
  },
  {
   "cell_type": "code",
   "execution_count": null,
   "metadata": {},
   "outputs": [],
   "source": []
  },
  {
   "cell_type": "code",
   "execution_count": null,
   "metadata": {},
   "outputs": [],
   "source": []
  },
  {
   "cell_type": "code",
   "execution_count": null,
   "metadata": {},
   "outputs": [],
   "source": []
  },
  {
   "cell_type": "code",
   "execution_count": null,
   "metadata": {},
   "outputs": [],
   "source": [
    "x_data_intercept=np.array([np.ones(exp_data.shape[1])]).transpose()\n",
    "x_data_intercept.shape"
   ]
  },
  {
   "cell_type": "code",
   "execution_count": null,
   "metadata": {},
   "outputs": [],
   "source": [
    "x_data_null=np.concatenate([x_data_intercept,x_data_covariate[:,:-1]],axis=1)"
   ]
  },
  {
   "cell_type": "code",
   "execution_count": null,
   "metadata": {},
   "outputs": [],
   "source": [
    "family=sm.families.Poisson(link=sm.families.links.log())"
   ]
  },
  {
   "cell_type": "code",
   "execution_count": null,
   "metadata": {},
   "outputs": [],
   "source": []
  },
  {
   "cell_type": "code",
   "execution_count": null,
   "metadata": {},
   "outputs": [],
   "source": [
    "def E_step(Y,mu_type):\n",
    "    log_gamma=np.zeros(shape=(num_sample, num_type))\n",
    "    for i in range(num_sample): # prange if needed\n",
    "        for t in range(num_type):\n",
    "            for f in range(num_feature): # likelihood using sc special funcs\n",
    "                #LL=sc.xlogy(Y[i,f],mu_type[t,f]+mu_inflation[i,f]) - Y_gammaln[i,f] -(mu_type[t,f]+mu_inflation[i,f])\n",
    "                LL=sc.xlogy(Y[i,f],mu_type[t,f]+mu_inflation[i,f]) - Y_gammaln[i,f] -(mu_type[t,f])\n",
    "                log_gamma[i,t] += LL\n",
    "            log_gamma[i,t] += np.log(propor[t]) \n",
    "                #print(LL)\n",
    "                #print(Y[i,f])\n",
    "                #print(sc.xlogy(Y[i,f],mu_type[t,f]),Y_gammaln[i,f],mu_type[t,f])\n",
    "                #print(log_gamma[i,t])\n",
    "                #break\n",
    "            #log_gamma[i,t] += np.log(pi[t])\n",
    "        #print(log_gamma[i,:])\n",
    "    #return 1,log_gamma\n",
    "    for i in range(num_sample):\n",
    "        log_gamma[i,:] = log_gamma[i,:] - safe_log_sum_vector(log_gamma[i,:])\n",
    "        #break\n",
    "        \n",
    "    \n",
    "    return np.exp(log_gamma),log_gamma\n",
    "\n",
    "\n",
    "def M_step(Y,gamma):\n",
    "    mu_type = np.zeros(shape=(num_type,num_feature))\n",
    "    for t in range(num_type):\n",
    "        for f in range(num_feature):\n",
    "            #print(np.sum(gamma[:,t]))\n",
    "            mu_type[t,f] = np.dot(gamma[:,t],Y[:,f])/np.sum(gamma[:,t])\n",
    "    \n",
    "    return mu_type"
   ]
  },
  {
   "cell_type": "code",
   "execution_count": null,
   "metadata": {},
   "outputs": [],
   "source": []
  },
  {
   "cell_type": "code",
   "execution_count": null,
   "metadata": {},
   "outputs": [],
   "source": []
  },
  {
   "cell_type": "code",
   "execution_count": null,
   "metadata": {},
   "outputs": [],
   "source": []
  },
  {
   "cell_type": "code",
   "execution_count": null,
   "metadata": {},
   "outputs": [],
   "source": []
  },
  {
   "cell_type": "code",
   "execution_count": null,
   "metadata": {},
   "outputs": [],
   "source": [
    "y_data.shape,x_data_null.shape"
   ]
  },
  {
   "cell_type": "code",
   "execution_count": null,
   "metadata": {},
   "outputs": [],
   "source": [
    "y_data.shape"
   ]
  },
  {
   "cell_type": "code",
   "execution_count": null,
   "metadata": {},
   "outputs": [],
   "source": [
    "max(cell_size_factor)"
   ]
  },
  {
   "cell_type": "code",
   "execution_count": null,
   "metadata": {},
   "outputs": [],
   "source": [
    "family=sm.families.Poisson(link=sm.families.links.log())\n",
    "#family=sm.families.Poisson(link=sm.families.links.identity())"
   ]
  },
  {
   "cell_type": "code",
   "execution_count": null,
   "metadata": {},
   "outputs": [],
   "source": [
    "coef_list=[] #intercept, covariate 4\n",
    "ll_list=[]\n",
    "\n",
    "for exp_data_row_idx in range(exp_data.shape[0]):\n",
    "    if exp_data_row_idx%100==0:\n",
    "        #sys.stdout.write('\\r%0.2f%%' % (100.0 * (row_idx/weight_total.shape[0])))\n",
    "        sys.stdout.write(\"\\r{:f}%%\".format(100*exp_data_row_idx/exp_data.shape[0]))\n",
    "        sys.stdout.flush()     \n",
    "    \n",
    "    y_data=exp_data[exp_data_row_idx,:]/cell_size_factor\n",
    "    model=sm.GLM(y_data,x_data_null,family=family)\n",
    "    model_result=model.fit()\n",
    "    \n",
    "    coef_list.append(model_result.params)\n",
    "    ll_list.append(model_result.llf)\n",
    "\n",
    "#model_result.summary()\n",
    "#ll_list.append(model_result.llf)\n",
    "#model_result.llf,model_result.llnull,model_result.null_deviance,model_result.null\n",
    "#model=sm.GLM([100]*5000+[1000]*5000,[[1,0]]*(5000-1)+[[1,1]]*(5000+1),family=family)\n",
    "#model_result=model.fit()\n",
    "#model_result.summary()"
   ]
  },
  {
   "cell_type": "code",
   "execution_count": null,
   "metadata": {},
   "outputs": [],
   "source": [
    "coef_matrix=np.array(coef_list)"
   ]
  },
  {
   "cell_type": "code",
   "execution_count": null,
   "metadata": {},
   "outputs": [],
   "source": [
    "exp_data[marker_unique_exp_data_idx,:].astype(float)/cell_size_factor"
   ]
  },
  {
   "cell_type": "code",
   "execution_count": null,
   "metadata": {},
   "outputs": [],
   "source": [
    "exp_data\n",
    "cell_size_factor\n",
    "x_data_covariate\n",
    "clustername_to_markers_new\n",
    "\n",
    "num_type=11"
   ]
  },
  {
   "cell_type": "code",
   "execution_count": null,
   "metadata": {},
   "outputs": [],
   "source": [
    "marker_unique=np.unique([j for i in list(clustername_to_markers_new.values()) for j in i])\n",
    "marker_unique_exp_data_idx=[exp_data_row.index(marker) for marker in marker_unique]"
   ]
  },
  {
   "cell_type": "code",
   "execution_count": null,
   "metadata": {},
   "outputs": [],
   "source": [
    "marker_onehot=np.array([np.sum(np.eye(len(marker_unique))[[marker_unique.tolist().index(marker) for marker in value]],axis=0) for key,value in clustername_to_markers_new.items()])\n",
    "marker_onehot.shape"
   ]
  },
  {
   "cell_type": "code",
   "execution_count": null,
   "metadata": {},
   "outputs": [],
   "source": [
    "#np.eye(len(marker_unique))"
   ]
  },
  {
   "cell_type": "code",
   "execution_count": null,
   "metadata": {},
   "outputs": [],
   "source": [
    "#[marker_unique.index(marker) for marker in value]"
   ]
  },
  {
   "cell_type": "code",
   "execution_count": null,
   "metadata": {},
   "outputs": [],
   "source": [
    "#np.max(exp_data),np.min(exp_data)\n",
    "np.sum(exp_data==0),np.sum(exp_data==1),np.sum(exp_data>1)\n",
    "plt.hist(np.log10(exp_data[exp_data>1].reshape(-1)),bins=50)"
   ]
  },
  {
   "cell_type": "markdown",
   "metadata": {},
   "source": [
    "## variable init"
   ]
  },
  {
   "cell_type": "code",
   "execution_count": null,
   "metadata": {},
   "outputs": [],
   "source": [
    "#np.where(marker_onehot==0,np.random.uniform(5,10,size=(marker_onehot.shape[0],marker_onehot.shape[1])),0)+\\\n",
    "#np.where(marker_onehot!=0,np.random.uniform(500,600,size=(marker_onehot.shape[0],marker_onehot.shape[1])),0)\n",
    "\n",
    "#(mu_type.T/np.sum(mu_type,axis=1)).T\n",
    "#np.median(exp_data[exp_data>1])\n",
    "for i in range(Y.shape[1]):\n",
    "    print(\"{:.3f}  {:.3f}  {:.3f}\".format(np.max(Y,axis=0)[i],np.std(Y,axis=0)[i],np.max(Y,axis=0)[i]/np.std(Y,axis=0)[i]))\n",
    "    \n",
    "    "
   ]
  },
  {
   "cell_type": "code",
   "execution_count": null,
   "metadata": {},
   "outputs": [],
   "source": [
    "np.sum(mu_type,axis=1),np.mean(mu_type,axis=1)"
   ]
  },
  {
   "cell_type": "code",
   "execution_count": null,
   "metadata": {},
   "outputs": [],
   "source": [
    "mu_type=np.where(marker_onehot==0,np.random.uniform(5,10,size=(marker_onehot.shape[0],marker_onehot.shape[1])),0)+\\\n",
    "np.where(marker_onehot!=0,np.random.normal(np.mean(np.max(Y,axis=0)),np.mean(np.max(Y,axis=0))/50,size=(marker_onehot.shape[0],marker_onehot.shape[1])),0)\n",
    "#np.concatenate([x_data_intercept,x_data_covariate[:,:-1]].T\n",
    "mu_type,mu_type.shape"
   ]
  },
  {
   "cell_type": "code",
   "execution_count": null,
   "metadata": {},
   "outputs": [],
   "source": [
    "mu_inflation=np.exp(np.matmul(coef_matrix,x_data_null.T))[marker_unique_exp_data_idx].transpose().astype(float)\n",
    "mu_inflation.shape#type feature"
   ]
  },
  {
   "cell_type": "code",
   "execution_count": null,
   "metadata": {},
   "outputs": [],
   "source": [
    "Y=exp_data[marker_unique_exp_data_idx].transpose().astype(float)\n",
    "Y_gammaln=sc.gammaln(Y+1)\n",
    "Y.shape,Y,Y_gammaln"
   ]
  },
  {
   "cell_type": "code",
   "execution_count": null,
   "metadata": {},
   "outputs": [],
   "source": [
    "#coef_matrix[marker_unique_exp_data_idx]"
   ]
  },
  {
   "cell_type": "code",
   "execution_count": null,
   "metadata": {},
   "outputs": [],
   "source": [
    "gamma=np.ones(shape=(Y.shape[0], num_type)) / num_type\n",
    "gamma.shape"
   ]
  },
  {
   "cell_type": "code",
   "execution_count": null,
   "metadata": {},
   "outputs": [],
   "source": [
    "#coef_matrix\n",
    "#Y=(exp_data/cell_size_factor-np.matmul(coef_matrix,x_data_covariate.T)[marker_unique_exp_data_idx]).transpose().astype(float)\n",
    "#(exp_data/cell_size_factor-np.exp(np.matmul(coef_matrix,x_data_null.T)))[marker_unique_exp_data_idx].transpose().astype(float)\n",
    "pi=np.ones(shape=num_type) / num_type\n",
    "pi.shape"
   ]
  },
  {
   "cell_type": "markdown",
   "metadata": {},
   "source": [
    "## Run iter"
   ]
  },
  {
   "cell_type": "code",
   "execution_count": null,
   "metadata": {},
   "outputs": [],
   "source": []
  },
  {
   "cell_type": "code",
   "execution_count": null,
   "metadata": {},
   "outputs": [],
   "source": [
    "mu_type.shape,mu_inflation.shape,Y.shape\n"
   ]
  },
  {
   "cell_type": "code",
   "execution_count": null,
   "metadata": {},
   "outputs": [],
   "source": [
    "gamma"
   ]
  },
  {
   "cell_type": "code",
   "execution_count": null,
   "metadata": {},
   "outputs": [],
   "source": [
    "mu_inflation.shape"
   ]
  },
  {
   "cell_type": "code",
   "execution_count": null,
   "metadata": {},
   "outputs": [],
   "source": [
    "def E_step(Y,mu_type):\n",
    "    log_gamma=np.zeros(shape=(num_sample, num_type))\n",
    "    for i in range(num_sample): # prange if needed\n",
    "        for t in range(num_type):\n",
    "            for f in range(num_feature): # likelihood using sc special funcs\n",
    "                #LL=sc.xlogy(Y[i,f],mu_type[t,f]+mu_inflation[i,f]) - Y_gammaln[i,f] -(mu_type[t,f]+mu_inflation[i,f])\n",
    "                LL= -(mu_type[t,f])\n",
    "                log_gamma[i,t] += LL\n",
    "                #print(LL)\n",
    "                #print(Y[i,f])\n",
    "                #print(sc.xlogy(Y[i,f],mu_type[t,f]),Y_gammaln[i,f],mu_type[t,f])\n",
    "                #print(log_gamma[i,t])\n",
    "                #break\n",
    "            #log_gamma[i,t] += np.log(pi[t])\n",
    "        #print(log_gamma[i,:])\n",
    "    return 1,log_gamma\n",
    "    for i in range(num_sample):\n",
    "        log_gamma[i,:] = log_gamma[i,:] - safe_log_sum_vector(log_gamma[i,:])\n",
    "        #break\n",
    "        \n",
    "    \n",
    "    return np.exp(log_gamma),log_gamma\n",
    "\n",
    "gamma,_=E_step(Y,mu_type)"
   ]
  },
  {
   "cell_type": "code",
   "execution_count": 183,
   "metadata": {},
   "outputs": [
    {
     "data": {
      "text/plain": [
       "(array([ 0,  1,  2,  3,  4,  5,  6,  7,  8,  9, 10]),\n",
       " array([ 119,  129, 3501,  844,   37, 1192,  961,  569,  488,  511,   93]))"
      ]
     },
     "execution_count": 183,
     "metadata": {},
     "output_type": "execute_result"
    }
   ],
   "source": []
  },
  {
   "cell_type": "code",
   "execution_count": 180,
   "metadata": {},
   "outputs": [
    {
     "data": {
      "text/plain": [
       "Hepatocytes               3501\n",
       "Macrophages               1192\n",
       "ab_T_cells                 961\n",
       "LSECs                      844\n",
       "gd_T_cells                 569\n",
       "Plasma_cells               511\n",
       "NK_cells                   488\n",
       "Mature_B_cells             129\n",
       "Cholangiocytes             119\n",
       "Erythroid_cells             93\n",
       "Hepatic_Stellate_Cells      37\n",
       "Name: 1, dtype: int64"
      ]
     },
     "execution_count": 180,
     "metadata": {},
     "output_type": "execute_result"
    }
   ],
   "source": [
    "clusterid_to_clustername.loc[exp_data_meta['res.0.8'].values][1].value_counts()#.loc[list(clustername_to_markers_new.keys())]#[clustername_to_markers_new.keys()]"
   ]
  },
  {
   "cell_type": "code",
   "execution_count": null,
   "metadata": {},
   "outputs": [],
   "source": [
    "np.sum(gamma,axis=0)"
   ]
  },
  {
   "cell_type": "code",
   "execution_count": null,
   "metadata": {},
   "outputs": [],
   "source": [
    "list(clustername_to_markers_new.keys())"
   ]
  },
  {
   "cell_type": "code",
   "execution_count": null,
   "metadata": {},
   "outputs": [],
   "source": [
    "#Y\n",
    "np.mean(Y[clusterid_to_clustername.loc[exp_data_meta['res.0.8'].values][1].values=='LSECs']),np.mean(Y[clusterid_to_clustername.loc[exp_data_meta['res.0.8'].values][1].values=='Hepatocytes']),np.mean(Y[clusterid_to_clustername.loc[exp_data_meta['res.0.8'].values][1].values=='Macrophages'])"
   ]
  },
  {
   "cell_type": "code",
   "execution_count": null,
   "metadata": {},
   "outputs": [],
   "source": [
    "print(np.sum(_[:,0]))\n",
    "print(np.sum(_[:,1]))\n",
    "print(np.sum(_[:,2]))\n",
    "print(np.sum(_[:,3]))"
   ]
  },
  {
   "cell_type": "code",
   "execution_count": null,
   "metadata": {},
   "outputs": [],
   "source": [
    "gamma"
   ]
  },
  {
   "cell_type": "code",
   "execution_count": null,
   "metadata": {},
   "outputs": [],
   "source": [
    "#_[:,0],_[:,1],_[:,2]\n",
    "_"
   ]
  },
  {
   "cell_type": "code",
   "execution_count": null,
   "metadata": {},
   "outputs": [],
   "source": []
  },
  {
   "cell_type": "code",
   "execution_count": null,
   "metadata": {},
   "outputs": [],
   "source": [
    "def M_step(Y,gamma):\n",
    "    mu_type = np.zeros(shape=(num_type,num_feature))\n",
    "    for t in range(num_type):\n",
    "        for f in range(num_feature):\n",
    "            #print(np.sum(gamma[:,t]))\n",
    "            mu_type[t,f] = np.dot(gamma[:,t],Y[:,f])/np.sum(gamma[:,t])\n",
    "    \n",
    "    return mu_type\n",
    "\n",
    "\n",
    "\n",
    "mu_type2 = M_step(Y,gamma)\n",
    "mu_type2"
   ]
  },
  {
   "cell_type": "code",
   "execution_count": null,
   "metadata": {},
   "outputs": [],
   "source": [
    "num_sample=Y.shape[0]\n",
    "num_feature=Y.shape[1]\n",
    "num_type=num_type\n",
    "\n",
    "def safe_log_sum(logx, logy):\n",
    "    if logx >= logy:\n",
    "        return logx + np.log(1+np.exp(logy-logx))\n",
    "    else:\n",
    "        return logy + np.log(1+np.exp(logx-logy))\n",
    "\n",
    "def safe_log_sum_vector(vec):\n",
    "    # safe_log_sum    \n",
    "    log_sum = vec[-1]\n",
    "    for i in range(vec.shape[0]-1):\n",
    "        log_sum = safe_log_sum(log_sum, vec[i])\n",
    "    \n",
    "    return log_sum\n",
    "\n",
    "\n",
    "def E_step(Y,mu_type):\n",
    "    log_gamma=np.zeros(shape=(num_sample, num_type))\n",
    "    for i in range(num_sample): # prange if needed\n",
    "        for t in range(num_type):\n",
    "            for f in range(num_feature): # likelihood using sc special funcs\n",
    "                LL=sc.xlogy(Y[i,f],mu_type[t,f]) - Y_gammaln[i,f] - mu_type[t,f]\n",
    "                log_gamma[i,t] += LL\n",
    "                #print(LL)\n",
    "                #print(Y[i,f])\n",
    "                #print(sc.xlogy(Y[i,f],mu_type[t,f]),Y_gammaln[i,f],mu_type[t,f])\n",
    "                #print(log_gamma[i,t])\n",
    "                #break\n",
    "            #log_gamma[i,t] += np.log(pi[t])\n",
    "        #print(log_gamma[i,:])\n",
    "        log_gamma[i,:] = log_gamma[i,:] - safe_log_sum_vector(log_gamma[i,:])\n",
    "        #break\n",
    "        \n",
    "    \n",
    "    return np.exp(log_gamma),log_gamma\n",
    "\n",
    "\n",
    "def M_step(Y,gamma):\n",
    "    mu_type = np.zeros(shape=(num_type,num_feature))\n",
    "    for t in range(num_type):\n",
    "        for f in range(num_feature):\n",
    "             mu_type[t,f] = np.dot(gamma[:,t],Y[:,f])/np.sum(gamma[:,t])\n",
    "    \n",
    "    return mu_type\n",
    "\n",
    "def cal_LL():\n",
    "    pass\n",
    "    \n",
    "    \n",
    "# iteration\n",
    "for iter_idx in range(10):\n",
    "    # expectation step: update gamma\n",
    "    gamma,log_gamma = E_step(Y,mu_type)\n",
    "    \n",
    "    mu_type = M_step(Y,gamma)\n",
    "    break\n",
    "    \n",
    "    # maximization step\n",
    "    #pi = np.sum(gamma, axis=0) / N.shape[0]\n",
    "    #pi=np.sum(gamma, axis=0) / num_sample\n",
    "    #M = max_M(N, gamma) \n"
   ]
  },
  {
   "cell_type": "code",
   "execution_count": null,
   "metadata": {},
   "outputs": [],
   "source": [
    "gamma#[2]"
   ]
  },
  {
   "cell_type": "code",
   "execution_count": null,
   "metadata": {},
   "outputs": [],
   "source": [
    "gamma=np.ones(shape=(N.shape[0], num_type)) / num_type"
   ]
  },
  {
   "cell_type": "code",
   "execution_count": null,
   "metadata": {},
   "outputs": [],
   "source": [
    "gamma = np.ones(shape=(N.shape[0], n_type)) / n_type"
   ]
  },
  {
   "cell_type": "code",
   "execution_count": null,
   "metadata": {},
   "outputs": [],
   "source": [
    "coef_matrix.shape,x_data_covariate.shape"
   ]
  },
  {
   "cell_type": "code",
   "execution_count": null,
   "metadata": {},
   "outputs": [],
   "source": [
    "np.dot(coef_matrix,x_data_covariate.T)==np.matmul(coef_matrix,x_data_covariate.T)"
   ]
  },
  {
   "cell_type": "code",
   "execution_count": null,
   "metadata": {},
   "outputs": [],
   "source": [
    "np.exp(np.matmul(coef_matrix,x_data_covariate.T)[marker_unique_exp_data_idx])"
   ]
  },
  {
   "cell_type": "code",
   "execution_count": null,
   "metadata": {},
   "outputs": [],
   "source": [
    "coef_matrix\n",
    "\n",
    "#Y=(exp_data/cell_size_factor-np.matmul(coef_matrix,x_data_covariate.T)[marker_unique_exp_data_idx]).transpose().astype(float)\n",
    "(exp_data/cell_size_factor-np.exp(np.matmul(coef_matrix,x_data_null.T)))[marker_unique_exp_data_idx].transpose().astype(float)"
   ]
  },
  {
   "cell_type": "code",
   "execution_count": null,
   "metadata": {},
   "outputs": [],
   "source": [
    "coef_matrix[0],x_data_null.T[:,0]"
   ]
  },
  {
   "cell_type": "code",
   "execution_count": null,
   "metadata": {},
   "outputs": [],
   "source": [
    "np.matmul(coef_matrix,x_data_covariate.T)[marker_unique_exp_data_idx].shape"
   ]
  },
  {
   "cell_type": "code",
   "execution_count": null,
   "metadata": {},
   "outputs": [],
   "source": [
    "np.exp(np.matmul(coef_matrix,x_data_null.T))"
   ]
  },
  {
   "cell_type": "code",
   "execution_count": null,
   "metadata": {},
   "outputs": [],
   "source": [
    "#exp_data[marker_unique_exp_data_idx,:],Y#.shape"
   ]
  },
  {
   "cell_type": "code",
   "execution_count": null,
   "metadata": {},
   "outputs": [],
   "source": [
    "Y.shape,np.matmul(coef_matrix,x_data_covariate.T)[marker_unique_exp_data_idx].shape"
   ]
  },
  {
   "cell_type": "code",
   "execution_count": null,
   "metadata": {},
   "outputs": [],
   "source": [
    "np.matmul(coef_matrix,x_data_covariate.T)[marker_unique_exp_data_idx]"
   ]
  },
  {
   "cell_type": "code",
   "execution_count": null,
   "metadata": {},
   "outputs": [],
   "source": [
    "coef_matrix"
   ]
  },
  {
   "cell_type": "code",
   "execution_count": null,
   "metadata": {},
   "outputs": [],
   "source": [
    "coef_matrix.shape,coef_matrix"
   ]
  },
  {
   "cell_type": "code",
   "execution_count": null,
   "metadata": {},
   "outputs": [],
   "source": [
    "np.array(list(map(lambda x: x[0],coef_list)))"
   ]
  },
  {
   "cell_type": "code",
   "execution_count": null,
   "metadata": {},
   "outputs": [],
   "source": [
    "coef_matrix[:,0]"
   ]
  },
  {
   "cell_type": "code",
   "execution_count": null,
   "metadata": {},
   "outputs": [],
   "source": [
    "cell_size_factor"
   ]
  },
  {
   "cell_type": "code",
   "execution_count": null,
   "metadata": {},
   "outputs": [],
   "source": [
    "#### naive EM algorithm\n",
    "\n",
    "# safe_log_sum_vector\n",
    "@njit\n",
    "def safe_log_sum_vector(vec):\n",
    "    # safe_log_sum\n",
    "    def safe_log_sum(logx, logy):\n",
    "        if logx >= logy:\n",
    "            return logx + np.log(1+np.exp(logy-logx))\n",
    "        else:\n",
    "            return logy + np.log(1+np.exp(logx-logy))\n",
    "    \n",
    "    log_sum = vec[-1]\n",
    "    for i in prange(vec.shape[0]-1):\n",
    "        log_sum = safe_log_sum(log_sum, vec[i])\n",
    "    \n",
    "    return log_sum\n",
    "\n",
    "# expectaion for gamma\n",
    "@njit(parallel=True)\n",
    "def e_gamma(N, M, pi):\n",
    "    log_gamma = np.zeros(shape=(N.shape[0], M.shape[1]))\n",
    "    for i in prange(N.shape[0]): # prange if needed\n",
    "        for t in range(pi.shape[0]):\n",
    "            for f in range(N.shape[1]): # likelihood using sc special funcs\n",
    "                log_gamma[i,t] += sc.xlogy(N[i,f],M[f,t]) - sc.gammaln(N[i,f]+1) - M[f,t]\n",
    "            #log_gamma[i,t] += np.log(pi[t]) \n",
    "        log_gamma[i,:] = log_gamma[i,:] - safe_log_sum_vector(log_gamma[i,:])\n",
    "    \n",
    "    return np.exp(log_gamma)\n",
    "\n",
    "# compute M\n",
    "@njit(parallel=True)\n",
    "def max_M(N, gamma):\n",
    "    M = np.zeros(shape=(N.shape[1], gamma.shape[1]))\n",
    "    for f in prange(N.shape[1]):\n",
    "        for t in range(gamma.shape[1]):\n",
    "             M[f,t] = np.dot(gamma[:,t],N[:,f])/np.sum(gamma[:,t])\n",
    "    \n",
    "    return M\n",
    "\n",
    "# Poisson approximation\n",
    "@jit(nopython=False)\n",
    "def para_cell_poisson(N, n_type, n_iter=1000,M_init=None):\n",
    "    \"\"\"\n",
    "    Initialization of parameters\n",
    "    N, n_f^i: row are individuals, column are features\n",
    "    \"\"\"\n",
    "    # gamma, gamma_t^i: row are individuals, column are types\n",
    "    gamma = np.ones(shape=(N.shape[0], n_type)) / n_type\n",
    "    # M, M_f^t: row are features, column are types \n",
    "    if M_init is None:\n",
    "        M = (0.5+np.random.rand(N.shape[1], n_type)) * np.sum(N) / N.shape[0] / 10000\n",
    "    else:\n",
    "        M=M_init\n",
    "    #M = np.ones(shape=(N.shape[1], n_type)) * np.sum(N) / N.shape[0]\n",
    "    # pi, pi_t: vector of length n_type\n",
    "    pi = np.ones(shape=n_type) / n_type\n",
    "    \n",
    "    # iteration\n",
    "    for i in range(n_iter):\n",
    "        # expectation step: update gamma\n",
    "        gamma = e_gamma(N, M, pi)\n",
    "        # maximization step\n",
    "        pi = np.sum(gamma, axis=0) / N.shape[0]\n",
    "        M = max_M(N, gamma) \n",
    "        \n",
    "    return M, pi, gamma\n",
    "    \n",
    "# select Poisson or Negative-Binomial\n",
    "def para_cell(N, n_type, likelihood='Poisson'):\n",
    "    \n",
    "    if likelihood == 'Poisson':\n",
    "        M, pi, gamma = para_cell_poisson(N, n_type)\n",
    "    \n",
    "    return M, pi, gamma"
   ]
  },
  {
   "cell_type": "code",
   "execution_count": null,
   "metadata": {},
   "outputs": [],
   "source": []
  },
  {
   "cell_type": "code",
   "execution_count": null,
   "metadata": {},
   "outputs": [],
   "source": []
  },
  {
   "cell_type": "code",
   "execution_count": null,
   "metadata": {},
   "outputs": [],
   "source": []
  },
  {
   "cell_type": "code",
   "execution_count": null,
   "metadata": {},
   "outputs": [],
   "source": [
    "ll_series=pd.Series(ll_list,index=exp_data_row)\n",
    "ll_series.apply(lambda x: np.log10(-x)).hist()"
   ]
  },
  {
   "cell_type": "code",
   "execution_count": null,
   "metadata": {},
   "outputs": [],
   "source": []
  },
  {
   "cell_type": "code",
   "execution_count": null,
   "metadata": {},
   "outputs": [],
   "source": []
  },
  {
   "cell_type": "code",
   "execution_count": null,
   "metadata": {},
   "outputs": [],
   "source": []
  },
  {
   "cell_type": "code",
   "execution_count": null,
   "metadata": {},
   "outputs": [],
   "source": []
  },
  {
   "cell_type": "code",
   "execution_count": null,
   "metadata": {},
   "outputs": [],
   "source": []
  },
  {
   "cell_type": "code",
   "execution_count": null,
   "metadata": {},
   "outputs": [],
   "source": [
    "#ll_series.apply(lambda x: np.log10(-x)).loc[np.unique([j for i in list(clustername_to_markers_new.values()) for j in i])].sort_values(ascending=False)"
   ]
  },
  {
   "cell_type": "code",
   "execution_count": null,
   "metadata": {},
   "outputs": [],
   "source": [
    "#np.unique([j for i in list(clustername_to_markers_new.values()) for j in i])"
   ]
  },
  {
   "cell_type": "code",
   "execution_count": null,
   "metadata": {},
   "outputs": [],
   "source": []
  },
  {
   "cell_type": "code",
   "execution_count": null,
   "metadata": {},
   "outputs": [],
   "source": []
  },
  {
   "cell_type": "code",
   "execution_count": null,
   "metadata": {},
   "outputs": [],
   "source": []
  },
  {
   "cell_type": "code",
   "execution_count": null,
   "metadata": {},
   "outputs": [],
   "source": [
    "model_result.params"
   ]
  },
  {
   "cell_type": "code",
   "execution_count": null,
   "metadata": {},
   "outputs": [],
   "source": [
    "model_result.summary()"
   ]
  },
  {
   "cell_type": "code",
   "execution_count": null,
   "metadata": {},
   "outputs": [],
   "source": [
    "#dir(model_result)"
   ]
  },
  {
   "cell_type": "code",
   "execution_count": null,
   "metadata": {},
   "outputs": [],
   "source": [
    "model_result.params"
   ]
  },
  {
   "cell_type": "code",
   "execution_count": null,
   "metadata": {},
   "outputs": [],
   "source": [
    "model_result.summary()"
   ]
  },
  {
   "cell_type": "code",
   "execution_count": null,
   "metadata": {},
   "outputs": [],
   "source": [
    "model_result.summary()"
   ]
  },
  {
   "cell_type": "code",
   "execution_count": null,
   "metadata": {},
   "outputs": [],
   "source": [
    "print(exp_data_row[0],'is not in cell-type marker list')\n",
    "y_data=exp_data[0,:]\n",
    "model=sm.GLM(y_data,x_data_null,family=family)\n",
    "model_result=model.fit()\n",
    "model_result.summary()"
   ]
  },
  {
   "cell_type": "code",
   "execution_count": null,
   "metadata": {},
   "outputs": [],
   "source": [
    "exp_data"
   ]
  },
  {
   "cell_type": "code",
   "execution_count": null,
   "metadata": {},
   "outputs": [],
   "source": [
    "cell_size_factor"
   ]
  },
  {
   "cell_type": "code",
   "execution_count": null,
   "metadata": {},
   "outputs": [],
   "source": [
    "family=sm.families.Poisson(link=sm.families.links.log())"
   ]
  },
  {
   "cell_type": "markdown",
   "metadata": {},
   "source": [
    "### Convert data (exp_data,exp_data_col,exp_data_row) to input for for GLM"
   ]
  },
  {
   "cell_type": "code",
   "execution_count": null,
   "metadata": {},
   "outputs": [],
   "source": [
    "x_data_covariate=x_data_covariate[:,:-1]#exclude the last col to avoid colinearity\n",
    "x_data_covariate.shape"
   ]
  },
  {
   "cell_type": "code",
   "execution_count": null,
   "metadata": {},
   "outputs": [],
   "source": [
    "x_data_null=np.concatenate([x_data_intercept,x_data_covariate],axis=1)"
   ]
  },
  {
   "cell_type": "markdown",
   "metadata": {},
   "source": [
    "## Run regression"
   ]
  },
  {
   "cell_type": "markdown",
   "metadata": {},
   "source": [
    "### test"
   ]
  },
  {
   "cell_type": "code",
   "execution_count": null,
   "metadata": {},
   "outputs": [],
   "source": [
    "print(exp_data_row[0],'is not in cell-type marker list')\n",
    "y_data=exp_data[0,:]\n",
    "model=sm.GLM(y_data,x_data_null,family=family)\n",
    "model_result=model.fit()\n",
    "model_result.summary()"
   ]
  },
  {
   "cell_type": "code",
   "execution_count": null,
   "metadata": {},
   "outputs": [],
   "source": [
    "pi_true=np.array([np.sum(exp_data_meta_clusterid_clusteridunique==i) for i in sorted(np.unique(exp_data_meta_clusterid_clusteridunique))])/exp_data_meta_clusterid_clusteridunique.shape[0]\n",
    "M_true=np.array([np.mean(exp_data[marker_unique_idx,:][:,exp_data_meta_clusterid_clusteridunique==i],axis=1) for i in sorted(np.unique(exp_data_meta_clusterid_clusteridunique))])"
   ]
  },
  {
   "cell_type": "code",
   "execution_count": null,
   "metadata": {},
   "outputs": [],
   "source": [
    "#pd.Series(exp_data_row).reset_index().set_index(0).loc[marker_unique]\n",
    "#np.eye(len(marker_unique_idx))\n",
    "#np.eye(len(marker_unique_idx))\n",
    "clustername2marker_new_index=[[marker_unique.tolist().index(j) for j in i] for i in list(clustername2markers_new.values())]\n",
    "M_init=np.array([np.sum(np.eye(len(marker_unique_idx))[idx],axis=0) for idx in clustername2marker_new_index])"
   ]
  },
  {
   "cell_type": "markdown",
   "metadata": {},
   "source": [
    "# Performance Comparison"
   ]
  },
  {
   "cell_type": "markdown",
   "metadata": {},
   "source": [
    "## cellassign"
   ]
  },
  {
   "cell_type": "code",
   "execution_count": 17,
   "metadata": {},
   "outputs": [],
   "source": [
    "cellassign_prob=pd.read_csv('data/analysis/cellassign_fit_full2.prob.tsv',sep='\\t')\n",
    "#cellassign_prob=pd.read_csv('data/analysis/cellassign_fit.prob.tsv',sep='\\t')\n",
    "#cellassign_prob=pd.read_csv('data/analysis/cellassign_fit_full.prob.tsv',sep='\\t')"
   ]
  },
  {
   "cell_type": "code",
   "execution_count": 25,
   "metadata": {},
   "outputs": [
    {
     "data": {
      "text/plain": [
       "7705"
      ]
     },
     "execution_count": 25,
     "metadata": {},
     "output_type": "execute_result"
    }
   ],
   "source": [
    "sum(np.argmax(cellassign_prob.values,axis=1)==exp_data_meta_clusterid_clusteridunique)"
   ]
  },
  {
   "cell_type": "code",
   "execution_count": 30,
   "metadata": {},
   "outputs": [],
   "source": [
    "cellassign_prob_type=cellassign_prob.idxmax(axis=1)\n",
    "#cellassign_prob_type[cellassign_prob.max(axis=1)<0.95]='other'"
   ]
  },
  {
   "cell_type": "code",
   "execution_count": 31,
   "metadata": {},
   "outputs": [
    {
     "data": {
      "text/plain": [
       "7705"
      ]
     },
     "execution_count": 31,
     "metadata": {},
     "output_type": "execute_result"
    }
   ],
   "source": [
    "np.sum(cellassign_prob_type.values==clusterid_to_clustername.loc[exp_data_meta['res.0.8'].values][1].values)"
   ]
  },
  {
   "cell_type": "code",
   "execution_count": 32,
   "metadata": {},
   "outputs": [
    {
     "data": {
      "text/plain": [
       "(array(['Cholangiocytes', 'Erythroid_cells', 'Hepatic_Stellate_Cells',\n",
       "        'Hepatocytes', 'LSECs', 'Macrophages', 'Mature_B_cells',\n",
       "        'NK_cells', 'Plasma_cells', 'ab_T_cells', 'gd_T_cells'],\n",
       "       dtype=object),\n",
       " array([ 125,  121,   50, 3566,  725, 1172,  121,  608,  530,  772,  654]))"
      ]
     },
     "execution_count": 32,
     "metadata": {},
     "output_type": "execute_result"
    }
   ],
   "source": [
    "np.unique(cellassign_prob_type.values,return_counts=True)"
   ]
  },
  {
   "cell_type": "code",
   "execution_count": null,
   "metadata": {},
   "outputs": [],
   "source": []
  },
  {
   "cell_type": "code",
   "execution_count": null,
   "metadata": {},
   "outputs": [],
   "source": []
  },
  {
   "cell_type": "code",
   "execution_count": null,
   "metadata": {},
   "outputs": [],
   "source": []
  },
  {
   "cell_type": "code",
   "execution_count": null,
   "metadata": {},
   "outputs": [],
   "source": []
  },
  {
   "cell_type": "code",
   "execution_count": null,
   "metadata": {},
   "outputs": [],
   "source": []
  },
  {
   "cell_type": "code",
   "execution_count": null,
   "metadata": {},
   "outputs": [],
   "source": []
  },
  {
   "cell_type": "code",
   "execution_count": null,
   "metadata": {},
   "outputs": [],
   "source": []
  },
  {
   "cell_type": "code",
   "execution_count": null,
   "metadata": {},
   "outputs": [],
   "source": []
  },
  {
   "cell_type": "code",
   "execution_count": null,
   "metadata": {},
   "outputs": [],
   "source": []
  },
  {
   "cell_type": "code",
   "execution_count": null,
   "metadata": {},
   "outputs": [],
   "source": [
    "cellassign_prob_type.unique()"
   ]
  },
  {
   "cell_type": "code",
   "execution_count": null,
   "metadata": {},
   "outputs": [],
   "source": [
    "cellassign_prob_type[cellassign_prob.max(axis=1)<0.95]='other'"
   ]
  },
  {
   "cell_type": "code",
   "execution_count": null,
   "metadata": {},
   "outputs": [],
   "source": [
    "cellassign_prob_type"
   ]
  },
  {
   "cell_type": "code",
   "execution_count": null,
   "metadata": {},
   "outputs": [],
   "source": [
    "\n",
    "import numpy as np\n",
    "a=test_prob_type;b=clusterid2clustername.loc[exp_data_meta['res.0.8'].values][1]\n",
    "\n",
    "a[(a!='other').values].shape,np.sum(a[(a!='other').values]==b[(a!='other').values].values)#np.sum(a[a!='other'].values==b[a!='other'].values),np.sum(a[b!='other'].values==b[b!='other'].values)"
   ]
  },
  {
   "cell_type": "code",
   "execution_count": null,
   "metadata": {},
   "outputs": [],
   "source": [
    "sorted(clusterid_to_clustername.loc[exp_data_meta['res.0.8'].values][1].unique())"
   ]
  },
  {
   "cell_type": "code",
   "execution_count": null,
   "metadata": {},
   "outputs": [],
   "source": [
    "np.sum(cellassign_prob_type.values==clusterid_to_clustername.loc[exp_data_meta['res.0.8'].values][1].values)"
   ]
  },
  {
   "cell_type": "code",
   "execution_count": null,
   "metadata": {},
   "outputs": [],
   "source": [
    "np.sum(cellassign_prob_type.values==clusterid_to_clustername.loc[exp_data_meta['res.0.8'].values][1].values)"
   ]
  },
  {
   "cell_type": "code",
   "execution_count": null,
   "metadata": {},
   "outputs": [],
   "source": [
    "np.sum(cellassign_prob_type.values==clusterid_to_clustername.loc[exp_data_meta['res.0.8'].values][1].values)"
   ]
  },
  {
   "cell_type": "code",
   "execution_count": null,
   "metadata": {},
   "outputs": [],
   "source": [
    "np.sum(cellassign_prob_type.values==clusterid_to_clustername.loc[exp_data_meta['res.0.8'].values][1].values)"
   ]
  },
  {
   "cell_type": "code",
   "execution_count": null,
   "metadata": {},
   "outputs": [],
   "source": [
    "np.sum(cellassign_prob_type.values==clusterid_to_clustername.loc[exp_data_meta['res.0.8'].values][1].values)"
   ]
  },
  {
   "cell_type": "code",
   "execution_count": null,
   "metadata": {},
   "outputs": [],
   "source": [
    "np.sum(cellassign_prob_type.values==clusterid_to_clustername.loc[exp_data_meta['res.0.8'].values][1].values)"
   ]
  },
  {
   "cell_type": "code",
   "execution_count": null,
   "metadata": {},
   "outputs": [],
   "source": [
    "clusterid_to_clustername.loc[exp_data_meta['res.0.8'].values][1].values"
   ]
  },
  {
   "cell_type": "code",
   "execution_count": null,
   "metadata": {},
   "outputs": [],
   "source": []
  },
  {
   "cell_type": "code",
   "execution_count": null,
   "metadata": {},
   "outputs": [],
   "source": [
    "pi_true=np.array([np.sum(exp_data_meta_clusterid_clusteridunique==i) for i in sorted(np.unique(exp_data_meta_clusterid_clusteridunique))])/exp_data_meta_clusterid_clusteridunique.shape[0]\n",
    "M_true=np.array([np.mean(exp_data[marker_unique_idx,:][:,exp_data_meta_clusterid_clusteridunique==i],axis=1) for i in sorted(np.unique(exp_data_meta_clusterid_clusteridunique))])"
   ]
  },
  {
   "cell_type": "code",
   "execution_count": null,
   "metadata": {},
   "outputs": [],
   "source": [
    "#pd.Series(exp_data_row).reset_index().set_index(0).loc[marker_unique]\n",
    "#np.eye(len(marker_unique_idx))\n",
    "#np.eye(len(marker_unique_idx))\n",
    "clustername2marker_new_index=[[marker_unique.tolist().index(j) for j in i] for i in list(clustername2markers_new.values())]\n",
    "M_init=np.array([np.sum(np.eye(len(marker_unique_idx))[idx],axis=0) for idx in clustername2marker_new_index])"
   ]
  },
  {
   "cell_type": "code",
   "execution_count": null,
   "metadata": {},
   "outputs": [],
   "source": [
    "#### naive EM algorithm\n",
    "\n",
    "# safe_log_sum_vector\n",
    "@njit\n",
    "def safe_log_sum_vector(vec):\n",
    "    # safe_log_sum\n",
    "    def safe_log_sum(logx, logy):\n",
    "        if logx >= logy:\n",
    "            return logx + np.log(1+np.exp(logy-logx))\n",
    "        else:\n",
    "            return logy + np.log(1+np.exp(logx-logy))\n",
    "    \n",
    "    log_sum = vec[-1]\n",
    "    for i in prange(vec.shape[0]-1):\n",
    "        log_sum = safe_log_sum(log_sum, vec[i])\n",
    "    \n",
    "    return log_sum\n",
    "\n",
    "# expectaion for gamma\n",
    "@njit(parallel=True)\n",
    "def e_gamma(N, M, pi):\n",
    "    log_gamma = np.zeros(shape=(N.shape[0], M.shape[1]))\n",
    "    for i in prange(N.shape[0]): # prange if needed\n",
    "        for t in range(pi.shape[0]):\n",
    "            for f in range(N.shape[1]): # likelihood using sc special funcs\n",
    "                log_gamma[i,t] += sc.xlogy(N[i,f],M[f,t]) - sc.gammaln(N[i,f]+1) - M[f,t]\n",
    "            #log_gamma[i,t] += np.log(pi[t]) \n",
    "        log_gamma[i,:] = log_gamma[i,:] - safe_log_sum_vector(log_gamma[i,:])\n",
    "    \n",
    "    return np.exp(log_gamma)\n",
    "\n",
    "# compute M\n",
    "@njit(parallel=True)\n",
    "def max_M(N, gamma):\n",
    "    M = np.zeros(shape=(N.shape[1], gamma.shape[1]))\n",
    "    for f in prange(N.shape[1]):\n",
    "        for t in range(gamma.shape[1]):\n",
    "             M[f,t] = np.dot(gamma[:,t],N[:,f])/np.sum(gamma[:,t])\n",
    "    \n",
    "    return M\n",
    "\n",
    "# Poisson approximation\n",
    "@jit(nopython=False)\n",
    "def para_cell_poisson(N, n_type, n_iter=1000,M_init=None):\n",
    "    \"\"\"\n",
    "    Initialization of parameters\n",
    "    N, n_f^i: row are individuals, column are features\n",
    "    \"\"\"\n",
    "    # gamma, gamma_t^i: row are individuals, column are types\n",
    "    gamma = np.ones(shape=(N.shape[0], n_type)) / n_type\n",
    "    # M, M_f^t: row are features, column are types \n",
    "    if M_init is None:\n",
    "        M = (0.5+np.random.rand(N.shape[1], n_type)) * np.sum(N) / N.shape[0] / 10000\n",
    "    else:\n",
    "        M=M_init\n",
    "    #M = np.ones(shape=(N.shape[1], n_type)) * np.sum(N) / N.shape[0]\n",
    "    # pi, pi_t: vector of length n_type\n",
    "    pi = np.ones(shape=n_type) / n_type\n",
    "    \n",
    "    # iteration\n",
    "    for i in range(n_iter):\n",
    "        # expectation step: update gamma\n",
    "        gamma = e_gamma(N, M, pi)\n",
    "        # maximization step\n",
    "        pi = np.sum(gamma, axis=0) / N.shape[0]\n",
    "        M = max_M(N, gamma) \n",
    "        \n",
    "    return M, pi, gamma\n",
    "    \n",
    "# select Poisson or Negative-Binomial\n",
    "def para_cell(N, n_type, likelihood='Poisson'):\n",
    "    \n",
    "    if likelihood == 'Poisson':\n",
    "        M, pi, gamma = para_cell_poisson(N, n_type)\n",
    "    \n",
    "    return M, pi, gamma"
   ]
  },
  {
   "cell_type": "code",
   "execution_count": null,
   "metadata": {},
   "outputs": [],
   "source": [
    "M_output,pi_output,gamma_output =para_cell_poisson(exp_data[marker_unique_idx,:].transpose().astype(float),11)"
   ]
  },
  {
   "cell_type": "code",
   "execution_count": null,
   "metadata": {},
   "outputs": [],
   "source": [
    "gamma_output_argmax=np.argmax(gamma_output,axis=1)"
   ]
  },
  {
   "cell_type": "code",
   "execution_count": null,
   "metadata": {},
   "outputs": [],
   "source": [
    "output_true_matching=[np.argmax([pearsonr(value,value2)[0] for value2 in M_true]) for value in M_output.transpose()]\n",
    "output_true_matching"
   ]
  },
  {
   "cell_type": "code",
   "execution_count": null,
   "metadata": {},
   "outputs": [],
   "source": [
    "#output_true_matching[gamma_output_argmax]"
   ]
  },
  {
   "cell_type": "code",
   "execution_count": null,
   "metadata": {},
   "outputs": [],
   "source": [
    "gamma_output_argmax_match=[output_true_matching[idx] for idx in gamma_output_argmax]"
   ]
  },
  {
   "cell_type": "code",
   "execution_count": null,
   "metadata": {},
   "outputs": [],
   "source": [
    "np.sum(exp_data_meta_clusterid_clusteridunique==gamma_output_argmax_match)#cluster#gamma_output_argmax_match"
   ]
  },
  {
   "cell_type": "code",
   "execution_count": null,
   "metadata": {},
   "outputs": [],
   "source": [
    "shape(500*M_init),500*M_init"
   ]
  },
  {
   "cell_type": "code",
   "execution_count": null,
   "metadata": {},
   "outputs": [],
   "source": [
    "#np.sum(M_output,axis=0),500*np.sum(M_init,axis=0)"
   ]
  },
  {
   "cell_type": "code",
   "execution_count": null,
   "metadata": {},
   "outputs": [],
   "source": [
    "M_output,pi_output,gamma_output =para_cell_poisson(exp_data[marker_unique_idx,:].transpose().astype(float),11,M_init=500*M_init)"
   ]
  },
  {
   "cell_type": "code",
   "execution_count": null,
   "metadata": {},
   "outputs": [],
   "source": [
    "gamma_output_argmax=np.argmax(gamma_output,axis=1)"
   ]
  },
  {
   "cell_type": "code",
   "execution_count": null,
   "metadata": {},
   "outputs": [],
   "source": []
  },
  {
   "cell_type": "code",
   "execution_count": null,
   "metadata": {},
   "outputs": [],
   "source": [
    "pi_output=exp_data"
   ]
  },
  {
   "cell_type": "code",
   "execution_count": null,
   "metadata": {},
   "outputs": [],
   "source": [
    "gamma_output_argmax,pi_output,gamma_output,M_output"
   ]
  },
  {
   "cell_type": "code",
   "execution_count": null,
   "metadata": {},
   "outputs": [],
   "source": [
    "gamma_output_argmax_match=[output_true_matching[idx] for idx in gamma_output_argmax]"
   ]
  },
  {
   "cell_type": "code",
   "execution_count": null,
   "metadata": {},
   "outputs": [],
   "source": [
    "np.sum(exp_data_meta_clusterid_clusteridunique==gamma_output_argmax_match)#cluster#gamma_output_argmax_match"
   ]
  },
  {
   "cell_type": "code",
   "execution_count": null,
   "metadata": {},
   "outputs": [],
   "source": [
    "pi_true*8444"
   ]
  },
  {
   "cell_type": "code",
   "execution_count": null,
   "metadata": {},
   "outputs": [],
   "source": [
    "clustername2marker_new_index"
   ]
  },
  {
   "cell_type": "code",
   "execution_count": null,
   "metadata": {},
   "outputs": [],
   "source": [
    "len(gamma_output_argmax_match)"
   ]
  },
  {
   "cell_type": "code",
   "execution_count": null,
   "metadata": {},
   "outputs": [],
   "source": [
    "exp_data"
   ]
  },
  {
   "cell_type": "code",
   "execution_count": null,
   "metadata": {},
   "outputs": [],
   "source": [
    "plt.hist(np.mean(exp_data,axis=0),bins=30)"
   ]
  },
  {
   "cell_type": "code",
   "execution_count": null,
   "metadata": {},
   "outputs": [],
   "source": [
    "import matplotlib.pyplot as plt"
   ]
  },
  {
   "cell_type": "code",
   "execution_count": null,
   "metadata": {},
   "outputs": [],
   "source": []
  },
  {
   "cell_type": "code",
   "execution_count": null,
   "metadata": {},
   "outputs": [],
   "source": [
    "M_output_,exp_output_,gamma_output_ =para_cell_poisson(exp_data[marker_unique_idx,:].transpose().astype(float),11)"
   ]
  },
  {
   "cell_type": "code",
   "execution_count": null,
   "metadata": {},
   "outputs": [],
   "source": []
  },
  {
   "cell_type": "code",
   "execution_count": null,
   "metadata": {},
   "outputs": [],
   "source": [
    "exp_output_"
   ]
  },
  {
   "cell_type": "code",
   "execution_count": null,
   "metadata": {},
   "outputs": [],
   "source": []
  },
  {
   "cell_type": "code",
   "execution_count": null,
   "metadata": {},
   "outputs": [],
   "source": [
    "exp_M, exp_pi, exp_gamma =para_cell_poisson(exp_data[marker_unique_idx,:].transpose().astype(float),12,np.concatenate((cluster_M.transpose(),np.random.rand(63,1)),axis=1))"
   ]
  },
  {
   "cell_type": "code",
   "execution_count": null,
   "metadata": {},
   "outputs": [],
   "source": []
  },
  {
   "cell_type": "code",
   "execution_count": null,
   "metadata": {},
   "outputs": [],
   "source": []
  },
  {
   "cell_type": "code",
   "execution_count": null,
   "metadata": {},
   "outputs": [],
   "source": []
  },
  {
   "cell_type": "code",
   "execution_count": null,
   "metadata": {},
   "outputs": [],
   "source": []
  },
  {
   "cell_type": "code",
   "execution_count": null,
   "metadata": {},
   "outputs": [],
   "source": [
    "cluster_M.transpose().shape"
   ]
  },
  {
   "cell_type": "code",
   "execution_count": null,
   "metadata": {},
   "outputs": [],
   "source": [
    "np.concatenate((cluster_M.transpose(),np.random.rand(63,1)),axis=1)"
   ]
  },
  {
   "cell_type": "code",
   "execution_count": null,
   "metadata": {},
   "outputs": [],
   "source": [
    "exp_M"
   ]
  },
  {
   "cell_type": "code",
   "execution_count": null,
   "metadata": {},
   "outputs": [],
   "source": [
    "exp_data[marker_unique_idx,:].transpose()"
   ]
  },
  {
   "cell_type": "code",
   "execution_count": null,
   "metadata": {},
   "outputs": [],
   "source": []
  },
  {
   "cell_type": "code",
   "execution_count": null,
   "metadata": {},
   "outputs": [],
   "source": [
    "np.sum(cluster_M),np.sum(cluster_M,axis=0)#,np.sum(cluster_M,axis=1),"
   ]
  },
  {
   "cell_type": "code",
   "execution_count": null,
   "metadata": {},
   "outputs": [],
   "source": [
    "np.sum(cluster_M),np.sum(exp_M),cluster_M.shape,exp_M.shape"
   ]
  },
  {
   "cell_type": "code",
   "execution_count": null,
   "metadata": {},
   "outputs": [],
   "source": []
  },
  {
   "cell_type": "code",
   "execution_count": null,
   "metadata": {},
   "outputs": [],
   "source": [
    "np.sum(exp_M),np.sum(exp_M,axis=0)"
   ]
  },
  {
   "cell_type": "code",
   "execution_count": null,
   "metadata": {},
   "outputs": [],
   "source": [
    "exp_data[marker_unique_idx,:].transpose().astype(float).shape"
   ]
  },
  {
   "cell_type": "code",
   "execution_count": null,
   "metadata": {},
   "outputs": [],
   "source": [
    "exp_M, exp_pi, exp_gamma =para_cell_poisson(exp_data[marker_unique_idx,:].transpose().astype(float),11)"
   ]
  },
  {
   "cell_type": "code",
   "execution_count": null,
   "metadata": {},
   "outputs": [],
   "source": [
    "#exp_M"
   ]
  },
  {
   "cell_type": "code",
   "execution_count": null,
   "metadata": {},
   "outputs": [],
   "source": [
    "exp_cluster_true_matching=[np.argmax([pearsonr(value,value2)[0] for value2 in cluster_true]) for value in exp_M.transpose()]\n",
    "exp_cluster_true_matching\n",
    "np.unique(exp_cluster_true_matching)"
   ]
  },
  {
   "cell_type": "code",
   "execution_count": null,
   "metadata": {},
   "outputs": [],
   "source": [
    "np.array([exp_cluster_true_matching[i] for i in np.argmax(exp_gamma,axis=1)]).shape"
   ]
  },
  {
   "cell_type": "code",
   "execution_count": null,
   "metadata": {},
   "outputs": [],
   "source": [
    "#exp_data_meta_clusterid_unique.values.shape\n",
    "is_match=exp_data_meta_clusterid_unique.values==np.array([exp_cluster_true_matching[i] for i in np.argmax(exp_gamma,axis=1)])"
   ]
  },
  {
   "cell_type": "code",
   "execution_count": null,
   "metadata": {},
   "outputs": [],
   "source": [
    "for i in enumerate(is_match):\n",
    "    print(i[1])\n",
    "    if i[1]>100:\n",
    "        break"
   ]
  },
  {
   "cell_type": "code",
   "execution_count": null,
   "metadata": {},
   "outputs": [],
   "source": [
    "#exp_cluster[np.argmax(exp_gamma,axis=1).tolist()]\n",
    "#np.argmax(exp_gamma,axis=1).tolist()\n",
    "#exp_data_meta_clusterid_unique.values.shape\n",
    "print(np.sum(is_match))"
   ]
  },
  {
   "cell_type": "code",
   "execution_count": null,
   "metadata": {},
   "outputs": [],
   "source": [
    "np.unique(exp_cluster)"
   ]
  },
  {
   "cell_type": "code",
   "execution_count": null,
   "metadata": {},
   "outputs": [],
   "source": [
    "np.argmax(exp_gamma,axis=1)"
   ]
  },
  {
   "cell_type": "code",
   "execution_count": null,
   "metadata": {},
   "outputs": [],
   "source": [
    "exp_cluster#.cluster_count"
   ]
  },
  {
   "cell_type": "code",
   "execution_count": null,
   "metadata": {},
   "outputs": [],
   "source": [
    "clusterid2clustername.loc[exp_data_meta['res.0.8'].values][1].unique()"
   ]
  },
  {
   "cell_type": "code",
   "execution_count": null,
   "metadata": {},
   "outputs": [],
   "source": [
    "cluster_M=np.array([np.mean(exp_data[marker_unique_idx,:][:,exp_data_meta_clusterid_unique==i],axis=1) for i in sorted(np.unique(exp_data_meta_clusterid_unique))])\n",
    "cluster_count=np.array([np.sum(exp_data_meta_clusterid_unique==i) for i in sorted(np.unique(exp_data_meta_clusterid_unique))])"
   ]
  },
  {
   "cell_type": "code",
   "execution_count": null,
   "metadata": {},
   "outputs": [],
   "source": [
    "len(clusterid2clustername[1].unique().tolist()),len(np.unique(exp_data_meta_clusterid_unique))"
   ]
  },
  {
   "cell_type": "code",
   "execution_count": null,
   "metadata": {},
   "outputs": [],
   "source": [
    "len(exp_data_meta['res.0.8'].unique())"
   ]
  },
  {
   "cell_type": "code",
   "execution_count": null,
   "metadata": {},
   "outputs": [],
   "source": [
    "len([pearsonr(value,value2)[0] for value2 in cluster_true])"
   ]
  },
  {
   "cell_type": "code",
   "execution_count": null,
   "metadata": {},
   "outputs": [],
   "source": []
  },
  {
   "cell_type": "code",
   "execution_count": null,
   "metadata": {},
   "outputs": [],
   "source": []
  },
  {
   "cell_type": "code",
   "execution_count": null,
   "metadata": {},
   "outputs": [],
   "source": [
    "[np.max([pearsonr(value,value2)[0] for value2 in cluster_true]) for value in exp_M.transpose()]"
   ]
  },
  {
   "cell_type": "code",
   "execution_count": null,
   "metadata": {},
   "outputs": [],
   "source": [
    "cluster_true.shape#[0].shape"
   ]
  },
  {
   "cell_type": "code",
   "execution_count": null,
   "metadata": {},
   "outputs": [],
   "source": []
  }
 ],
 "metadata": {
  "kernelspec": {
   "display_name": "kernel",
   "language": "python",
   "name": "singlecell"
  },
  "language_info": {
   "codemirror_mode": {
    "name": "ipython",
    "version": 3
   },
   "file_extension": ".py",
   "mimetype": "text/x-python",
   "name": "python",
   "nbconvert_exporter": "python",
   "pygments_lexer": "ipython3",
   "version": "3.7.7"
  }
 },
 "nbformat": 4,
 "nbformat_minor": 4
}
