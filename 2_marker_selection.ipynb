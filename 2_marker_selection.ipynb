{
 "cells": [
  {
   "cell_type": "code",
   "execution_count": 4,
   "metadata": {},
   "outputs": [],
   "source": [
    "import numpy as np\n",
    "import pandas as pd\n",
    "\n",
    "from scipy.io import mmread\n",
    "\n",
    "import statsmodels.api as sm\n",
    "#import sys"
   ]
  },
  {
   "cell_type": "markdown",
   "metadata": {},
   "source": [
    "# load data"
   ]
  },
  {
   "cell_type": "markdown",
   "metadata": {},
   "source": [
    "## expression data"
   ]
  },
  {
   "cell_type": "code",
   "execution_count": 5,
   "metadata": {},
   "outputs": [],
   "source": [
    "#exp_data=mmread('/data01/ch6845/single_cell/data/extract/HumanLiver.data.counts.mm').toarray()"
   ]
  },
  {
   "cell_type": "code",
   "execution_count": 16,
   "metadata": {},
   "outputs": [],
   "source": [
    "exp_data=mmread('data/extract/HumanLiver.data.counts.mm').toarray()\n",
    "with open('data/extract/HumanLiver.data.col','r') as f: exp_data_col=[i.strip().strip('\"') for i in f.read().split()]\n",
    "with open('data/extract/HumanLiver.data.row','r') as f: exp_data_row=[i.strip().strip('\"') for i in f.read().split()]\n",
    "assert exp_data.shape==(len(exp_data_row),len(exp_data_col))\n",
    "#mm2=mm.tocsc(copy=True)\n",
    "#sys.getsizeof(mm)\n",
    "#mm.data.nbytes\n",
    "#a=mm.toarray()\n",
    "#type(mm)"
   ]
  },
  {
   "cell_type": "code",
   "execution_count": 17,
   "metadata": {},
   "outputs": [
    {
     "data": {
      "text/plain": [
       "(array([[0, 0, 0, ..., 0, 0, 0],\n",
       "        [0, 0, 0, ..., 0, 0, 0],\n",
       "        [0, 1, 0, ..., 0, 0, 0],\n",
       "        ...,\n",
       "        [0, 0, 0, ..., 0, 0, 0],\n",
       "        [0, 0, 0, ..., 0, 0, 0],\n",
       "        [0, 0, 0, ..., 0, 0, 0]]), (20007, 8444))"
      ]
     },
     "execution_count": 17,
     "metadata": {},
     "output_type": "execute_result"
    }
   ],
   "source": [
    "exp_data,exp_data.shape"
   ]
  },
  {
   "cell_type": "code",
   "execution_count": 18,
   "metadata": {},
   "outputs": [
    {
     "data": {
      "text/plain": [
       "(['RP11-34P13.7', 'FO538757.2', 'AP006222.2', 'RP4-669L17.10', 'RP5-857K21.4'],\n",
       " ['P1TLH_AAACCTGAGCAGCCTC_1',\n",
       "  'P1TLH_AAACCTGTCCTCATTA_1',\n",
       "  'P1TLH_AAACCTGTCTAAGCCA_1',\n",
       "  'P1TLH_AAACGGGAGTAGGCCA_1',\n",
       "  'P1TLH_AAACGGGGTTCGGGCT_1'])"
      ]
     },
     "execution_count": 18,
     "metadata": {},
     "output_type": "execute_result"
    }
   ],
   "source": [
    "exp_data_row[:5],exp_data_col[:5]"
   ]
  },
  {
   "cell_type": "code",
   "execution_count": 19,
   "metadata": {},
   "outputs": [
    {
     "data": {
      "text/html": [
       "<div>\n",
       "<style scoped>\n",
       "    .dataframe tbody tr th:only-of-type {\n",
       "        vertical-align: middle;\n",
       "    }\n",
       "\n",
       "    .dataframe tbody tr th {\n",
       "        vertical-align: top;\n",
       "    }\n",
       "\n",
       "    .dataframe thead th {\n",
       "        text-align: right;\n",
       "    }\n",
       "</style>\n",
       "<table border=\"1\" class=\"dataframe\">\n",
       "  <thead>\n",
       "    <tr style=\"text-align: right;\">\n",
       "      <th></th>\n",
       "      <th>total_counts</th>\n",
       "      <th>total_features</th>\n",
       "      <th>orig.ident</th>\n",
       "      <th>res.0.8</th>\n",
       "      <th>S.Score</th>\n",
       "      <th>G2M.Score</th>\n",
       "      <th>Phase</th>\n",
       "    </tr>\n",
       "  </thead>\n",
       "  <tbody>\n",
       "    <tr>\n",
       "      <th>P1TLH_AAACCTGAGCAGCCTC_1</th>\n",
       "      <td>2943</td>\n",
       "      <td>1427</td>\n",
       "      <td>P1TLH</td>\n",
       "      <td>12</td>\n",
       "      <td>0.046089</td>\n",
       "      <td>0.000349</td>\n",
       "      <td>S</td>\n",
       "    </tr>\n",
       "    <tr>\n",
       "      <th>P1TLH_AAACCTGTCCTCATTA_1</th>\n",
       "      <td>10897</td>\n",
       "      <td>2522</td>\n",
       "      <td>P1TLH</td>\n",
       "      <td>17</td>\n",
       "      <td>-0.000357</td>\n",
       "      <td>0.009434</td>\n",
       "      <td>G2M</td>\n",
       "    </tr>\n",
       "    <tr>\n",
       "      <th>P1TLH_AAACCTGTCTAAGCCA_1</th>\n",
       "      <td>1914</td>\n",
       "      <td>1018</td>\n",
       "      <td>P1TLH</td>\n",
       "      <td>12</td>\n",
       "      <td>0.012811</td>\n",
       "      <td>-0.056561</td>\n",
       "      <td>S</td>\n",
       "    </tr>\n",
       "    <tr>\n",
       "      <th>P1TLH_AAACGGGAGTAGGCCA_1</th>\n",
       "      <td>5574</td>\n",
       "      <td>1798</td>\n",
       "      <td>P1TLH</td>\n",
       "      <td>10</td>\n",
       "      <td>-0.011324</td>\n",
       "      <td>-0.047102</td>\n",
       "      <td>G1</td>\n",
       "    </tr>\n",
       "    <tr>\n",
       "      <th>P1TLH_AAACGGGGTTCGGGCT_1</th>\n",
       "      <td>3700</td>\n",
       "      <td>1417</td>\n",
       "      <td>P1TLH</td>\n",
       "      <td>2</td>\n",
       "      <td>0.057467</td>\n",
       "      <td>-0.003861</td>\n",
       "      <td>S</td>\n",
       "    </tr>\n",
       "  </tbody>\n",
       "</table>\n",
       "</div>"
      ],
      "text/plain": [
       "                          total_counts  total_features orig.ident  res.0.8  \\\n",
       "P1TLH_AAACCTGAGCAGCCTC_1          2943            1427      P1TLH       12   \n",
       "P1TLH_AAACCTGTCCTCATTA_1         10897            2522      P1TLH       17   \n",
       "P1TLH_AAACCTGTCTAAGCCA_1          1914            1018      P1TLH       12   \n",
       "P1TLH_AAACGGGAGTAGGCCA_1          5574            1798      P1TLH       10   \n",
       "P1TLH_AAACGGGGTTCGGGCT_1          3700            1417      P1TLH        2   \n",
       "\n",
       "                           S.Score  G2M.Score Phase  \n",
       "P1TLH_AAACCTGAGCAGCCTC_1  0.046089   0.000349     S  \n",
       "P1TLH_AAACCTGTCCTCATTA_1 -0.000357   0.009434   G2M  \n",
       "P1TLH_AAACCTGTCTAAGCCA_1  0.012811  -0.056561     S  \n",
       "P1TLH_AAACGGGAGTAGGCCA_1 -0.011324  -0.047102    G1  \n",
       "P1TLH_AAACGGGGTTCGGGCT_1  0.057467  -0.003861     S  "
      ]
     },
     "execution_count": 19,
     "metadata": {},
     "output_type": "execute_result"
    }
   ],
   "source": [
    "exp_data_meta=pd.read_csv('data/extract/HumanLiver.metadata.tsv',sep='\\t')\n",
    "exp_data_meta.head()"
   ]
  },
  {
   "cell_type": "markdown",
   "metadata": {},
   "source": [
    "`clusterid2name` is used to convert integers in `res.0.8` to cell-type name"
   ]
  },
  {
   "cell_type": "code",
   "execution_count": 21,
   "metadata": {},
   "outputs": [
    {
     "data": {
      "text/plain": [
       "(11,                          1\n",
       " 0                         \n",
       " 1              Hepatocytes\n",
       " 2               ab T cells\n",
       " 3              Hepatocytes\n",
       " 4              Macrophages\n",
       " 5              Hepatocytes\n",
       " 6              Hepatocytes\n",
       " 7             Plasma cells\n",
       " 8                 NK cells\n",
       " 9               gd T cells\n",
       " 10             Macrophages\n",
       " 11                   LSECs\n",
       " 12                   LSECs\n",
       " 13                   LSECs\n",
       " 14             Hepatocytes\n",
       " 15             Hepatocytes\n",
       " 16          Mature B cells\n",
       " 17          Cholangiocytes\n",
       " 18              gd T cells\n",
       " 19         Erythroid cells\n",
       " 20  Hepatic Stellate Cells)"
      ]
     },
     "execution_count": 21,
     "metadata": {},
     "output_type": "execute_result"
    }
   ],
   "source": [
    "clusterid2clustername=pd.read_csv('data/extract/HumanLiver.clusterid2clustername.tsv',sep='\\t',header=None,index_col=0)\n",
    "len(clusterid2clustername[1].unique()),clusterid2clustername"
   ]
  },
  {
   "cell_type": "code",
   "execution_count": 58,
   "metadata": {},
   "outputs": [],
   "source": [
    "clustername2markers={'Hepatocytes':['ALB','HAMP','ARG1','PCK1','AFP','BCHE'],\n",
    "'LSECs':['CALCRL','CD32B','VWF'],\n",
    "'Cholangiocytes':['KRT19','EPCAM','FXDY2','CLDN4','CLDN10','SOX9','MMP7','CXCL1','CFTR','TFF2','KRT7','CD24'],\n",
    "'Hepatic_Stellate_Cells':['ACTA2','COL1A1','TAGLN','COL1A2','COL3A1','SPARC','RBP1','DCN','MYL9'],\n",
    "'Macrophages':['CD68','MARCO'],\n",
    "'ab_T_cells':['CD2','CD3D','TRAC','IL32','CD3E'],\n",
    "'gd_T_cells':['NKG7','FCGR3A','HOPX','GNLY'],\n",
    "'NK_cells':['GZMK','KLRF1','CCL3','CMC1'],\n",
    "'Plasma_cells':['CD27','IGHG1'],\n",
    "'Mature_B_cells':['MS4A1','LTB','CD52','IGHD'],\n",
    "'Erythroid_cells':['HBB','SLC25A37','CA1','ALAS2']\n",
    "}"
   ]
  },
  {
   "cell_type": "code",
   "execution_count": 68,
   "metadata": {},
   "outputs": [],
   "source": [
    "clustername2markers_new={'Cholangiocytes':['KRT19','EPCAM','FXYD2','CLDN4','CLDN10','SOX9','MMP7','CXCL1','CFTR','TFF2','KRT7','CD24'],\n",
    "'Mature_B_cells':['MS4A1','IGHD','CD79A','PTPRC','IGKC','CD19'],\n",
    "'Hepatocytes':['ALB','HAMP','ARG1','PCK1','AFP','BCHE'],\n",
    "'LSECs':['CALCRL','VWF','PECAM1','CLEC14A','EMCN'],\n",
    "'Hepatic_Stellate_Cells':['ACTA2','COL1A1','TAGLN','COL1A2','COL3A1','SPARC','RBP1','DCN','MYL9'],\n",
    "'Macrophages':['CD68','MARCO','FCGR3A','LYZ','PTPRC','AIF1'],\n",
    "'ab_T_cells':['CD2','CD3D','TRAC','IL32','CD3E','PTPRC'],\n",
    "'gd_T_cells':['NKG7','FCGR3A','HOPX','GNLY','CMC1','KLRF1','CCL3','PTPRC'],\n",
    "'NK_cells':['GZMK','KLRF1','CCL3','CMC1','NKG7','PTPRC'],\n",
    "'Plasma_cells':['CD27','IGHG1','IGHA1','IGHM','CD79A','PTPRC','IGKC'],\n",
    "'Erythroid_cells':['HBB','SLC25A37','CA1','ALAS2']}\n",
    "\n",
    "#for key,value in clustername2markers_new.items():\n",
    "#    for i in value:\n",
    "#        print(markers_db[(markers_db['official gene symbol']==i)].shape)\n",
    "#markers_db[(markers_db['official gene symbol']=='CD32B') |(markers_db['nicknames'].str.contains('CD32B'))]"
   ]
  },
  {
   "cell_type": "markdown",
   "metadata": {},
   "source": [
    "## PanglaoDB cell-type markers"
   ]
  },
  {
   "cell_type": "code",
   "execution_count": 11,
   "metadata": {},
   "outputs": [
    {
     "data": {
      "text/html": [
       "<div>\n",
       "<style scoped>\n",
       "    .dataframe tbody tr th:only-of-type {\n",
       "        vertical-align: middle;\n",
       "    }\n",
       "\n",
       "    .dataframe tbody tr th {\n",
       "        vertical-align: top;\n",
       "    }\n",
       "\n",
       "    .dataframe thead th {\n",
       "        text-align: right;\n",
       "    }\n",
       "</style>\n",
       "<table border=\"1\" class=\"dataframe\">\n",
       "  <thead>\n",
       "    <tr style=\"text-align: right;\">\n",
       "      <th></th>\n",
       "      <th>official gene symbol</th>\n",
       "      <th>cell type</th>\n",
       "      <th>nicknames</th>\n",
       "      <th>ubiquitousness index</th>\n",
       "      <th>product description</th>\n",
       "      <th>gene type</th>\n",
       "      <th>canonical marker</th>\n",
       "      <th>germ layer</th>\n",
       "      <th>organ</th>\n",
       "      <th>sensitivity_human</th>\n",
       "      <th>sensitivity_mouse</th>\n",
       "      <th>specificity_human</th>\n",
       "      <th>specificity_mouse</th>\n",
       "    </tr>\n",
       "  </thead>\n",
       "  <tbody>\n",
       "    <tr>\n",
       "      <th>0</th>\n",
       "      <td>CTRB1</td>\n",
       "      <td>Acinar cells</td>\n",
       "      <td>CTRB</td>\n",
       "      <td>0.017</td>\n",
       "      <td>chymotrypsinogen B1</td>\n",
       "      <td>protein-coding gene</td>\n",
       "      <td>1.0</td>\n",
       "      <td>Endoderm</td>\n",
       "      <td>Pancreas</td>\n",
       "      <td>1.000000</td>\n",
       "      <td>0.957143</td>\n",
       "      <td>0.000629</td>\n",
       "      <td>0.015920</td>\n",
       "    </tr>\n",
       "    <tr>\n",
       "      <th>1</th>\n",
       "      <td>KLK1</td>\n",
       "      <td>Acinar cells</td>\n",
       "      <td>Klk6</td>\n",
       "      <td>0.013</td>\n",
       "      <td>kallikrein 1</td>\n",
       "      <td>protein-coding gene</td>\n",
       "      <td>1.0</td>\n",
       "      <td>Endoderm</td>\n",
       "      <td>Pancreas</td>\n",
       "      <td>0.833333</td>\n",
       "      <td>0.314286</td>\n",
       "      <td>0.005031</td>\n",
       "      <td>0.012826</td>\n",
       "    </tr>\n",
       "    <tr>\n",
       "      <th>2</th>\n",
       "      <td>RBPJL</td>\n",
       "      <td>Acinar cells</td>\n",
       "      <td>RBP-L|SUHL|RBPSUHL</td>\n",
       "      <td>0.001</td>\n",
       "      <td>recombination signal binding protein for immun...</td>\n",
       "      <td>protein-coding gene</td>\n",
       "      <td>1.0</td>\n",
       "      <td>Endoderm</td>\n",
       "      <td>Pancreas</td>\n",
       "      <td>0.000000</td>\n",
       "      <td>0.000000</td>\n",
       "      <td>0.000000</td>\n",
       "      <td>0.000000</td>\n",
       "    </tr>\n",
       "    <tr>\n",
       "      <th>3</th>\n",
       "      <td>PTF1A</td>\n",
       "      <td>Acinar cells</td>\n",
       "      <td>PTF1-p48|bHLHa29</td>\n",
       "      <td>0.001</td>\n",
       "      <td>pancreas associated transcription factor 1a</td>\n",
       "      <td>protein-coding gene</td>\n",
       "      <td>1.0</td>\n",
       "      <td>Endoderm</td>\n",
       "      <td>Pancreas</td>\n",
       "      <td>0.000000</td>\n",
       "      <td>0.157143</td>\n",
       "      <td>0.000629</td>\n",
       "      <td>0.000773</td>\n",
       "    </tr>\n",
       "    <tr>\n",
       "      <th>5</th>\n",
       "      <td>CELA3A</td>\n",
       "      <td>Acinar cells</td>\n",
       "      <td>ELA3|ELA3A</td>\n",
       "      <td>0.001</td>\n",
       "      <td>chymotrypsin like elastase family member 3A</td>\n",
       "      <td>protein-coding gene</td>\n",
       "      <td>1.0</td>\n",
       "      <td>Endoderm</td>\n",
       "      <td>Pancreas</td>\n",
       "      <td>0.833333</td>\n",
       "      <td>0.128571</td>\n",
       "      <td>0.000000</td>\n",
       "      <td>0.000000</td>\n",
       "    </tr>\n",
       "  </tbody>\n",
       "</table>\n",
       "</div>"
      ],
      "text/plain": [
       "  official gene symbol     cell type           nicknames  \\\n",
       "0                CTRB1  Acinar cells                CTRB   \n",
       "1                 KLK1  Acinar cells                Klk6   \n",
       "2                RBPJL  Acinar cells  RBP-L|SUHL|RBPSUHL   \n",
       "3                PTF1A  Acinar cells    PTF1-p48|bHLHa29   \n",
       "5               CELA3A  Acinar cells          ELA3|ELA3A   \n",
       "\n",
       "   ubiquitousness index                                product description  \\\n",
       "0                 0.017                                chymotrypsinogen B1   \n",
       "1                 0.013                                       kallikrein 1   \n",
       "2                 0.001  recombination signal binding protein for immun...   \n",
       "3                 0.001        pancreas associated transcription factor 1a   \n",
       "5                 0.001        chymotrypsin like elastase family member 3A   \n",
       "\n",
       "             gene type  canonical marker germ layer     organ  \\\n",
       "0  protein-coding gene               1.0   Endoderm  Pancreas   \n",
       "1  protein-coding gene               1.0   Endoderm  Pancreas   \n",
       "2  protein-coding gene               1.0   Endoderm  Pancreas   \n",
       "3  protein-coding gene               1.0   Endoderm  Pancreas   \n",
       "5  protein-coding gene               1.0   Endoderm  Pancreas   \n",
       "\n",
       "   sensitivity_human  sensitivity_mouse  specificity_human  specificity_mouse  \n",
       "0           1.000000           0.957143           0.000629           0.015920  \n",
       "1           0.833333           0.314286           0.005031           0.012826  \n",
       "2           0.000000           0.000000           0.000000           0.000000  \n",
       "3           0.000000           0.157143           0.000629           0.000773  \n",
       "5           0.833333           0.128571           0.000000           0.000000  "
      ]
     },
     "execution_count": 11,
     "metadata": {},
     "output_type": "execute_result"
    }
   ],
   "source": [
    "markers_db=pd.read_csv(\"data/PanglaoDB_markers_27_Mar_2020.tsv.gz\",sep='\\t')\n",
    "markers_db=markers_db[markers_db['species'].str.contains('Hs')].drop(columns='species')\n",
    "markers_db.head()"
   ]
  },
  {
   "cell_type": "markdown",
   "metadata": {},
   "source": [
    "## matching gene index between expression data and PanglaoDB"
   ]
  },
  {
   "cell_type": "code",
   "execution_count": 60,
   "metadata": {},
   "outputs": [
    {
     "data": {
      "text/plain": [
       "20007"
      ]
     },
     "execution_count": 60,
     "metadata": {},
     "output_type": "execute_result"
    }
   ],
   "source": [
    "gene_index_1=pd.Index(np.unique(exp_data_row))\n",
    "len(gene_index_1)"
   ]
  },
  {
   "cell_type": "code",
   "execution_count": 61,
   "metadata": {},
   "outputs": [
    {
     "data": {
      "text/plain": [
       "55"
      ]
     },
     "execution_count": 61,
     "metadata": {},
     "output_type": "execute_result"
    }
   ],
   "source": [
    "gene_index_1_=pd.Index(np.unique([j for i in list(clustername2markers.values()) for j in i]))\n",
    "len(gene_index_1_)"
   ]
  },
  {
   "cell_type": "code",
   "execution_count": 62,
   "metadata": {},
   "outputs": [
    {
     "data": {
      "text/plain": [
       "63"
      ]
     },
     "execution_count": 62,
     "metadata": {},
     "output_type": "execute_result"
    }
   ],
   "source": [
    "gene_index_1__=pd.Index(np.unique([j for i in list(clustername2markers_new.values()) for j in i]))\n",
    "len(gene_index_1__)"
   ]
  },
  {
   "cell_type": "code",
   "execution_count": 63,
   "metadata": {},
   "outputs": [
    {
     "data": {
      "text/plain": [
       "4345"
      ]
     },
     "execution_count": 63,
     "metadata": {},
     "output_type": "execute_result"
    }
   ],
   "source": [
    "gene_index_2=pd.Index(markers_db['official gene symbol'].unique())\n",
    "len(gene_index_2)"
   ]
  },
  {
   "cell_type": "code",
   "execution_count": 64,
   "metadata": {},
   "outputs": [
    {
     "data": {
      "text/plain": [
       "9471"
      ]
     },
     "execution_count": 64,
     "metadata": {},
     "output_type": "execute_result"
    }
   ],
   "source": [
    "gene_index_3=pd.Index(np.unique([j for i in [i.split('|') for i in markers_db['nicknames'][~markers_db['nicknames'].isnull()].values] for j in i ]))\n",
    "len(gene_index_3)"
   ]
  },
  {
   "cell_type": "code",
   "execution_count": 65,
   "metadata": {},
   "outputs": [
    {
     "data": {
      "text/plain": [
       "(20007, 4345, 9471, 3543, 127)"
      ]
     },
     "execution_count": 65,
     "metadata": {},
     "output_type": "execute_result"
    }
   ],
   "source": [
    "len(gene_index_1),len(gene_index_2),len(gene_index_3),len(gene_index_1.intersection(gene_index_2)),len(gene_index_1.intersection(gene_index_3))"
   ]
  },
  {
   "cell_type": "code",
   "execution_count": 66,
   "metadata": {},
   "outputs": [
    {
     "data": {
      "text/plain": [
       "(55, 53, 52, 3)"
      ]
     },
     "execution_count": 66,
     "metadata": {},
     "output_type": "execute_result"
    }
   ],
   "source": [
    "len(gene_index_1_),len(gene_index_1_.intersection(gene_index_1)),len(gene_index_1_.intersection(gene_index_2)),len(gene_index_1_.intersection(gene_index_3))"
   ]
  },
  {
   "cell_type": "code",
   "execution_count": 67,
   "metadata": {},
   "outputs": [
    {
     "data": {
      "text/plain": [
       "(63, 63, 62, 2)"
      ]
     },
     "execution_count": 67,
     "metadata": {},
     "output_type": "execute_result"
    }
   ],
   "source": [
    "len(gene_index_1__),len(gene_index_1__.intersection(gene_index_1)),len(gene_index_1__.intersection(gene_index_2)),len(gene_index_1__.intersection(gene_index_3))"
   ]
  },
  {
   "cell_type": "markdown",
   "metadata": {},
   "source": [
    "# Gene selection"
   ]
  },
  {
   "cell_type": "markdown",
   "metadata": {},
   "source": [
    "?? what is `6872 cells` in supplementary note 1"
   ]
  },
  {
   "cell_type": "markdown",
   "metadata": {},
   "source": [
    "## Prepare for running GLM"
   ]
  },
  {
   "cell_type": "markdown",
   "metadata": {},
   "source": [
    "### define GLM family and link function"
   ]
  },
  {
   "cell_type": "code",
   "execution_count": 263,
   "metadata": {},
   "outputs": [
    {
     "name": "stdout",
     "output_type": "stream",
     "text": [
      "[<class 'statsmodels.genmod.families.links.log'>, <class 'statsmodels.genmod.families.links.identity'>, <class 'statsmodels.genmod.families.links.sqrt'>]\n"
     ]
    }
   ],
   "source": [
    "print(sm.families.Poisson().links)\n",
    "family=sm.families.Poisson(link=sm.families.links.log())"
   ]
  },
  {
   "cell_type": "markdown",
   "metadata": {},
   "source": [
    "### Convert data (exp_data,exp_data_col,exp_data_row) to input for for GLM"
   ]
  },
  {
   "cell_type": "code",
   "execution_count": 277,
   "metadata": {},
   "outputs": [
    {
     "data": {
      "text/plain": [
       "(8444, 1)"
      ]
     },
     "execution_count": 277,
     "metadata": {},
     "output_type": "execute_result"
    }
   ],
   "source": [
    "x_data_intercept=np.array([np.ones(exp_data.shape[1])]).transpose()\n",
    "x_data_intercept.shape"
   ]
  },
  {
   "cell_type": "code",
   "execution_count": 278,
   "metadata": {},
   "outputs": [
    {
     "name": "stdout",
     "output_type": "stream",
     "text": [
      "0    P1TLH_AAACCTGAGCAGCCTC_1\n",
      "1    P1TLH_AAACCTGTCCTCATTA_1\n",
      "2    P1TLH_AAACCTGTCTAAGCCA_1\n",
      "3    P1TLH_AAACGGGAGTAGGCCA_1\n",
      "4    P1TLH_AAACGGGGTTCGGGCT_1\n",
      "dtype: object\n"
     ]
    },
    {
     "data": {
      "text/plain": [
       "(array([[1., 0., 0., 0., 0.],\n",
       "        [1., 0., 0., 0., 0.],\n",
       "        [1., 0., 0., 0., 0.],\n",
       "        ...,\n",
       "        [0., 0., 0., 0., 1.],\n",
       "        [0., 0., 0., 0., 1.],\n",
       "        [0., 0., 0., 0., 1.]]), (8444, 5))"
      ]
     },
     "execution_count": 278,
     "metadata": {},
     "output_type": "execute_result"
    }
   ],
   "source": [
    "exp_data_col_patient=pd.Series(exp_data_col)\n",
    "print(exp_data_col_patient.head())\n",
    "exp_data_col_patient=pd.Series(exp_data_col).str.slice(start=1,stop=2).astype(int)\n",
    "x_data_covariate=np.eye(len(exp_data_col_patient.unique()))[exp_data_col_patient.values-1]\n",
    "x_data_covariate,x_data_covariate.shape"
   ]
  },
  {
   "cell_type": "code",
   "execution_count": 279,
   "metadata": {},
   "outputs": [
    {
     "data": {
      "text/plain": [
       "(8444, 4)"
      ]
     },
     "execution_count": 279,
     "metadata": {},
     "output_type": "execute_result"
    }
   ],
   "source": [
    "x_data_covariate=x_data_covariate[:,:-1]#exclude the last col to avoid colinearity\n",
    "x_data_covariate.shape"
   ]
  },
  {
   "cell_type": "code",
   "execution_count": 280,
   "metadata": {},
   "outputs": [],
   "source": [
    "x_data_null=np.concatenate([x_data_intercept,x_data_covariate],axis=1)"
   ]
  },
  {
   "cell_type": "markdown",
   "metadata": {},
   "source": [
    "## Run regression"
   ]
  },
  {
   "cell_type": "markdown",
   "metadata": {},
   "source": [
    "### test"
   ]
  },
  {
   "cell_type": "code",
   "execution_count": 290,
   "metadata": {},
   "outputs": [
    {
     "name": "stdout",
     "output_type": "stream",
     "text": [
      "RP11-34P13.7 is not in cell-type marker list\n"
     ]
    },
    {
     "data": {
      "text/html": [
       "<table class=\"simpletable\">\n",
       "<caption>Generalized Linear Model Regression Results</caption>\n",
       "<tr>\n",
       "  <th>Dep. Variable:</th>           <td>y</td>        <th>  No. Observations:  </th>  <td>  8444</td> \n",
       "</tr>\n",
       "<tr>\n",
       "  <th>Model:</th>                  <td>GLM</td>       <th>  Df Residuals:      </th>  <td>  8439</td> \n",
       "</tr>\n",
       "<tr>\n",
       "  <th>Model Family:</th>         <td>Poisson</td>     <th>  Df Model:          </th>  <td>     4</td> \n",
       "</tr>\n",
       "<tr>\n",
       "  <th>Link Function:</th>          <td>log</td>       <th>  Scale:             </th> <td>  1.0000</td>\n",
       "</tr>\n",
       "<tr>\n",
       "  <th>Method:</th>                <td>IRLS</td>       <th>  Log-Likelihood:    </th> <td> -83.859</td>\n",
       "</tr>\n",
       "<tr>\n",
       "  <th>Date:</th>            <td>Sat, 11 Apr 2020</td> <th>  Deviance:          </th> <td>  143.72</td>\n",
       "</tr>\n",
       "<tr>\n",
       "  <th>Time:</th>                <td>16:03:33</td>     <th>  Pearson chi2:      </th> <td>8.43e+03</td>\n",
       "</tr>\n",
       "<tr>\n",
       "  <th>No. Iterations:</th>          <td>9</td>        <th>                     </th>     <td> </td>   \n",
       "</tr>\n",
       "<tr>\n",
       "  <th>Covariance Type:</th>     <td>nonrobust</td>    <th>                     </th>     <td> </td>   \n",
       "</tr>\n",
       "</table>\n",
       "<table class=\"simpletable\">\n",
       "<tr>\n",
       "    <td></td>       <th>coef</th>     <th>std err</th>      <th>z</th>      <th>P>|z|</th>  <th>[0.025</th>    <th>0.975]</th>  \n",
       "</tr>\n",
       "<tr>\n",
       "  <th>const</th> <td>   -7.4413</td> <td>    1.000</td> <td>   -7.441</td> <td> 0.000</td> <td>   -9.401</td> <td>   -5.481</td>\n",
       "</tr>\n",
       "<tr>\n",
       "  <th>x1</th>    <td>    1.1609</td> <td>    1.225</td> <td>    0.948</td> <td> 0.343</td> <td>   -1.240</td> <td>    3.561</td>\n",
       "</tr>\n",
       "<tr>\n",
       "  <th>x2</th>    <td>    0.3355</td> <td>    1.414</td> <td>    0.237</td> <td> 0.812</td> <td>   -2.436</td> <td>    3.107</td>\n",
       "</tr>\n",
       "<tr>\n",
       "  <th>x3</th>    <td>   -0.6065</td> <td>    1.414</td> <td>   -0.429</td> <td> 0.668</td> <td>   -3.378</td> <td>    2.165</td>\n",
       "</tr>\n",
       "<tr>\n",
       "  <th>x4</th>    <td>    2.1981</td> <td>    1.069</td> <td>    2.056</td> <td> 0.040</td> <td>    0.103</td> <td>    4.293</td>\n",
       "</tr>\n",
       "</table>"
      ],
      "text/plain": [
       "<class 'statsmodels.iolib.summary.Summary'>\n",
       "\"\"\"\n",
       "                 Generalized Linear Model Regression Results                  \n",
       "==============================================================================\n",
       "Dep. Variable:                      y   No. Observations:                 8444\n",
       "Model:                            GLM   Df Residuals:                     8439\n",
       "Model Family:                 Poisson   Df Model:                            4\n",
       "Link Function:                    log   Scale:                          1.0000\n",
       "Method:                          IRLS   Log-Likelihood:                -83.859\n",
       "Date:                Sat, 11 Apr 2020   Deviance:                       143.72\n",
       "Time:                        16:03:33   Pearson chi2:                 8.43e+03\n",
       "No. Iterations:                     9                                         \n",
       "Covariance Type:            nonrobust                                         \n",
       "==============================================================================\n",
       "                 coef    std err          z      P>|z|      [0.025      0.975]\n",
       "------------------------------------------------------------------------------\n",
       "const         -7.4413      1.000     -7.441      0.000      -9.401      -5.481\n",
       "x1             1.1609      1.225      0.948      0.343      -1.240       3.561\n",
       "x2             0.3355      1.414      0.237      0.812      -2.436       3.107\n",
       "x3            -0.6065      1.414     -0.429      0.668      -3.378       2.165\n",
       "x4             2.1981      1.069      2.056      0.040       0.103       4.293\n",
       "==============================================================================\n",
       "\"\"\""
      ]
     },
     "execution_count": 290,
     "metadata": {},
     "output_type": "execute_result"
    }
   ],
   "source": [
    "print(exp_data_row[0],'is not in cell-type marker list')\n",
    "y_data=exp_data[0,:]\n",
    "model=sm.GLM(y_data,x_data_null,family=family)\n",
    "model_result=model.fit()\n",
    "model_result.summary()"
   ]
  },
  {
   "cell_type": "code",
   "execution_count": 297,
   "metadata": {},
   "outputs": [
    {
     "name": "stdout",
     "output_type": "stream",
     "text": [
      "HBB is in Erythroid cell marker list\n"
     ]
    },
    {
     "data": {
      "text/html": [
       "<table class=\"simpletable\">\n",
       "<caption>Generalized Linear Model Regression Results</caption>\n",
       "<tr>\n",
       "  <th>Dep. Variable:</th>           <td>y</td>        <th>  No. Observations:  </th>   <td>  8444</td>   \n",
       "</tr>\n",
       "<tr>\n",
       "  <th>Model:</th>                  <td>GLM</td>       <th>  Df Residuals:      </th>   <td>  8439</td>   \n",
       "</tr>\n",
       "<tr>\n",
       "  <th>Model Family:</th>         <td>Poisson</td>     <th>  Df Model:          </th>   <td>     4</td>   \n",
       "</tr>\n",
       "<tr>\n",
       "  <th>Link Function:</th>          <td>log</td>       <th>  Scale:             </th>  <td>  1.0000</td>  \n",
       "</tr>\n",
       "<tr>\n",
       "  <th>Method:</th>                <td>IRLS</td>       <th>  Log-Likelihood:    </th> <td>-9.7131e+05</td>\n",
       "</tr>\n",
       "<tr>\n",
       "  <th>Date:</th>            <td>Sat, 11 Apr 2020</td> <th>  Deviance:          </th> <td>1.9351e+06</td> \n",
       "</tr>\n",
       "<tr>\n",
       "  <th>Time:</th>                <td>16:05:52</td>     <th>  Pearson chi2:      </th>  <td>1.99e+07</td>  \n",
       "</tr>\n",
       "<tr>\n",
       "  <th>No. Iterations:</th>          <td>8</td>        <th>                     </th>      <td> </td>     \n",
       "</tr>\n",
       "<tr>\n",
       "  <th>Covariance Type:</th>     <td>nonrobust</td>    <th>                     </th>      <td> </td>     \n",
       "</tr>\n",
       "</table>\n",
       "<table class=\"simpletable\">\n",
       "<tr>\n",
       "    <td></td>       <th>coef</th>     <th>std err</th>      <th>z</th>      <th>P>|z|</th>  <th>[0.025</th>    <th>0.975]</th>  \n",
       "</tr>\n",
       "<tr>\n",
       "  <th>const</th> <td>    4.8267</td> <td>    0.002</td> <td> 2226.446</td> <td> 0.000</td> <td>    4.822</td> <td>    4.831</td>\n",
       "</tr>\n",
       "<tr>\n",
       "  <th>x1</th>    <td>   -3.9607</td> <td>    0.020</td> <td> -198.394</td> <td> 0.000</td> <td>   -4.000</td> <td>   -3.922</td>\n",
       "</tr>\n",
       "<tr>\n",
       "  <th>x2</th>    <td>   -3.5463</td> <td>    0.015</td> <td> -232.476</td> <td> 0.000</td> <td>   -3.576</td> <td>   -3.516</td>\n",
       "</tr>\n",
       "<tr>\n",
       "  <th>x3</th>    <td>   -3.3963</td> <td>    0.009</td> <td> -376.902</td> <td> 0.000</td> <td>   -3.414</td> <td>   -3.379</td>\n",
       "</tr>\n",
       "<tr>\n",
       "  <th>x4</th>    <td>   -1.4950</td> <td>    0.006</td> <td> -265.661</td> <td> 0.000</td> <td>   -1.506</td> <td>   -1.484</td>\n",
       "</tr>\n",
       "</table>"
      ],
      "text/plain": [
       "<class 'statsmodels.iolib.summary.Summary'>\n",
       "\"\"\"\n",
       "                 Generalized Linear Model Regression Results                  \n",
       "==============================================================================\n",
       "Dep. Variable:                      y   No. Observations:                 8444\n",
       "Model:                            GLM   Df Residuals:                     8439\n",
       "Model Family:                 Poisson   Df Model:                            4\n",
       "Link Function:                    log   Scale:                          1.0000\n",
       "Method:                          IRLS   Log-Likelihood:            -9.7131e+05\n",
       "Date:                Sat, 11 Apr 2020   Deviance:                   1.9351e+06\n",
       "Time:                        16:05:52   Pearson chi2:                 1.99e+07\n",
       "No. Iterations:                     8                                         \n",
       "Covariance Type:            nonrobust                                         \n",
       "==============================================================================\n",
       "                 coef    std err          z      P>|z|      [0.025      0.975]\n",
       "------------------------------------------------------------------------------\n",
       "const          4.8267      0.002   2226.446      0.000       4.822       4.831\n",
       "x1            -3.9607      0.020   -198.394      0.000      -4.000      -3.922\n",
       "x2            -3.5463      0.015   -232.476      0.000      -3.576      -3.516\n",
       "x3            -3.3963      0.009   -376.902      0.000      -3.414      -3.379\n",
       "x4            -1.4950      0.006   -265.661      0.000      -1.506      -1.484\n",
       "==============================================================================\n",
       "\"\"\""
      ]
     },
     "execution_count": 297,
     "metadata": {},
     "output_type": "execute_result"
    }
   ],
   "source": [
    "print(exp_data_row[10258],'is in Erythroid cell marker list')\n",
    "y_data=exp_data[10258,:]\n",
    "model=sm.GLM(y_data,x_data_null,family=family)\n",
    "model_result=model.fit()\n",
    "model_result.summary()"
   ]
  },
  {
   "cell_type": "markdown",
   "metadata": {},
   "source": [
    "## Run regression for all genes"
   ]
  },
  {
   "cell_type": "markdown",
   "metadata": {},
   "source": [
    "each iteration takes up approximately 0.02 sec\n",
    "\n",
    "all 20,000 genes -> 400 sec"
   ]
  },
  {
   "cell_type": "code",
   "execution_count": 309,
   "metadata": {},
   "outputs": [],
   "source": [
    "ll_list=[]\n",
    "for exp_data_row_idx in range(exp_data.shape[0]):\n",
    "    y_data=exp_data[exp_data_row_idx,:]\n",
    "    model=sm.GLM(y_data,x_data_null,family=family)\n",
    "    model_result=model.fit()\n",
    "    #model_result.summary()\n",
    "    ll_list.append(model_result.llf)\n",
    "#model_result.llf,model_result.llnull,model_result.null_deviance,model_result.null"
   ]
  },
  {
   "cell_type": "code",
   "execution_count": 317,
   "metadata": {},
   "outputs": [],
   "source": [
    "import matplotlib.pyplot as plt"
   ]
  },
  {
   "cell_type": "code",
   "execution_count": 336,
   "metadata": {},
   "outputs": [
    {
     "data": {
      "text/plain": [
       "<matplotlib.axes._subplots.AxesSubplot at 0x7f05ab9335c0>"
      ]
     },
     "execution_count": 336,
     "metadata": {},
     "output_type": "execute_result"
    },
    {
     "data": {
      "image/png": "[encoded data removed]",
      "text/plain": [
       "<Figure size 432x288 with 1 Axes>"
      ]
     },
     "metadata": {
      "needs_background": "light"
     },
     "output_type": "display_data"
    }
   ],
   "source": [
    "ll_series=pd.Series(ll_list,index=exp_data_row)\n",
    "ll_series.apply(lambda x: np.log10(-x)).hist()"
   ]
  },
  {
   "cell_type": "code",
   "execution_count": 361,
   "metadata": {},
   "outputs": [
    {
     "name": "stderr",
     "output_type": "stream",
     "text": [
      "/home/ch6845/tools/miniconda3/lib/python3.7/site-packages/ipykernel_launcher.py:1: FutureWarning: \n",
      "Passing list-likes to .loc or [] with any missing label will raise\n",
      "KeyError in the future, you can use .reindex() as an alternative.\n",
      "\n",
      "See the documentation here:\n",
      "https://pandas.pydata.org/pandas-docs/stable/indexing.html#deprecate-loc-reindex-listlike\n",
      "  \"\"\"Entry point for launching an IPython kernel.\n"
     ]
    },
    {
     "data": {
      "text/plain": [
       "HBB         5.987360\n",
       "ALB         5.645487\n",
       "IGHG1       5.518330\n",
       "HAMP        4.768465\n",
       "NKG7        4.346460\n",
       "GNLY        4.311835\n",
       "TAGLN       4.272118\n",
       "CA1         4.252243\n",
       "CCL3        4.249670\n",
       "CMC1        4.228890\n",
       "PCK1        4.207075\n",
       "ARG1        4.201217\n",
       "MARCO       4.144979\n",
       "IL32        4.142053\n",
       "CD52        4.019015\n",
       "FCGR3A      3.969295\n",
       "SLC25A37    3.957976\n",
       "TFF2        3.943805\n",
       "VWF         3.936800\n",
       "ACTA2       3.914464\n",
       "SPARC       3.893835\n",
       "CD68        3.882908\n",
       "BCHE        3.862095\n",
       "LTB         3.830178\n",
       "CD3D        3.815856\n",
       "COL1A1      3.789089\n",
       "TRAC        3.772432\n",
       "GZMK        3.753389\n",
       "KLRF1       3.750559\n",
       "CD2         3.731857\n",
       "RBP1        3.719013\n",
       "CD24        3.698524\n",
       "CD27        3.683540\n",
       "CD3E        3.681543\n",
       "COL1A2      3.622084\n",
       "COL3A1      3.601454\n",
       "CALCRL      3.598987\n",
       "HOPX        3.584029\n",
       "ALAS2       3.584018\n",
       "DCN         3.551039\n",
       "AFP         3.477503\n",
       "MYL9        3.469536\n",
       "KRT7        3.425461\n",
       "KRT19       3.425039\n",
       "CXCL1       3.306981\n",
       "CLDN10      3.101486\n",
       "CLDN4       3.069137\n",
       "MS4A1       3.025059\n",
       "EPCAM       3.012739\n",
       "SOX9        2.951268\n",
       "IGHD        2.794780\n",
       "MMP7        2.645370\n",
       "CFTR        2.426538\n",
       "CD32B            NaN\n",
       "FXDY2            NaN\n",
       "dtype: float64"
      ]
     },
     "execution_count": 361,
     "metadata": {},
     "output_type": "execute_result"
    }
   ],
   "source": [
    "ll_series.apply(lambda x: np.log10(-x)).loc[gene_index_1_].sort_values(ascending=False)"
   ]
  },
  {
   "cell_type": "markdown",
   "metadata": {},
   "source": [
    "# Deprecated"
   ]
  },
  {
   "cell_type": "code",
   "execution_count": null,
   "metadata": {},
   "outputs": [],
   "source": []
  },
  {
   "cell_type": "code",
   "execution_count": null,
   "metadata": {},
   "outputs": [],
   "source": []
  },
  {
   "cell_type": "code",
   "execution_count": null,
   "metadata": {},
   "outputs": [],
   "source": []
  },
  {
   "cell_type": "code",
   "execution_count": null,
   "metadata": {},
   "outputs": [],
   "source": []
  },
  {
   "cell_type": "code",
   "execution_count": 354,
   "metadata": {},
   "outputs": [
    {
     "data": {
      "text/plain": [
       "Index(['ACTA2', 'AFP', 'ALAS2', 'ALB', 'ARG1', 'BCHE', 'CA1', 'CALCRL', 'CCL3',\n",
       "       'CD2', 'CD24', 'CD27', 'CD32B', 'CD3D', 'CD3E', 'CD52', 'CD68', 'CFTR',\n",
       "       'CLDN10', 'CLDN4', 'CMC1', 'COL1A1', 'COL1A2', 'COL3A1', 'CXCL1', 'DCN',\n",
       "       'EPCAM', 'FCGR3A', 'FXDY2', 'GNLY', 'GZMK', 'HAMP', 'HBB', 'HOPX',\n",
       "       'IGHD', 'IGHG1', 'IL32', 'KLRF1', 'KRT19', 'KRT7', 'LTB', 'MARCO',\n",
       "       'MMP7', 'MS4A1', 'MYL9', 'NKG7', 'PCK1', 'RBP1', 'SLC25A37', 'SOX9',\n",
       "       'SPARC', 'TAGLN', 'TFF2', 'TRAC', 'VWF'],\n",
       "      dtype='object')"
      ]
     },
     "execution_count": 354,
     "metadata": {},
     "output_type": "execute_result"
    }
   ],
   "source": [
    "gene_index_1_"
   ]
  },
  {
   "cell_type": "code",
   "execution_count": 347,
   "metadata": {},
   "outputs": [],
   "source": [
    "ll_series_clip=ll_series.sort_values().iloc[:1000]"
   ]
  },
  {
   "cell_type": "code",
   "execution_count": 348,
   "metadata": {},
   "outputs": [
    {
     "data": {
      "text/plain": [
       "Index(['IGKC', 'SAA1', 'IGLC2', 'HBB', 'SAA2', 'IGLC3', 'ORM1', 'HP', 'FTL',\n",
       "       'APOC3',\n",
       "       ...\n",
       "       'RNF181', 'ACADVL', 'SNRPB2', 'IDH1', 'C8orf59', 'UBXN1', 'SYF2',\n",
       "       'C17orf89', 'LRRFIP1', 'KLRD1'],\n",
       "      dtype='object', length=1000)"
      ]
     },
     "execution_count": 348,
     "metadata": {},
     "output_type": "execute_result"
    }
   ],
   "source": [
    "ll_series_clip.index"
   ]
  },
  {
   "cell_type": "code",
   "execution_count": 353,
   "metadata": {},
   "outputs": [
    {
     "data": {
      "text/plain": [
       "19"
      ]
     },
     "execution_count": 353,
     "metadata": {},
     "output_type": "execute_result"
    }
   ],
   "source": [
    "len(gene_index_1_.intersection(ll_series_clip.index))"
   ]
  },
  {
   "cell_type": "code",
   "execution_count": 296,
   "metadata": {},
   "outputs": [
    {
     "data": {
      "text/plain": [
       "\u001b[0;31mType:\u001b[0m            float64\n",
       "\u001b[0;31mString form:\u001b[0m     -971314.1894018359\n",
       "\u001b[0;31mFile:\u001b[0m            ~/tools/miniconda3/lib/python3.7/site-packages/numpy/__init__.py\n",
       "\u001b[0;31mDocstring:\u001b[0m       <no docstring>\n",
       "\u001b[0;31mClass docstring:\u001b[0m\n",
       "Double-precision floating-point number type, compatible with Python `float`\n",
       "and C ``double``.\n",
       "Character code: ``'d'``.\n",
       "Canonical name: ``np.double``.\n",
       "Alias: ``np.float_``.\n",
       "Alias *on this platform*: ``np.float64``: 64-bit precision floating-point number type: sign bit, 11 bits exponent, 52 bits mantissa.\n"
      ]
     },
     "metadata": {},
     "output_type": "display_data"
    }
   ],
   "source": [
    "model_result.llf?"
   ]
  },
  {
   "cell_type": "code",
   "execution_count": 301,
   "metadata": {},
   "outputs": [],
   "source": []
  },
  {
   "cell_type": "code",
   "execution_count": 285,
   "metadata": {},
   "outputs": [
    {
     "data": {
      "text/plain": [
       "['__class__',\n",
       " '__delattr__',\n",
       " '__dict__',\n",
       " '__dir__',\n",
       " '__doc__',\n",
       " '__eq__',\n",
       " '__format__',\n",
       " '__ge__',\n",
       " '__getattribute__',\n",
       " '__gt__',\n",
       " '__hash__',\n",
       " '__init__',\n",
       " '__init_subclass__',\n",
       " '__le__',\n",
       " '__lt__',\n",
       " '__module__',\n",
       " '__ne__',\n",
       " '__new__',\n",
       " '__reduce__',\n",
       " '__reduce_ex__',\n",
       " '__repr__',\n",
       " '__setattr__',\n",
       " '__sizeof__',\n",
       " '__str__',\n",
       " '__subclasshook__',\n",
       " '__weakref__',\n",
       " '_cache',\n",
       " '_data_attr',\n",
       " '_data_attr_model',\n",
       " '_endog',\n",
       " '_freq_weights',\n",
       " '_get_robustcov_results',\n",
       " '_iweights',\n",
       " '_n_trials',\n",
       " '_use_t',\n",
       " '_var_weights',\n",
       " 'aic',\n",
       " 'bic',\n",
       " 'bse',\n",
       " 'conf_int',\n",
       " 'converged',\n",
       " 'cov_kwds',\n",
       " 'cov_params',\n",
       " 'cov_type',\n",
       " 'data_in_cache',\n",
       " 'deviance',\n",
       " 'df_model',\n",
       " 'df_resid',\n",
       " 'f_test',\n",
       " 'family',\n",
       " 'fit_history',\n",
       " 'fittedvalues',\n",
       " 'get_hat_matrix_diag',\n",
       " 'get_influence',\n",
       " 'get_prediction',\n",
       " 'initialize',\n",
       " 'k_constant',\n",
       " 'llf',\n",
       " 'llnull',\n",
       " 'load',\n",
       " 'method',\n",
       " 'mle_settings',\n",
       " 'model',\n",
       " 'mu',\n",
       " 'nobs',\n",
       " 'normalized_cov_params',\n",
       " 'null',\n",
       " 'null_deviance',\n",
       " 'params',\n",
       " 'pearson_chi2',\n",
       " 'plot_added_variable',\n",
       " 'plot_ceres_residuals',\n",
       " 'plot_partial_residuals',\n",
       " 'predict',\n",
       " 'pvalues',\n",
       " 'remove_data',\n",
       " 'resid_anscombe',\n",
       " 'resid_anscombe_scaled',\n",
       " 'resid_anscombe_unscaled',\n",
       " 'resid_deviance',\n",
       " 'resid_pearson',\n",
       " 'resid_response',\n",
       " 'resid_working',\n",
       " 'save',\n",
       " 'scale',\n",
       " 'summary',\n",
       " 'summary2',\n",
       " 't_test',\n",
       " 't_test_pairwise',\n",
       " 'tvalues',\n",
       " 'use_t',\n",
       " 'wald_test',\n",
       " 'wald_test_terms']"
      ]
     },
     "execution_count": 285,
     "metadata": {},
     "output_type": "execute_result"
    }
   ],
   "source": [
    "dir(model_result)"
   ]
  },
  {
   "cell_type": "code",
   "execution_count": 254,
   "metadata": {},
   "outputs": [],
   "source": [
    "#x_data_null[:,:5]"
   ]
  },
  {
   "cell_type": "code",
   "execution_count": 103,
   "metadata": {},
   "outputs": [],
   "source": [
    "#model_null=sm.GLM(y_data[common_idx], x_data_null[common_idx], family=family,missing='raise')\n",
    "#model_null_result=model_null.fit()\n",
    "\n",
    "#model_full=sm.GLM(y_data[common_idx], x_data_full[common_idx], family=family,missing='raise')\n",
    "#model_full_result=model_full.fit()   "
   ]
  },
  {
   "cell_type": "code",
   "execution_count": null,
   "metadata": {},
   "outputs": [],
   "source": []
  },
  {
   "cell_type": "code",
   "execution_count": null,
   "metadata": {},
   "outputs": [],
   "source": []
  },
  {
   "cell_type": "code",
   "execution_count": null,
   "metadata": {},
   "outputs": [],
   "source": []
  },
  {
   "cell_type": "code",
   "execution_count": null,
   "metadata": {},
   "outputs": [],
   "source": []
  },
  {
   "cell_type": "code",
   "execution_count": 23,
   "metadata": {},
   "outputs": [
    {
     "data": {
      "text/html": [
       "<div>\n",
       "<style scoped>\n",
       "    .dataframe tbody tr th:only-of-type {\n",
       "        vertical-align: middle;\n",
       "    }\n",
       "\n",
       "    .dataframe tbody tr th {\n",
       "        vertical-align: top;\n",
       "    }\n",
       "\n",
       "    .dataframe thead th {\n",
       "        text-align: right;\n",
       "    }\n",
       "</style>\n",
       "<table border=\"1\" class=\"dataframe\">\n",
       "  <thead>\n",
       "    <tr style=\"text-align: right;\">\n",
       "      <th></th>\n",
       "      <th>official gene symbol</th>\n",
       "      <th>cell type</th>\n",
       "      <th>nicknames</th>\n",
       "      <th>ubiquitousness index</th>\n",
       "      <th>product description</th>\n",
       "      <th>gene type</th>\n",
       "      <th>canonical marker</th>\n",
       "      <th>germ layer</th>\n",
       "      <th>organ</th>\n",
       "      <th>sensitivity_human</th>\n",
       "      <th>sensitivity_mouse</th>\n",
       "      <th>specificity_human</th>\n",
       "      <th>specificity_mouse</th>\n",
       "    </tr>\n",
       "  </thead>\n",
       "  <tbody>\n",
       "    <tr>\n",
       "      <th>1342</th>\n",
       "      <td>BCHE</td>\n",
       "      <td>Delta cells</td>\n",
       "      <td>CHE2</td>\n",
       "      <td>0.003</td>\n",
       "      <td>butyrylcholinesterase</td>\n",
       "      <td>protein-coding gene</td>\n",
       "      <td>1.0</td>\n",
       "      <td>Endoderm</td>\n",
       "      <td>Pancreas</td>\n",
       "      <td>0.000000</td>\n",
       "      <td>0.000000</td>\n",
       "      <td>0.005339</td>\n",
       "      <td>0.002440</td>\n",
       "    </tr>\n",
       "    <tr>\n",
       "      <th>3554</th>\n",
       "      <td>BCHE</td>\n",
       "      <td>Hepatocytes</td>\n",
       "      <td>CHE2</td>\n",
       "      <td>0.003</td>\n",
       "      <td>butyrylcholinesterase</td>\n",
       "      <td>protein-coding gene</td>\n",
       "      <td>1.0</td>\n",
       "      <td>Endoderm</td>\n",
       "      <td>Liver</td>\n",
       "      <td>0.108108</td>\n",
       "      <td>0.275000</td>\n",
       "      <td>0.004120</td>\n",
       "      <td>0.001737</td>\n",
       "    </tr>\n",
       "    <tr>\n",
       "      <th>7477</th>\n",
       "      <td>BCHE</td>\n",
       "      <td>Schwann cells</td>\n",
       "      <td>CHE2</td>\n",
       "      <td>0.003</td>\n",
       "      <td>butyrylcholinesterase</td>\n",
       "      <td>protein-coding gene</td>\n",
       "      <td>NaN</td>\n",
       "      <td>Ectoderm</td>\n",
       "      <td>Brain</td>\n",
       "      <td>0.000000</td>\n",
       "      <td>0.022988</td>\n",
       "      <td>0.005326</td>\n",
       "      <td>0.002323</td>\n",
       "    </tr>\n",
       "  </tbody>\n",
       "</table>\n",
       "</div>"
      ],
      "text/plain": [
       "     official gene symbol      cell type nicknames  ubiquitousness index  \\\n",
       "1342                 BCHE    Delta cells      CHE2                 0.003   \n",
       "3554                 BCHE    Hepatocytes      CHE2                 0.003   \n",
       "7477                 BCHE  Schwann cells      CHE2                 0.003   \n",
       "\n",
       "        product description            gene type  canonical marker germ layer  \\\n",
       "1342  butyrylcholinesterase  protein-coding gene               1.0   Endoderm   \n",
       "3554  butyrylcholinesterase  protein-coding gene               1.0   Endoderm   \n",
       "7477  butyrylcholinesterase  protein-coding gene               NaN   Ectoderm   \n",
       "\n",
       "         organ  sensitivity_human  sensitivity_mouse  specificity_human  \\\n",
       "1342  Pancreas           0.000000           0.000000           0.005339   \n",
       "3554     Liver           0.108108           0.275000           0.004120   \n",
       "7477     Brain           0.000000           0.022988           0.005326   \n",
       "\n",
       "      specificity_mouse  \n",
       "1342           0.002440  \n",
       "3554           0.001737  \n",
       "7477           0.002323  "
      ]
     },
     "execution_count": 23,
     "metadata": {},
     "output_type": "execute_result"
    }
   ],
   "source": [
    "markers_db[markers_db['official gene symbol']==('BCHE')]"
   ]
  },
  {
   "cell_type": "code",
   "execution_count": 19,
   "metadata": {},
   "outputs": [
    {
     "data": {
      "text/plain": [
       "[1, 2, 3, 4, 5, 6, 7, 8, 9, 10, 11, 12, 13, 14, 15, 16, 17, 18, 19, 20]"
      ]
     },
     "execution_count": 19,
     "metadata": {},
     "output_type": "execute_result"
    }
   ],
   "source": [
    "sorted(meta_data['res.0.8'].unique())"
   ]
  },
  {
   "cell_type": "code",
   "execution_count": 21,
   "metadata": {},
   "outputs": [],
   "source": [
    "#exp_data.toarray()"
   ]
  },
  {
   "cell_type": "code",
   "execution_count": 23,
   "metadata": {},
   "outputs": [],
   "source": [
    "assert markers_db[['official gene symbol','cell type']].duplicated().sum()==0"
   ]
  },
  {
   "cell_type": "code",
   "execution_count": 24,
   "metadata": {},
   "outputs": [
    {
     "data": {
      "text/plain": [
       "(7851, 13)"
      ]
     },
     "execution_count": 24,
     "metadata": {},
     "output_type": "execute_result"
    }
   ],
   "source": [
    "markers_db.shape"
   ]
  },
  {
   "cell_type": "code",
   "execution_count": 25,
   "metadata": {},
   "outputs": [
    {
     "data": {
      "text/plain": [
       "178"
      ]
     },
     "execution_count": 25,
     "metadata": {},
     "output_type": "execute_result"
    }
   ],
   "source": [
    "len(markers_db['cell type'].unique())"
   ]
  },
  {
   "cell_type": "code",
   "execution_count": 26,
   "metadata": {},
   "outputs": [
    {
     "data": {
      "text/plain": [
       "4345"
      ]
     },
     "execution_count": 26,
     "metadata": {},
     "output_type": "execute_result"
    }
   ],
   "source": [
    "len(markers_db['official gene symbol'].unique())"
   ]
  },
  {
   "cell_type": "code",
   "execution_count": 27,
   "metadata": {},
   "outputs": [],
   "source": [
    "#markers_db.index=pd.MultiIndex.from_frame(markers_db[['cell type','official gene symbol']])"
   ]
  },
  {
   "cell_type": "code",
   "execution_count": 28,
   "metadata": {},
   "outputs": [
    {
     "data": {
      "text/plain": [
       "'Acinar cells , Adipocyte progenitor cells , Adipocytes , Adrenergic neurons , Airway epithelial cells , Airway goblet cells , Airway smooth muscle cells , Alpha cells , Alveolar macrophages , Anterior pituitary gland cells , Astrocytes , B cells , B cells memory , B cells naive , Basal cells , Basophils , Bergmann glia , Beta cells , Cajal-Retzius cells , Cardiac stem and precursor cells , Cardiomyocytes , Cholangiocytes , Cholinergic neurons , Chondrocytes , Choroid plexus cells , Chromaffin cells , Ciliated cells , Clara cells , Crypt cells , Decidual cells , Delta cells , Dendritic cells , Distal tubule cells , Dopaminergic neurons , Ductal cells , Embryonic stem cells , Endothelial cells , Endothelial cells (aorta) , Endothelial cells (blood brain barrier) , Enteric glia cells , Enteric neurons , Enterochromaffin cells , Enterocytes , Enteroendocrine cells , Eosinophils , Ependymal cells , Epiblast cells , Epithelial cells , Epsilon cells , Erythroblasts , Erythroid-like and erythroid precursor cells , Fibroblasts , Follicular cells , Foveolar cells , GABAergic neurons , Gamma (PP) cells , Gamma delta T cells , Gastric chief cells , Germ cells , Glomus cells , Glutaminergic neurons , Glycinergic neurons , Goblet cells , Granulosa cells , Hemangioblasts , Hematopoietic stem cells , Hepatic stellate cells , Hepatoblasts , Hepatocytes , His bundle cells , Immature neurons , Intercalated cells , Interneurons , Ionocytes , Juxtaglomerular cells , Keratinocytes , Kidney progenitor cells , Kupffer cells , Langerhans cells , Leydig cells , Loop of Henle cells , Luminal epithelial cells , Luteal cells , Macrophages , Mammary epithelial cells , Mast cells , Megakaryocytes , Melanocytes , Meningeal cells , Merkel cells , Mesangial cells , Mesothelial cells , Microfold cells , Microglia , Monocytes , Motor neurons , Müller cells , Myeloid-derived suppressor cells , Myoblasts , Myocytes , Myoepithelial cells , Myofibroblasts , Natural killer T cells , Neural stem/precursor cells , Neuroblasts , Neuroendocrine cells , Neurons , Neutrophils , NK cells , Noradrenergic neurons , Nuocytes , Olfactory epithelial cells , Oligodendrocyte progenitor cells , Oligodendrocytes , Osteoblasts , Osteoclast precursor cells , Osteoclasts , Osteocytes , Oxyphil cells , Pancreatic progenitor cells , Pancreatic stellate cells , Paneth cells , Parathyroid chief cells , Parietal cells , Peri-islet Schwann cells , Pericytes , Peritubular myoid cells , Photoreceptor cells , Pinealocytes , Plasma cells , Plasmacytoid dendritic cells , Platelets , Pluripotent stem cells , Podocytes , Principal cells , Proximal tubule cells , Pulmonary alveolar type I cells , Pulmonary alveolar type II cells , Pulmonary vascular smooth muscle cells , Purkinje fiber cells , Purkinje neurons , Pyramidal cells , Radial glia cells , Red pulp macrophages , Reticulocytes , Retinal ganglion cells , Retinal progenitor cells , Salivary mucous cells , Satellite cells , Satellite glial cells , Schwann cells , Sebocytes , Serotonergic neurons , Sertoli cells , Smooth muscle cells , Spermatocytes , Spermatozoa , Stromal cells , T cells , T cells naive , T cytotoxic cells , T follicular helper cells , T helper cells , T memory cells , T regulatory cells , Tanycytes , Taste receptor cells , Thymocytes , Transient cells , Trichocytes , Trigeminal neurons , Trophoblast cells , Trophoblast progenitor cells , Trophoblast stem cells , Tuft cells , Undefined placental cells , Urothelial cells , Vascular smooth muscle cells'"
      ]
     },
     "execution_count": 28,
     "metadata": {},
     "output_type": "execute_result"
    }
   ],
   "source": [
    "' , '.join(markers_db['cell type'].unique())"
   ]
  },
  {
   "cell_type": "code",
   "execution_count": 105,
   "metadata": {},
   "outputs": [],
   "source": [
    "a=pd.Series(markers_db['cell type'].unique())"
   ]
  },
  {
   "cell_type": "code",
   "execution_count": 108,
   "metadata": {},
   "outputs": [],
   "source": [
    "a[a.str.contains('T')]"
   ]
  },
  {
   "cell_type": "code",
   "execution_count": 15,
   "metadata": {},
   "outputs": [
    {
     "ename": "NameError",
     "evalue": "name 'savedRes' is not defined",
     "output_type": "error",
     "traceback": [
      "\u001b[0;31m---------------------------------------------------------------------------\u001b[0m",
      "\u001b[0;31mNameError\u001b[0m                                 Traceback (most recent call last)",
      "\u001b[0;32m<ipython-input-15-bb5c888187e3>\u001b[0m in \u001b[0;36m<module>\u001b[0;34m\u001b[0m\n\u001b[0;32m----> 1\u001b[0;31m \u001b[0msavedRes\u001b[0m\u001b[0;34m\u001b[0m\u001b[0;34m\u001b[0m\u001b[0m\n\u001b[0m",
      "\u001b[0;31mNameError\u001b[0m: name 'savedRes' is not defined"
     ]
    }
   ],
   "source": [
    "savedRes"
   ]
  },
  {
   "cell_type": "code",
   "execution_count": 16,
   "metadata": {},
   "outputs": [],
   "source": [
    "import statsmodels.api as sm"
   ]
  }
 ],
 "metadata": {
  "kernelspec": {
   "display_name": "Python 3",
   "language": "python",
   "name": "python3"
  },
  "language_info": {
   "codemirror_mode": {
    "name": "ipython",
    "version": 3
   },
   "file_extension": ".py",
   "mimetype": "text/x-python",
   "name": "python",
   "nbconvert_exporter": "python",
   "pygments_lexer": "ipython3",
   "version": "3.6.9"
  }
 },
 "nbformat": 4,
 "nbformat_minor": 4
}
