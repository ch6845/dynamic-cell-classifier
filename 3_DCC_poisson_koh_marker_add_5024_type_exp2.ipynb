{
 "cells": [
  {
   "cell_type": "code",
   "execution_count": 1,
   "metadata": {},
   "outputs": [],
   "source": [
    "import datetime\n",
    "\n",
    "import numpy as np\n",
    "import pandas as pd\n",
    "\n",
    "from scipy.io import mmread\n",
    "\n",
    "import matplotlib.pyplot as plt"
   ]
  },
  {
   "cell_type": "code",
   "execution_count": 2,
   "metadata": {},
   "outputs": [
    {
     "data": {
      "text/plain": [
       "'/home/ch6845/tools/miniconda3/envs/pytorch/lib/python3.6/os.py'"
      ]
     },
     "execution_count": 2,
     "metadata": {},
     "output_type": "execute_result"
    }
   ],
   "source": [
    "import os\n",
    "os.__file__"
   ]
  },
  {
   "cell_type": "markdown",
   "metadata": {},
   "source": [
    "# load data"
   ]
  },
  {
   "cell_type": "markdown",
   "metadata": {},
   "source": [
    "## expression data"
   ]
  },
  {
   "cell_type": "code",
   "execution_count": 3,
   "metadata": {},
   "outputs": [],
   "source": [
    "exp_data=mmread('data/koh_extract/koh.data.counts.mm').toarray().astype(float)\n",
    "with open('data/koh_extract/koh.data.col','r') as f: exp_data_col=[i.strip().strip('\"') for i in f.read().split()]\n",
    "with open('data/koh_extract/koh.data.row','r') as f: exp_data_row=[i.strip().strip('\"') for i in f.read().split()]\n",
    "assert exp_data.shape==(len(exp_data_row),len(exp_data_col))"
   ]
  },
  {
   "cell_type": "code",
   "execution_count": 4,
   "metadata": {},
   "outputs": [],
   "source": [
    "assert len(set(exp_data_row))==len(exp_data_row)\n",
    "assert len(set(exp_data_col))==len(exp_data_col)"
   ]
  },
  {
   "cell_type": "code",
   "execution_count": 5,
   "metadata": {},
   "outputs": [
    {
     "data": {
      "text/plain": [
       "(array([[1.93134327e+04, 5.81785206e+04, 9.08678570e+03, ...,\n",
       "         7.58501657e+04, 8.94289538e+04, 1.01937411e+05],\n",
       "        [2.48547207e+04, 4.67361235e+04, 1.09620933e+04, ...,\n",
       "         1.85699498e+04, 1.85806217e+04, 2.49668288e+04],\n",
       "        [1.18570138e+04, 2.80836990e+04, 6.80287185e+03, ...,\n",
       "         3.53701816e+04, 5.75775170e+04, 5.59807979e+04],\n",
       "        ...,\n",
       "        [4.83851544e+01, 1.19916350e+01, 6.96361343e+00, ...,\n",
       "         4.88990717e+00, 8.49751588e+00, 7.80405857e+01],\n",
       "        [2.35818377e+01, 4.26839000e+01, 1.80639917e+01, ...,\n",
       "         7.54470439e+00, 2.84437127e+00, 8.88332407e+00],\n",
       "        [6.10992450e+01, 2.59814157e+01, 2.45930809e+01, ...,\n",
       "         4.85579286e-01, 0.00000000e+00, 0.00000000e+00]]), (4898, 446))"
      ]
     },
     "execution_count": 5,
     "metadata": {},
     "output_type": "execute_result"
    }
   ],
   "source": [
    "exp_data,exp_data.shape"
   ]
  },
  {
   "cell_type": "code",
   "execution_count": 6,
   "metadata": {},
   "outputs": [
    {
     "data": {
      "text/plain": [
       "(['ENSG00000198804',\n",
       "  'ENSG00000210082',\n",
       "  'ENSG00000198712',\n",
       "  'ENSG00000198938',\n",
       "  'ENSG00000198727'],\n",
       " ['SRR3952323', 'SRR3952325', 'SRR3952326', 'SRR3952327', 'SRR3952328'])"
      ]
     },
     "execution_count": 6,
     "metadata": {},
     "output_type": "execute_result"
    }
   ],
   "source": [
    "exp_data_row[:5],exp_data_col[:5]"
   ]
  },
  {
   "cell_type": "markdown",
   "metadata": {},
   "source": [
    "## cluster info "
   ]
  },
  {
   "cell_type": "code",
   "execution_count": 7,
   "metadata": {},
   "outputs": [
    {
     "data": {
      "text/html": [
       "<div>\n",
       "<style scoped>\n",
       "    .dataframe tbody tr th:only-of-type {\n",
       "        vertical-align: middle;\n",
       "    }\n",
       "\n",
       "    .dataframe tbody tr th {\n",
       "        vertical-align: top;\n",
       "    }\n",
       "\n",
       "    .dataframe thead th {\n",
       "        text-align: right;\n",
       "    }\n",
       "</style>\n",
       "<table border=\"1\" class=\"dataframe\">\n",
       "  <thead>\n",
       "    <tr style=\"text-align: right;\">\n",
       "      <th></th>\n",
       "      <th>Run</th>\n",
       "      <th>LibraryName</th>\n",
       "      <th>phenoid</th>\n",
       "      <th>libsize.drop</th>\n",
       "      <th>feature.drop</th>\n",
       "      <th>total_features</th>\n",
       "      <th>log10_total_features</th>\n",
       "      <th>total_counts</th>\n",
       "      <th>log10_total_counts</th>\n",
       "      <th>pct_counts_top_50_features</th>\n",
       "      <th>pct_counts_top_100_features</th>\n",
       "      <th>pct_counts_top_200_features</th>\n",
       "      <th>pct_counts_top_500_features</th>\n",
       "      <th>is_cell_control</th>\n",
       "      <th>celltype</th>\n",
       "      <th>tSNE_1</th>\n",
       "      <th>tSNE_2</th>\n",
       "    </tr>\n",
       "  </thead>\n",
       "  <tbody>\n",
       "    <tr>\n",
       "      <th>SRR3952323</th>\n",
       "      <td>SRR3952323</td>\n",
       "      <td>H7hESC</td>\n",
       "      <td>H7hESC</td>\n",
       "      <td>False</td>\n",
       "      <td>False</td>\n",
       "      <td>4895</td>\n",
       "      <td>3.689841</td>\n",
       "      <td>2.248411e+06</td>\n",
       "      <td>6.351876</td>\n",
       "      <td>18.278965</td>\n",
       "      <td>25.975390</td>\n",
       "      <td>35.537616</td>\n",
       "      <td>52.410941</td>\n",
       "      <td>False</td>\n",
       "      <td>hESC</td>\n",
       "      <td>9.973465</td>\n",
       "      <td>19.045918</td>\n",
       "    </tr>\n",
       "    <tr>\n",
       "      <th>SRR3952325</th>\n",
       "      <td>SRR3952325</td>\n",
       "      <td>H7hESC</td>\n",
       "      <td>H7hESC</td>\n",
       "      <td>False</td>\n",
       "      <td>False</td>\n",
       "      <td>4887</td>\n",
       "      <td>3.689131</td>\n",
       "      <td>2.271617e+06</td>\n",
       "      <td>6.356335</td>\n",
       "      <td>24.672529</td>\n",
       "      <td>32.222803</td>\n",
       "      <td>41.547358</td>\n",
       "      <td>57.969233</td>\n",
       "      <td>False</td>\n",
       "      <td>hESC</td>\n",
       "      <td>10.366232</td>\n",
       "      <td>21.511833</td>\n",
       "    </tr>\n",
       "    <tr>\n",
       "      <th>SRR3952326</th>\n",
       "      <td>SRR3952326</td>\n",
       "      <td>H7hESC</td>\n",
       "      <td>H7hESC</td>\n",
       "      <td>False</td>\n",
       "      <td>False</td>\n",
       "      <td>4888</td>\n",
       "      <td>3.689220</td>\n",
       "      <td>5.846824e+05</td>\n",
       "      <td>5.766921</td>\n",
       "      <td>22.732839</td>\n",
       "      <td>30.205988</td>\n",
       "      <td>39.431308</td>\n",
       "      <td>55.285817</td>\n",
       "      <td>False</td>\n",
       "      <td>hESC</td>\n",
       "      <td>9.881356</td>\n",
       "      <td>19.317197</td>\n",
       "    </tr>\n",
       "    <tr>\n",
       "      <th>SRR3952327</th>\n",
       "      <td>SRR3952327</td>\n",
       "      <td>H7hESC</td>\n",
       "      <td>H7hESC</td>\n",
       "      <td>False</td>\n",
       "      <td>False</td>\n",
       "      <td>4879</td>\n",
       "      <td>3.688420</td>\n",
       "      <td>3.191810e+06</td>\n",
       "      <td>6.504037</td>\n",
       "      <td>20.867378</td>\n",
       "      <td>29.003904</td>\n",
       "      <td>38.785558</td>\n",
       "      <td>56.020859</td>\n",
       "      <td>False</td>\n",
       "      <td>hESC</td>\n",
       "      <td>8.483966</td>\n",
       "      <td>21.289459</td>\n",
       "    </tr>\n",
       "    <tr>\n",
       "      <th>SRR3952328</th>\n",
       "      <td>SRR3952328</td>\n",
       "      <td>H7hESC</td>\n",
       "      <td>H7hESC</td>\n",
       "      <td>False</td>\n",
       "      <td>False</td>\n",
       "      <td>4873</td>\n",
       "      <td>3.687886</td>\n",
       "      <td>2.190385e+06</td>\n",
       "      <td>6.340521</td>\n",
       "      <td>21.287923</td>\n",
       "      <td>29.423689</td>\n",
       "      <td>39.307683</td>\n",
       "      <td>56.640975</td>\n",
       "      <td>False</td>\n",
       "      <td>hESC</td>\n",
       "      <td>9.017168</td>\n",
       "      <td>20.637262</td>\n",
       "    </tr>\n",
       "  </tbody>\n",
       "</table>\n",
       "</div>"
      ],
      "text/plain": [
       "                   Run LibraryName phenoid  libsize.drop  feature.drop  \\\n",
       "SRR3952323  SRR3952323      H7hESC  H7hESC         False         False   \n",
       "SRR3952325  SRR3952325      H7hESC  H7hESC         False         False   \n",
       "SRR3952326  SRR3952326      H7hESC  H7hESC         False         False   \n",
       "SRR3952327  SRR3952327      H7hESC  H7hESC         False         False   \n",
       "SRR3952328  SRR3952328      H7hESC  H7hESC         False         False   \n",
       "\n",
       "            total_features  log10_total_features  total_counts  \\\n",
       "SRR3952323            4895              3.689841  2.248411e+06   \n",
       "SRR3952325            4887              3.689131  2.271617e+06   \n",
       "SRR3952326            4888              3.689220  5.846824e+05   \n",
       "SRR3952327            4879              3.688420  3.191810e+06   \n",
       "SRR3952328            4873              3.687886  2.190385e+06   \n",
       "\n",
       "            log10_total_counts  pct_counts_top_50_features  \\\n",
       "SRR3952323            6.351876                   18.278965   \n",
       "SRR3952325            6.356335                   24.672529   \n",
       "SRR3952326            5.766921                   22.732839   \n",
       "SRR3952327            6.504037                   20.867378   \n",
       "SRR3952328            6.340521                   21.287923   \n",
       "\n",
       "            pct_counts_top_100_features  pct_counts_top_200_features  \\\n",
       "SRR3952323                    25.975390                    35.537616   \n",
       "SRR3952325                    32.222803                    41.547358   \n",
       "SRR3952326                    30.205988                    39.431308   \n",
       "SRR3952327                    29.003904                    38.785558   \n",
       "SRR3952328                    29.423689                    39.307683   \n",
       "\n",
       "            pct_counts_top_500_features  is_cell_control celltype     tSNE_1  \\\n",
       "SRR3952323                    52.410941            False     hESC   9.973465   \n",
       "SRR3952325                    57.969233            False     hESC  10.366232   \n",
       "SRR3952326                    55.285817            False     hESC   9.881356   \n",
       "SRR3952327                    56.020859            False     hESC   8.483966   \n",
       "SRR3952328                    56.640975            False     hESC   9.017168   \n",
       "\n",
       "               tSNE_2  \n",
       "SRR3952323  19.045918  \n",
       "SRR3952325  21.511833  \n",
       "SRR3952326  19.317197  \n",
       "SRR3952327  21.289459  \n",
       "SRR3952328  20.637262  "
      ]
     },
     "execution_count": 7,
     "metadata": {},
     "output_type": "execute_result"
    }
   ],
   "source": [
    "exp_data_meta=pd.read_csv('data/koh_extract/koh.metadata.tsv',sep='\\t')\n",
    "exp_data_meta.head()"
   ]
  },
  {
   "cell_type": "markdown",
   "metadata": {},
   "source": [
    "`clusterid_to_clustername` is used to convert integers in `res.0.8` to cell-type name"
   ]
  },
  {
   "cell_type": "markdown",
   "metadata": {},
   "source": [
    "# Panglao"
   ]
  },
  {
   "cell_type": "code",
   "execution_count": 8,
   "metadata": {},
   "outputs": [
    {
     "data": {
      "text/html": [
       "<div>\n",
       "<style scoped>\n",
       "    .dataframe tbody tr th:only-of-type {\n",
       "        vertical-align: middle;\n",
       "    }\n",
       "\n",
       "    .dataframe tbody tr th {\n",
       "        vertical-align: top;\n",
       "    }\n",
       "\n",
       "    .dataframe thead th {\n",
       "        text-align: right;\n",
       "    }\n",
       "</style>\n",
       "<table border=\"1\" class=\"dataframe\">\n",
       "  <thead>\n",
       "    <tr style=\"text-align: right;\">\n",
       "      <th></th>\n",
       "      <th>official gene symbol</th>\n",
       "      <th>cell type</th>\n",
       "      <th>nicknames</th>\n",
       "      <th>ubiquitousness index</th>\n",
       "      <th>product description</th>\n",
       "      <th>gene type</th>\n",
       "      <th>canonical marker</th>\n",
       "      <th>germ layer</th>\n",
       "      <th>organ</th>\n",
       "      <th>sensitivity_human</th>\n",
       "      <th>sensitivity_mouse</th>\n",
       "      <th>specificity_human</th>\n",
       "      <th>specificity_mouse</th>\n",
       "    </tr>\n",
       "  </thead>\n",
       "  <tbody>\n",
       "    <tr>\n",
       "      <th>0</th>\n",
       "      <td>CTRB1</td>\n",
       "      <td>Acinar cells</td>\n",
       "      <td>CTRB</td>\n",
       "      <td>0.017</td>\n",
       "      <td>chymotrypsinogen B1</td>\n",
       "      <td>protein-coding gene</td>\n",
       "      <td>1.0</td>\n",
       "      <td>Endoderm</td>\n",
       "      <td>Pancreas</td>\n",
       "      <td>1.000000</td>\n",
       "      <td>0.957143</td>\n",
       "      <td>0.000629</td>\n",
       "      <td>0.015920</td>\n",
       "    </tr>\n",
       "    <tr>\n",
       "      <th>1</th>\n",
       "      <td>KLK1</td>\n",
       "      <td>Acinar cells</td>\n",
       "      <td>Klk6</td>\n",
       "      <td>0.013</td>\n",
       "      <td>kallikrein 1</td>\n",
       "      <td>protein-coding gene</td>\n",
       "      <td>1.0</td>\n",
       "      <td>Endoderm</td>\n",
       "      <td>Pancreas</td>\n",
       "      <td>0.833333</td>\n",
       "      <td>0.314286</td>\n",
       "      <td>0.005031</td>\n",
       "      <td>0.012826</td>\n",
       "    </tr>\n",
       "    <tr>\n",
       "      <th>2</th>\n",
       "      <td>RBPJL</td>\n",
       "      <td>Acinar cells</td>\n",
       "      <td>RBP-L|SUHL|RBPSUHL</td>\n",
       "      <td>0.001</td>\n",
       "      <td>recombination signal binding protein for immun...</td>\n",
       "      <td>protein-coding gene</td>\n",
       "      <td>1.0</td>\n",
       "      <td>Endoderm</td>\n",
       "      <td>Pancreas</td>\n",
       "      <td>0.000000</td>\n",
       "      <td>0.000000</td>\n",
       "      <td>0.000000</td>\n",
       "      <td>0.000000</td>\n",
       "    </tr>\n",
       "    <tr>\n",
       "      <th>3</th>\n",
       "      <td>PTF1A</td>\n",
       "      <td>Acinar cells</td>\n",
       "      <td>PTF1-p48|bHLHa29</td>\n",
       "      <td>0.001</td>\n",
       "      <td>pancreas associated transcription factor 1a</td>\n",
       "      <td>protein-coding gene</td>\n",
       "      <td>1.0</td>\n",
       "      <td>Endoderm</td>\n",
       "      <td>Pancreas</td>\n",
       "      <td>0.000000</td>\n",
       "      <td>0.157143</td>\n",
       "      <td>0.000629</td>\n",
       "      <td>0.000773</td>\n",
       "    </tr>\n",
       "    <tr>\n",
       "      <th>5</th>\n",
       "      <td>CELA3A</td>\n",
       "      <td>Acinar cells</td>\n",
       "      <td>ELA3|ELA3A</td>\n",
       "      <td>0.001</td>\n",
       "      <td>chymotrypsin like elastase family member 3A</td>\n",
       "      <td>protein-coding gene</td>\n",
       "      <td>1.0</td>\n",
       "      <td>Endoderm</td>\n",
       "      <td>Pancreas</td>\n",
       "      <td>0.833333</td>\n",
       "      <td>0.128571</td>\n",
       "      <td>0.000000</td>\n",
       "      <td>0.000000</td>\n",
       "    </tr>\n",
       "  </tbody>\n",
       "</table>\n",
       "</div>"
      ],
      "text/plain": [
       "  official gene symbol     cell type           nicknames  \\\n",
       "0                CTRB1  Acinar cells                CTRB   \n",
       "1                 KLK1  Acinar cells                Klk6   \n",
       "2                RBPJL  Acinar cells  RBP-L|SUHL|RBPSUHL   \n",
       "3                PTF1A  Acinar cells    PTF1-p48|bHLHa29   \n",
       "5               CELA3A  Acinar cells          ELA3|ELA3A   \n",
       "\n",
       "   ubiquitousness index                                product description  \\\n",
       "0                 0.017                                chymotrypsinogen B1   \n",
       "1                 0.013                                       kallikrein 1   \n",
       "2                 0.001  recombination signal binding protein for immun...   \n",
       "3                 0.001        pancreas associated transcription factor 1a   \n",
       "5                 0.001        chymotrypsin like elastase family member 3A   \n",
       "\n",
       "             gene type  canonical marker germ layer     organ  \\\n",
       "0  protein-coding gene               1.0   Endoderm  Pancreas   \n",
       "1  protein-coding gene               1.0   Endoderm  Pancreas   \n",
       "2  protein-coding gene               1.0   Endoderm  Pancreas   \n",
       "3  protein-coding gene               1.0   Endoderm  Pancreas   \n",
       "5  protein-coding gene               1.0   Endoderm  Pancreas   \n",
       "\n",
       "   sensitivity_human  sensitivity_mouse  specificity_human  specificity_mouse  \n",
       "0           1.000000           0.957143           0.000629           0.015920  \n",
       "1           0.833333           0.314286           0.005031           0.012826  \n",
       "2           0.000000           0.000000           0.000000           0.000000  \n",
       "3           0.000000           0.157143           0.000629           0.000773  \n",
       "5           0.833333           0.128571           0.000000           0.000000  "
      ]
     },
     "execution_count": 8,
     "metadata": {},
     "output_type": "execute_result"
    }
   ],
   "source": [
    "markers_db=pd.read_csv(\"data/PanglaoDB_markers_27_Mar_2020.tsv.gz\",sep='\\t')\n",
    "markers_db=markers_db[markers_db['species'].str.contains('Hs')].drop(columns='species')\n",
    "markers_db.head()"
   ]
  },
  {
   "cell_type": "code",
   "execution_count": 9,
   "metadata": {},
   "outputs": [],
   "source": [
    "#markers_db[(markers_db['official gene symbol']=='FXDY2') |(markers_db['nicknames'].str.contains('FXDY2'))],'FXDY2' in exp_data_row"
   ]
  },
  {
   "cell_type": "markdown",
   "metadata": {},
   "source": [
    "## Marker info"
   ]
  },
  {
   "cell_type": "code",
   "execution_count": 10,
   "metadata": {},
   "outputs": [],
   "source": [
    "clustername_to_markers=pd.read_csv('data/koh_extract/koh.rho.tsv',sep='\\t').T"
   ]
  },
  {
   "cell_type": "code",
   "execution_count": 11,
   "metadata": {},
   "outputs": [
    {
     "data": {
      "text/html": [
       "<div>\n",
       "<style scoped>\n",
       "    .dataframe tbody tr th:only-of-type {\n",
       "        vertical-align: middle;\n",
       "    }\n",
       "\n",
       "    .dataframe tbody tr th {\n",
       "        vertical-align: top;\n",
       "    }\n",
       "\n",
       "    .dataframe thead th {\n",
       "        text-align: right;\n",
       "    }\n",
       "</style>\n",
       "<table border=\"1\" class=\"dataframe\">\n",
       "  <thead>\n",
       "    <tr style=\"text-align: right;\">\n",
       "      <th></th>\n",
       "      <th>ENSG00000008311</th>\n",
       "      <th>ENSG00000018625</th>\n",
       "      <th>ENSG00000019549</th>\n",
       "      <th>ENSG00000026025</th>\n",
       "      <th>ENSG00000039068</th>\n",
       "      <th>ENSG00000042493</th>\n",
       "      <th>ENSG00000053438</th>\n",
       "      <th>ENSG00000075340</th>\n",
       "      <th>ENSG00000079102</th>\n",
       "      <th>ENSG00000092068</th>\n",
       "      <th>...</th>\n",
       "      <th>ENSG00000240563</th>\n",
       "      <th>ENSG00000241186</th>\n",
       "      <th>ENSG00000243004</th>\n",
       "      <th>ENSG00000249532</th>\n",
       "      <th>ENSG00000250305</th>\n",
       "      <th>ENSG00000254277</th>\n",
       "      <th>ENSG00000254339</th>\n",
       "      <th>ENSG00000260342</th>\n",
       "      <th>ENSG00000260834</th>\n",
       "      <th>ENSG00000280623</th>\n",
       "    </tr>\n",
       "  </thead>\n",
       "  <tbody>\n",
       "    <tr>\n",
       "      <th>hESC</th>\n",
       "      <td>1</td>\n",
       "      <td>1</td>\n",
       "      <td>0</td>\n",
       "      <td>0</td>\n",
       "      <td>1</td>\n",
       "      <td>1</td>\n",
       "      <td>0</td>\n",
       "      <td>1</td>\n",
       "      <td>1</td>\n",
       "      <td>1</td>\n",
       "      <td>...</td>\n",
       "      <td>1</td>\n",
       "      <td>1</td>\n",
       "      <td>1</td>\n",
       "      <td>1</td>\n",
       "      <td>0</td>\n",
       "      <td>1</td>\n",
       "      <td>1</td>\n",
       "      <td>1</td>\n",
       "      <td>1</td>\n",
       "      <td>0</td>\n",
       "    </tr>\n",
       "    <tr>\n",
       "      <th>APS</th>\n",
       "      <td>0</td>\n",
       "      <td>0</td>\n",
       "      <td>1</td>\n",
       "      <td>0</td>\n",
       "      <td>1</td>\n",
       "      <td>1</td>\n",
       "      <td>0</td>\n",
       "      <td>1</td>\n",
       "      <td>1</td>\n",
       "      <td>1</td>\n",
       "      <td>...</td>\n",
       "      <td>1</td>\n",
       "      <td>1</td>\n",
       "      <td>1</td>\n",
       "      <td>1</td>\n",
       "      <td>1</td>\n",
       "      <td>1</td>\n",
       "      <td>1</td>\n",
       "      <td>1</td>\n",
       "      <td>1</td>\n",
       "      <td>0</td>\n",
       "    </tr>\n",
       "    <tr>\n",
       "      <th>MPS</th>\n",
       "      <td>0</td>\n",
       "      <td>0</td>\n",
       "      <td>1</td>\n",
       "      <td>0</td>\n",
       "      <td>1</td>\n",
       "      <td>1</td>\n",
       "      <td>0</td>\n",
       "      <td>1</td>\n",
       "      <td>1</td>\n",
       "      <td>1</td>\n",
       "      <td>...</td>\n",
       "      <td>1</td>\n",
       "      <td>1</td>\n",
       "      <td>1</td>\n",
       "      <td>1</td>\n",
       "      <td>1</td>\n",
       "      <td>1</td>\n",
       "      <td>1</td>\n",
       "      <td>1</td>\n",
       "      <td>1</td>\n",
       "      <td>1</td>\n",
       "    </tr>\n",
       "    <tr>\n",
       "      <th>DLL1pPXM</th>\n",
       "      <td>0</td>\n",
       "      <td>1</td>\n",
       "      <td>1</td>\n",
       "      <td>1</td>\n",
       "      <td>1</td>\n",
       "      <td>1</td>\n",
       "      <td>0</td>\n",
       "      <td>1</td>\n",
       "      <td>0</td>\n",
       "      <td>1</td>\n",
       "      <td>...</td>\n",
       "      <td>0</td>\n",
       "      <td>0</td>\n",
       "      <td>1</td>\n",
       "      <td>0</td>\n",
       "      <td>1</td>\n",
       "      <td>0</td>\n",
       "      <td>0</td>\n",
       "      <td>1</td>\n",
       "      <td>1</td>\n",
       "      <td>0</td>\n",
       "    </tr>\n",
       "    <tr>\n",
       "      <th>ESMT</th>\n",
       "      <td>0</td>\n",
       "      <td>1</td>\n",
       "      <td>1</td>\n",
       "      <td>1</td>\n",
       "      <td>1</td>\n",
       "      <td>1</td>\n",
       "      <td>1</td>\n",
       "      <td>1</td>\n",
       "      <td>1</td>\n",
       "      <td>1</td>\n",
       "      <td>...</td>\n",
       "      <td>0</td>\n",
       "      <td>0</td>\n",
       "      <td>1</td>\n",
       "      <td>0</td>\n",
       "      <td>1</td>\n",
       "      <td>0</td>\n",
       "      <td>0</td>\n",
       "      <td>1</td>\n",
       "      <td>1</td>\n",
       "      <td>0</td>\n",
       "    </tr>\n",
       "    <tr>\n",
       "      <th>Sclrtm</th>\n",
       "      <td>0</td>\n",
       "      <td>1</td>\n",
       "      <td>1</td>\n",
       "      <td>1</td>\n",
       "      <td>0</td>\n",
       "      <td>0</td>\n",
       "      <td>0</td>\n",
       "      <td>0</td>\n",
       "      <td>1</td>\n",
       "      <td>0</td>\n",
       "      <td>...</td>\n",
       "      <td>0</td>\n",
       "      <td>0</td>\n",
       "      <td>0</td>\n",
       "      <td>0</td>\n",
       "      <td>1</td>\n",
       "      <td>0</td>\n",
       "      <td>0</td>\n",
       "      <td>0</td>\n",
       "      <td>0</td>\n",
       "      <td>0</td>\n",
       "    </tr>\n",
       "    <tr>\n",
       "      <th>D5CntrlDrmmtm</th>\n",
       "      <td>0</td>\n",
       "      <td>1</td>\n",
       "      <td>1</td>\n",
       "      <td>1</td>\n",
       "      <td>0</td>\n",
       "      <td>1</td>\n",
       "      <td>0</td>\n",
       "      <td>1</td>\n",
       "      <td>1</td>\n",
       "      <td>1</td>\n",
       "      <td>...</td>\n",
       "      <td>0</td>\n",
       "      <td>0</td>\n",
       "      <td>0</td>\n",
       "      <td>0</td>\n",
       "      <td>1</td>\n",
       "      <td>0</td>\n",
       "      <td>0</td>\n",
       "      <td>1</td>\n",
       "      <td>1</td>\n",
       "      <td>0</td>\n",
       "    </tr>\n",
       "    <tr>\n",
       "      <th>D2LtM</th>\n",
       "      <td>0</td>\n",
       "      <td>1</td>\n",
       "      <td>1</td>\n",
       "      <td>1</td>\n",
       "      <td>1</td>\n",
       "      <td>1</td>\n",
       "      <td>0</td>\n",
       "      <td>1</td>\n",
       "      <td>1</td>\n",
       "      <td>1</td>\n",
       "      <td>...</td>\n",
       "      <td>0</td>\n",
       "      <td>0</td>\n",
       "      <td>1</td>\n",
       "      <td>0</td>\n",
       "      <td>1</td>\n",
       "      <td>0</td>\n",
       "      <td>0</td>\n",
       "      <td>1</td>\n",
       "      <td>1</td>\n",
       "      <td>0</td>\n",
       "    </tr>\n",
       "  </tbody>\n",
       "</table>\n",
       "<p>8 rows × 84 columns</p>\n",
       "</div>"
      ],
      "text/plain": [
       "               ENSG00000008311  ENSG00000018625  ENSG00000019549  \\\n",
       "hESC                         1                1                0   \n",
       "APS                          0                0                1   \n",
       "MPS                          0                0                1   \n",
       "DLL1pPXM                     0                1                1   \n",
       "ESMT                         0                1                1   \n",
       "Sclrtm                       0                1                1   \n",
       "D5CntrlDrmmtm                0                1                1   \n",
       "D2LtM                        0                1                1   \n",
       "\n",
       "               ENSG00000026025  ENSG00000039068  ENSG00000042493  \\\n",
       "hESC                         0                1                1   \n",
       "APS                          0                1                1   \n",
       "MPS                          0                1                1   \n",
       "DLL1pPXM                     1                1                1   \n",
       "ESMT                         1                1                1   \n",
       "Sclrtm                       1                0                0   \n",
       "D5CntrlDrmmtm                1                0                1   \n",
       "D2LtM                        1                1                1   \n",
       "\n",
       "               ENSG00000053438  ENSG00000075340  ENSG00000079102  \\\n",
       "hESC                         0                1                1   \n",
       "APS                          0                1                1   \n",
       "MPS                          0                1                1   \n",
       "DLL1pPXM                     0                1                0   \n",
       "ESMT                         1                1                1   \n",
       "Sclrtm                       0                0                1   \n",
       "D5CntrlDrmmtm                0                1                1   \n",
       "D2LtM                        0                1                1   \n",
       "\n",
       "               ENSG00000092068  ...  ENSG00000240563  ENSG00000241186  \\\n",
       "hESC                         1  ...                1                1   \n",
       "APS                          1  ...                1                1   \n",
       "MPS                          1  ...                1                1   \n",
       "DLL1pPXM                     1  ...                0                0   \n",
       "ESMT                         1  ...                0                0   \n",
       "Sclrtm                       0  ...                0                0   \n",
       "D5CntrlDrmmtm                1  ...                0                0   \n",
       "D2LtM                        1  ...                0                0   \n",
       "\n",
       "               ENSG00000243004  ENSG00000249532  ENSG00000250305  \\\n",
       "hESC                         1                1                0   \n",
       "APS                          1                1                1   \n",
       "MPS                          1                1                1   \n",
       "DLL1pPXM                     1                0                1   \n",
       "ESMT                         1                0                1   \n",
       "Sclrtm                       0                0                1   \n",
       "D5CntrlDrmmtm                0                0                1   \n",
       "D2LtM                        1                0                1   \n",
       "\n",
       "               ENSG00000254277  ENSG00000254339  ENSG00000260342  \\\n",
       "hESC                         1                1                1   \n",
       "APS                          1                1                1   \n",
       "MPS                          1                1                1   \n",
       "DLL1pPXM                     0                0                1   \n",
       "ESMT                         0                0                1   \n",
       "Sclrtm                       0                0                0   \n",
       "D5CntrlDrmmtm                0                0                1   \n",
       "D2LtM                        0                0                1   \n",
       "\n",
       "               ENSG00000260834  ENSG00000280623  \n",
       "hESC                         1                0  \n",
       "APS                          1                0  \n",
       "MPS                          1                1  \n",
       "DLL1pPXM                     1                0  \n",
       "ESMT                         1                0  \n",
       "Sclrtm                       0                0  \n",
       "D5CntrlDrmmtm                1                0  \n",
       "D2LtM                        1                0  \n",
       "\n",
       "[8 rows x 84 columns]"
      ]
     },
     "execution_count": 11,
     "metadata": {},
     "output_type": "execute_result"
    }
   ],
   "source": [
    "clustername_to_markers"
   ]
  },
  {
   "cell_type": "code",
   "execution_count": 12,
   "metadata": {},
   "outputs": [
    {
     "data": {
      "text/plain": [
       "(27, 50)"
      ]
     },
     "execution_count": 12,
     "metadata": {},
     "output_type": "execute_result"
    }
   ],
   "source": [
    "len(clustername_to_markers.loc[['Sclrtm','D5CntrlDrmmtm']].T.iloc[:,1][clustername_to_markers.loc[['Sclrtm','D5CntrlDrmmtm']].T.iloc[:,1]==1].index.intersection(\n",
    "    clustername_to_markers.loc[['Sclrtm','D5CntrlDrmmtm']].T.iloc[:,0][clustername_to_markers.loc[['Sclrtm','D5CntrlDrmmtm']].T.iloc[:,0]==1].index\n",
    ")),len(clustername_to_markers.loc[['Sclrtm','D5CntrlDrmmtm']].T.iloc[:,1][clustername_to_markers.loc[['Sclrtm','D5CntrlDrmmtm']].T.iloc[:,1]==1].index)"
   ]
  },
  {
   "cell_type": "code",
   "execution_count": 13,
   "metadata": {},
   "outputs": [],
   "source": [
    "clustername_unique=list(clustername_to_markers.index)\n",
    "exp_data_meta_clusterid_clusteridunique=exp_data_meta['celltype'].apply(lambda x: clustername_unique.index(x))"
   ]
  },
  {
   "cell_type": "code",
   "execution_count": 14,
   "metadata": {},
   "outputs": [],
   "source": [
    "marker_unique=list(clustername_to_markers.columns)\n",
    "marker_unique_exp_data_idx=[exp_data_row.index(marker) for marker in marker_unique]"
   ]
  },
  {
   "cell_type": "code",
   "execution_count": 15,
   "metadata": {},
   "outputs": [],
   "source": [
    "pi_true=np.array([np.sum(exp_data_meta_clusterid_clusteridunique==i) for i in sorted(np.unique(exp_data_meta_clusterid_clusteridunique))])/exp_data_meta_clusterid_clusteridunique.shape[0]\n",
    "M_true=np.array([np.mean(exp_data[marker_unique_exp_data_idx,:][:,exp_data_meta_clusterid_clusteridunique==i],axis=1) for i in sorted(np.unique(exp_data_meta_clusterid_clusteridunique))])"
   ]
  },
  {
   "cell_type": "code",
   "execution_count": 16,
   "metadata": {},
   "outputs": [
    {
     "data": {
      "text/plain": [
       "(446,)"
      ]
     },
     "execution_count": 16,
     "metadata": {},
     "output_type": "execute_result"
    }
   ],
   "source": [
    "cell_size_factor=pd.read_csv('data/analysis/koh.size_factor_cluster.tsv',sep='\\t',header=None)[0].values.astype(float)#.reshape(-1,1)\n",
    "#cell_size_factor=np.ones_like(cell_size_factor)\n",
    "cell_size_factor.shape"
   ]
  },
  {
   "cell_type": "code",
   "execution_count": 17,
   "metadata": {},
   "outputs": [
    {
     "data": {
      "text/plain": [
       "(446, 84)"
      ]
     },
     "execution_count": 17,
     "metadata": {},
     "output_type": "execute_result"
    }
   ],
   "source": [
    "Y=exp_data[marker_unique_exp_data_idx].transpose().astype(float)\n",
    "Y.shape"
   ]
  },
  {
   "cell_type": "code",
   "execution_count": 18,
   "metadata": {},
   "outputs": [],
   "source": [
    "#marker_onehot=np.array([np.sum(np.eye(len(marker_unique))[[marker_unique.tolist().index(marker) for marker in value]],axis=0) for key,value in clustername_to_markers.items()])\n",
    "#marker_onehot.shape\n",
    "#marker_onehot.T\n",
    "marker_onehot=clustername_to_markers"
   ]
  },
  {
   "cell_type": "code",
   "execution_count": 19,
   "metadata": {},
   "outputs": [
    {
     "data": {
      "text/plain": [
       "(446, 1)"
      ]
     },
     "execution_count": 19,
     "metadata": {},
     "output_type": "execute_result"
    }
   ],
   "source": [
    "#exp_data_col_patient=pd.Series(exp_data_col).str.slice(start=1,stop=2).astype(int).values\n",
    "#x_data_covariate=np.eye(len(np.unique(exp_data_col_patient)))[exp_data_col_patient-1]\n",
    "x_data_intercept=np.array([np.ones(Y.shape[0])]).transpose()\n",
    "x_data_null=np.concatenate([x_data_intercept],axis=1)\n",
    "x_data_null.shape"
   ]
  },
  {
   "cell_type": "code",
   "execution_count": 20,
   "metadata": {},
   "outputs": [
    {
     "data": {
      "text/plain": [
       "(446, 1)"
      ]
     },
     "execution_count": 20,
     "metadata": {},
     "output_type": "execute_result"
    }
   ],
   "source": [
    "# Asuume that the following variables are initialized\n",
    "\n",
    "# Input\n",
    "Y\n",
    "s=cell_size_factor\n",
    "#X=x_data_null.copy()[:,[0, 1,2,3,4]]\n",
    "#X=x_data_null.copy()[:,[0, 1,2]]\n",
    "#X=x_data_null.copy()[:,[0,1,2,3]]\n",
    "X=x_data_null.copy()#[:,[0,1,2]]\n",
    "# 234 x\n",
    "# 34 x\n",
    "# 123 x\n",
    "rho=marker_onehot\n",
    "\n",
    "delta_min=2\n",
    "B=10\n",
    "LR=1e-1\n",
    "\n",
    "# Optional\n",
    "EM_ITER_MAX=20\n",
    "M_ITER_MAX=10000\n",
    "\n",
    "BATCH_SIZE=Y.shape[0]\n",
    "NUM_WORKERS=0\n",
    "\n",
    "LOWER_BOUND=1e-10\n",
    "THETA_LOWER_BOUND=1e-20\n",
    "\n",
    "\n",
    "Q_diff_tolerance=1e-4\n",
    "LL_diff_tolerance=1e-4\n",
    "X.shape"
   ]
  },
  {
   "cell_type": "code",
   "execution_count": 21,
   "metadata": {},
   "outputs": [],
   "source": [
    "import math\n",
    "import numpy as np\n",
    "\n",
    "import torch\n",
    "import torch.nn.functional as F\n",
    "import torch.nn as nn\n",
    "import torch.optim as optim\n",
    "import torch.nn.init as init\n",
    "from torch.nn.parameter import Parameter\n",
    "\n",
    "from torch.utils.data import Dataset\n",
    "from torch.utils.data import DataLoader"
   ]
  },
  {
   "cell_type": "code",
   "execution_count": 22,
   "metadata": {},
   "outputs": [],
   "source": [
    "torch.set_default_dtype(torch.float64) "
   ]
  },
  {
   "cell_type": "code",
   "execution_count": 23,
   "metadata": {},
   "outputs": [],
   "source": [
    "device_cpu=torch.device(\"cpu\")\n",
    "device_cuda_list=[torch.device(\"cuda:{}\".format(i)) for i in range(6)][::-1]"
   ]
  },
  {
   "cell_type": "code",
   "execution_count": 24,
   "metadata": {},
   "outputs": [],
   "source": [
    "#from basic_tools import Cell_Dataset,Masked\n",
    "class Masked_Function(torch.autograd.Function):\n",
    "    @staticmethod\n",
    "    def forward(ctx, input, mask):\n",
    "        #print('aaaa')\n",
    "        output=input\n",
    "        ctx.save_for_backward(input, mask)\n",
    "        return output\n",
    "\n",
    "    @staticmethod\n",
    "    def backward(ctx, grad_output):\n",
    "        input, mask = ctx.saved_tensors\n",
    "        grad_input = grad_mask = None\n",
    "        if ctx.needs_input_grad[0]:\n",
    "            grad_input = grad_output.mul(mask)\n",
    "\n",
    "        return grad_input, grad_mask\n",
    "    \n",
    "class Masked(nn.Module):    \n",
    "    def __init__(self, mask):    \n",
    "        super(Masked, self).__init__()\n",
    "        \n",
    "        self.mask = nn.Parameter(torch.Tensor(mask)==1, requires_grad=False)    \n",
    "        \n",
    "        \n",
    "    def forward(self, input):\n",
    "        return Masked_Function.apply(input, self.mask)\n",
    "\n",
    "    def extra_repr(self):\n",
    "        return 'mask={}'.format(self.mask.shape)  "
   ]
  },
  {
   "cell_type": "code",
   "execution_count": 25,
   "metadata": {},
   "outputs": [],
   "source": [
    "import math\n",
    "class NB_logprob(nn.Module):\n",
    "    def __init__(self):\n",
    "        super(NB_logprob,self).__init__()\n",
    "        \n",
    "    def forward(self,total_count,probs,value):\n",
    "        \n",
    "        #eps = torch.finfo(probs.dtype).eps\n",
    "        #probs_clamped=probs.clamp(min=eps, max=1 - eps)        \n",
    "        probs_clamped=probs\n",
    "        logits=torch.log(probs_clamped) - torch.log1p(-probs_clamped)\n",
    "        #logits=torch.log(probs_clamped)\n",
    "        \n",
    "        log_unnormalized_prob = (total_count * F.logsigmoid(-logits) +\n",
    "                                 value * F.logsigmoid(logits))\n",
    "        log_normalization = (-torch.lgamma(total_count + value) + torch.lgamma(1. + value) +\n",
    "                             torch.lgamma(total_count))\n",
    "\n",
    "        return log_unnormalized_prob - log_normalization\n",
    "    \n",
    "class Normal_logprob(nn.Module):\n",
    "    def __init__(self):\n",
    "        super(Normal_logprob,self).__init__()\n",
    "        \n",
    "    def forward(self,loc,scale,value):\n",
    "    \n",
    "        var = (scale ** 2)\n",
    "        log_scale = torch.log(scale)\n",
    "        \n",
    "        \n",
    "        #print(loc.shape,scale.shape,value.shape)\n",
    "        return -((value - loc) ** 2) / (2 * var) - log_scale - math.log(math.sqrt(2 * math.pi))    \n",
    "        #return log_scale\n",
    "        \n",
    "class Poisson_logprob(nn.Module):\n",
    "    def __init__(self):\n",
    "        super(Poisson_logprob,self).__init__()\n",
    "        \n",
    "    def forward(self,rate,value):\n",
    "        #rate=rate.clamp(min=1e-3)+(-1)/rate.clamp(max=-1e-5)\n",
    "        \n",
    "        return (rate.log() * value) - rate - (value + 1).lgamma()\n",
    "    \n",
    "class Dirichlet_logprob(nn.Module):\n",
    "    def __init__(self):\n",
    "        super(Dirichlet_logprob,self).__init__()\n",
    "        \n",
    "    def forward(self,concentration,value):\n",
    "        \n",
    "        return ((torch.log(value) * (concentration - 1.0)).sum(-1) +\n",
    "                torch.lgamma(concentration.sum(-1)) -\n",
    "                torch.lgamma(concentration).sum(-1))\n",
    "    \n",
    "        \n",
    "NB_logprob=NB_logprob()        \n",
    "normal_logprob=Normal_logprob()\n",
    "poisson_logprob=Poisson_logprob()\n",
    "dirichlet_logprob=Dirichlet_logprob()"
   ]
  },
  {
   "cell_type": "code",
   "execution_count": 26,
   "metadata": {},
   "outputs": [],
   "source": [
    "class Cell_Dataset(Dataset):\n",
    "    def __init__(self,Y,X,s):\n",
    "        self.Y=Y\n",
    "        self.X=X\n",
    "        self.s=s\n",
    "        \n",
    "    def __len__(self):\n",
    "        return self.Y.shape[0]\n",
    "    \n",
    "    def __getitem__(self,idx):\n",
    "        item= {\"Y\":self.Y[idx,:],\"X\":self.X[idx,:],\"s\":self.s[idx]}\n",
    "        return item  "
   ]
  },
  {
   "cell_type": "code",
   "execution_count": 27,
   "metadata": {},
   "outputs": [],
   "source": [
    "def run_EM(model,optimizer,LL_diff_tolerance,Q_diff_tolerance):\n",
    "    global gamma_new,Q_new,LL_new\n",
    "    \n",
    "    print('Start time:',datetime.datetime.now().strftime('%Y-%m-%d %H:%M:%S'))\n",
    "    \n",
    "    with torch.no_grad():\n",
    "        for batch_idx,batch in enumerate(cell_dataloader):\n",
    "            batch_Y=batch['Y'].to(device)\n",
    "            batch_X=batch['X'].to(device)\n",
    "            batch_s=batch['s'].to(device)\n",
    "        gamma_fixed,_,LL_old=model(batch_Y,batch_X,batch_s,gamma_fixed=None,mode='LL')\n",
    "        _,Q_old,_=model(batch_Y,batch_X,batch_s,gamma_fixed=gamma_fixed,mode='M')\n",
    "\n",
    "    print(LL_old)\n",
    "    print(Q_old)\n",
    "\n",
    "    for em_idx in range(EM_ITER_MAX):#\n",
    "        #optimizer = optim.Adam(model.parameters(),lr=0.1,eps=1e-3,betas=(0.9,0.999))\n",
    "        LL_new=torch.zeros_like(LL_old)\n",
    "        #optimizer = optim.Adam(model.parameters(),lr=LR)\n",
    "        for batch_idx,batch in enumerate(cell_dataloader):\n",
    "            # It is usually just one iteration(batch).\n",
    "            # However, developer of cellAssign may have done this for extreme situation of larse sample size\n",
    "            batch_Y=batch['Y'].to(device)\n",
    "            batch_X=batch['X'].to(device)\n",
    "            batch_s=batch['s'].to(device)\n",
    "\n",
    "            #############\n",
    "            #E-step\n",
    "            ######### ####\n",
    "            with torch.no_grad():\n",
    "                gamma_new,_,_=model(batch_Y,batch_X,batch_s,gamma_fixed=None,mode='E')\n",
    "\n",
    "            #############\n",
    "            #M-step\n",
    "            #############\n",
    "            for m_idx in range(M_ITER_MAX):#\n",
    "            #for m_idx in range(20):#    \n",
    "                optimizer.zero_grad()\n",
    "                _,Q_new,_=model(batch_Y,batch_X,batch_s,gamma_fixed=gamma_new,mode='M')\n",
    "                Q_new.backward()\n",
    "                optimizer.step()\n",
    "                \n",
    "                #Constraint\n",
    "                model.delta_log.data=model.delta_log.data.clamp(min=model.delta_log_min)\n",
    "                #model.NB_basis_a.data=model.NB_basis_a.data.clamp(min=0)\n",
    "\n",
    "                if m_idx%20==0:\n",
    "                    #print(sorted(model.delta_log.cpu().detach().numpy().flatten())[-10:])\n",
    "                    Q_diff=(Q_old-Q_new)/torch.abs(Q_old)\n",
    "                    Q_old=Q_new\n",
    "                    print('M: {}, Q: {} Q_diff: {}'.format(m_idx,Q_new,Q_diff))    \n",
    "                    if m_idx>0 and torch.abs(Q_diff)<Q_diff_tolerance:\n",
    "                        print('M break')\n",
    "                        break                \n",
    "            #############\n",
    "            #Look at LL\n",
    "            #############\n",
    "            with torch.no_grad():\n",
    "                _,_,LL_temp=model(batch_Y,batch_X,batch_s,gamma_fixed=None,mode='LL')\n",
    "                LL_new+=LL_temp\n",
    "\n",
    "        LL_diff=(LL_new-LL_old)/torch.abs(LL_old)\n",
    "        LL_old=LL_new\n",
    "        print('EM: {}, LL: {} LL_diff: {}'.format(em_idx,LL_new,LL_diff))\n",
    "        if LL_diff<LL_diff_tolerance:\n",
    "            print('EM break')\n",
    "            break\n",
    "    print('End time:',datetime.datetime.now().strftime('%Y-%m-%d %H:%M:%S'))    \n",
    "    return gamma_new,Q_new,LL_new"
   ]
  },
  {
   "cell_type": "code",
   "execution_count": 47,
   "metadata": {},
   "outputs": [],
   "source": [
    "def run_EM_trick(model,optimizer,LL_diff_tolerance,Q_diff_tolerance,verbose=True):\n",
    "    global gamma_new,LL_new\n",
    "    \n",
    "    if verbose:\n",
    "        print('Start time:',datetime.datetime.now().strftime('%Y-%m-%d %H:%M:%S'))\n",
    "    \n",
    "    with torch.no_grad():\n",
    "        for batch_idx,batch in enumerate(cell_dataloader):\n",
    "            batch_Y=batch['Y'].to(device)\n",
    "            batch_X=batch['X'].to(device)\n",
    "            batch_s=batch['s'].to(device)    \n",
    "        LL_old=model(batch_Y,batch_X,batch_s)\n",
    "        Q_old=LL_old\n",
    "    if verbose:\n",
    "        print(LL_old)\n",
    "\n",
    "    for em_idx in range(EM_ITER_MAX):#\n",
    "        #optimizer = optim.Adam(model.parameters(),lr=0.1,eps=1e-3,betas=(0.9,0.999))\n",
    "        LL_new=torch.zeros_like(LL_old)\n",
    "        #optimizer = optim.Adam(model.parameters(),lr=LR)\n",
    "        for batch_idx,batch in enumerate(cell_dataloader):\n",
    "            # It is usually just one iteration(batch).\n",
    "            # However, developer of cellAssign may have done this for extreme situation of larse sample size\n",
    "            batch_Y=batch['Y'].to(device)\n",
    "            batch_X=batch['X'].to(device)\n",
    "            batch_s=batch['s'].to(device)\n",
    "\n",
    "            #############\n",
    "            #M-step\n",
    "            #############\n",
    "            for m_idx in range(M_ITER_MAX):#\n",
    "            #for m_idx in range(20):#    \n",
    "                optimizer.zero_grad()\n",
    "                Q_new=-model(batch_Y,batch_X,batch_s)\n",
    "                Q_new.backward()\n",
    "                optimizer.step()\n",
    "                \n",
    "                #Constraint\n",
    "                model.delta_log.data=model.delta_log.data.clamp(min=model.delta_log_min)\n",
    "                #model.NB_basis_a.data=model.NB_basis_a.data.clamp(min=0)\n",
    "\n",
    "                if m_idx%20==0:\n",
    "                    #print(sorted(model.delta_log.cpu().detach().numpy().flatten())[-10:])\n",
    "                    Q_diff=(Q_old-Q_new)/torch.abs(Q_old)\n",
    "                    Q_old=Q_new\n",
    "                    if verbose:\n",
    "                        print('M: {}, Q: {} Q_diff: {}'.format(m_idx,Q_new,Q_diff))    \n",
    "                    if m_idx>0 and torch.abs(Q_diff)<(Q_diff_tolerance):\n",
    "                        if verbose:\n",
    "                            print('M break')\n",
    "                        break                \n",
    "            #############\n",
    "            #Look at LL\n",
    "            #############\n",
    "            with torch.no_grad():\n",
    "                LL_temp=-Q_new\n",
    "                LL_new+=LL_temp\n",
    "\n",
    "        LL_diff=(LL_new-LL_old)/torch.abs(LL_old)\n",
    "        LL_old=LL_new\n",
    "        if verbose:\n",
    "            print('EM: {}, LL: {} LL_diff: {}'.format(em_idx,LL_new,LL_diff))\n",
    "        if LL_diff<LL_diff_tolerance:\n",
    "            if verbose:\n",
    "                print('EM break')\n",
    "            break\n",
    "    if verbose:\n",
    "        print('End time:',datetime.datetime.now().strftime('%Y-%m-%d %H:%M:%S'))    \n",
    "    \n",
    "    with torch.no_grad():\n",
    "        gamma_new=Poisson_Function.apply(batch_Y,batch_X,batch_s,model.delta_log,model.beta,model.masked.mask,'gamma')\n",
    "    return gamma_new,Q_new,LL_new"
   ]
  },
  {
   "cell_type": "code",
   "execution_count": 54,
   "metadata": {},
   "outputs": [],
   "source": [
    "import torch\n",
    "import torch.nn as nn\n",
    "import torch.nn.functional as F\n",
    "\n",
    "from torch.distributions.negative_binomial import NegativeBinomial\n",
    "from torch.distributions.normal import Normal\n",
    "from torch.distributions.dirichlet import Dirichlet\n",
    "\n",
    "class Custom_Model(nn.Module):\n",
    "    def __init__(self,Y,rho,X_col=5,delta_min=2,LOWER_BOUND=1e-10,THETA_LOWER_BOUND=1e-20):\n",
    "        # Y,rho are needed for model parameter initialization\n",
    "        super(Custom_Model, self).__init__()\n",
    "        \n",
    "        #rho\n",
    "        self.masked=Masked(rho)\n",
    "         \n",
    "        #delta\n",
    "        self.delta_log_min=np.log(delta_min) #\n",
    "        self.delta_log=nn.Parameter(torch.Tensor(np.random.uniform(-2,2,size=rho.shape)),requires_grad=True) # (C,G)\n",
    "        self.delta_log.data=self.delta_log.data.clamp(min=self.delta_log_min)\n",
    "          \n",
    "        \n",
    "        #beta\n",
    "        Y_colmean=np.mean(Y,axis=0)\n",
    "        beta_init=np.hstack([((Y_colmean-Y_colmean.mean())/np.std(Y_colmean)).reshape(-1,1),\\\n",
    "                     np.zeros((Y.shape[1],X_col-1))]).T\n",
    "        self.beta=nn.Parameter(torch.Tensor(beta_init),requires_grad=True) # (P,G)\n",
    "        \n",
    "        \n",
    "    def forward(self,Y,X,s,gamma_fixed=None,mode='E'):\n",
    "        delta_log_masked=self.masked(self.delta_log) #(C,G)\n",
    "        delta=torch.exp(delta_log_masked)*self.masked.mask\n",
    "        \n",
    "        X_beta_s=X.matmul(self.beta)+torch.log(s.view(-1, 1)) #(N,P)*(P,G) + (N,1) = (N,G)\n",
    "        \n",
    "        mu_log=X_beta_s.unsqueeze(dim=1).repeat(1,delta.shape[0],1)+delta #(N,1,G)+(C,G) = (N,C,G)\n",
    "        \n",
    "        mu=torch.exp(mu_log) # (N,C,G)\n",
    "        \n",
    "        #Y_extend=Y.view(Y.shape[0],1,Y.shape[1]).repeat(1,mu_log.shape[1],1) # (N,C,G)\n",
    "        Y_extend=Y.unsqueeze(dim=1).repeat(1,mu_log.shape[1],1)\n",
    "        \n",
    "        # Poisson\n",
    "        Y_logprob=poisson_logprob(rate=mu,value=Y_extend) # (N,C,G)\n",
    "\n",
    "        Y_logprob_reduce=torch.sum(Y_logprob,axis=2)\n",
    "        \n",
    "        Y_logprob_reduce_reduce=torch.logsumexp(Y_logprob_reduce,dim=1).view(-1,1) # (N,1)\n",
    "        \n",
    "        gamma=torch.exp(Y_logprob_reduce-Y_logprob_reduce_reduce) # (N,C)\n",
    "\n",
    "        if mode=='E':\n",
    "            return gamma,None,None\n",
    "        elif mode=='M' or mode=='LL':\n",
    "            if mode=='M':\n",
    "                Q=-torch.sum(gamma_fixed*Y_logprob_reduce) # (N,C) (N,C)\n",
    "                return gamma,Q,None\n",
    "            elif mode=='LL':      \n",
    "                LL=torch.sum(Y_logprob_reduce_reduce) # product of likelihood(y_i)-> (1) \n",
    "                return gamma,None,LL\n",
    "        else:\n",
    "            raise          \n",
    "            \n",
    "class Poisson_Function(torch.autograd.Function):\n",
    "    @staticmethod\n",
    "    def forward(ctx, Y, X, s, delta_log, beta, mask,to_return='LL'):\n",
    "\n",
    "        with torch.no_grad():\n",
    "            #mu=torch.exp((X.matmul(beta)+torch.log(s.view(-1, 1))).unsqueeze(dim=1).repeat(1,delta_log.shape[0],1)+torch.exp(delta_log))\n",
    "            mu=torch.exp((X.matmul(beta)+torch.log(s.view(-1, 1))).unsqueeze(dim=1).repeat(1,delta_log.shape[0],1)+torch.exp(delta_log)*mask)\n",
    "            Y_extend=Y.unsqueeze(dim=1).repeat(1,mu.shape[1],1)\n",
    "            Y_logprob=poisson_logprob(rate=mu,value=Y_extend) # (N,C,G)\n",
    "            Y_logprob_reduce=Y_logprob.sum(axis=2)\n",
    "            \n",
    "            Y_logprob_reduce_reduce=torch.logsumexp(Y_logprob_reduce,dim=1).view(-1,1)\n",
    "            \n",
    "            LL=torch.sum(Y_logprob_reduce_reduce)\n",
    "            \n",
    "            gamma=torch.exp(Y_logprob_reduce-Y_logprob_reduce_reduce)\n",
    "            A=mu-Y.unsqueeze(dim=1)        \n",
    "            \n",
    "            #gradient\n",
    "            grad_delta_log=(A*gamma.unsqueeze(dim=2)).sum(axis=0)\n",
    "            grad_beta=(X.unsqueeze(dim=2)@gamma.unsqueeze(dim=1)@A).sum(axis=0)\n",
    "        \n",
    "            ctx.save_for_backward(grad_delta_log,grad_beta)\n",
    "            \n",
    "        if to_return=='LL':\n",
    "            return LL\n",
    "        else:\n",
    "            return gamma\n",
    "            \n",
    "\n",
    "    @staticmethod\n",
    "    def backward(ctx, grad_output):\n",
    "        \n",
    "        grad_Y = grad_X = grad_s = grad_delta_log = grad_beta = grad_mask=None\n",
    "        grad_delta_log,grad_beta = ctx.saved_tensors\n",
    "\n",
    "        return grad_Y, grad_X, grad_s, grad_delta_log, grad_beta, grad_mask            \n",
    "            \n",
    "class Custom_Model_Trick(nn.Module):\n",
    "    def __init__(self,Y,rho,X_col=5,delta_min=2,LOWER_BOUND=1e-10,THETA_LOWER_BOUND=1e-20):\n",
    "        # Y,rho are needed for model parameter initialization\n",
    "        super(Custom_Model_Trick, self).__init__()\n",
    "        \n",
    "        #rho\n",
    "        self.masked=Masked(rho)\n",
    "         \n",
    "        #delta\n",
    "        self.delta_log_min=np.log(delta_min) #\n",
    "        self.delta_log=nn.Parameter(torch.Tensor(np.random.uniform(-2,2,size=rho.shape)),requires_grad=True) # (C,G)\n",
    "        self.delta_log.data=self.delta_log.data.clamp(min=self.delta_log_min)\n",
    "          \n",
    "        #beta\n",
    "        Y_colmean=np.mean(Y,axis=0)\n",
    "        beta_init=np.hstack([((Y_colmean-Y_colmean.mean())/(np.std(Y_colmean) if len(Y_colmean)>1 else 1)).reshape(-1,1),\\\n",
    "                     np.zeros((Y.shape[1],X_col-1))]).T\n",
    "        self.beta=nn.Parameter(torch.Tensor(beta_init),requires_grad=True) # (P,G)\n",
    "        \n",
    "        \n",
    "    def init_parameter(self,rho=None,Y=None,delta_min=None):\n",
    "        if delta_min is not None:\n",
    "            self.delta_log_min=np.log(delta_min) #\n",
    "            self.delta_log.data[:]=torch.Tensor(np.random.uniform(-2,2,size=self.delta_log.data.shape))\n",
    "            self.delta_log.data=self.delta_log.data.clamp(min=self.delta_log_min)\n",
    "\n",
    "        if rho is not None:\n",
    "            self.masked.mask.data=(rho==1)\n",
    "        \n",
    "        if Y is not None:\n",
    "            Y_colmean=np.mean(Y,axis=0)\n",
    "            beta_init=np.hstack([((Y_colmean-Y_colmean.mean())/(np.std(Y_colmean) if len(Y_colmean)>1 else 1)).reshape(-1,1),\\\n",
    "                         np.zeros((Y.shape[1],self.beta.shape[0]-1))]).T      \n",
    "            self.beta.data[:]=torch.Tensor(beta_init)\n",
    "        \n",
    "    def forward(self,Y,X,s):\n",
    "        delta_log_masked=self.masked(self.delta_log) #(C,G)\n",
    "        #delta=torch.exp(delta_log_masked)*self.masked.mask\n",
    "        \n",
    "        mu=torch.exp((X.matmul(self.beta)+torch.log(s.view(-1, 1))).unsqueeze(dim=1).repeat(1,self.delta_log.shape[0],1)+torch.exp(delta_log_masked)*self.masked.mask)\n",
    "        Y_extend=Y.unsqueeze(dim=1).repeat(1,mu.shape[1],1)\n",
    "        Y_logprob=poisson_logprob(rate=mu,value=Y_extend) # (N,C,G)\n",
    "        Y_logprob_reduce=Y_logprob.sum(axis=2) # (N,C)\n",
    "\n",
    "        Y_logprob_reduce_reduce=torch.logsumexp(Y_logprob_reduce,dim=1).view(-1,1) # (N,1)\n",
    "\n",
    "        #gamma=torch.exp(Y_logprob_reduce-Y_logprob_reduce_reduce) # (N,C)\n",
    "        \n",
    "        LL=torch.sum(Y_logprob_reduce_reduce) # (N,C)\n",
    "        \n",
    "        return LL      \n",
    "                "
   ]
  },
  {
   "cell_type": "markdown",
   "metadata": {},
   "source": [
    "# 0. Answer"
   ]
  },
  {
   "cell_type": "markdown",
   "metadata": {},
   "source": [
    " ![Alt text](data/koh_extract/koh.png \"Optional title\")."
   ]
  },
  {
   "cell_type": "markdown",
   "metadata": {},
   "source": [
    "# 1. Normal case"
   ]
  },
  {
   "cell_type": "code",
   "execution_count": 55,
   "metadata": {},
   "outputs": [
    {
     "data": {
      "text/plain": [
       "(446, 84)"
      ]
     },
     "execution_count": 55,
     "metadata": {},
     "output_type": "execute_result"
    }
   ],
   "source": [
    "Y=exp_data[marker_unique_exp_data_idx].transpose().astype(float)\n",
    "Y.shape"
   ]
  },
  {
   "cell_type": "code",
   "execution_count": 104,
   "metadata": {},
   "outputs": [],
   "source": [
    "device=device_cuda_list[3]#\n",
    "\n",
    "model=Custom_Model_Trick(Y,rho.values,X_col=X.shape[1],delta_min=2,LOWER_BOUND=LOWER_BOUND,THETA_LOWER_BOUND=THETA_LOWER_BOUND).to(device)\n",
    "optimizer = optim.Adam(model.parameters(),lr=LR)#,betas=(0.92, 0.999))\n",
    "\n",
    "\n",
    "cell_dataset=Cell_Dataset(Y,X,s)\n",
    "cell_dataloader=DataLoader(dataset=cell_dataset,shuffle=False,batch_size=BATCH_SIZE,num_workers=NUM_WORKERS)"
   ]
  },
  {
   "cell_type": "code",
   "execution_count": 105,
   "metadata": {},
   "outputs": [
    {
     "data": {
      "text/plain": [
       "(8, 84)"
      ]
     },
     "execution_count": 105,
     "metadata": {},
     "output_type": "execute_result"
    }
   ],
   "source": [
    "rho.shape"
   ]
  },
  {
   "cell_type": "code",
   "execution_count": 106,
   "metadata": {},
   "outputs": [
    {
     "name": "stdout",
     "output_type": "stream",
     "text": [
      "Start time: 2020-05-25 16:17:02\n",
      "tensor(-23115973.7644, device='cuda:2')\n",
      "M: 0, Q: 23115973.764365457 Q_diff: -2.0\n",
      "M: 20, Q: 5445895.320107715 Q_diff: 0.7644098675824395\n",
      "M: 40, Q: 4178080.7568526478 Q_diff: 0.23280186061857522\n",
      "M: 60, Q: 3748726.2213336453 Q_diff: 0.10276357986015465\n",
      "M: 80, Q: 3577638.963232142 Q_diff: 0.045638771145212476\n",
      "M: 100, Q: 3513299.013324124 Q_diff: 0.01798391357240015\n",
      "M: 120, Q: 3484462.5418235147 Q_diff: 0.008207804514004435\n",
      "M: 140, Q: 3467136.8548350213 Q_diff: 0.004972269548183009\n",
      "M: 160, Q: 3456049.366922955 Q_diff: 0.0031978800884667883\n",
      "M: 180, Q: 3448624.115287636 Q_diff: 0.002148479621380541\n",
      "M: 200, Q: 3443432.415056331 Q_diff: 0.0015054410274202468\n",
      "M: 220, Q: 3439846.518439737 Q_diff: 0.0010413727305681048\n",
      "M: 240, Q: 3437099.8475774396 Q_diff: 0.00079848645792004\n",
      "M: 260, Q: 3435107.9203878893 Q_diff: 0.0005795371906214265\n",
      "M: 280, Q: 3433671.3746129335 Q_diff: 0.00041819523818441046\n",
      "M: 300, Q: 3432764.565220273 Q_diff: 0.0002640932383235458\n",
      "M: 320, Q: 3432088.553196908 Q_diff: 0.00019692932926839007\n",
      "M: 340, Q: 3431601.4183141463 Q_diff: 0.00014193540615607857\n",
      "M: 360, Q: 3431254.1636624048 Q_diff: 0.00010119317759000906\n",
      "M: 380, Q: 3430958.6855379767 Q_diff: 8.611373868984728e-05\n",
      "M: 400, Q: 3430694.2033657823 Q_diff: 7.70869591957595e-05\n",
      "M: 420, Q: 3430458.04242795 Q_diff: 6.883765320747917e-05\n",
      "M: 440, Q: 3430263.68389586 Q_diff: 5.665672912665796e-05\n",
      "M: 460, Q: 3430123.100940707 Q_diff: 4.09831336910704e-05\n",
      "M: 480, Q: 3430030.5377710876 Q_diff: 2.698537833646519e-05\n",
      "M: 500, Q: 3429958.464388849 Q_diff: 2.101246080602732e-05\n",
      "M: 520, Q: 3429895.649621144 Q_diff: 1.8313565122564527e-05\n",
      "M: 540, Q: 3429840.3168335985 Q_diff: 1.613249882733598e-05\n",
      "M: 560, Q: 3429765.258118013 Q_diff: 2.1884026267121622e-05\n",
      "M: 580, Q: 3429618.7536301855 Q_diff: 4.271560203155432e-05\n",
      "M: 600, Q: 3429535.2724404535 Q_diff: 2.4341244823090298e-05\n",
      "M: 620, Q: 3429472.074233503 Q_diff: 1.8427629964415836e-05\n",
      "M: 640, Q: 3429415.8173910677 Q_diff: 1.640393658779425e-05\n",
      "M: 660, Q: 3429368.209497121 Q_diff: 1.3882216821055649e-05\n",
      "M: 680, Q: 3429330.2811556244 Q_diff: 1.1059862685989494e-05\n",
      "M: 700, Q: 3429298.057558025 Q_diff: 9.396469560464827e-06\n",
      "M: 720, Q: 3429269.04679254 Q_diff: 8.459680377172638e-06\n",
      "M: 740, Q: 3429242.5277323676 Q_diff: 7.733152403700835e-06\n",
      "M: 760, Q: 3429218.3566823527 Q_diff: 7.0485099316930085e-06\n",
      "M: 780, Q: 3429196.7088713916 Q_diff: 6.312753726789017e-06\n",
      "M: 800, Q: 3429178.10712131 Q_diff: 5.424521151931002e-06\n",
      "M: 820, Q: 3429161.973917704 Q_diff: 4.704685234230826e-06\n",
      "M: 840, Q: 3429147.8217769926 Q_diff: 4.1269968636873204e-06\n",
      "M: 860, Q: 3429135.372563903 Q_diff: 3.6304101591544045e-06\n",
      "M: 880, Q: 3429124.444174068 Q_diff: 3.1869228385114584e-06\n",
      "M: 900, Q: 3429114.890228291 Q_diff: 2.786118127978173e-06\n",
      "M: 920, Q: 3429106.5781133333 Q_diff: 2.4239826380289837e-06\n",
      "M: 940, Q: 3429099.3826256795 Q_diff: 2.098356376486702e-06\n",
      "M: 960, Q: 3429093.184884882 Q_diff: 1.8073960844708614e-06\n",
      "M: 980, Q: 3429087.933709371 Q_diff: 1.5313598167321357e-06\n",
      "M: 1000, Q: 3429084.558852382 Q_diff: 9.841850235810962e-07\n",
      "M: 1020, Q: 3429082.692766344 Q_diff: 5.44193648713651e-07\n",
      "M: 1040, Q: 3429081.503678592 Q_diff: 3.4676555183728866e-07\n",
      "M: 1060, Q: 3429080.616204597 Q_diff: 2.58808078464733e-07\n",
      "M: 1080, Q: 3429079.8940431336 Q_diff: 2.1059915011888082e-07\n",
      "M: 1100, Q: 3429079.29481317 Q_diff: 1.7474949024584896e-07\n",
      "M: 1120, Q: 3429078.801903119 Q_diff: 1.4374413913328553e-07\n",
      "M: 1140, Q: 3429078.380730532 Q_diff: 1.228238285167403e-07\n",
      "M: 1160, Q: 3429078.020487788 Q_diff: 1.0505526674478288e-07\n",
      "M: 1180, Q: 3429077.7130952706 Q_diff: 8.964290568304989e-08\n",
      "M break\n",
      "EM: 0, LL: -3429077.7130952706 LL_diff: 0.8516576568199181\n",
      "M: 0, Q: 3429077.6989803053 Q_diff: 4.116257023031921e-09\n",
      "M: 20, Q: 3429077.439394814 Q_diff: 7.570125677198208e-08\n",
      "M break\n",
      "EM: 1, LL: -3429077.439394814 LL_diff: 7.981751348340818e-08\n",
      "EM break\n",
      "End time: 2020-05-25 16:17:06\n"
     ]
    },
    {
     "data": {
      "text/plain": [
       "(tensor([[1., 0., 0.,  ..., 0., 0., 0.],\n",
       "         [1., 0., 0.,  ..., 0., 0., 0.],\n",
       "         [1., 0., 0.,  ..., 0., 0., 0.],\n",
       "         ...,\n",
       "         [0., 0., 0.,  ..., 0., 0., 1.],\n",
       "         [0., 0., 0.,  ..., 0., 0., 1.],\n",
       "         [0., 0., 0.,  ..., 0., 0., 1.]], device='cuda:2'),\n",
       " tensor(3429077.4394, device='cuda:2', grad_fn=<NegBackward>),\n",
       " tensor(-3429077.4394, device='cuda:2'))"
      ]
     },
     "execution_count": 106,
     "metadata": {},
     "output_type": "execute_result"
    }
   ],
   "source": [
    "run_EM_trick(model,optimizer,LL_diff_tolerance=1e-3*LL_diff_tolerance,Q_diff_tolerance=1e-3*Q_diff_tolerance)"
   ]
  },
  {
   "cell_type": "code",
   "execution_count": 107,
   "metadata": {},
   "outputs": [
    {
     "data": {
      "text/plain": [
       "<matplotlib.axes._subplots.AxesSubplot at 0x7fb1f2110d68>"
      ]
     },
     "execution_count": 107,
     "metadata": {},
     "output_type": "execute_result"
    },
    {
     "data": {
      "image/png": "[encoded data removed]",
      "text/plain": [
       "<Figure size 1080x1080 with 1 Axes>"
      ]
     },
     "metadata": {
      "needs_background": "light"
     },
     "output_type": "display_data"
    }
   ],
   "source": [
    "import seaborn as sns\n",
    "\n",
    "plt.rcParams[\"figure.figsize\"] = (15,15)\n",
    "plt.rcParams[\"font.size\"] = 15\n",
    "plt.rcParams['font.family']='Arial'\n",
    "\n",
    "\n",
    "plot_value=np.argmax(gamma_new.cpu().numpy(),axis=1)\n",
    "\n",
    "sns.scatterplot(x=\"tSNE_1\", y=\"tSNE_2\",hue=plot_value,style=np.array((list(range(0,2))*30))[plot_value],\n",
    "                data=exp_data_meta,s=40,palette=plt.cm.rainbow)#,linewidth=0.3)"
   ]
  },
  {
   "cell_type": "code",
   "execution_count": 108,
   "metadata": {},
   "outputs": [
    {
     "data": {
      "text/plain": [
       "440"
      ]
     },
     "execution_count": 108,
     "metadata": {},
     "output_type": "execute_result"
    }
   ],
   "source": [
    "np.sum(np.argmax(gamma_new.cpu().numpy(),axis=1)==exp_data_meta_clusterid_clusteridunique)"
   ]
  },
  {
   "cell_type": "code",
   "execution_count": 109,
   "metadata": {},
   "outputs": [
    {
     "data": {
      "text/plain": [
       "(array([0, 1, 2, 3, 4, 5, 6, 7]), array([55, 64, 22, 75, 43, 62, 70, 55]))"
      ]
     },
     "execution_count": 109,
     "metadata": {},
     "output_type": "execute_result"
    }
   ],
   "source": [
    "np.unique(np.argmax(gamma_new.cpu().numpy(),axis=1),return_counts=True)"
   ]
  },
  {
   "cell_type": "code",
   "execution_count": 110,
   "metadata": {},
   "outputs": [
    {
     "name": "stdout",
     "output_type": "stream",
     "text": [
      "4800"
     ]
    }
   ],
   "source": [
    "import statsmodels.api as sm\n",
    "import sys\n",
    "\n",
    "label=np.argmax(gamma_new.cpu().numpy(),axis=1)\n",
    "label=list(map(lambda x: np.unique(label,return_counts=True)[0].tolist().index(x),label))\n",
    "\n",
    "#exp_data_col_patient=pd.Series(exp_data_col).str.slice(start=1,stop=2).astype(int).values\n",
    "#x_data_covariate=np.eye(len(np.unique(exp_data_col_patient)))[exp_data_col_patient-1]\n",
    "x_data_intercept=np.array([np.ones(Y.shape[0])]).transpose()\n",
    "x_data_null=np.concatenate([x_data_intercept],axis=1)\n",
    "x_data_null_test=np.concatenate([x_data_intercept,np.eye(max(label)+1)[label]],axis=1)\n",
    "x_data_null_test=x_data_null_test[:,:-1]\n",
    "\n",
    "family=sm.families.Poisson(link=sm.families.links.log())\n",
    "\n",
    "data_list=[]\n",
    "data_list_=[]\n",
    "for exp_data_row_idx in range(exp_data.shape[0]):\n",
    "    if exp_data_row_idx%100==0:\n",
    "        sys.stdout.write('\\r{}'.format(exp_data_row_idx))\n",
    "    y_data=exp_data[exp_data_row_idx,:]\n",
    "    \n",
    "    model=sm.GLM(y_data,x_data_null_test,family=family)\n",
    "    model_result=model.fit()\n",
    "    \n",
    "    model_=sm.GLM(y_data,x_data_null,family=family)\n",
    "    model_result_=model_.fit()\n",
    "    \n",
    "    data_list.append({\n",
    "        'llf':model_result.llf,\n",
    "        'deviance':model_result.deviance,\n",
    "        'pearson_chi2':model_result.pearson_chi2,\n",
    "        'llnull':model_result.llnull,\n",
    "        'null_deviance':model_result.null_deviance\n",
    "    })\n",
    "    \n",
    "    data_list_.append({\n",
    "        'llf':model_result_.llf,\n",
    "        'deviance':model_result_.deviance,\n",
    "        'pearson_chi2':model_result_.pearson_chi2,\n",
    "        'llnull':model_result_.llnull,\n",
    "        'null_deviance':model_result_.null_deviance\n",
    "    })    \n",
    "    \n",
    "    #ll_list.append([model_result.llf,model_result.deviance,model_result.pearson_chi2])\n",
    "#model_result.llf,model_result.llnull,model_result.null_deviance,model_result.null"
   ]
  },
  {
   "cell_type": "code",
   "execution_count": 111,
   "metadata": {},
   "outputs": [],
   "source": [
    "data_full=pd.DataFrame(data_list)\n",
    "data_null=pd.DataFrame(data_list_)"
   ]
  },
  {
   "cell_type": "code",
   "execution_count": 112,
   "metadata": {},
   "outputs": [
    {
     "data": {
      "text/plain": [
       "440"
      ]
     },
     "execution_count": 112,
     "metadata": {},
     "output_type": "execute_result"
    }
   ],
   "source": [
    "np.sum(np.argmax(gamma_new.cpu().numpy(),axis=1)==exp_data_meta_clusterid_clusteridunique)"
   ]
  },
  {
   "cell_type": "code",
   "execution_count": 113,
   "metadata": {},
   "outputs": [],
   "source": [
    "marker_unique_exp_data_idx=list(map(lambda x: exp_data_row.index(x), rho.columns))\n",
    "marker_unique_exp_data_idx_bool=np.array(list(map(lambda x: x in marker_unique_exp_data_idx, np.arange(exp_data.shape[0]))))"
   ]
  },
  {
   "cell_type": "markdown",
   "metadata": {},
   "source": [
    "## deviance of null model"
   ]
  },
  {
   "cell_type": "code",
   "execution_count": 114,
   "metadata": {},
   "outputs": [
    {
     "data": {
      "image/png": "[encoded data removed]",
      "text/plain": [
       "<Figure size 1080x1080 with 1 Axes>"
      ]
     },
     "metadata": {
      "needs_background": "light"
     },
     "output_type": "display_data"
    },
    {
     "data": {
      "text/plain": [
       "\"\\ndata_full['null_deviance'][marker_unique_exp_data_idx_bool].hist(alpha=0.5,density=True)\\ndata_full['null_deviance'][~marker_unique_exp_data_idx_bool].hist(bins=50,alpha=0.5,density=True)\\n\\ndata_full['deviance'][marker_unique_exp_data_idx_bool].hist(alpha=0.5,density=True)\\ndata_full['deviance'][~marker_unique_exp_data_idx_bool].hist(bins=50,alpha=0.5,density=True)\\n\""
      ]
     },
     "execution_count": 114,
     "metadata": {},
     "output_type": "execute_result"
    }
   ],
   "source": [
    "plt.hist(\n",
    "    x=[\n",
    "        np.log10(data_full['null_deviance'])[marker_unique_exp_data_idx_bool].repeat(10),# np.sum(~marker_unique_exp_data_idx_bool)/np.sum(marker_unique_exp_data_idx_bool) ),\n",
    "        np.log10(data_full['null_deviance'])[~marker_unique_exp_data_idx_bool],\n",
    "    ],\n",
    "    bins=30,\n",
    "    histtype='barstacked',\n",
    "    color=['blue','grey'],\n",
    "    alpha=0.7\n",
    ")\n",
    "plt.show()\n",
    "\n",
    "\"\"\"\n",
    "data_full['null_deviance'][marker_unique_exp_data_idx_bool].hist(alpha=0.5,density=True)\n",
    "data_full['null_deviance'][~marker_unique_exp_data_idx_bool].hist(bins=50,alpha=0.5,density=True)\n",
    "\n",
    "data_full['deviance'][marker_unique_exp_data_idx_bool].hist(alpha=0.5,density=True)\n",
    "data_full['deviance'][~marker_unique_exp_data_idx_bool].hist(bins=50,alpha=0.5,density=True)\n",
    "\"\"\""
   ]
  },
  {
   "cell_type": "markdown",
   "metadata": {},
   "source": [
    "## deviance of full model"
   ]
  },
  {
   "cell_type": "code",
   "execution_count": 115,
   "metadata": {},
   "outputs": [
    {
     "data": {
      "image/png": "[encoded data removed]",
      "text/plain": [
       "<Figure size 1080x1080 with 1 Axes>"
      ]
     },
     "metadata": {
      "needs_background": "light"
     },
     "output_type": "display_data"
    }
   ],
   "source": [
    "plt.hist(\n",
    "    x=[\n",
    "        np.log10(data_full['deviance'])[marker_unique_exp_data_idx_bool].repeat(10),# np.sum(~marker_unique_exp_data_idx_bool)/np.sum(marker_unique_exp_data_idx_bool) ),\n",
    "        np.log10(data_full['deviance'])[~marker_unique_exp_data_idx_bool],\n",
    "    ],\n",
    "    bins=30, \n",
    "    histtype='barstacked',\n",
    "    color=['blue','grey'],\n",
    "    alpha=0.7    \n",
    "    \n",
    ")\n",
    "\n",
    "plt.show()"
   ]
  },
  {
   "cell_type": "markdown",
   "metadata": {},
   "source": [
    "# 2. Case of lost types and markers"
   ]
  },
  {
   "cell_type": "code",
   "execution_count": 116,
   "metadata": {},
   "outputs": [
    {
     "data": {
      "text/plain": [
       "<seaborn.matrix.ClusterGrid at 0x7fb1e86ebda0>"
      ]
     },
     "execution_count": 116,
     "metadata": {},
     "output_type": "execute_result"
    },
    {
     "data": {
      "image/png": "[encoded data removed]",
      "text/plain": [
       "<Figure size 2160x2160 with 4 Axes>"
      ]
     },
     "metadata": {
      "needs_background": "light"
     },
     "output_type": "display_data"
    }
   ],
   "source": [
    "plt.rcParams[\"figure.figsize\"] = (30,30)\n",
    "plt.rcParams[\"font.size\"] = 15\n",
    "plt.rcParams['font.family']='Arial'\n",
    "\n",
    "sns.clustermap(pd.DataFrame(exp_data[marker_unique_exp_data_idx].transpose().astype(float)).corr(),figsize=(30, 30))"
   ]
  },
  {
   "cell_type": "code",
   "execution_count": 117,
   "metadata": {},
   "outputs": [
    {
     "data": {
      "text/html": [
       "<div>\n",
       "<style scoped>\n",
       "    .dataframe tbody tr th:only-of-type {\n",
       "        vertical-align: middle;\n",
       "    }\n",
       "\n",
       "    .dataframe tbody tr th {\n",
       "        vertical-align: top;\n",
       "    }\n",
       "\n",
       "    .dataframe thead th {\n",
       "        text-align: right;\n",
       "    }\n",
       "</style>\n",
       "<table border=\"1\" class=\"dataframe\">\n",
       "  <thead>\n",
       "    <tr style=\"text-align: right;\">\n",
       "      <th></th>\n",
       "      <th>hESC</th>\n",
       "      <th>APS</th>\n",
       "      <th>MPS</th>\n",
       "      <th>DLL1pPXM</th>\n",
       "      <th>ESMT</th>\n",
       "      <th>Sclrtm</th>\n",
       "      <th>D5CntrlDrmmtm</th>\n",
       "      <th>D2LtM</th>\n",
       "    </tr>\n",
       "  </thead>\n",
       "  <tbody>\n",
       "    <tr>\n",
       "      <th>hESC</th>\n",
       "      <td>1.000000</td>\n",
       "      <td>0.376325</td>\n",
       "      <td>0.315063</td>\n",
       "      <td>-0.078163</td>\n",
       "      <td>0.028913</td>\n",
       "      <td>-0.559431</td>\n",
       "      <td>-0.126025</td>\n",
       "      <td>0.197789</td>\n",
       "    </tr>\n",
       "    <tr>\n",
       "      <th>APS</th>\n",
       "      <td>0.376325</td>\n",
       "      <td>1.000000</td>\n",
       "      <td>0.922794</td>\n",
       "      <td>0.331635</td>\n",
       "      <td>0.157895</td>\n",
       "      <td>-0.144620</td>\n",
       "      <td>0.217647</td>\n",
       "      <td>0.364308</td>\n",
       "    </tr>\n",
       "    <tr>\n",
       "      <th>MPS</th>\n",
       "      <td>0.315063</td>\n",
       "      <td>0.922794</td>\n",
       "      <td>1.000000</td>\n",
       "      <td>0.331635</td>\n",
       "      <td>0.157895</td>\n",
       "      <td>-0.144620</td>\n",
       "      <td>0.217647</td>\n",
       "      <td>0.364308</td>\n",
       "    </tr>\n",
       "    <tr>\n",
       "      <th>DLL1pPXM</th>\n",
       "      <td>-0.078163</td>\n",
       "      <td>0.331635</td>\n",
       "      <td>0.331635</td>\n",
       "      <td>1.000000</td>\n",
       "      <td>0.478649</td>\n",
       "      <td>0.104945</td>\n",
       "      <td>0.501720</td>\n",
       "      <td>0.582240</td>\n",
       "    </tr>\n",
       "    <tr>\n",
       "      <th>ESMT</th>\n",
       "      <td>0.028913</td>\n",
       "      <td>0.157895</td>\n",
       "      <td>0.157895</td>\n",
       "      <td>0.478649</td>\n",
       "      <td>1.000000</td>\n",
       "      <td>0.279946</td>\n",
       "      <td>0.676520</td>\n",
       "      <td>0.593856</td>\n",
       "    </tr>\n",
       "    <tr>\n",
       "      <th>Sclrtm</th>\n",
       "      <td>-0.559431</td>\n",
       "      <td>-0.144620</td>\n",
       "      <td>-0.144620</td>\n",
       "      <td>0.104945</td>\n",
       "      <td>0.279946</td>\n",
       "      <td>1.000000</td>\n",
       "      <td>0.462785</td>\n",
       "      <td>0.196419</td>\n",
       "    </tr>\n",
       "    <tr>\n",
       "      <th>D5CntrlDrmmtm</th>\n",
       "      <td>-0.126025</td>\n",
       "      <td>0.217647</td>\n",
       "      <td>0.217647</td>\n",
       "      <td>0.501720</td>\n",
       "      <td>0.676520</td>\n",
       "      <td>0.462785</td>\n",
       "      <td>1.000000</td>\n",
       "      <td>0.552215</td>\n",
       "    </tr>\n",
       "    <tr>\n",
       "      <th>D2LtM</th>\n",
       "      <td>0.197789</td>\n",
       "      <td>0.364308</td>\n",
       "      <td>0.364308</td>\n",
       "      <td>0.582240</td>\n",
       "      <td>0.593856</td>\n",
       "      <td>0.196419</td>\n",
       "      <td>0.552215</td>\n",
       "      <td>1.000000</td>\n",
       "    </tr>\n",
       "  </tbody>\n",
       "</table>\n",
       "</div>"
      ],
      "text/plain": [
       "                   hESC       APS       MPS  DLL1pPXM      ESMT    Sclrtm  \\\n",
       "hESC           1.000000  0.376325  0.315063 -0.078163  0.028913 -0.559431   \n",
       "APS            0.376325  1.000000  0.922794  0.331635  0.157895 -0.144620   \n",
       "MPS            0.315063  0.922794  1.000000  0.331635  0.157895 -0.144620   \n",
       "DLL1pPXM      -0.078163  0.331635  0.331635  1.000000  0.478649  0.104945   \n",
       "ESMT           0.028913  0.157895  0.157895  0.478649  1.000000  0.279946   \n",
       "Sclrtm        -0.559431 -0.144620 -0.144620  0.104945  0.279946  1.000000   \n",
       "D5CntrlDrmmtm -0.126025  0.217647  0.217647  0.501720  0.676520  0.462785   \n",
       "D2LtM          0.197789  0.364308  0.364308  0.582240  0.593856  0.196419   \n",
       "\n",
       "               D5CntrlDrmmtm     D2LtM  \n",
       "hESC               -0.126025  0.197789  \n",
       "APS                 0.217647  0.364308  \n",
       "MPS                 0.217647  0.364308  \n",
       "DLL1pPXM            0.501720  0.582240  \n",
       "ESMT                0.676520  0.593856  \n",
       "Sclrtm              0.462785  0.196419  \n",
       "D5CntrlDrmmtm       1.000000  0.552215  \n",
       "D2LtM               0.552215  1.000000  "
      ]
     },
     "execution_count": 117,
     "metadata": {},
     "output_type": "execute_result"
    }
   ],
   "source": [
    "rho.T.corr()"
   ]
  },
  {
   "cell_type": "code",
   "execution_count": 66,
   "metadata": {},
   "outputs": [],
   "source": [
    "#rho.columns[(rho.loc[['hESC','APS','MPS','D2LtM']].sum(axis=0)>0)]"
   ]
  },
  {
   "cell_type": "code",
   "execution_count": null,
   "metadata": {},
   "outputs": [],
   "source": []
  },
  {
   "cell_type": "code",
   "execution_count": 125,
   "metadata": {},
   "outputs": [],
   "source": [
    "#rho_drop=rho.drop(index=['hESC','APS','MPS','D2LtM'])\n",
    "\n",
    "\n",
    "#rho_drop=rho.drop(index=['hESC'])\n",
    "#rho_drop=rho.drop(index=['ESMT','D5CntrlDrmmtm','DLL1pPXM','D2LtM'])\n",
    "#rho_drop.apply(lambda x : np.all(x==1) | np.all(x==0) ,axis=0)"
   ]
  },
  {
   "cell_type": "code",
   "execution_count": 118,
   "metadata": {},
   "outputs": [
    {
     "data": {
      "text/html": [
       "<div>\n",
       "<style scoped>\n",
       "    .dataframe tbody tr th:only-of-type {\n",
       "        vertical-align: middle;\n",
       "    }\n",
       "\n",
       "    .dataframe tbody tr th {\n",
       "        vertical-align: top;\n",
       "    }\n",
       "\n",
       "    .dataframe thead th {\n",
       "        text-align: right;\n",
       "    }\n",
       "</style>\n",
       "<table border=\"1\" class=\"dataframe\">\n",
       "  <thead>\n",
       "    <tr style=\"text-align: right;\">\n",
       "      <th></th>\n",
       "      <th>ENSG00000008311</th>\n",
       "      <th>ENSG00000018625</th>\n",
       "      <th>ENSG00000019549</th>\n",
       "      <th>ENSG00000026025</th>\n",
       "      <th>ENSG00000039068</th>\n",
       "      <th>ENSG00000042493</th>\n",
       "      <th>ENSG00000053438</th>\n",
       "      <th>ENSG00000075340</th>\n",
       "      <th>ENSG00000079102</th>\n",
       "      <th>ENSG00000092068</th>\n",
       "      <th>...</th>\n",
       "      <th>ENSG00000240563</th>\n",
       "      <th>ENSG00000241186</th>\n",
       "      <th>ENSG00000243004</th>\n",
       "      <th>ENSG00000249532</th>\n",
       "      <th>ENSG00000250305</th>\n",
       "      <th>ENSG00000254277</th>\n",
       "      <th>ENSG00000254339</th>\n",
       "      <th>ENSG00000260342</th>\n",
       "      <th>ENSG00000260834</th>\n",
       "      <th>ENSG00000280623</th>\n",
       "    </tr>\n",
       "  </thead>\n",
       "  <tbody>\n",
       "    <tr>\n",
       "      <th>hESC</th>\n",
       "      <td>1</td>\n",
       "      <td>1</td>\n",
       "      <td>0</td>\n",
       "      <td>0</td>\n",
       "      <td>1</td>\n",
       "      <td>1</td>\n",
       "      <td>0</td>\n",
       "      <td>1</td>\n",
       "      <td>1</td>\n",
       "      <td>1</td>\n",
       "      <td>...</td>\n",
       "      <td>1</td>\n",
       "      <td>1</td>\n",
       "      <td>1</td>\n",
       "      <td>1</td>\n",
       "      <td>0</td>\n",
       "      <td>1</td>\n",
       "      <td>1</td>\n",
       "      <td>1</td>\n",
       "      <td>1</td>\n",
       "      <td>0</td>\n",
       "    </tr>\n",
       "    <tr>\n",
       "      <th>APS</th>\n",
       "      <td>0</td>\n",
       "      <td>0</td>\n",
       "      <td>1</td>\n",
       "      <td>0</td>\n",
       "      <td>1</td>\n",
       "      <td>1</td>\n",
       "      <td>0</td>\n",
       "      <td>1</td>\n",
       "      <td>1</td>\n",
       "      <td>1</td>\n",
       "      <td>...</td>\n",
       "      <td>1</td>\n",
       "      <td>1</td>\n",
       "      <td>1</td>\n",
       "      <td>1</td>\n",
       "      <td>1</td>\n",
       "      <td>1</td>\n",
       "      <td>1</td>\n",
       "      <td>1</td>\n",
       "      <td>1</td>\n",
       "      <td>0</td>\n",
       "    </tr>\n",
       "    <tr>\n",
       "      <th>MPS</th>\n",
       "      <td>0</td>\n",
       "      <td>0</td>\n",
       "      <td>1</td>\n",
       "      <td>0</td>\n",
       "      <td>1</td>\n",
       "      <td>1</td>\n",
       "      <td>0</td>\n",
       "      <td>1</td>\n",
       "      <td>1</td>\n",
       "      <td>1</td>\n",
       "      <td>...</td>\n",
       "      <td>1</td>\n",
       "      <td>1</td>\n",
       "      <td>1</td>\n",
       "      <td>1</td>\n",
       "      <td>1</td>\n",
       "      <td>1</td>\n",
       "      <td>1</td>\n",
       "      <td>1</td>\n",
       "      <td>1</td>\n",
       "      <td>1</td>\n",
       "    </tr>\n",
       "    <tr>\n",
       "      <th>DLL1pPXM</th>\n",
       "      <td>0</td>\n",
       "      <td>1</td>\n",
       "      <td>1</td>\n",
       "      <td>1</td>\n",
       "      <td>1</td>\n",
       "      <td>1</td>\n",
       "      <td>0</td>\n",
       "      <td>1</td>\n",
       "      <td>0</td>\n",
       "      <td>1</td>\n",
       "      <td>...</td>\n",
       "      <td>0</td>\n",
       "      <td>0</td>\n",
       "      <td>1</td>\n",
       "      <td>0</td>\n",
       "      <td>1</td>\n",
       "      <td>0</td>\n",
       "      <td>0</td>\n",
       "      <td>1</td>\n",
       "      <td>1</td>\n",
       "      <td>0</td>\n",
       "    </tr>\n",
       "    <tr>\n",
       "      <th>ESMT</th>\n",
       "      <td>0</td>\n",
       "      <td>1</td>\n",
       "      <td>1</td>\n",
       "      <td>1</td>\n",
       "      <td>1</td>\n",
       "      <td>1</td>\n",
       "      <td>1</td>\n",
       "      <td>1</td>\n",
       "      <td>1</td>\n",
       "      <td>1</td>\n",
       "      <td>...</td>\n",
       "      <td>0</td>\n",
       "      <td>0</td>\n",
       "      <td>1</td>\n",
       "      <td>0</td>\n",
       "      <td>1</td>\n",
       "      <td>0</td>\n",
       "      <td>0</td>\n",
       "      <td>1</td>\n",
       "      <td>1</td>\n",
       "      <td>0</td>\n",
       "    </tr>\n",
       "    <tr>\n",
       "      <th>Sclrtm</th>\n",
       "      <td>0</td>\n",
       "      <td>1</td>\n",
       "      <td>1</td>\n",
       "      <td>1</td>\n",
       "      <td>0</td>\n",
       "      <td>0</td>\n",
       "      <td>0</td>\n",
       "      <td>0</td>\n",
       "      <td>1</td>\n",
       "      <td>0</td>\n",
       "      <td>...</td>\n",
       "      <td>0</td>\n",
       "      <td>0</td>\n",
       "      <td>0</td>\n",
       "      <td>0</td>\n",
       "      <td>1</td>\n",
       "      <td>0</td>\n",
       "      <td>0</td>\n",
       "      <td>0</td>\n",
       "      <td>0</td>\n",
       "      <td>0</td>\n",
       "    </tr>\n",
       "    <tr>\n",
       "      <th>D5CntrlDrmmtm</th>\n",
       "      <td>0</td>\n",
       "      <td>1</td>\n",
       "      <td>1</td>\n",
       "      <td>1</td>\n",
       "      <td>0</td>\n",
       "      <td>1</td>\n",
       "      <td>0</td>\n",
       "      <td>1</td>\n",
       "      <td>1</td>\n",
       "      <td>1</td>\n",
       "      <td>...</td>\n",
       "      <td>0</td>\n",
       "      <td>0</td>\n",
       "      <td>0</td>\n",
       "      <td>0</td>\n",
       "      <td>1</td>\n",
       "      <td>0</td>\n",
       "      <td>0</td>\n",
       "      <td>1</td>\n",
       "      <td>1</td>\n",
       "      <td>0</td>\n",
       "    </tr>\n",
       "    <tr>\n",
       "      <th>D2LtM</th>\n",
       "      <td>0</td>\n",
       "      <td>1</td>\n",
       "      <td>1</td>\n",
       "      <td>1</td>\n",
       "      <td>1</td>\n",
       "      <td>1</td>\n",
       "      <td>0</td>\n",
       "      <td>1</td>\n",
       "      <td>1</td>\n",
       "      <td>1</td>\n",
       "      <td>...</td>\n",
       "      <td>0</td>\n",
       "      <td>0</td>\n",
       "      <td>1</td>\n",
       "      <td>0</td>\n",
       "      <td>1</td>\n",
       "      <td>0</td>\n",
       "      <td>0</td>\n",
       "      <td>1</td>\n",
       "      <td>1</td>\n",
       "      <td>0</td>\n",
       "    </tr>\n",
       "  </tbody>\n",
       "</table>\n",
       "<p>8 rows × 84 columns</p>\n",
       "</div>"
      ],
      "text/plain": [
       "               ENSG00000008311  ENSG00000018625  ENSG00000019549  \\\n",
       "hESC                         1                1                0   \n",
       "APS                          0                0                1   \n",
       "MPS                          0                0                1   \n",
       "DLL1pPXM                     0                1                1   \n",
       "ESMT                         0                1                1   \n",
       "Sclrtm                       0                1                1   \n",
       "D5CntrlDrmmtm                0                1                1   \n",
       "D2LtM                        0                1                1   \n",
       "\n",
       "               ENSG00000026025  ENSG00000039068  ENSG00000042493  \\\n",
       "hESC                         0                1                1   \n",
       "APS                          0                1                1   \n",
       "MPS                          0                1                1   \n",
       "DLL1pPXM                     1                1                1   \n",
       "ESMT                         1                1                1   \n",
       "Sclrtm                       1                0                0   \n",
       "D5CntrlDrmmtm                1                0                1   \n",
       "D2LtM                        1                1                1   \n",
       "\n",
       "               ENSG00000053438  ENSG00000075340  ENSG00000079102  \\\n",
       "hESC                         0                1                1   \n",
       "APS                          0                1                1   \n",
       "MPS                          0                1                1   \n",
       "DLL1pPXM                     0                1                0   \n",
       "ESMT                         1                1                1   \n",
       "Sclrtm                       0                0                1   \n",
       "D5CntrlDrmmtm                0                1                1   \n",
       "D2LtM                        0                1                1   \n",
       "\n",
       "               ENSG00000092068  ...  ENSG00000240563  ENSG00000241186  \\\n",
       "hESC                         1  ...                1                1   \n",
       "APS                          1  ...                1                1   \n",
       "MPS                          1  ...                1                1   \n",
       "DLL1pPXM                     1  ...                0                0   \n",
       "ESMT                         1  ...                0                0   \n",
       "Sclrtm                       0  ...                0                0   \n",
       "D5CntrlDrmmtm                1  ...                0                0   \n",
       "D2LtM                        1  ...                0                0   \n",
       "\n",
       "               ENSG00000243004  ENSG00000249532  ENSG00000250305  \\\n",
       "hESC                         1                1                0   \n",
       "APS                          1                1                1   \n",
       "MPS                          1                1                1   \n",
       "DLL1pPXM                     1                0                1   \n",
       "ESMT                         1                0                1   \n",
       "Sclrtm                       0                0                1   \n",
       "D5CntrlDrmmtm                0                0                1   \n",
       "D2LtM                        1                0                1   \n",
       "\n",
       "               ENSG00000254277  ENSG00000254339  ENSG00000260342  \\\n",
       "hESC                         1                1                1   \n",
       "APS                          1                1                1   \n",
       "MPS                          1                1                1   \n",
       "DLL1pPXM                     0                0                1   \n",
       "ESMT                         0                0                1   \n",
       "Sclrtm                       0                0                0   \n",
       "D5CntrlDrmmtm                0                0                1   \n",
       "D2LtM                        0                0                1   \n",
       "\n",
       "               ENSG00000260834  ENSG00000280623  \n",
       "hESC                         1                0  \n",
       "APS                          1                0  \n",
       "MPS                          1                1  \n",
       "DLL1pPXM                     1                0  \n",
       "ESMT                         1                0  \n",
       "Sclrtm                       0                0  \n",
       "D5CntrlDrmmtm                1                0  \n",
       "D2LtM                        1                0  \n",
       "\n",
       "[8 rows x 84 columns]"
      ]
     },
     "execution_count": 118,
     "metadata": {},
     "output_type": "execute_result"
    }
   ],
   "source": [
    "rho"
   ]
  },
  {
   "cell_type": "code",
   "execution_count": 166,
   "metadata": {},
   "outputs": [],
   "source": [
    "rho_drop=rho.drop(index=['APS'],columns=rho.columns[rho.loc[['APS','MPS']].sum(axis=0)==1])"
   ]
  },
  {
   "cell_type": "code",
   "execution_count": 167,
   "metadata": {},
   "outputs": [
    {
     "data": {
      "text/plain": [
       "(7, 82)"
      ]
     },
     "execution_count": 167,
     "metadata": {},
     "output_type": "execute_result"
    }
   ],
   "source": [
    "rho_drop.shape"
   ]
  },
  {
   "cell_type": "code",
   "execution_count": 168,
   "metadata": {},
   "outputs": [
    {
     "data": {
      "text/html": [
       "<div>\n",
       "<style scoped>\n",
       "    .dataframe tbody tr th:only-of-type {\n",
       "        vertical-align: middle;\n",
       "    }\n",
       "\n",
       "    .dataframe tbody tr th {\n",
       "        vertical-align: top;\n",
       "    }\n",
       "\n",
       "    .dataframe thead th {\n",
       "        text-align: right;\n",
       "    }\n",
       "</style>\n",
       "<table border=\"1\" class=\"dataframe\">\n",
       "  <thead>\n",
       "    <tr style=\"text-align: right;\">\n",
       "      <th></th>\n",
       "      <th>ENSG00000008311</th>\n",
       "      <th>ENSG00000018625</th>\n",
       "      <th>ENSG00000019549</th>\n",
       "      <th>ENSG00000026025</th>\n",
       "      <th>ENSG00000039068</th>\n",
       "      <th>ENSG00000042493</th>\n",
       "      <th>ENSG00000053438</th>\n",
       "      <th>ENSG00000075340</th>\n",
       "      <th>ENSG00000079102</th>\n",
       "      <th>ENSG00000092068</th>\n",
       "      <th>...</th>\n",
       "      <th>ENSG00000237515</th>\n",
       "      <th>ENSG00000240563</th>\n",
       "      <th>ENSG00000241186</th>\n",
       "      <th>ENSG00000243004</th>\n",
       "      <th>ENSG00000249532</th>\n",
       "      <th>ENSG00000250305</th>\n",
       "      <th>ENSG00000254277</th>\n",
       "      <th>ENSG00000254339</th>\n",
       "      <th>ENSG00000260342</th>\n",
       "      <th>ENSG00000260834</th>\n",
       "    </tr>\n",
       "  </thead>\n",
       "  <tbody>\n",
       "    <tr>\n",
       "      <th>hESC</th>\n",
       "      <td>1</td>\n",
       "      <td>1</td>\n",
       "      <td>0</td>\n",
       "      <td>0</td>\n",
       "      <td>1</td>\n",
       "      <td>1</td>\n",
       "      <td>0</td>\n",
       "      <td>1</td>\n",
       "      <td>1</td>\n",
       "      <td>1</td>\n",
       "      <td>...</td>\n",
       "      <td>1</td>\n",
       "      <td>1</td>\n",
       "      <td>1</td>\n",
       "      <td>1</td>\n",
       "      <td>1</td>\n",
       "      <td>0</td>\n",
       "      <td>1</td>\n",
       "      <td>1</td>\n",
       "      <td>1</td>\n",
       "      <td>1</td>\n",
       "    </tr>\n",
       "    <tr>\n",
       "      <th>MPS</th>\n",
       "      <td>0</td>\n",
       "      <td>0</td>\n",
       "      <td>1</td>\n",
       "      <td>0</td>\n",
       "      <td>1</td>\n",
       "      <td>1</td>\n",
       "      <td>0</td>\n",
       "      <td>1</td>\n",
       "      <td>1</td>\n",
       "      <td>1</td>\n",
       "      <td>...</td>\n",
       "      <td>1</td>\n",
       "      <td>1</td>\n",
       "      <td>1</td>\n",
       "      <td>1</td>\n",
       "      <td>1</td>\n",
       "      <td>1</td>\n",
       "      <td>1</td>\n",
       "      <td>1</td>\n",
       "      <td>1</td>\n",
       "      <td>1</td>\n",
       "    </tr>\n",
       "    <tr>\n",
       "      <th>DLL1pPXM</th>\n",
       "      <td>0</td>\n",
       "      <td>1</td>\n",
       "      <td>1</td>\n",
       "      <td>1</td>\n",
       "      <td>1</td>\n",
       "      <td>1</td>\n",
       "      <td>0</td>\n",
       "      <td>1</td>\n",
       "      <td>0</td>\n",
       "      <td>1</td>\n",
       "      <td>...</td>\n",
       "      <td>1</td>\n",
       "      <td>0</td>\n",
       "      <td>0</td>\n",
       "      <td>1</td>\n",
       "      <td>0</td>\n",
       "      <td>1</td>\n",
       "      <td>0</td>\n",
       "      <td>0</td>\n",
       "      <td>1</td>\n",
       "      <td>1</td>\n",
       "    </tr>\n",
       "    <tr>\n",
       "      <th>ESMT</th>\n",
       "      <td>0</td>\n",
       "      <td>1</td>\n",
       "      <td>1</td>\n",
       "      <td>1</td>\n",
       "      <td>1</td>\n",
       "      <td>1</td>\n",
       "      <td>1</td>\n",
       "      <td>1</td>\n",
       "      <td>1</td>\n",
       "      <td>1</td>\n",
       "      <td>...</td>\n",
       "      <td>0</td>\n",
       "      <td>0</td>\n",
       "      <td>0</td>\n",
       "      <td>1</td>\n",
       "      <td>0</td>\n",
       "      <td>1</td>\n",
       "      <td>0</td>\n",
       "      <td>0</td>\n",
       "      <td>1</td>\n",
       "      <td>1</td>\n",
       "    </tr>\n",
       "    <tr>\n",
       "      <th>Sclrtm</th>\n",
       "      <td>0</td>\n",
       "      <td>1</td>\n",
       "      <td>1</td>\n",
       "      <td>1</td>\n",
       "      <td>0</td>\n",
       "      <td>0</td>\n",
       "      <td>0</td>\n",
       "      <td>0</td>\n",
       "      <td>1</td>\n",
       "      <td>0</td>\n",
       "      <td>...</td>\n",
       "      <td>0</td>\n",
       "      <td>0</td>\n",
       "      <td>0</td>\n",
       "      <td>0</td>\n",
       "      <td>0</td>\n",
       "      <td>1</td>\n",
       "      <td>0</td>\n",
       "      <td>0</td>\n",
       "      <td>0</td>\n",
       "      <td>0</td>\n",
       "    </tr>\n",
       "    <tr>\n",
       "      <th>D5CntrlDrmmtm</th>\n",
       "      <td>0</td>\n",
       "      <td>1</td>\n",
       "      <td>1</td>\n",
       "      <td>1</td>\n",
       "      <td>0</td>\n",
       "      <td>1</td>\n",
       "      <td>0</td>\n",
       "      <td>1</td>\n",
       "      <td>1</td>\n",
       "      <td>1</td>\n",
       "      <td>...</td>\n",
       "      <td>0</td>\n",
       "      <td>0</td>\n",
       "      <td>0</td>\n",
       "      <td>0</td>\n",
       "      <td>0</td>\n",
       "      <td>1</td>\n",
       "      <td>0</td>\n",
       "      <td>0</td>\n",
       "      <td>1</td>\n",
       "      <td>1</td>\n",
       "    </tr>\n",
       "    <tr>\n",
       "      <th>D2LtM</th>\n",
       "      <td>0</td>\n",
       "      <td>1</td>\n",
       "      <td>1</td>\n",
       "      <td>1</td>\n",
       "      <td>1</td>\n",
       "      <td>1</td>\n",
       "      <td>0</td>\n",
       "      <td>1</td>\n",
       "      <td>1</td>\n",
       "      <td>1</td>\n",
       "      <td>...</td>\n",
       "      <td>0</td>\n",
       "      <td>0</td>\n",
       "      <td>0</td>\n",
       "      <td>1</td>\n",
       "      <td>0</td>\n",
       "      <td>1</td>\n",
       "      <td>0</td>\n",
       "      <td>0</td>\n",
       "      <td>1</td>\n",
       "      <td>1</td>\n",
       "    </tr>\n",
       "  </tbody>\n",
       "</table>\n",
       "<p>7 rows × 82 columns</p>\n",
       "</div>"
      ],
      "text/plain": [
       "               ENSG00000008311  ENSG00000018625  ENSG00000019549  \\\n",
       "hESC                         1                1                0   \n",
       "MPS                          0                0                1   \n",
       "DLL1pPXM                     0                1                1   \n",
       "ESMT                         0                1                1   \n",
       "Sclrtm                       0                1                1   \n",
       "D5CntrlDrmmtm                0                1                1   \n",
       "D2LtM                        0                1                1   \n",
       "\n",
       "               ENSG00000026025  ENSG00000039068  ENSG00000042493  \\\n",
       "hESC                         0                1                1   \n",
       "MPS                          0                1                1   \n",
       "DLL1pPXM                     1                1                1   \n",
       "ESMT                         1                1                1   \n",
       "Sclrtm                       1                0                0   \n",
       "D5CntrlDrmmtm                1                0                1   \n",
       "D2LtM                        1                1                1   \n",
       "\n",
       "               ENSG00000053438  ENSG00000075340  ENSG00000079102  \\\n",
       "hESC                         0                1                1   \n",
       "MPS                          0                1                1   \n",
       "DLL1pPXM                     0                1                0   \n",
       "ESMT                         1                1                1   \n",
       "Sclrtm                       0                0                1   \n",
       "D5CntrlDrmmtm                0                1                1   \n",
       "D2LtM                        0                1                1   \n",
       "\n",
       "               ENSG00000092068  ...  ENSG00000237515  ENSG00000240563  \\\n",
       "hESC                         1  ...                1                1   \n",
       "MPS                          1  ...                1                1   \n",
       "DLL1pPXM                     1  ...                1                0   \n",
       "ESMT                         1  ...                0                0   \n",
       "Sclrtm                       0  ...                0                0   \n",
       "D5CntrlDrmmtm                1  ...                0                0   \n",
       "D2LtM                        1  ...                0                0   \n",
       "\n",
       "               ENSG00000241186  ENSG00000243004  ENSG00000249532  \\\n",
       "hESC                         1                1                1   \n",
       "MPS                          1                1                1   \n",
       "DLL1pPXM                     0                1                0   \n",
       "ESMT                         0                1                0   \n",
       "Sclrtm                       0                0                0   \n",
       "D5CntrlDrmmtm                0                0                0   \n",
       "D2LtM                        0                1                0   \n",
       "\n",
       "               ENSG00000250305  ENSG00000254277  ENSG00000254339  \\\n",
       "hESC                         0                1                1   \n",
       "MPS                          1                1                1   \n",
       "DLL1pPXM                     1                0                0   \n",
       "ESMT                         1                0                0   \n",
       "Sclrtm                       1                0                0   \n",
       "D5CntrlDrmmtm                1                0                0   \n",
       "D2LtM                        1                0                0   \n",
       "\n",
       "               ENSG00000260342  ENSG00000260834  \n",
       "hESC                         1                1  \n",
       "MPS                          1                1  \n",
       "DLL1pPXM                     1                1  \n",
       "ESMT                         1                1  \n",
       "Sclrtm                       0                0  \n",
       "D5CntrlDrmmtm                1                1  \n",
       "D2LtM                        1                1  \n",
       "\n",
       "[7 rows x 82 columns]"
      ]
     },
     "execution_count": 168,
     "metadata": {},
     "output_type": "execute_result"
    }
   ],
   "source": [
    "rho_drop=rho_drop.iloc[:,~rho_drop.apply(lambda x : np.all(x==1) | np.all(x==0) ,axis=0).values]\n",
    "rho_drop"
   ]
  },
  {
   "cell_type": "code",
   "execution_count": 137,
   "metadata": {},
   "outputs": [
    {
     "data": {
      "text/plain": [
       "(7, 82)"
      ]
     },
     "execution_count": 137,
     "metadata": {},
     "output_type": "execute_result"
    }
   ],
   "source": [
    "rho_drop.shape"
   ]
  },
  {
   "cell_type": "code",
   "execution_count": 138,
   "metadata": {},
   "outputs": [
    {
     "data": {
      "text/plain": [
       "(446, 82)"
      ]
     },
     "execution_count": 138,
     "metadata": {},
     "output_type": "execute_result"
    }
   ],
   "source": [
    "Y=exp_data[list(map(lambda x: exp_data_row.index(x),rho_drop.columns))].transpose().astype(float)\n",
    "Y.shape"
   ]
  },
  {
   "cell_type": "code",
   "execution_count": 145,
   "metadata": {},
   "outputs": [],
   "source": [
    "device=device_cuda_list[3]#\n",
    "\n",
    "model=Custom_Model_Trick(Y,rho_drop.values,X_col=X.shape[1],delta_min=2,LOWER_BOUND=LOWER_BOUND,THETA_LOWER_BOUND=THETA_LOWER_BOUND).to(device)\n",
    "optimizer = optim.Adam(model.parameters(),lr=LR)#,betas=(0.92, 0.999))\n",
    "\n",
    "\n",
    "cell_dataset=Cell_Dataset(Y,X,s)\n",
    "cell_dataloader=DataLoader(dataset=cell_dataset,shuffle=False,batch_size=BATCH_SIZE,num_workers=NUM_WORKERS)"
   ]
  },
  {
   "cell_type": "code",
   "execution_count": 147,
   "metadata": {},
   "outputs": [
    {
     "name": "stdout",
     "output_type": "stream",
     "text": [
      "Start time: 2020-05-25 16:22:10\n",
      "tensor(-22739834.3603, device='cuda:2')\n",
      "M: 0, Q: 22739834.360283792 Q_diff: -2.0\n",
      "M: 20, Q: 5492117.285699237 Q_diff: 0.7584803302133334\n",
      "M: 40, Q: 4145269.8636232605 Q_diff: 0.24523282224561974\n",
      "M: 60, Q: 3739556.327632409 Q_diff: 0.09787385365454325\n",
      "M: 80, Q: 3584281.7179620974 Q_diff: 0.04152220104907987\n",
      "M: 100, Q: 3525333.9859702424 Q_diff: 0.016446177122865963\n",
      "M: 120, Q: 3500120.423843864 Q_diff: 0.007152105935698813\n",
      "M: 140, Q: 3483718.042135751 Q_diff: 0.004686233535387839\n",
      "M: 160, Q: 3472978.306959586 Q_diff: 0.003082837085627195\n",
      "M: 180, Q: 3466013.526493164 Q_diff: 0.0020054200892834673\n",
      "M: 200, Q: 3461049.7615755377 Q_diff: 0.0014321250853998465\n",
      "M: 220, Q: 3457166.4904986117 Q_diff: 0.0011219922695241138\n",
      "M: 240, Q: 3454010.9055431033 Q_diff: 0.0009127662680350806\n",
      "M: 260, Q: 3451762.5511061177 Q_diff: 0.0006509401673797423\n",
      "M: 280, Q: 3450160.2885736125 Q_diff: 0.00046418677669231957\n",
      "M: 300, Q: 3448945.638555525 Q_diff: 0.00035205611232333694\n",
      "M: 320, Q: 3448136.631519798 Q_diff: 0.0002345664792981506\n",
      "M: 340, Q: 3447549.2425234364 Q_diff: 0.0001703496871302509\n",
      "M: 360, Q: 3447109.4305526298 Q_diff: 0.00012757235353794683\n",
      "M: 380, Q: 3446765.2223732206 Q_diff: 9.985414920638817e-05\n",
      "M: 400, Q: 3446486.36881463 Q_diff: 8.090297441223312e-05\n",
      "M: 420, Q: 3446245.3367867107 Q_diff: 6.9935581379424e-05\n",
      "M: 440, Q: 3446067.239393414 Q_diff: 5.167867516440879e-05\n",
      "M: 460, Q: 3445934.3767345017 Q_diff: 3.855486549812731e-05\n",
      "M: 480, Q: 3445821.2937427154 Q_diff: 3.28163509293125e-05\n",
      "M: 500, Q: 3445762.875584821 Q_diff: 1.695333359284945e-05\n",
      "M: 520, Q: 3445730.4947702023 Q_diff: 9.397284661789434e-06\n",
      "M: 540, Q: 3445659.793564439 Q_diff: 2.0518495532604122e-05\n",
      "M: 560, Q: 3445553.6078577363 Q_diff: 3.081723474292293e-05\n",
      "M: 580, Q: 3445484.512782613 Q_diff: 2.00534030194461e-05\n",
      "M: 600, Q: 3445436.226346446 Q_diff: 1.4014411032025687e-05\n",
      "M: 620, Q: 3445394.978081446 Q_diff: 1.1971855605581769e-05\n",
      "M: 640, Q: 3445358.0617223 Q_diff: 1.0714695813100168e-05\n",
      "M: 660, Q: 3445324.851519186 Q_diff: 9.639115156978558e-06\n",
      "M: 680, Q: 3445294.997358216 Q_diff: 8.66512223278829e-06\n",
      "M: 700, Q: 3445268.238926545 Q_diff: 7.766659079035356e-06\n",
      "M: 720, Q: 3445244.356155594 Q_diff: 6.932049783835474e-06\n",
      "M: 740, Q: 3445223.156495006 Q_diff: 6.153311172305838e-06\n",
      "M: 760, Q: 3445205.0592249855 Q_diff: 5.25285858077623e-06\n",
      "M: 780, Q: 3445189.9537706124 Q_diff: 4.384486297187621e-06\n",
      "M: 800, Q: 3445177.195495609 Q_diff: 3.7032138066027604e-06\n",
      "M: 820, Q: 3445166.3460299037 Q_diff: 3.149174945091203e-06\n",
      "M: 840, Q: 3445157.115347269 Q_diff: 2.679314061390868e-06\n",
      "M: 860, Q: 3445149.343247519 Q_diff: 2.255949290525476e-06\n",
      "M: 880, Q: 3445144.3394725034 Q_diff: 1.4524116422647244e-06\n",
      "M: 900, Q: 3445141.452804496 Q_diff: 8.37894649080848e-07\n",
      "M: 920, Q: 3445139.3700326467 Q_diff: 6.04553362433754e-07\n",
      "M: 940, Q: 3445137.6266763876 Q_diff: 5.060335945298904e-07\n",
      "M: 960, Q: 3445136.099344363 Q_diff: 4.433297563564222e-07\n",
      "M: 980, Q: 3445134.749770149 Q_diff: 3.917332073192559e-07\n",
      "M: 1000, Q: 3445422.415591358 Q_diff: -8.349914941012875e-05\n",
      "M: 1020, Q: 3444902.305042687 Q_diff: 0.000150956975933549\n",
      "M: 1040, Q: 3444830.386970206 Q_diff: 2.0876665319487835e-05\n",
      "M: 1060, Q: 3444821.117100636 Q_diff: 2.6909509406376676e-06\n",
      "M: 1080, Q: 3444819.593336765 Q_diff: 4.423346870629069e-07\n",
      "M: 1100, Q: 3444818.844594985 Q_diff: 2.173529731008267e-07\n",
      "M: 1120, Q: 3444818.3041195534 Q_diff: 1.5689516800340616e-07\n",
      "M: 1140, Q: 3444817.8325701174 Q_diff: 1.368865914990151e-07\n",
      "M: 1160, Q: 3444817.421530815 Q_diff: 1.1932105631390247e-07\n",
      "M: 1180, Q: 3444817.0611258065 Q_diff: 1.0462238319394935e-07\n",
      "M: 1200, Q: 3444816.790857303 Q_diff: 7.845656207014667e-08\n",
      "M break\n",
      "EM: 0, LL: -3444816.790857303 LL_diff: 0.8485117905311641\n",
      "M: 0, Q: 3444816.804246992 Q_diff: -3.886908863206082e-09\n",
      "M: 20, Q: 3445069.0362487254 Q_diff: -7.322073017715562e-05\n",
      "M: 40, Q: 3444867.410614386 Q_diff: 5.8525861809352586e-05\n",
      "M: 60, Q: 3444822.4245208874 Q_diff: 1.3058875171843908e-05\n",
      "M: 80, Q: 3444816.0866692476 Q_diff: 1.8398195491073845e-06\n",
      "M: 100, Q: 3444815.8026059046 Q_diff: 8.246110556031056e-08\n",
      "M break\n",
      "EM: 1, LL: -3444815.8026059046 LL_diff: 2.868806843198103e-07\n",
      "M: 0, Q: 3444815.744819801 Q_diff: 1.677480222888867e-08\n",
      "M: 20, Q: 3444815.5477570808 Q_diff: 5.720559085788879e-08\n",
      "M break\n",
      "EM: 2, LL: -3444815.5477570808 LL_diff: 7.398039212716499e-08\n",
      "EM break\n",
      "End time: 2020-05-25 16:22:15\n"
     ]
    },
    {
     "data": {
      "text/plain": [
       "(tensor([[1., 0., 0.,  ..., 0., 0., 0.],\n",
       "         [1., 0., 0.,  ..., 0., 0., 0.],\n",
       "         [1., 0., 0.,  ..., 0., 0., 0.],\n",
       "         ...,\n",
       "         [0., 0., 0.,  ..., 0., 0., 1.],\n",
       "         [0., 0., 0.,  ..., 0., 0., 1.],\n",
       "         [0., 0., 0.,  ..., 0., 0., 1.]], device='cuda:2'),\n",
       " tensor(3444815.5478, device='cuda:2', grad_fn=<NegBackward>),\n",
       " tensor(-3444815.5478, device='cuda:2'))"
      ]
     },
     "execution_count": 147,
     "metadata": {},
     "output_type": "execute_result"
    }
   ],
   "source": [
    "run_EM_trick(model,optimizer,LL_diff_tolerance=1e-3*LL_diff_tolerance,Q_diff_tolerance=1e-3*Q_diff_tolerance)"
   ]
  },
  {
   "cell_type": "code",
   "execution_count": 148,
   "metadata": {},
   "outputs": [
    {
     "data": {
      "text/plain": [
       "(array([0, 1, 2, 3, 4, 5, 6]), array([55, 85, 75, 43, 61, 72, 55]))"
      ]
     },
     "execution_count": 148,
     "metadata": {},
     "output_type": "execute_result"
    },
    {
     "data": {
      "image/png": "[encoded data removed]",
      "text/plain": [
       "<Figure size 1080x1080 with 1 Axes>"
      ]
     },
     "metadata": {
      "needs_background": "light"
     },
     "output_type": "display_data"
    }
   ],
   "source": [
    "import seaborn as sns\n",
    "\n",
    "plt.rcParams[\"figure.figsize\"] = (15,15)\n",
    "plt.rcParams[\"font.size\"] = 15\n",
    "plt.rcParams['font.family']='Arial'\n",
    "\n",
    "\n",
    "plot_value=np.argmax(gamma_new.cpu().numpy(),axis=1)\n",
    "\n",
    "sns.scatterplot(x=\"tSNE_1\", y=\"tSNE_2\",hue=plot_value,style=np.array((list(range(0,2))*30))[plot_value],\n",
    "                data=exp_data_meta,s=40,palette=plt.cm.rainbow)#,linewidth=0.3)\n",
    "\n",
    "np.unique(plot_value,return_counts=True)"
   ]
  },
  {
   "cell_type": "code",
   "execution_count": 149,
   "metadata": {},
   "outputs": [
    {
     "name": "stdout",
     "output_type": "stream",
     "text": [
      "4800"
     ]
    }
   ],
   "source": [
    "import statsmodels.api as sm\n",
    "import sys\n",
    "\n",
    "label=np.argmax(gamma_new.cpu().numpy(),axis=1)\n",
    "label=list(map(lambda x: np.unique(label,return_counts=True)[0].tolist().index(x),label))\n",
    "\n",
    "#exp_data_col_patient=pd.Series(exp_data_col).str.slice(start=1,stop=2).astype(int).values\n",
    "#x_data_covariate=np.eye(len(np.unique(exp_data_col_patient)))[exp_data_col_patient-1]\n",
    "x_data_intercept=np.array([np.ones(Y.shape[0])]).transpose()\n",
    "x_data_null=np.concatenate([x_data_intercept],axis=1)\n",
    "x_data_null_test=np.concatenate([x_data_intercept,np.eye(max(label)+1)[label]],axis=1)\n",
    "x_data_null_test=x_data_null_test[:,:-1]\n",
    "\n",
    "family=sm.families.Poisson(link=sm.families.links.log())\n",
    "\n",
    "data_list=[]\n",
    "data_list_=[]\n",
    "for exp_data_row_idx in range(exp_data.shape[0]):\n",
    "    if exp_data_row_idx%100==0:\n",
    "        sys.stdout.write('\\r{}'.format(exp_data_row_idx))\n",
    "    y_data=exp_data[exp_data_row_idx,:]\n",
    "    \n",
    "    model=sm.GLM(y_data,x_data_null_test,family=family)\n",
    "    model_result=model.fit()\n",
    "    \n",
    "    model_=sm.GLM(y_data,x_data_null,family=family)\n",
    "    model_result_=model_.fit()\n",
    "    \n",
    "    data_list.append({\n",
    "        'llf':model_result.llf,\n",
    "        'deviance':model_result.deviance,\n",
    "        'pearson_chi2':model_result.pearson_chi2,\n",
    "        'llnull':model_result.llnull,\n",
    "        'null_deviance':model_result.null_deviance\n",
    "    })\n",
    "    \n",
    "    data_list_.append({\n",
    "        'llf':model_result_.llf,\n",
    "        'deviance':model_result_.deviance,\n",
    "        'pearson_chi2':model_result_.pearson_chi2,\n",
    "        'llnull':model_result_.llnull,\n",
    "        'null_deviance':model_result_.null_deviance\n",
    "    })    \n",
    "    \n",
    "    #ll_list.append([model_result.llf,model_result.deviance,model_result.pearson_chi2])\n",
    "#model_result.llf,model_result.llnull,model_result.null_deviance,model_result.null"
   ]
  },
  {
   "cell_type": "code",
   "execution_count": 150,
   "metadata": {},
   "outputs": [],
   "source": [
    "data_full=pd.DataFrame(data_list)\n",
    "data_null=pd.DataFrame(data_list_)"
   ]
  },
  {
   "cell_type": "code",
   "execution_count": 151,
   "metadata": {},
   "outputs": [
    {
     "data": {
      "text/plain": [
       "122"
      ]
     },
     "execution_count": 151,
     "metadata": {},
     "output_type": "execute_result"
    }
   ],
   "source": [
    "np.sum(np.argmax(gamma_new.cpu().numpy(),axis=1)==exp_data_meta_clusterid_clusteridunique)"
   ]
  },
  {
   "cell_type": "code",
   "execution_count": 152,
   "metadata": {},
   "outputs": [
    {
     "data": {
      "text/plain": [
       "(7, 82)"
      ]
     },
     "execution_count": 152,
     "metadata": {},
     "output_type": "execute_result"
    }
   ],
   "source": [
    "rho_drop.shape"
   ]
  },
  {
   "cell_type": "code",
   "execution_count": 153,
   "metadata": {},
   "outputs": [],
   "source": [
    "marker_unique_exp_data_idx=list(map(lambda x: exp_data_row.index(x), rho.columns))\n",
    "marker_unique_exp_data_idx_bool=np.array(list(map(lambda x: x in marker_unique_exp_data_idx, np.arange(exp_data.shape[0]))))\n",
    "\n",
    "marker_unique_exp_data_idx_drop=list(map(lambda x: exp_data_row.index(x), rho_drop.columns))\n",
    "marker_unique_exp_data_idx_bool_drop=np.array(list(map(lambda x: x in marker_unique_exp_data_idx_drop, np.arange(exp_data.shape[0]))))"
   ]
  },
  {
   "cell_type": "markdown",
   "metadata": {},
   "source": [
    "## deviance of null model"
   ]
  },
  {
   "cell_type": "code",
   "execution_count": 154,
   "metadata": {},
   "outputs": [
    {
     "data": {
      "image/png": "[encoded data removed]",
      "text/plain": [
       "<Figure size 1080x1080 with 1 Axes>"
      ]
     },
     "metadata": {
      "needs_background": "light"
     },
     "output_type": "display_data"
    },
    {
     "data": {
      "text/plain": [
       "\"\\ndata_full['null_deviance'][marker_unique_exp_data_idx_bool].hist(alpha=0.5,density=True)\\ndata_full['null_deviance'][~marker_unique_exp_data_idx_bool].hist(bins=50,alpha=0.5,density=True)\\n\\ndata_full['deviance'][marker_unique_exp_data_idx_bool].hist(alpha=0.5,density=True)\\ndata_full['deviance'][~marker_unique_exp_data_idx_bool].hist(bins=50,alpha=0.5,density=True)\\n\""
      ]
     },
     "execution_count": 154,
     "metadata": {},
     "output_type": "execute_result"
    }
   ],
   "source": [
    "plt.hist(\n",
    "    x=[\n",
    "        np.log10(data_full['null_deviance'])[marker_unique_exp_data_idx_bool].repeat(10),# np.sum(~marker_unique_exp_data_idx_bool)/np.sum(marker_unique_exp_data_idx_bool) ),\n",
    "        np.log10(data_full['null_deviance'])[~marker_unique_exp_data_idx_bool],\n",
    "    ],\n",
    "    bins=30,\n",
    "    histtype='barstacked',\n",
    "    color=['blue','grey'],\n",
    "    alpha=0.7\n",
    ")\n",
    "plt.hist(\n",
    "    x=np.log10(data_full['null_deviance'])[pd.Index(marker_unique_exp_data_idx).difference(pd.Index(marker_unique_exp_data_idx_drop))].repeat(50),\n",
    "    bins=20,\n",
    "    alpha=0.3,\n",
    "    color='white',\n",
    "    edgecolor='black',\n",
    "    linewidth=3\n",
    ")\n",
    "plt.show()\n",
    "\n",
    "\"\"\"\n",
    "data_full['null_deviance'][marker_unique_exp_data_idx_bool].hist(alpha=0.5,density=True)\n",
    "data_full['null_deviance'][~marker_unique_exp_data_idx_bool].hist(bins=50,alpha=0.5,density=True)\n",
    "\n",
    "data_full['deviance'][marker_unique_exp_data_idx_bool].hist(alpha=0.5,density=True)\n",
    "data_full['deviance'][~marker_unique_exp_data_idx_bool].hist(bins=50,alpha=0.5,density=True)\n",
    "\"\"\""
   ]
  },
  {
   "cell_type": "markdown",
   "metadata": {},
   "source": [
    "## deviance of full model"
   ]
  },
  {
   "cell_type": "code",
   "execution_count": 155,
   "metadata": {},
   "outputs": [
    {
     "data": {
      "image/png": "[encoded data removed]",
      "text/plain": [
       "<Figure size 1080x1080 with 1 Axes>"
      ]
     },
     "metadata": {
      "needs_background": "light"
     },
     "output_type": "display_data"
    }
   ],
   "source": [
    "plt.hist(\n",
    "    x=[\n",
    "        np.log10(data_full['deviance'])[marker_unique_exp_data_idx_bool].repeat(10),# np.sum(~marker_unique_exp_data_idx_bool)/np.sum(marker_unique_exp_data_idx_bool) ),\n",
    "        np.log10(data_full['deviance'])[~marker_unique_exp_data_idx_bool],\n",
    "    ],\n",
    "    bins=30, \n",
    "    histtype='barstacked',\n",
    "    color=['blue','grey'],\n",
    "    alpha=0.7    \n",
    "    \n",
    ")\n",
    "plt.hist(\n",
    "    np.log10(data_full['deviance'])[pd.Index(marker_unique_exp_data_idx).difference(pd.Index(marker_unique_exp_data_idx_drop))].repeat(50),\n",
    "    bins=20,\n",
    "    alpha=0.3,\n",
    "    color='white',\n",
    "    edgecolor='black',\n",
    "    linewidth=3\n",
    ")\n",
    "plt.show()"
   ]
  },
  {
   "cell_type": "markdown",
   "metadata": {},
   "source": [
    "# 3. Case of lost types and markers + 5 redundant clusters"
   ]
  },
  {
   "cell_type": "code",
   "execution_count": 156,
   "metadata": {},
   "outputs": [],
   "source": [
    "def run_EM_(model,optimizer,LL_diff_tolerance,Q_diff_tolerance):\n",
    "    global gamma_new,Q_new,LL_new\n",
    "    \n",
    "    print('Start time:',datetime.datetime.now().strftime('%Y-%m-%d %H:%M:%S'))\n",
    "    \n",
    "    with torch.no_grad():\n",
    "        for batch_idx,batch in enumerate(cell_dataloader):\n",
    "            batch_Y=batch['Y'].to(device)\n",
    "            batch_X=batch['X'].to(device)\n",
    "            batch_s=batch['s'].to(device)\n",
    "        gamma_fixed,_,LL_old=model(batch_Y,batch_X,batch_s,gamma_fixed=None,mode='LL')\n",
    "        _,Q_old,_=model(batch_Y,batch_X,batch_s,gamma_fixed=gamma_fixed,mode='M')\n",
    "\n",
    "    print(LL_old)\n",
    "    print(Q_old)\n",
    "\n",
    "    for em_idx in range(EM_ITER_MAX):#\n",
    "        #optimizer = optim.Adam(model.parameters(),lr=0.1,eps=1e-3,betas=(0.9,0.999))\n",
    "        LL_new=torch.zeros_like(LL_old)\n",
    "        #optimizer = optim.Adam(model.parameters(),lr=LR)\n",
    "        for batch_idx,batch in enumerate(cell_dataloader):\n",
    "            # It is usually just one iteration(batch).\n",
    "            # However, developer of cellAssign may have done this for extreme situation of larse sample size\n",
    "            batch_Y=batch['Y'].to(device)\n",
    "            batch_X=batch['X'].to(device)\n",
    "            batch_s=batch['s'].to(device)\n",
    "\n",
    "            #############\n",
    "            #E-step\n",
    "            ######### ####\n",
    "            with torch.no_grad():\n",
    "                gamma_new,_,_=model(batch_Y,batch_X,batch_s,gamma_fixed=None,mode='E')\n",
    "\n",
    "            #############\n",
    "            #M-step\n",
    "            #############\n",
    "            for m_idx in range(M_ITER_MAX):#\n",
    "            #for m_idx in range(20):#    \n",
    "                optimizer.zero_grad()\n",
    "                _,Q_new,_=model(batch_Y,batch_X,batch_s,gamma_fixed=gamma_new,mode='M')\n",
    "                Q_new.backward()\n",
    "                optimizer.step()\n",
    "                \n",
    "                #Constraint\n",
    "                model.delta_log.data[:-5]=model.delta_log.data.clamp(min=model.delta_log_min)[:-5]\n",
    "                #model.NB_basis_a.data=model.NB_basis_a.data.clamp(min=0)\n",
    "\n",
    "                if m_idx%20==0:\n",
    "                    #print(sorted(model.delta_log.cpu().detach().numpy().flatten())[-10:])\n",
    "                    Q_diff=(Q_old-Q_new)/torch.abs(Q_old)\n",
    "                    Q_old=Q_new\n",
    "                    print('M: {}, Q: {} Q_diff: {}'.format(m_idx,Q_new,Q_diff))    \n",
    "                    if m_idx>0 and torch.abs(Q_diff)<Q_diff_tolerance:\n",
    "                        print('M break')\n",
    "                        break                \n",
    "            #############\n",
    "            #Look at LL\n",
    "            #############\n",
    "            with torch.no_grad():\n",
    "                _,_,LL_temp=model(batch_Y,batch_X,batch_s,gamma_fixed=None,mode='LL')\n",
    "                LL_new+=LL_temp\n",
    "\n",
    "        LL_diff=(LL_new-LL_old)/torch.abs(LL_old)\n",
    "        LL_old=LL_new\n",
    "        print('EM: {}, LL: {} LL_diff: {}'.format(em_idx,LL_new,LL_diff))\n",
    "        if LL_diff<LL_diff_tolerance:\n",
    "            print('EM break')\n",
    "            break\n",
    "    print('End time:',datetime.datetime.now().strftime('%Y-%m-%d %H:%M:%S'))    \n",
    "    return gamma_new,Q_new,LL_new"
   ]
  },
  {
   "cell_type": "code",
   "execution_count": 157,
   "metadata": {},
   "outputs": [
    {
     "data": {
      "text/plain": [
       "82"
      ]
     },
     "execution_count": 157,
     "metadata": {},
     "output_type": "execute_result"
    }
   ],
   "source": [
    "rho_drop.values.shape[1]"
   ]
  },
  {
   "cell_type": "code",
   "execution_count": 158,
   "metadata": {},
   "outputs": [
    {
     "data": {
      "text/plain": [
       "(446, 82)"
      ]
     },
     "execution_count": 158,
     "metadata": {},
     "output_type": "execute_result"
    }
   ],
   "source": [
    "Y=exp_data[list(map(lambda x: exp_data_row.index(x),rho_drop.columns))].transpose().astype(float)\n",
    "Y.shape"
   ]
  },
  {
   "cell_type": "code",
   "execution_count": 159,
   "metadata": {},
   "outputs": [],
   "source": [
    "device=device_cuda_list[3]#\n",
    "\n",
    "model=Custom_Model(Y,\n",
    "                   np.concatenate([rho_drop.values,np.ones((5,rho_drop.values.shape[1]))],axis=0),\n",
    "                   X_col=X.shape[1],delta_min=2,LOWER_BOUND=LOWER_BOUND,THETA_LOWER_BOUND=THETA_LOWER_BOUND).to(device)\n",
    "optimizer = optim.Adamax(model.parameters(),lr=LR)#,betas=(0.92, 0.999))\n",
    "\n",
    "\n",
    "cell_dataset=Cell_Dataset(Y,X,s)\n",
    "cell_dataloader=DataLoader(dataset=cell_dataset,shuffle=False,batch_size=BATCH_SIZE,num_workers=NUM_WORKERS)"
   ]
  },
  {
   "cell_type": "code",
   "execution_count": 160,
   "metadata": {},
   "outputs": [
    {
     "name": "stdout",
     "output_type": "stream",
     "text": [
      "Start time: 2020-05-25 16:23:45\n",
      "tensor(-19311123.0304, device='cuda:2')\n",
      "tensor(19311123.0608, device='cuda:2')\n",
      "M: 0, Q: 19311123.060814645 Q_diff: 0.0\n",
      "M: 20, Q: 6540448.9850907475 Q_diff: 0.6613118271530067\n",
      "M: 40, Q: 6331774.726507688 Q_diff: 0.03190518862829479\n",
      "M: 60, Q: 6239256.990806162 Q_diff: 0.014611659400042184\n",
      "M: 80, Q: 6202341.6953926 Q_diff: 0.005916617229897489\n",
      "M: 100, Q: 6171371.364934873 Q_diff: 0.004993328645652284\n",
      "M: 120, Q: 6142551.584609045 Q_diff: 0.004669915100163844\n",
      "M: 140, Q: 6115720.037696952 Q_diff: 0.004368143521874951\n",
      "M: 160, Q: 6090869.299663789 Q_diff: 0.004063419823010997\n",
      "M: 180, Q: 6068049.579271345 Q_diff: 0.0037465457342358128\n",
      "M: 200, Q: 6047287.210498066 Q_diff: 0.0034215885190201213\n",
      "M: 220, Q: 6028554.335104484 Q_diff: 0.0030977320476959294\n",
      "M: 240, Q: 6011805.021970914 Q_diff: 0.002778329961469954\n",
      "M: 260, Q: 5996904.301300298 Q_diff: 0.0024785768361014248\n",
      "M: 280, Q: 5983650.542605112 Q_diff: 0.002210100083189976\n",
      "M: 300, Q: 5971837.656239431 Q_diff: 0.001974193894106984\n",
      "M: 320, Q: 5961279.132557317 Q_diff: 0.0017680526983319825\n",
      "M: 340, Q: 5951821.048511764 Q_diff: 0.0015865863408236758\n",
      "M: 360, Q: 5943341.657777114 Q_diff: 0.0014246716535219826\n",
      "M: 380, Q: 5935722.514423171 Q_diff: 0.0012819628741976847\n",
      "M: 400, Q: 5928854.853707651 Q_diff: 0.0011570050147783528\n",
      "M: 420, Q: 5922646.479870949 Q_diff: 0.0010471455263944074\n",
      "M: 440, Q: 5917027.730467107 Q_diff: 0.0009486889725628572\n",
      "M: 460, Q: 5911939.438085754 Q_diff: 0.000859940600777117\n",
      "M: 480, Q: 5907341.992560471 Q_diff: 0.0007776543676454871\n",
      "M: 500, Q: 5903190.852614957 Q_diff: 0.0007027085871686996\n",
      "M: 520, Q: 5899433.471399125 Q_diff: 0.0006365000403413649\n",
      "M: 540, Q: 5896023.014134247 Q_diff: 0.0005780991143322484\n",
      "M: 560, Q: 5892919.477828291 Q_diff: 0.0005263779158452495\n",
      "M: 580, Q: 5890089.226969399 Q_diff: 0.00048027991380865\n",
      "M: 600, Q: 5887503.562058576 Q_diff: 0.0004389856946449971\n",
      "M: 620, Q: 5885136.756771918 Q_diff: 0.00040200490100942524\n",
      "M: 640, Q: 5882965.987038149 Q_diff: 0.0003688562939972388\n",
      "M: 660, Q: 5880971.420495795 Q_diff: 0.00033904097809643634\n",
      "M: 680, Q: 5879135.467827283 Q_diff: 0.0003121852730169296\n",
      "M: 700, Q: 5877442.52368339 Q_diff: 0.00028795800898917686\n",
      "M: 720, Q: 5875878.704218007 Q_diff: 0.0002660714178116558\n",
      "M: 740, Q: 5874431.631252892 Q_diff: 0.0002462734576320635\n",
      "M: 760, Q: 5873090.266606835 Q_diff: 0.0002283394769497919\n",
      "M: 780, Q: 5871845.597981909 Q_diff: 0.00021192737867530373\n",
      "M: 800, Q: 5870689.689645279 Q_diff: 0.00019685605102207803\n",
      "M: 820, Q: 5869615.935998415 Q_diff: 0.00018290076696754083\n",
      "M: 840, Q: 5868622.082491057 Q_diff: 0.00016932172704219636\n",
      "M: 860, Q: 5867699.847729302 Q_diff: 0.00015714672861734535\n",
      "M: 880, Q: 5866840.792234669 Q_diff: 0.00014640413056659867\n",
      "M: 900, Q: 5866037.849469794 Q_diff: 0.00013686118190530265\n",
      "M: 920, Q: 5865285.215722943 Q_diff: 0.00012830359540200767\n",
      "M: 940, Q: 5864578.028516049 Q_diff: 0.00012057166546622796\n",
      "M: 960, Q: 5863912.026585936 Q_diff: 0.0001135634868995806\n",
      "M: 980, Q: 5863283.47230231 Q_diff: 0.00010719026492479641\n",
      "M: 1000, Q: 5862689.10707924 Q_diff: 0.00010137071248189537\n",
      "M: 1020, Q: 5862126.88059704 Q_diff: 9.589907838036516e-05\n",
      "M break\n",
      "EM: 0, LL: -4976505.21782428 LL_diff: 0.7422985079640229\n",
      "M: 0, Q: 4976505.910989602 Q_diff: 0.15107502577925097\n",
      "M: 20, Q: 4303012.7492665555 Q_diff: 0.13533454471254094\n",
      "M: 40, Q: 4239779.4986411845 Q_diff: 0.014695111148845435\n",
      "M: 60, Q: 4225173.540442521 Q_diff: 0.0034449806182950955\n",
      "M: 80, Q: 4220127.687997142 Q_diff: 0.0011942355496362465\n",
      "M: 100, Q: 4217192.39215875 Q_diff: 0.0006955466884900086\n",
      "M: 120, Q: 4214981.383871414 Q_diff: 0.0005242844247390093\n",
      "M: 140, Q: 4213142.9598688185 Q_diff: 0.0004361642045751276\n",
      "M: 160, Q: 4211515.702497933 Q_diff: 0.000386233599568178\n",
      "M: 180, Q: 4209998.504425116 Q_diff: 0.0003602498910112804\n",
      "M: 200, Q: 4208652.3182570655 Q_diff: 0.000319759298402463\n",
      "M: 220, Q: 4207430.984353253 Q_diff: 0.0002901959609527916\n",
      "M: 240, Q: 4206292.631314924 Q_diff: 0.00027055774475256956\n",
      "M: 260, Q: 4205227.394943995 Q_diff: 0.0002532482792562113\n",
      "M: 280, Q: 4204227.467712553 Q_diff: 0.00023778196457209663\n",
      "M: 300, Q: 4203286.672483051 Q_diff: 0.00022377362707586622\n",
      "M: 320, Q: 4202400.1342543885 Q_diff: 0.00021091548060864728\n",
      "M: 340, Q: 4201563.554512088 Q_diff: 0.00019907189119885044\n",
      "M: 360, Q: 4200773.477708986 Q_diff: 0.00018804352066832097\n",
      "M: 380, Q: 4200027.207320961 Q_diff: 0.00017765070932409795\n",
      "M: 400, Q: 4199321.877914067 Q_diff: 0.00016793448520151732\n",
      "M: 420, Q: 4198655.459400216 Q_diff: 0.00015869669752066514\n",
      "M: 440, Q: 4198030.030979822 Q_diff: 0.0001489592147870764\n",
      "M: 460, Q: 4197444.71132507 Q_diff: 0.00013942721953703758\n",
      "M: 480, Q: 4196896.809415937 Q_diff: 0.0001305322515992173\n",
      "M: 500, Q: 4196381.941888027 Q_diff: 0.00012267814799624772\n",
      "M: 520, Q: 4195896.774800409 Q_diff: 0.00011561556939690201\n",
      "M: 540, Q: 4195440.153681848 Q_diff: 0.00010882563205624953\n",
      "M: 560, Q: 4195011.097725796 Q_diff: 0.00010226720924050935\n",
      "M: 580, Q: 4194608.360297488 Q_diff: 9.600390056795458e-05\n",
      "M break\n",
      "EM: 1, LL: -3783533.397561238 LL_diff: 0.23972080165618864\n",
      "M: 0, Q: 3783533.398259768 Q_diff: 0.09800079691076719\n",
      "M: 20, Q: 3462405.9286309285 Q_diff: 0.08487501914917456\n",
      "M: 40, Q: 3433769.1040502875 Q_diff: 0.008270787761723911\n",
      "M: 60, Q: 3424686.5937680397 Q_diff: 0.0026450556246005465\n",
      "M: 80, Q: 3418724.161108354 Q_diff: 0.001741015563449091\n",
      "M: 100, Q: 3414698.6050282554 Q_diff: 0.0011775024513219691\n",
      "M: 120, Q: 3411942.382608345 Q_diff: 0.0008071641859846637\n",
      "M: 140, Q: 3409921.686082242 Q_diff: 0.0005922422771271858\n",
      "M: 160, Q: 3408531.6309101474 Q_diff: 0.00040765017500788537\n",
      "M: 180, Q: 3407535.9286640408 Q_diff: 0.0002921205826805904\n",
      "M: 200, Q: 3406717.832016581 Q_diff: 0.00024008452576471912\n",
      "M: 220, Q: 3406008.4032329204 Q_diff: 0.00020824406911352958\n",
      "M: 240, Q: 3405379.542079853 Q_diff: 0.00018463288360376676\n",
      "M: 260, Q: 3404814.2567637763 Q_diff: 0.00016599774242237458\n",
      "M: 280, Q: 3404299.0982341203 Q_diff: 0.00015130297596487925\n",
      "M: 300, Q: 3403843.7861579917 Q_diff: 0.00013374620237238652\n",
      "M: 320, Q: 3403423.019617336 Q_diff: 0.00012361511487893413\n",
      "M: 340, Q: 3403069.5321145505 Q_diff: 0.00010386234703940621\n",
      "M: 360, Q: 3402769.380725424 Q_diff: 8.82001928829712e-05\n",
      "M break\n",
      "EM: 2, LL: -3316798.602731908 LL_diff: 0.12335950176366207\n",
      "M: 0, Q: 3316798.602731948 Q_diff: 0.025264944042475257\n",
      "M: 20, Q: 3254000.709331051 Q_diff: 0.018933285050582227\n",
      "M: 40, Q: 3248783.264727881 Q_diff: 0.0016033938124870265\n",
      "M: 60, Q: 3247608.9032292278 Q_diff: 0.0003614773294985524\n",
      "M: 80, Q: 3246975.774241891 Q_diff: 0.00019495234992950836\n",
      "M: 100, Q: 3246495.6034245393 Q_diff: 0.0001478824761062503\n",
      "M: 120, Q: 3246083.526588871 Q_diff: 0.00012692973778664733\n",
      "M: 140, Q: 3245715.6590362685 Q_diff: 0.00011332658250763966\n",
      "M: 160, Q: 3245384.783330081 Q_diff: 0.00010194229592055344\n",
      "M: 180, Q: 3245083.6016240683 Q_diff: 9.280308071933786e-05\n",
      "M break\n",
      "EM: 3, LL: -3215986.915063358 LL_diff: 0.030394274643481798\n",
      "M: 0, Q: 3215986.9150633574 Q_diff: 0.00896639043325382\n",
      "M: 20, Q: 3180603.198903168 Q_diff: 0.011002444069176902\n",
      "M: 40, Q: 3177832.8942512143 Q_diff: 0.0008709997691346993\n",
      "M: 60, Q: 3177130.1408248213 Q_diff: 0.00022114234756154998\n",
      "M: 80, Q: 3176721.0689304806 Q_diff: 0.00012875515833748089\n",
      "M: 100, Q: 3176416.5420184145 Q_diff: 9.58620242250858e-05\n",
      "M break\n",
      "EM: 4, LL: -3174538.34079137 LL_diff: 0.012888290707231173\n",
      "M: 0, Q: 3174538.3407913707 Q_diff: 0.0005912956321056922\n",
      "M: 20, Q: 3165259.2264956385 Q_diff: 0.0029229806981695074\n",
      "M: 40, Q: 3164586.3601037543 Q_diff: 0.00021257860533246603\n",
      "M: 60, Q: 3164275.4882309777 Q_diff: 9.823459921835135e-05\n",
      "M break\n",
      "EM: 5, LL: -3159131.823723669 LL_diff: 0.004853151990553683\n",
      "M: 0, Q: 3159131.823723669 Q_diff: 0.001625542569362104\n",
      "M: 20, Q: 3147143.6003220184 Q_diff: 0.00379478415925052\n",
      "M: 40, Q: 3145966.568055705 Q_diff: 0.0003740001778732865\n",
      "M: 60, Q: 3145514.643441354 Q_diff: 0.0001436520714937364\n",
      "M: 80, Q: 3145268.169503209 Q_diff: 7.835726934498971e-05\n",
      "M break\n",
      "EM: 6, LL: -3140906.5730959475 LL_diff: 0.005769069366101841\n",
      "M: 0, Q: 3140906.5730959466 Q_diff: 0.0013867168623499333\n",
      "M: 20, Q: 3128200.2079247353 Q_diff: 0.004045445120861021\n",
      "M: 40, Q: 3126335.542432439 Q_diff: 0.0005960825293638249\n",
      "M: 60, Q: 3125800.0058703464 Q_diff: 0.0001712984914203832\n",
      "M: 80, Q: 3125477.763642517 Q_diff: 0.0001030911213847164\n",
      "M: 100, Q: 3125243.494869534 Q_diff: 7.495454797604095e-05\n",
      "M break\n",
      "EM: 7, LL: -3122236.0259237913 LL_diff: 0.005944317902379651\n",
      "M: 0, Q: 3122236.0259242943 Q_diff: 0.0009623150804655046\n",
      "M: 20, Q: 3117959.457972361 Q_diff: 0.0013697132172022335\n",
      "M: 40, Q: 3116823.892494398 Q_diff: 0.0003642014892333061\n",
      "M: 60, Q: 3116023.149843879 Q_diff: 0.0002569098152922236\n",
      "M: 80, Q: 3115835.1340940716 Q_diff: 6.033836745304335e-05\n",
      "M break\n",
      "EM: 8, LL: -3115387.710624736 LL_diff: 0.0021934008967273043\n",
      "M: 0, Q: 3115387.710624736 Q_diff: 0.00014359664426399774\n",
      "M: 20, Q: 3112862.7338964036 Q_diff: 0.0008104855519976002\n",
      "M: 40, Q: 3112524.215108296 Q_diff: 0.00010874838277367382\n",
      "M: 60, Q: 3112384.2785323686 Q_diff: 4.4959192686132106e-05\n",
      "M break\n",
      "EM: 9, LL: -3111951.4268248207 LL_diff: 0.0011030035806445493\n",
      "M: 0, Q: 3111951.4268248207 Q_diff: 0.00013907399241587623\n",
      "M: 20, Q: 3110950.205830632 Q_diff: 0.00032173413298114346\n",
      "M: 40, Q: 3110819.4318096233 Q_diff: 4.2036680871142584e-05\n",
      "M break\n",
      "EM: 10, LL: -3110750.5331143076 LL_diff: 0.0003858973183712018\n",
      "M: 0, Q: 3110750.5331143076 Q_diff: 2.2148085681598154e-05\n",
      "M: 20, Q: 3107748.722757719 Q_diff: 0.0009649794558046176\n",
      "M: 40, Q: 3107195.9581798166 Q_diff: 0.00017786656104290242\n",
      "M: 60, Q: 3107040.303066846 Q_diff: 5.0095042303608866e-05\n",
      "M break\n",
      "EM: 11, LL: -3107034.129755744 LL_diff: 0.0011946966878257279\n",
      "M: 0, Q: 3107034.1297557433 Q_diff: 1.9868783474022647e-06\n",
      "M: 20, Q: 3106947.25439975 Q_diff: 2.7960863114248174e-05\n",
      "M break\n",
      "EM: 12, LL: -3106943.4698201222 LL_diff: 2.917893136522187e-05\n",
      "EM break\n",
      "End time: 2020-05-25 16:23:55\n"
     ]
    },
    {
     "data": {
      "text/plain": [
       "(tensor([[1., 0., 0.,  ..., 0., 0., 0.],\n",
       "         [1., 0., 0.,  ..., 0., 0., 0.],\n",
       "         [1., 0., 0.,  ..., 0., 0., 0.],\n",
       "         ...,\n",
       "         [0., 0., 0.,  ..., 0., 0., 0.],\n",
       "         [0., 0., 0.,  ..., 0., 0., 0.],\n",
       "         [0., 0., 0.,  ..., 0., 0., 0.]], device='cuda:2'),\n",
       " tensor(3106947.2544, device='cuda:2', grad_fn=<NegBackward>),\n",
       " tensor(-3106943.4698, device='cuda:2'))"
      ]
     },
     "execution_count": 160,
     "metadata": {},
     "output_type": "execute_result"
    }
   ],
   "source": [
    "run_EM_(model,optimizer,LL_diff_tolerance=LL_diff_tolerance,Q_diff_tolerance=Q_diff_tolerance)"
   ]
  },
  {
   "cell_type": "code",
   "execution_count": 164,
   "metadata": {},
   "outputs": [
    {
     "data": {
      "text/plain": [
       "(array([ 0,  1,  2,  3,  4,  5,  7,  8,  9, 10, 11]),\n",
       " array([55, 20, 74, 15, 44,  8, 55, 66, 50, 43, 16]))"
      ]
     },
     "execution_count": 164,
     "metadata": {},
     "output_type": "execute_result"
    },
    {
     "data": {
      "image/png": "[encoded data removed]",
      "text/plain": [
       "<Figure size 1080x1080 with 1 Axes>"
      ]
     },
     "metadata": {
      "needs_background": "light"
     },
     "output_type": "display_data"
    }
   ],
   "source": [
    "import seaborn as sns\n",
    "\n",
    "plt.rcParams[\"figure.figsize\"] = (15,15)\n",
    "plt.rcParams[\"font.size\"] = 15\n",
    "plt.rcParams['font.family']='Arial'\n",
    "\n",
    "\n",
    "plot_value=np.argmax(gamma_new.cpu().numpy(),axis=1)\n",
    "\n",
    "sns.scatterplot(x=\"tSNE_1\", y=\"tSNE_2\",hue=plot_value,style=np.array((list(range(0,2))*30))[plot_value],\n",
    "                data=exp_data_meta,s=40,palette=plt.cm.rainbow)#,linewidth=0.3)\n",
    "\n",
    "np.unique(plot_value,return_counts=True)"
   ]
  },
  {
   "cell_type": "code",
   "execution_count": 162,
   "metadata": {},
   "outputs": [],
   "source": [
    "label=np.argmax(gamma_new.cpu().numpy(),axis=1)\n",
    "label=list(map(lambda x: np.unique(label,return_counts=True)[0].tolist().index(x),label))\n",
    "\n",
    "x_data_intercept=np.array([np.ones(Y.shape[0])]).transpose()\n",
    "x_data_null=np.concatenate([x_data_intercept],axis=1)\n",
    "x_data_null_test=np.concatenate([x_data_intercept,np.eye(max(label)+1)[label]],axis=1)"
   ]
  },
  {
   "cell_type": "code",
   "execution_count": 163,
   "metadata": {},
   "outputs": [
    {
     "data": {
      "text/plain": [
       "(446, 12)"
      ]
     },
     "execution_count": 163,
     "metadata": {},
     "output_type": "execute_result"
    }
   ],
   "source": [
    "x_data_null_test.shape"
   ]
  },
  {
   "cell_type": "code",
   "execution_count": 100,
   "metadata": {},
   "outputs": [
    {
     "name": "stdout",
     "output_type": "stream",
     "text": [
      "4800"
     ]
    }
   ],
   "source": [
    "import statsmodels.api as sm\n",
    "import sys\n",
    "\n",
    "label=np.argmax(gamma_new.cpu().numpy(),axis=1)\n",
    "label=list(map(lambda x: np.unique(label,return_counts=True)[0].tolist().index(x),label))\n",
    "\n",
    "#exp_data_col_patient=pd.Series(exp_data_col).str.slice(start=1,stop=2).astype(int).values\n",
    "#x_data_covariate=np.eye(len(np.unique(exp_data_col_patient)))[exp_data_col_patient-1]\n",
    "x_data_intercept=np.array([np.ones(Y.shape[0])]).transpose()\n",
    "x_data_null=np.concatenate([x_data_intercept],axis=1)\n",
    "x_data_null_test=np.concatenate([x_data_intercept,np.eye(max(label)+1)[label]],axis=1)\n",
    "x_data_null_test=x_data_null_test[:,:-1]\n",
    "\n",
    "family=sm.families.Poisson(link=sm.families.links.log())\n",
    "\n",
    "data_list=[]\n",
    "data_list_=[]\n",
    "for exp_data_row_idx in range(exp_data.shape[0]):\n",
    "    if exp_data_row_idx%100==0:\n",
    "        sys.stdout.write('\\r{}'.format(exp_data_row_idx))\n",
    "    y_data=exp_data[exp_data_row_idx,:]\n",
    "    \n",
    "    model=sm.GLM(y_data,x_data_null_test,family=family)\n",
    "    model_result=model.fit()\n",
    "    \n",
    "    model_=sm.GLM(y_data,x_data_null,family=family)\n",
    "    model_result_=model_.fit()\n",
    "    \n",
    "    data_list.append({\n",
    "        'llf':model_result.llf,\n",
    "        'deviance':model_result.deviance,\n",
    "        'pearson_chi2':model_result.pearson_chi2,\n",
    "        'llnull':model_result.llnull,\n",
    "        'null_deviance':model_result.null_deviance\n",
    "    })\n",
    "    \n",
    "    data_list_.append({\n",
    "        'llf':model_result_.llf,\n",
    "        'deviance':model_result_.deviance,\n",
    "        'pearson_chi2':model_result_.pearson_chi2,\n",
    "        'llnull':model_result_.llnull,\n",
    "        'null_deviance':model_result_.null_deviance\n",
    "    })    \n",
    "    \n",
    "    #ll_list.append([model_result.llf,model_result.deviance,model_result.pearson_chi2])\n",
    "#model_result.llf,model_result.llnull,model_result.null_deviance,model_result.null"
   ]
  },
  {
   "cell_type": "code",
   "execution_count": 101,
   "metadata": {},
   "outputs": [],
   "source": [
    "data_full=pd.DataFrame(data_list)\n",
    "data_null=pd.DataFrame(data_list_)"
   ]
  },
  {
   "cell_type": "code",
   "execution_count": 102,
   "metadata": {},
   "outputs": [
    {
     "data": {
      "text/plain": [
       "6"
      ]
     },
     "execution_count": 102,
     "metadata": {},
     "output_type": "execute_result"
    }
   ],
   "source": [
    "np.sum(np.argmax(gamma_new.cpu().numpy(),axis=1)==exp_data_meta_clusterid_clusteridunique)"
   ]
  },
  {
   "cell_type": "code",
   "execution_count": 103,
   "metadata": {},
   "outputs": [],
   "source": [
    "marker_unique_exp_data_idx=list(map(lambda x: exp_data_row.index(x), rho.columns))\n",
    "marker_unique_exp_data_idx_bool=np.array(list(map(lambda x: x in marker_unique_exp_data_idx, np.arange(exp_data.shape[0]))))\n",
    "\n",
    "marker_unique_exp_data_idx_drop=list(map(lambda x: exp_data_row.index(x), rho_drop.columns))\n",
    "marker_unique_exp_data_idx_bool_drop=np.array(list(map(lambda x: x in marker_unique_exp_data_idx_drop, np.arange(exp_data.shape[0]))))"
   ]
  },
  {
   "cell_type": "markdown",
   "metadata": {},
   "source": [
    "## deviance of null model"
   ]
  },
  {
   "cell_type": "code",
   "execution_count": 104,
   "metadata": {},
   "outputs": [
    {
     "data": {
      "image/png": "[encoded data removed]",
      "text/plain": [
       "<Figure size 1080x1080 with 1 Axes>"
      ]
     },
     "metadata": {
      "needs_background": "light"
     },
     "output_type": "display_data"
    }
   ],
   "source": [
    "plt.hist(\n",
    "    x=[\n",
    "        np.log10(data_full['null_deviance'])[marker_unique_exp_data_idx_bool].repeat(10),# np.sum(~marker_unique_exp_data_idx_bool)/np.sum(marker_unique_exp_data_idx_bool) ),\n",
    "        np.log10(data_full['null_deviance'])[~marker_unique_exp_data_idx_bool],\n",
    "    ],\n",
    "    bins=30,\n",
    "    histtype='barstacked',\n",
    "    color=['blue','grey'],\n",
    "    alpha=0.7\n",
    ")\n",
    "plt.hist(\n",
    "    x=np.log10(data_full['null_deviance'])[pd.Index(marker_unique_exp_data_idx).difference(pd.Index(marker_unique_exp_data_idx_drop))].repeat(50),\n",
    "    bins=20,\n",
    "    alpha=0.3,\n",
    "    color='white',\n",
    "    edgecolor='black',\n",
    "    linewidth=3\n",
    ")\n",
    "plt.show()"
   ]
  },
  {
   "cell_type": "markdown",
   "metadata": {},
   "source": [
    "## deviance of full model"
   ]
  },
  {
   "cell_type": "code",
   "execution_count": 105,
   "metadata": {},
   "outputs": [
    {
     "data": {
      "image/png": "[encoded data removed]",
      "text/plain": [
       "<Figure size 1080x1080 with 1 Axes>"
      ]
     },
     "metadata": {
      "needs_background": "light"
     },
     "output_type": "display_data"
    }
   ],
   "source": [
    "plt.hist(\n",
    "    x=[\n",
    "        np.log10(data_full['deviance'])[marker_unique_exp_data_idx_bool].repeat(10),# np.sum(~marker_unique_exp_data_idx_bool)/np.sum(marker_unique_exp_data_idx_bool) ),\n",
    "        np.log10(data_full['deviance'])[~marker_unique_exp_data_idx_bool],\n",
    "    ],\n",
    "    bins=30, \n",
    "    histtype='barstacked',\n",
    "    color=['blue','grey'],\n",
    "    alpha=0.7    \n",
    "    \n",
    ")\n",
    "plt.hist(\n",
    "    np.log10(data_full['deviance'])[pd.Index(marker_unique_exp_data_idx).difference(pd.Index(marker_unique_exp_data_idx_drop))].repeat(50),\n",
    "    bins=20,\n",
    "    alpha=0.3,\n",
    "    color='white',\n",
    "    edgecolor='black',\n",
    "    linewidth=3\n",
    ")\n",
    "plt.show()"
   ]
  },
  {
   "cell_type": "code",
   "execution_count": 106,
   "metadata": {},
   "outputs": [
    {
     "data": {
      "text/plain": [
       "0       5.546318e+06\n",
       "1       3.463545e+06\n",
       "2       2.936044e+06\n",
       "3       2.622271e+06\n",
       "4       2.580484e+06\n",
       "            ...     \n",
       "3815    6.704426e+03\n",
       "4638    6.474692e+03\n",
       "4143    6.413481e+03\n",
       "4633    4.885225e+03\n",
       "4189    1.165339e+03\n",
       "Name: deviance, Length: 4898, dtype: float64"
      ]
     },
     "execution_count": 106,
     "metadata": {},
     "output_type": "execute_result"
    }
   ],
   "source": [
    "data_full['deviance'].sort_values(ascending=False)"
   ]
  },
  {
   "cell_type": "markdown",
   "metadata": {},
   "source": [
    "# 4. Case of lost types and markers + 4 redundant clusters + recovery"
   ]
  },
  {
   "cell_type": "code",
   "execution_count": 107,
   "metadata": {},
   "outputs": [],
   "source": [
    "def run_EM_(model,optimizer,LL_diff_tolerance,Q_diff_tolerance):\n",
    "    global gamma_new,Q_new,LL_new\n",
    "    \n",
    "    print('Start time:',datetime.datetime.now().strftime('%Y-%m-%d %H:%M:%S'))\n",
    "    \n",
    "    with torch.no_grad():\n",
    "        for batch_idx,batch in enumerate(cell_dataloader):\n",
    "            batch_Y=batch['Y'].to(device)\n",
    "            batch_X=batch['X'].to(device)\n",
    "            batch_s=batch['s'].to(device)\n",
    "        gamma_fixed,_,LL_old=model(batch_Y,batch_X,batch_s,gamma_fixed=None,mode='LL')\n",
    "        _,Q_old,_=model(batch_Y,batch_X,batch_s,gamma_fixed=gamma_fixed,mode='M')\n",
    "\n",
    "    print(LL_old)\n",
    "    print(Q_old)\n",
    "\n",
    "    for em_idx in range(EM_ITER_MAX):#\n",
    "        #optimizer = optim.Adam(model.parameters(),lr=0.1,eps=1e-3,betas=(0.9,0.999))\n",
    "        LL_new=torch.zeros_like(LL_old)\n",
    "        #optimizer = optim.Adam(model.parameters(),lr=LR)\n",
    "        for batch_idx,batch in enumerate(cell_dataloader):\n",
    "            # It is usually just one iteration(batch).\n",
    "            # However, developer of cellAssign may have done this for extreme situation of larse sample size\n",
    "            batch_Y=batch['Y'].to(device)\n",
    "            batch_X=batch['X'].to(device)\n",
    "            batch_s=batch['s'].to(device)\n",
    "\n",
    "            #############\n",
    "            #E-step\n",
    "            ######### ####\n",
    "            with torch.no_grad():\n",
    "                gamma_new,_,_=model(batch_Y,batch_X,batch_s,gamma_fixed=None,mode='E')\n",
    "\n",
    "            #############\n",
    "            #M-step\n",
    "            #############\n",
    "            for m_idx in range(M_ITER_MAX):#\n",
    "            #for m_idx in range(20):#    \n",
    "                optimizer.zero_grad()\n",
    "                _,Q_new,_=model(batch_Y,batch_X,batch_s,gamma_fixed=gamma_new,mode='M')\n",
    "                Q_new.backward()\n",
    "                optimizer.step()\n",
    "                \n",
    "                #Constraint\n",
    "                model.delta_log.data[:-6,:-value]=model.delta_log.data.clamp(min=model.delta_log_min)[:-6,:-value]\n",
    "                #model.NB_basis_a.data=model.NB_basis_a.data.clamp(min=0)\n",
    "\n",
    "                if m_idx%20==0:\n",
    "                    #print(sorted(model.delta_log.cpu().detach().numpy().flatten())[-10:])\n",
    "                    Q_diff=(Q_old-Q_new)/torch.abs(Q_old)\n",
    "                    Q_old=Q_new\n",
    "                    print('M: {}, Q: {} Q_diff: {}'.format(m_idx,Q_new,Q_diff))    \n",
    "                    if m_idx>0 and torch.abs(Q_diff)<Q_diff_tolerance:\n",
    "                        print('M break')\n",
    "                        break                \n",
    "            #############\n",
    "            #Look at LL\n",
    "            #############\n",
    "            with torch.no_grad():\n",
    "                _,_,LL_temp=model(batch_Y,batch_X,batch_s,gamma_fixed=None,mode='LL')\n",
    "                LL_new+=LL_temp\n",
    "\n",
    "        LL_diff=(LL_new-LL_old)/torch.abs(LL_old)\n",
    "        LL_old=LL_new\n",
    "        print('EM: {}, LL: {} LL_diff: {}'.format(em_idx,LL_new,LL_diff))\n",
    "        if LL_diff<LL_diff_tolerance:\n",
    "            print('EM break')\n",
    "            break\n",
    "    print('End time:',datetime.datetime.now().strftime('%Y-%m-%d %H:%M:%S'))    \n",
    "    return gamma_new,Q_new,LL_new"
   ]
  },
  {
   "cell_type": "code",
   "execution_count": 108,
   "metadata": {},
   "outputs": [],
   "source": [
    "LL_all=pd.concat([pd.read_csv('LL_{}.csv'.format(c),index_col=0,header=None) for c in [1,3,5,8,10,20,30,40,50]],axis=1)#[pd.read_csv('LL_{}.csv'.format(c),index_col=0,header=None) for c in [1,3,5,8,10,20]\n",
    "LL_all.columns=[1,3,5,8,10,20,30,40,50]"
   ]
  },
  {
   "cell_type": "code",
   "execution_count": 109,
   "metadata": {},
   "outputs": [],
   "source": [
    "value=50"
   ]
  },
  {
   "cell_type": "code",
   "execution_count": null,
   "metadata": {},
   "outputs": [],
   "source": []
  },
  {
   "cell_type": "code",
   "execution_count": 110,
   "metadata": {},
   "outputs": [],
   "source": [
    "new_markers=pd.DataFrame(1,index=rho_drop.index,columns=np.array(exp_data_row)[(LL_all[1]/LL_all[3])[LL_all.index.difference(marker_unique_exp_data_idx_drop)].sort_values(ascending=False)[:value].index])"
   ]
  },
  {
   "cell_type": "code",
   "execution_count": 111,
   "metadata": {},
   "outputs": [],
   "source": [
    "rho_drop_recover=pd.concat([rho_drop,new_markers],axis=1)"
   ]
  },
  {
   "cell_type": "code",
   "execution_count": 112,
   "metadata": {},
   "outputs": [
    {
     "data": {
      "text/plain": [
       "((8, 84), (6, 13), (6, 63))"
      ]
     },
     "execution_count": 112,
     "metadata": {},
     "output_type": "execute_result"
    }
   ],
   "source": [
    "rho.shape,rho_drop.shape,rho_drop_recover.shape"
   ]
  },
  {
   "cell_type": "code",
   "execution_count": 113,
   "metadata": {},
   "outputs": [
    {
     "data": {
      "text/plain": [
       "(446, 63)"
      ]
     },
     "execution_count": 113,
     "metadata": {},
     "output_type": "execute_result"
    }
   ],
   "source": [
    "Y=exp_data[list(map(lambda x: exp_data_row.index(x),rho_drop_recover.columns))].transpose().astype(float)\n",
    "Y.shape"
   ]
  },
  {
   "cell_type": "code",
   "execution_count": 114,
   "metadata": {},
   "outputs": [],
   "source": [
    "device=device_cuda_list[3]#\n",
    "\n",
    "model=Custom_Model(Y,\n",
    "                   np.concatenate([rho_drop_recover.values,np.ones((6,rho_drop_recover.values.shape[1]))],axis=0),\n",
    "                   X_col=X.shape[1],delta_min=2,LOWER_BOUND=LOWER_BOUND,THETA_LOWER_BOUND=THETA_LOWER_BOUND).to(device)\n",
    "optimizer = optim.Adamax(model.parameters(),lr=LR)#,betas=(0.92, 0.999))\n",
    "\n",
    "\n",
    "cell_dataset=Cell_Dataset(Y,X,s)\n",
    "cell_dataloader=DataLoader(dataset=cell_dataset,shuffle=False,batch_size=BATCH_SIZE,num_workers=NUM_WORKERS)"
   ]
  },
  {
   "cell_type": "code",
   "execution_count": 115,
   "metadata": {},
   "outputs": [
    {
     "name": "stdout",
     "output_type": "stream",
     "text": [
      "Start time: 2020-05-25 14:03:40\n",
      "tensor(-16231880.1798, device='cuda:2')\n",
      "tensor(16231880.6204, device='cuda:2')\n",
      "M: 0, Q: 16231880.620377254 Q_diff: 0.0\n",
      "M: 20, Q: 5874071.691838672 Q_diff: 0.6381151494877031\n",
      "M: 40, Q: 5705218.132695219 Q_diff: 0.028745573428743794\n",
      "M: 60, Q: 5643899.245437236 Q_diff: 0.01074786026262157\n",
      "M: 80, Q: 5620380.469614834 Q_diff: 0.004167114755178442\n",
      "M: 100, Q: 5602310.367261864 Q_diff: 0.003215103043407967\n",
      "M: 120, Q: 5586251.352074495 Q_diff: 0.002866498664767572\n",
      "M: 140, Q: 5571954.65663982 Q_diff: 0.002559264618367994\n",
      "M: 160, Q: 5559221.792504853 Q_diff: 0.0022851700919342926\n",
      "M: 180, Q: 5547876.18308845 Q_diff: 0.0020408628833084954\n",
      "M: 200, Q: 5537748.609384151 Q_diff: 0.001825486613268406\n",
      "M: 220, Q: 5528696.274100035 Q_diff: 0.001634659845117536\n",
      "M: 240, Q: 5520603.719158258 Q_diff: 0.0014637365737900751\n",
      "M: 260, Q: 5513390.638567213 Q_diff: 0.0013065745990811885\n",
      "M: 280, Q: 5507088.857843585 Q_diff: 0.0011429955061673855\n",
      "M: 300, Q: 5501645.1409779135 Q_diff: 0.0009884926512341403\n",
      "M: 320, Q: 5496953.009906076 Q_diff: 0.0008528596359094865\n",
      "M: 340, Q: 5492925.951082608 Q_diff: 0.0007325983715361926\n",
      "M: 360, Q: 5489475.233779442 Q_diff: 0.0006282111453707217\n",
      "M: 380, Q: 5486515.105857444 Q_diff: 0.000539236957256396\n",
      "M: 400, Q: 5483972.417855496 Q_diff: 0.00046344317893772246\n",
      "M: 420, Q: 5481785.472695712 Q_diff: 0.000398788504599881\n",
      "M: 440, Q: 5479902.0258913 Q_diff: 0.00034358272752426944\n",
      "M: 460, Q: 5478278.320591851 Q_diff: 0.00029630188492011576\n",
      "M: 480, Q: 5476892.335850334 Q_diff: 0.00025299640880012945\n",
      "M: 500, Q: 5475719.167826217 Q_diff: 0.0002142032291629817\n",
      "M: 520, Q: 5474726.754613923 Q_diff: 0.0001812388805702271\n",
      "M: 540, Q: 5473881.680737472 Q_diff: 0.0001543590966870755\n",
      "M: 560, Q: 5473156.938502453 Q_diff: 0.00013240005489509053\n",
      "M: 580, Q: 5472531.238903488 Q_diff: 0.00011432151608216754\n",
      "M: 600, Q: 5471987.789759366 Q_diff: 9.930489574164218e-05\n",
      "M break\n",
      "EM: 0, LL: -4387327.051638383 LL_diff: 0.729709250989765\n",
      "M: 0, Q: 4387327.102582745 Q_diff: 0.19822059713044776\n",
      "M: 20, Q: 3522247.5515666525 Q_diff: 0.1971768985510187\n",
      "M: 40, Q: 3465543.2673389884 Q_diff: 0.01609889236843752\n",
      "M: 60, Q: 3452516.0744529786 Q_diff: 0.0037590622540438576\n",
      "M: 80, Q: 3447799.504216315 Q_diff: 0.0013661254965802393\n",
      "M: 100, Q: 3445003.617944678 Q_diff: 0.0008109190421943934\n",
      "M: 120, Q: 3442923.840927109 Q_diff: 0.0006037082244951367\n",
      "M: 140, Q: 3441251.4084901293 Q_diff: 0.0004857593470698119\n",
      "M: 160, Q: 3439860.3868718417 Q_diff: 0.0004042197018374383\n",
      "M: 180, Q: 3438677.994478943 Q_diff: 0.0003437326693291061\n",
      "M: 200, Q: 3437656.8519051494 Q_diff: 0.0002969578935372664\n",
      "M: 220, Q: 3436763.74998759 Q_diff: 0.0002597996123622181\n",
      "M: 240, Q: 3435974.4706473043 Q_diff: 0.0002296577238655575\n",
      "M: 260, Q: 3435271.097667056 Q_diff: 0.00020470844188655288\n",
      "M: 280, Q: 3434639.909992813 Q_diff: 0.00018373736927826515\n",
      "M: 300, Q: 3434070.152566053 Q_diff: 0.00016588563625039563\n",
      "M: 320, Q: 3433553.217702679 Q_diff: 0.0001505312472978549\n",
      "M: 340, Q: 3433082.097953405 Q_diff: 0.00013721055693694938\n",
      "M: 360, Q: 3432651.0093596894 Q_diff: 0.00012556897313140012\n",
      "M: 380, Q: 3432255.124002994 Q_diff: 0.0001153293345626877\n",
      "M: 400, Q: 3431890.3738768287 Q_diff: 0.00010627127442086373\n",
      "M: 420, Q: 3431553.3030005475 Q_diff: 9.82172620801029e-05\n",
      "M break\n",
      "EM: 1, LL: -3225661.134836322 LL_diff: 0.264777597641884\n",
      "M: 0, Q: 3225661.756421225 Q_diff: 0.059999518701717644\n",
      "M: 20, Q: 3119505.1562621314 Q_diff: 0.03291002224513189\n",
      "M: 40, Q: 3110889.7133174604 Q_diff: 0.002761797949708878\n",
      "M: 60, Q: 3109133.94614086 Q_diff: 0.0005643938996242392\n",
      "M: 80, Q: 3108408.8432337455 Q_diff: 0.00023321700501667973\n",
      "M: 100, Q: 3107901.4998936704 Q_diff: 0.00016321641253192062\n",
      "M: 120, Q: 3107482.4240482664 Q_diff: 0.00013484206157061287\n",
      "M: 140, Q: 3107120.6744497186 Q_diff: 0.00011641243591542112\n",
      "M: 160, Q: 3106801.996178947 Q_diff: 0.0001025638538574215\n",
      "M: 180, Q: 3106517.640374592 Q_diff: 9.152685131032253e-05\n",
      "M break\n",
      "EM: 2, LL: -3099576.706209165 LL_diff: 0.03908793371550324\n",
      "M: 0, Q: 3099576.790254689 Q_diff: 0.0022342864014981974\n",
      "M: 20, Q: 3093396.0025668023 Q_diff: 0.0019940747095924145\n",
      "M: 40, Q: 3092760.9886963908 Q_diff: 0.00020528049751297216\n",
      "M: 60, Q: 3092410.153233026 Q_diff: 0.00011343762568360865\n",
      "M: 80, Q: 3092132.8939389153 Q_diff: 8.965799501755915e-05\n",
      "M break\n",
      "EM: 3, LL: -3089951.2910733204 LL_diff: 0.0031053966551505855\n",
      "M: 0, Q: 3089951.2910733204 Q_diff: 0.0007055333455658398\n",
      "M: 20, Q: 3086494.1206786274 Q_diff: 0.0011188430072281686\n",
      "M: 40, Q: 3086067.8039353695 Q_diff: 0.00013812329672093686\n",
      "M: 60, Q: 3085828.076424519 Q_diff: 7.768057154956516e-05\n",
      "M break\n",
      "EM: 4, LL: -3085043.234904135 LL_diff: 0.001588392730773587\n",
      "M: 0, Q: 3085043.2349041346 Q_diff: 0.0002543374099096921\n",
      "M: 20, Q: 3080594.588593451 Q_diff: 0.0014420045269874617\n",
      "M: 40, Q: 3080188.301524284 Q_diff: 0.00013188592574672883\n",
      "M: 60, Q: 3079995.893820258 Q_diff: 6.24662147865299e-05\n",
      "M break\n",
      "EM: 5, LL: -3079923.5259243837 LL_diff: 0.0016595258445091254\n",
      "M: 0, Q: 3079923.5259243837 Q_diff: 2.349610141344495e-05\n",
      "M: 20, Q: 3078092.994457367 Q_diff: 0.000594343155474091\n",
      "M: 40, Q: 3077863.632229195 Q_diff: 7.451439205537514e-05\n",
      "M break\n",
      "EM: 6, LL: -3077856.9813459213 LL_diff: 0.0006709726917138753\n",
      "M: 0, Q: 3077856.9813459218 Q_diff: 2.1608765260352155e-06\n",
      "M: 20, Q: 3077720.975824188 Q_diff: 4.418838255255946e-05\n",
      "M break\n",
      "EM: 7, LL: -3077714.7178494446 LL_diff: 4.622160722181463e-05\n",
      "EM break\n",
      "End time: 2020-05-25 14:03:46\n"
     ]
    },
    {
     "data": {
      "text/plain": [
       "(tensor([[0., 0., 0.,  ..., 0., 0., 1.],\n",
       "         [0., 0., 0.,  ..., 0., 0., 1.],\n",
       "         [0., 0., 0.,  ..., 0., 0., 1.],\n",
       "         ...,\n",
       "         [0., 0., 0.,  ..., 0., 0., 0.],\n",
       "         [0., 0., 0.,  ..., 0., 0., 0.],\n",
       "         [0., 0., 0.,  ..., 0., 0., 0.]], device='cuda:2'),\n",
       " tensor(3077720.9758, device='cuda:2', grad_fn=<NegBackward>),\n",
       " tensor(-3077714.7178, device='cuda:2'))"
      ]
     },
     "execution_count": 115,
     "metadata": {},
     "output_type": "execute_result"
    }
   ],
   "source": [
    "run_EM_(model,optimizer,LL_diff_tolerance=LL_diff_tolerance,Q_diff_tolerance=Q_diff_tolerance)"
   ]
  },
  {
   "cell_type": "code",
   "execution_count": 165,
   "metadata": {},
   "outputs": [
    {
     "data": {
      "text/plain": [
       "(array([ 0,  1,  2,  3,  4,  5,  7,  8,  9, 10, 11]),\n",
       " array([55, 20, 74, 15, 44,  8, 55, 66, 50, 43, 16]))"
      ]
     },
     "execution_count": 165,
     "metadata": {},
     "output_type": "execute_result"
    },
    {
     "data": {
      "image/png": "[encoded data removed]",
      "text/plain": [
       "<Figure size 1080x1080 with 1 Axes>"
      ]
     },
     "metadata": {
      "needs_background": "light"
     },
     "output_type": "display_data"
    }
   ],
   "source": [
    "import seaborn as sns\n",
    "\n",
    "plt.rcParams[\"figure.figsize\"] = (15,15)\n",
    "plt.rcParams[\"font.size\"] = 15\n",
    "plt.rcParams['font.family']='Arial'\n",
    "\n",
    "\n",
    "plot_value=np.argmax(gamma_new.cpu().numpy(),axis=1)\n",
    "\n",
    "sns.scatterplot(x=\"tSNE_1\", y=\"tSNE_2\",hue=plot_value,style=np.array((list(range(0,2))*30))[plot_value],\n",
    "                data=exp_data_meta,s=40,palette=plt.cm.rainbow)#,linewidth=0.3)\n",
    "\n",
    "np.unique(plot_value,return_counts=True)"
   ]
  },
  {
   "cell_type": "code",
   "execution_count": 117,
   "metadata": {},
   "outputs": [],
   "source": [
    "label=np.argmax(gamma_new.cpu().numpy(),axis=1)\n",
    "label=list(map(lambda x: np.unique(label,return_counts=True)[0].tolist().index(x),label))\n",
    "\n",
    "x_data_intercept=np.array([np.ones(Y.shape[0])]).transpose()\n",
    "x_data_null=np.concatenate([x_data_intercept],axis=1)\n",
    "x_data_null_test=np.concatenate([x_data_intercept,np.eye(max(label)+1)[label]],axis=1)"
   ]
  },
  {
   "cell_type": "code",
   "execution_count": 118,
   "metadata": {},
   "outputs": [
    {
     "data": {
      "text/plain": [
       "(446, 13)"
      ]
     },
     "execution_count": 118,
     "metadata": {},
     "output_type": "execute_result"
    }
   ],
   "source": [
    "x_data_null_test.shape"
   ]
  },
  {
   "cell_type": "code",
   "execution_count": 119,
   "metadata": {},
   "outputs": [
    {
     "name": "stdout",
     "output_type": "stream",
     "text": [
      "4800"
     ]
    }
   ],
   "source": [
    "import statsmodels.api as sm\n",
    "import sys\n",
    "\n",
    "label=np.argmax(gamma_new.cpu().numpy(),axis=1)\n",
    "label=list(map(lambda x: np.unique(label,return_counts=True)[0].tolist().index(x),label))\n",
    "\n",
    "#exp_data_col_patient=pd.Series(exp_data_col).str.slice(start=1,stop=2).astype(int).values\n",
    "#x_data_covariate=np.eye(len(np.unique(exp_data_col_patient)))[exp_data_col_patient-1]\n",
    "x_data_intercept=np.array([np.ones(Y.shape[0])]).transpose()\n",
    "x_data_null=np.concatenate([x_data_intercept],axis=1)\n",
    "x_data_null_test=np.concatenate([x_data_intercept,np.eye(max(label)+1)[label]],axis=1)\n",
    "x_data_null_test=x_data_null_test[:,:-1]\n",
    "\n",
    "family=sm.families.Poisson(link=sm.families.links.log())\n",
    "\n",
    "data_list=[]\n",
    "data_list_=[]\n",
    "for exp_data_row_idx in range(exp_data.shape[0]):\n",
    "    if exp_data_row_idx%100==0:\n",
    "        sys.stdout.write('\\r{}'.format(exp_data_row_idx))\n",
    "    y_data=exp_data[exp_data_row_idx,:]\n",
    "    \n",
    "    model=sm.GLM(y_data,x_data_null_test,family=family)\n",
    "    model_result=model.fit()\n",
    "    \n",
    "    model_=sm.GLM(y_data,x_data_null,family=family)\n",
    "    model_result_=model_.fit()\n",
    "    \n",
    "    data_list.append({\n",
    "        'llf':model_result.llf,\n",
    "        'deviance':model_result.deviance,\n",
    "        'pearson_chi2':model_result.pearson_chi2,\n",
    "        'llnull':model_result.llnull,\n",
    "        'null_deviance':model_result.null_deviance\n",
    "    })\n",
    "    \n",
    "    data_list_.append({\n",
    "        'llf':model_result_.llf,\n",
    "        'deviance':model_result_.deviance,\n",
    "        'pearson_chi2':model_result_.pearson_chi2,\n",
    "        'llnull':model_result_.llnull,\n",
    "        'null_deviance':model_result_.null_deviance\n",
    "    })    \n",
    "    \n",
    "    #ll_list.append([model_result.llf,model_result.deviance,model_result.pearson_chi2])\n",
    "#model_result.llf,model_result.llnull,model_result.null_deviance,model_result.null"
   ]
  },
  {
   "cell_type": "code",
   "execution_count": 120,
   "metadata": {},
   "outputs": [],
   "source": [
    "data_full=pd.DataFrame(data_list)\n",
    "data_null=pd.DataFrame(data_list_)"
   ]
  },
  {
   "cell_type": "code",
   "execution_count": 121,
   "metadata": {},
   "outputs": [
    {
     "data": {
      "text/plain": [
       "40799.684922023094"
      ]
     },
     "execution_count": 121,
     "metadata": {},
     "output_type": "execute_result"
    }
   ],
   "source": [
    "model_result.null_deviance#,model_result.null"
   ]
  },
  {
   "cell_type": "code",
   "execution_count": 122,
   "metadata": {},
   "outputs": [],
   "source": [
    "#np.sum((y_data-np.exp(model_result.null)))"
   ]
  },
  {
   "cell_type": "code",
   "execution_count": 123,
   "metadata": {},
   "outputs": [],
   "source": [
    "marker_unique_exp_data_idx=list(map(lambda x: exp_data_row.index(x), rho.columns))\n",
    "marker_unique_exp_data_idx_bool=np.array(list(map(lambda x: x in marker_unique_exp_data_idx, np.arange(exp_data.shape[0]))))\n",
    "\n",
    "marker_unique_exp_data_idx_drop=list(map(lambda x: exp_data_row.index(x), rho_drop.columns))\n",
    "marker_unique_exp_data_idx_bool_drop=np.array(list(map(lambda x: x in marker_unique_exp_data_idx_drop, np.arange(exp_data.shape[0]))))"
   ]
  },
  {
   "cell_type": "code",
   "execution_count": 124,
   "metadata": {},
   "outputs": [
    {
     "data": {
      "image/png": "[encoded data removed]",
      "text/plain": [
       "<Figure size 1080x1080 with 1 Axes>"
      ]
     },
     "metadata": {
      "needs_background": "light"
     },
     "output_type": "display_data"
    }
   ],
   "source": [
    "plt.hist(\n",
    "    x=[\n",
    "        np.log10(data_full['null_deviance'])[marker_unique_exp_data_idx_bool].repeat(10),# np.sum(~marker_unique_exp_data_idx_bool)/np.sum(marker_unique_exp_data_idx_bool) ),\n",
    "        np.log10(data_full['null_deviance'])[~marker_unique_exp_data_idx_bool],\n",
    "    ],\n",
    "    bins=30,\n",
    "    histtype='barstacked',\n",
    "    color=['blue','grey'],\n",
    "    alpha=0.7\n",
    ")\n",
    "plt.hist(\n",
    "    x=np.log10(data_full['null_deviance'])[pd.Index(marker_unique_exp_data_idx).difference(pd.Index(marker_unique_exp_data_idx_drop))].repeat(50),\n",
    "    bins=20,\n",
    "    alpha=0.3,\n",
    "    color='white',\n",
    "    edgecolor='black',\n",
    "    linewidth=3\n",
    ")\n",
    "plt.show()"
   ]
  },
  {
   "cell_type": "code",
   "execution_count": null,
   "metadata": {},
   "outputs": [],
   "source": []
  },
  {
   "cell_type": "code",
   "execution_count": null,
   "metadata": {},
   "outputs": [],
   "source": []
  }
 ],
 "metadata": {
  "kernelspec": {
   "display_name": "Python 3",
   "language": "python",
   "name": "python3"
  },
  "language_info": {
   "codemirror_mode": {
    "name": "ipython",
    "version": 3
   },
   "file_extension": ".py",
   "mimetype": "text/x-python",
   "name": "python",
   "nbconvert_exporter": "python",
   "pygments_lexer": "ipython3",
   "version": "3.6.9"
  }
 },
 "nbformat": 4,
 "nbformat_minor": 4
}
